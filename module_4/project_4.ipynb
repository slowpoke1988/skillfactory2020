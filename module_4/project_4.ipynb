{
 "cells": [
  {
   "cell_type": "code",
   "execution_count": 1,
   "metadata": {},
   "outputs": [],
   "source": [
    "import numpy as np\n",
    "import pandas as pd\n",
    "import seaborn as sns\n",
    "import matplotlib.pyplot as plt\n",
    "import seaborn as sns\n",
    "%matplotlib inline\n",
    "import warnings; warnings.simplefilter('ignore')\n",
    "sns.set()"
   ]
  },
  {
   "cell_type": "code",
   "execution_count": 33,
   "metadata": {},
   "outputs": [
    {
     "name": "stdout",
     "output_type": "stream",
     "text": [
      "Минута полета Боинга 733 стоит 257.6 rub.\n",
      "Минута полета SU9 стоит 182.252 rub.\n"
     ]
    }
   ],
   "source": [
    "#Расход топлива SU9 = 28,3 кг/мин и 733 = 40 кг/мин. Стоимость 1 кг топлива 6.44 rub. \n",
    "#Посчитаем сколько стоит минута полета\n",
    "boing733_min_fly_cost = 6.44*40\n",
    "su9_min_fly_cost = 6.44*28.3\n",
    "print(f'Минута полета Боинга 733 стоит {boing737_min_fly_cost} rub.')\n",
    "print(f'Минута полета SU9 стоит {su9_min_fly_cost} rub.')"
   ]
  },
  {
   "cell_type": "code",
   "execution_count": 173,
   "metadata": {},
   "outputs": [
    {
     "data": {
      "text/html": [
       "<div>\n",
       "<style scoped>\n",
       "    .dataframe tbody tr th:only-of-type {\n",
       "        vertical-align: middle;\n",
       "    }\n",
       "\n",
       "    .dataframe tbody tr th {\n",
       "        vertical-align: top;\n",
       "    }\n",
       "\n",
       "    .dataframe thead th {\n",
       "        text-align: right;\n",
       "    }\n",
       "</style>\n",
       "<table border=\"1\" class=\"dataframe\">\n",
       "  <thead>\n",
       "    <tr style=\"text-align: right;\">\n",
       "      <th></th>\n",
       "      <th>scheduled_departure</th>\n",
       "      <th>scheduled_arrival</th>\n",
       "      <th>arrival_airport</th>\n",
       "      <th>aircraft_code</th>\n",
       "      <th>actual_departure</th>\n",
       "      <th>actual_arrival</th>\n",
       "      <th>fare_conditions</th>\n",
       "      <th>amount</th>\n",
       "      <th>seats_count</th>\n",
       "      <th>fullness</th>\n",
       "      <th>fly_duration</th>\n",
       "      <th>fly_cost</th>\n",
       "      <th>proffit_with_fly_cost</th>\n",
       "      <th>1minet_proffit</th>\n",
       "      <th>month</th>\n",
       "    </tr>\n",
       "    <tr>\n",
       "      <th>flight_id</th>\n",
       "      <th></th>\n",
       "      <th></th>\n",
       "      <th></th>\n",
       "      <th></th>\n",
       "      <th></th>\n",
       "      <th></th>\n",
       "      <th></th>\n",
       "      <th></th>\n",
       "      <th></th>\n",
       "      <th></th>\n",
       "      <th></th>\n",
       "      <th></th>\n",
       "      <th></th>\n",
       "      <th></th>\n",
       "      <th></th>\n",
       "    </tr>\n",
       "  </thead>\n",
       "  <tbody>\n",
       "    <tr>\n",
       "      <th>136119</th>\n",
       "      <td>2017-01-03T10:05:00Z</td>\n",
       "      <td>2017-01-03T11:45:00Z</td>\n",
       "      <td>SVO</td>\n",
       "      <td>733</td>\n",
       "      <td>2017-01-03T10:08:00Z</td>\n",
       "      <td>2017-01-03T11:49:00Z</td>\n",
       "      <td>113</td>\n",
       "      <td>1653000.0</td>\n",
       "      <td>130</td>\n",
       "      <td>0.87</td>\n",
       "      <td>101.0</td>\n",
       "      <td>26017.600</td>\n",
       "      <td>1626982.400</td>\n",
       "      <td>16108.736634</td>\n",
       "      <td>january</td>\n",
       "    </tr>\n",
       "    <tr>\n",
       "      <th>136120</th>\n",
       "      <td>2017-02-24T10:05:00Z</td>\n",
       "      <td>2017-02-24T11:45:00Z</td>\n",
       "      <td>SVO</td>\n",
       "      <td>733</td>\n",
       "      <td>2017-02-24T10:07:00Z</td>\n",
       "      <td>2017-02-24T11:46:00Z</td>\n",
       "      <td>109</td>\n",
       "      <td>1605400.0</td>\n",
       "      <td>130</td>\n",
       "      <td>0.84</td>\n",
       "      <td>99.0</td>\n",
       "      <td>25502.400</td>\n",
       "      <td>1579897.600</td>\n",
       "      <td>15958.561616</td>\n",
       "      <td>february</td>\n",
       "    </tr>\n",
       "    <tr>\n",
       "      <th>136122</th>\n",
       "      <td>2017-01-08T10:05:00Z</td>\n",
       "      <td>2017-01-08T11:45:00Z</td>\n",
       "      <td>SVO</td>\n",
       "      <td>733</td>\n",
       "      <td>2017-01-08T10:08:00Z</td>\n",
       "      <td>2017-01-08T11:48:00Z</td>\n",
       "      <td>97</td>\n",
       "      <td>1431000.0</td>\n",
       "      <td>130</td>\n",
       "      <td>0.75</td>\n",
       "      <td>100.0</td>\n",
       "      <td>25760.000</td>\n",
       "      <td>1405240.000</td>\n",
       "      <td>14052.400000</td>\n",
       "      <td>january</td>\n",
       "    </tr>\n",
       "    <tr>\n",
       "      <th>136130</th>\n",
       "      <td>2017-02-13T10:05:00Z</td>\n",
       "      <td>2017-02-13T11:45:00Z</td>\n",
       "      <td>SVO</td>\n",
       "      <td>733</td>\n",
       "      <td>2017-02-13T10:07:00Z</td>\n",
       "      <td>2017-02-13T11:46:00Z</td>\n",
       "      <td>107</td>\n",
       "      <td>1556600.0</td>\n",
       "      <td>130</td>\n",
       "      <td>0.82</td>\n",
       "      <td>99.0</td>\n",
       "      <td>25502.400</td>\n",
       "      <td>1531097.600</td>\n",
       "      <td>15465.632323</td>\n",
       "      <td>february</td>\n",
       "    </tr>\n",
       "    <tr>\n",
       "      <th>136131</th>\n",
       "      <td>2017-01-28T10:05:00Z</td>\n",
       "      <td>2017-01-28T11:45:00Z</td>\n",
       "      <td>SVO</td>\n",
       "      <td>733</td>\n",
       "      <td>2017-01-28T10:07:00Z</td>\n",
       "      <td>2017-01-28T11:46:00Z</td>\n",
       "      <td>124</td>\n",
       "      <td>1812800.0</td>\n",
       "      <td>130</td>\n",
       "      <td>0.95</td>\n",
       "      <td>99.0</td>\n",
       "      <td>25502.400</td>\n",
       "      <td>1787297.600</td>\n",
       "      <td>18053.511111</td>\n",
       "      <td>january</td>\n",
       "    </tr>\n",
       "    <tr>\n",
       "      <th>...</th>\n",
       "      <td>...</td>\n",
       "      <td>...</td>\n",
       "      <td>...</td>\n",
       "      <td>...</td>\n",
       "      <td>...</td>\n",
       "      <td>...</td>\n",
       "      <td>...</td>\n",
       "      <td>...</td>\n",
       "      <td>...</td>\n",
       "      <td>...</td>\n",
       "      <td>...</td>\n",
       "      <td>...</td>\n",
       "      <td>...</td>\n",
       "      <td>...</td>\n",
       "      <td>...</td>\n",
       "    </tr>\n",
       "    <tr>\n",
       "      <th>136936</th>\n",
       "      <td>2017-01-02T09:25:00Z</td>\n",
       "      <td>2017-01-02T10:15:00Z</td>\n",
       "      <td>EGO</td>\n",
       "      <td>SU9</td>\n",
       "      <td>2017-01-02T09:28:00Z</td>\n",
       "      <td>2017-01-02T10:18:00Z</td>\n",
       "      <td>82</td>\n",
       "      <td>632400.0</td>\n",
       "      <td>97</td>\n",
       "      <td>0.85</td>\n",
       "      <td>50.0</td>\n",
       "      <td>9112.600</td>\n",
       "      <td>623287.400</td>\n",
       "      <td>12465.748000</td>\n",
       "      <td>january</td>\n",
       "    </tr>\n",
       "    <tr>\n",
       "      <th>136937</th>\n",
       "      <td>2017-01-03T09:25:00Z</td>\n",
       "      <td>2017-01-03T10:15:00Z</td>\n",
       "      <td>EGO</td>\n",
       "      <td>SU9</td>\n",
       "      <td>2017-01-03T09:29:00Z</td>\n",
       "      <td>2017-01-03T10:19:00Z</td>\n",
       "      <td>81</td>\n",
       "      <td>626100.0</td>\n",
       "      <td>97</td>\n",
       "      <td>0.84</td>\n",
       "      <td>50.0</td>\n",
       "      <td>9112.600</td>\n",
       "      <td>616987.400</td>\n",
       "      <td>12339.748000</td>\n",
       "      <td>january</td>\n",
       "    </tr>\n",
       "    <tr>\n",
       "      <th>136951</th>\n",
       "      <td>2017-02-02T09:25:00Z</td>\n",
       "      <td>2017-02-02T10:15:00Z</td>\n",
       "      <td>EGO</td>\n",
       "      <td>SU9</td>\n",
       "      <td>2017-02-02T09:28:00Z</td>\n",
       "      <td>2017-02-02T10:17:00Z</td>\n",
       "      <td>90</td>\n",
       "      <td>720600.0</td>\n",
       "      <td>97</td>\n",
       "      <td>0.93</td>\n",
       "      <td>49.0</td>\n",
       "      <td>8930.348</td>\n",
       "      <td>711669.652</td>\n",
       "      <td>14523.870449</td>\n",
       "      <td>february</td>\n",
       "    </tr>\n",
       "    <tr>\n",
       "      <th>136953</th>\n",
       "      <td>2017-02-27T09:25:00Z</td>\n",
       "      <td>2017-02-27T10:15:00Z</td>\n",
       "      <td>EGO</td>\n",
       "      <td>SU9</td>\n",
       "      <td>2017-02-27T09:27:00Z</td>\n",
       "      <td>2017-02-27T10:17:00Z</td>\n",
       "      <td>97</td>\n",
       "      <td>765300.0</td>\n",
       "      <td>97</td>\n",
       "      <td>1.00</td>\n",
       "      <td>50.0</td>\n",
       "      <td>9112.600</td>\n",
       "      <td>756187.400</td>\n",
       "      <td>15123.748000</td>\n",
       "      <td>february</td>\n",
       "    </tr>\n",
       "    <tr>\n",
       "      <th>136956</th>\n",
       "      <td>2017-02-04T09:25:00Z</td>\n",
       "      <td>2017-02-04T10:15:00Z</td>\n",
       "      <td>EGO</td>\n",
       "      <td>SU9</td>\n",
       "      <td>2017-02-04T09:33:00Z</td>\n",
       "      <td>2017-02-04T10:23:00Z</td>\n",
       "      <td>96</td>\n",
       "      <td>746400.0</td>\n",
       "      <td>97</td>\n",
       "      <td>0.99</td>\n",
       "      <td>50.0</td>\n",
       "      <td>9112.600</td>\n",
       "      <td>737287.400</td>\n",
       "      <td>14745.748000</td>\n",
       "      <td>february</td>\n",
       "    </tr>\n",
       "  </tbody>\n",
       "</table>\n",
       "<p>118 rows × 15 columns</p>\n",
       "</div>"
      ],
      "text/plain": [
       "            scheduled_departure     scheduled_arrival arrival_airport  \\\n",
       "flight_id                                                               \n",
       "136119     2017-01-03T10:05:00Z  2017-01-03T11:45:00Z             SVO   \n",
       "136120     2017-02-24T10:05:00Z  2017-02-24T11:45:00Z             SVO   \n",
       "136122     2017-01-08T10:05:00Z  2017-01-08T11:45:00Z             SVO   \n",
       "136130     2017-02-13T10:05:00Z  2017-02-13T11:45:00Z             SVO   \n",
       "136131     2017-01-28T10:05:00Z  2017-01-28T11:45:00Z             SVO   \n",
       "...                         ...                   ...             ...   \n",
       "136936     2017-01-02T09:25:00Z  2017-01-02T10:15:00Z             EGO   \n",
       "136937     2017-01-03T09:25:00Z  2017-01-03T10:15:00Z             EGO   \n",
       "136951     2017-02-02T09:25:00Z  2017-02-02T10:15:00Z             EGO   \n",
       "136953     2017-02-27T09:25:00Z  2017-02-27T10:15:00Z             EGO   \n",
       "136956     2017-02-04T09:25:00Z  2017-02-04T10:15:00Z             EGO   \n",
       "\n",
       "          aircraft_code      actual_departure        actual_arrival  \\\n",
       "flight_id                                                             \n",
       "136119              733  2017-01-03T10:08:00Z  2017-01-03T11:49:00Z   \n",
       "136120              733  2017-02-24T10:07:00Z  2017-02-24T11:46:00Z   \n",
       "136122              733  2017-01-08T10:08:00Z  2017-01-08T11:48:00Z   \n",
       "136130              733  2017-02-13T10:07:00Z  2017-02-13T11:46:00Z   \n",
       "136131              733  2017-01-28T10:07:00Z  2017-01-28T11:46:00Z   \n",
       "...                 ...                   ...                   ...   \n",
       "136936              SU9  2017-01-02T09:28:00Z  2017-01-02T10:18:00Z   \n",
       "136937              SU9  2017-01-03T09:29:00Z  2017-01-03T10:19:00Z   \n",
       "136951              SU9  2017-02-02T09:28:00Z  2017-02-02T10:17:00Z   \n",
       "136953              SU9  2017-02-27T09:27:00Z  2017-02-27T10:17:00Z   \n",
       "136956              SU9  2017-02-04T09:33:00Z  2017-02-04T10:23:00Z   \n",
       "\n",
       "           fare_conditions     amount  seats_count  fullness  fly_duration  \\\n",
       "flight_id                                                                    \n",
       "136119                 113  1653000.0          130      0.87         101.0   \n",
       "136120                 109  1605400.0          130      0.84          99.0   \n",
       "136122                  97  1431000.0          130      0.75         100.0   \n",
       "136130                 107  1556600.0          130      0.82          99.0   \n",
       "136131                 124  1812800.0          130      0.95          99.0   \n",
       "...                    ...        ...          ...       ...           ...   \n",
       "136936                  82   632400.0           97      0.85          50.0   \n",
       "136937                  81   626100.0           97      0.84          50.0   \n",
       "136951                  90   720600.0           97      0.93          49.0   \n",
       "136953                  97   765300.0           97      1.00          50.0   \n",
       "136956                  96   746400.0           97      0.99          50.0   \n",
       "\n",
       "            fly_cost  proffit_with_fly_cost  1minet_proffit     month  \n",
       "flight_id                                                              \n",
       "136119     26017.600            1626982.400    16108.736634   january  \n",
       "136120     25502.400            1579897.600    15958.561616  february  \n",
       "136122     25760.000            1405240.000    14052.400000   january  \n",
       "136130     25502.400            1531097.600    15465.632323  february  \n",
       "136131     25502.400            1787297.600    18053.511111   january  \n",
       "...              ...                    ...             ...       ...  \n",
       "136936      9112.600             623287.400    12465.748000   january  \n",
       "136937      9112.600             616987.400    12339.748000   january  \n",
       "136951      8930.348             711669.652    14523.870449  february  \n",
       "136953      9112.600             756187.400    15123.748000  february  \n",
       "136956      9112.600             737287.400    14745.748000  february  \n",
       "\n",
       "[118 rows x 15 columns]"
      ]
     },
     "execution_count": 173,
     "metadata": {},
     "output_type": "execute_result"
    }
   ],
   "source": [
    "#Загружаем наш датасэт и добавялем в него новые признаки\n",
    "data = pd.read_csv('query_result_2020-11-23T16_02_06.509246Z.csv')\n",
    "data_group = data.groupby('flight_id').agg({'scheduled_departure': lambda x: x.unique(), 'scheduled_arrival': lambda x: x.unique(),\n",
    " 'arrival_airport': lambda x: x.unique(), 'aircraft_code': lambda x: x.unique(), 'actual_departure': lambda x: x.unique(), 'actual_arrival': lambda x: x.unique(), \n",
    "'fare_conditions': lambda x: x.count(), 'amount': lambda x: x.sum(), 'seats_count': lambda x: x.unique() })\n",
    "data_group = data_group.loc[data_group.amount != 0]\n",
    "\n",
    "# Добавим заполненность самолетов\n",
    "data_group['fullness'] = round(data_group.fare_conditions/data_group.seats_count, 2)\n",
    "\n",
    "# Добавим время полета в минутах\n",
    "data_group['fly_duration']=(pd.to_datetime(data_group.actual_arrival)-pd.to_datetime(data_group.actual_departure)).astype('timedelta64[m]')\n",
    "\n",
    "# Добавим информацию о стоимости топлива на 1 полет\n",
    "su9_fly_cost = data_group[data_group.aircraft_code == 'SU9']['fly_duration']*su9_min_fly_cost\n",
    "boing_fly_cost = data_group[data_group.aircraft_code == '733']['fly_duration']*boing733_min_fly_cost\n",
    "fly_cost = pd.concat([su9_fly_cost, boing_fly_cost],axis=0)\n",
    "fly_cost.name = 'fly_cost'\n",
    "data_group = pd.concat([data_group, fly_cost], axis=1)\n",
    "\n",
    "#Добавим прибыль от полета с учетом стоимости топлива\n",
    "data_group['proffit_with_fly_cost'] = data_group.amount - data_group.fly_cost\n",
    "\n",
    "# Добавим показатель дохода самолетов за 1 минуту полета\n",
    "data_group['1minet_proffit'] = data_group.proffit_with_fly_cost/data_group.fly_duration\n",
    "\n",
    "#Добавим месяца полетов\n",
    "data_group['month'] = pd.to_datetime(data_group.actual_arrival).dt.month.apply(lambda x: 'january' if x ==1 else 'february')\n",
    "\n",
    "data_group"
   ]
  },
  {
   "cell_type": "code",
   "execution_count": 116,
   "metadata": {},
   "outputs": [
    {
     "name": "stdout",
     "output_type": "stream",
     "text": [
      "aircraft_code\n",
      "733    59\n",
      "SU9    59\n",
      "dtype: int64\n"
     ]
    },
    {
     "data": {
      "text/plain": [
       "<BarContainer object of 2 artists>"
      ]
     },
     "execution_count": 116,
     "metadata": {},
     "output_type": "execute_result"
    },
    {
     "data": {
      "image/png": "[encoded data removed]",
      "text/plain": [
       "<Figure size 576x432 with 1 Axes>"
      ]
     },
     "metadata": {},
     "output_type": "display_data"
    }
   ],
   "source": [
    "# Посмотрим на количество полетов самолетов.\n",
    "print(data_group.groupby('aircraft_code').size())\n",
    "fig, ax = plt.subplots()\n",
    "fig.set_figwidth(8)    \n",
    "fig.set_figheight(6)\n",
    "ax.set_ylabel('Количество')\n",
    "ax.set_title('Количество полетов 733 и SU9 из Анапы зимой')\n",
    "ax.bar(x = ['733','SU9'], height = data_group.groupby('aircraft_code').size(), width = 0.4)"
   ]
  },
  {
   "cell_type": "code",
   "execution_count": 176,
   "metadata": {},
   "outputs": [
    {
     "name": "stdout",
     "output_type": "stream",
     "text": [
      "aircraft_code\n",
      "733    1616.859932\n",
      "SU9     701.307548\n",
      "Name: proffit_with_fly_cost, dtype: float64\n"
     ]
    },
    {
     "data": {
      "image/png": "[encoded data removed]",
      "text/plain": [
       "<Figure size 720x720 with 1 Axes>"
      ]
     },
     "metadata": {},
     "output_type": "display_data"
    }
   ],
   "source": [
    "# Посмотрим на среднюю прибыль полетов.\n",
    "print(data_group.groupby('aircraft_code')['proffit_with_fly_cost'].mean()/1000)\n",
    "fig, ax = plt.subplots()\n",
    "fig.set_figwidth(10)    \n",
    "fig.set_figheight(10)\n",
    "ax.set_ylabel('Доход')\n",
    "ax.set_title('Доход от полетов 733 и SU9 из Анапы зимой')\n",
    "ax.bar(x = ['733','SU9'], height = data_group.groupby('aircraft_code')['proffit_with_fly_cost'].mean(), width = 0.4)\n",
    "plt.show()"
   ]
  },
  {
   "cell_type": "code",
   "execution_count": 177,
   "metadata": {},
   "outputs": [
    {
     "name": "stdout",
     "output_type": "stream",
     "text": [
      "aircraft_code\n",
      "733    16201.962494\n",
      "SU9    14001.742506\n",
      "Name: 1minet_proffit, dtype: float64\n"
     ]
    },
    {
     "data": {
      "image/png": "[encoded data removed]",
      "text/plain": [
       "<Figure size 720x720 with 1 Axes>"
      ]
     },
     "metadata": {},
     "output_type": "display_data"
    }
   ],
   "source": [
    "# Посмотрим на среднюю прибыль полетов самолетов за минуту полета.\n",
    "print(data_group.groupby('aircraft_code')['1minet_proffit'].mean())\n",
    "fig, ax = plt.subplots()\n",
    "fig.set_figwidth(10)    \n",
    "fig.set_figheight(10)\n",
    "ax.set_ylabel('Доход')\n",
    "ax.set_title('Средний доход за минуту полета 733 и SU9 из Анапы зимой')\n",
    "ax.bar(x = ['733','SU9'], height = data_group.groupby('aircraft_code')['1minet_proffit'].mean(), width = 0.4)\n",
    "plt.show()"
   ]
  },
  {
   "cell_type": "code",
   "execution_count": 117,
   "metadata": {},
   "outputs": [
    {
     "data": {
      "image/png": "[encoded data removed]",
      "text/plain": [
       "<Figure size 720x720 with 1 Axes>"
      ]
     },
     "metadata": {},
     "output_type": "display_data"
    }
   ],
   "source": [
    "# Посмотрим на заполняемость Боинга 733.\n",
    "fig, ax = plt.subplots()\n",
    "# ax = fig.add_axes([0, 0, 1, 1])\n",
    "ax.hist(data_group[data_group.aircraft_code == '733']['fullness'])\n",
    "# Добавляем подписи\n",
    "fig.set_figwidth(10)    \n",
    "fig.set_figheight(10)\n",
    "ax.set_xlabel('Наполняемость Боинга 733')\n",
    "ax.set_ylabel('Количество')\n",
    "plt.show()"
   ]
  },
  {
   "cell_type": "code",
   "execution_count": 118,
   "metadata": {},
   "outputs": [
    {
     "data": {
      "image/png": "[encoded data removed]",
      "text/plain": [
       "<Figure size 720x720 with 1 Axes>"
      ]
     },
     "metadata": {},
     "output_type": "display_data"
    }
   ],
   "source": [
    "# Посмотрим на заполняемость SU9.\n",
    "fig, ax = plt.subplots()\n",
    "# ax = fig.add_axes([0, 0, 1, 1])\n",
    "ax.hist(data_group[data_group.aircraft_code == 'SU9']['fullness'])\n",
    "# Добавляем подписи\n",
    "fig.set_figwidth(10)    \n",
    "fig.set_figheight(10)\n",
    "ax.set_xlabel('Наполняемость SU9')\n",
    "ax.set_ylabel('Количество')\n",
    "plt.show()\n"
   ]
  },
  {
   "cell_type": "code",
   "execution_count": 143,
   "metadata": {},
   "outputs": [
    {
     "data": {
      "image/png": "[encoded data removed]",
      "text/plain": [
       "<Figure size 720x720 with 1 Axes>"
      ]
     },
     "metadata": {},
     "output_type": "display_data"
    }
   ],
   "source": [
    "#Посмотрим на зависимость дохода за минуту полета от заполненности борта самолета Боинг 733\n",
    "fig, ax = plt.subplots()\n",
    "x = data_group[data_group.aircraft_code == '733']['fullness']\n",
    "y = data_group[data_group.aircraft_code == '733']['1minet_proffit']\n",
    "ax.scatter(x, y)    #  цвет точек\n",
    "   #  заголовок для Axes\n",
    "ax.set_xlabel('Наполняемость салона')\n",
    "ax.set_ylabel('Доход')\n",
    "fig.set_figwidth(10)     #  ширина и\n",
    "fig.set_figheight(10)    #  высота \"Figure\"\n",
    "ax.set_xlabel('')\n",
    "plt.show()"
   ]
  },
  {
   "cell_type": "code",
   "execution_count": 142,
   "metadata": {},
   "outputs": [
    {
     "data": {
      "image/png": "[encoded data removed]",
      "text/plain": [
       "<Figure size 720x720 with 1 Axes>"
      ]
     },
     "metadata": {},
     "output_type": "display_data"
    }
   ],
   "source": [
    "#Посмотрим на зависимость дохода за минуту полета от заполненности борта самолета SU9\n",
    "fig, ax = plt.subplots()\n",
    "x = data_group[data_group.aircraft_code == 'SU9']['fullness']\n",
    "y = data_group[data_group.aircraft_code == 'SU9']['1minet_proffit']\n",
    "ax.scatter(x, y)    #  цвет точек\n",
    "   #  заголовок для Axes\n",
    "ax.set_xlabel('Наполняемость салона')\n",
    "ax.set_ylabel('Доход')\n",
    "fig.set_figwidth(10)     #  ширина и\n",
    "fig.set_figheight(10)    #  высота \"Figure\"\n",
    "\n",
    "plt.show()"
   ]
  },
  {
   "cell_type": "code",
   "execution_count": 134,
   "metadata": {},
   "outputs": [
    {
     "data": {
      "text/html": [
       "<div>\n",
       "<style scoped>\n",
       "    .dataframe tbody tr th:only-of-type {\n",
       "        vertical-align: middle;\n",
       "    }\n",
       "\n",
       "    .dataframe tbody tr th {\n",
       "        vertical-align: top;\n",
       "    }\n",
       "\n",
       "    .dataframe thead th {\n",
       "        text-align: right;\n",
       "    }\n",
       "</style>\n",
       "<table border=\"1\" class=\"dataframe\">\n",
       "  <thead>\n",
       "    <tr style=\"text-align: right;\">\n",
       "      <th>month</th>\n",
       "      <th>february</th>\n",
       "      <th>january</th>\n",
       "    </tr>\n",
       "    <tr>\n",
       "      <th>aircraft_code</th>\n",
       "      <th></th>\n",
       "      <th></th>\n",
       "    </tr>\n",
       "  </thead>\n",
       "  <tbody>\n",
       "    <tr>\n",
       "      <th>733</th>\n",
       "      <td>28</td>\n",
       "      <td>31</td>\n",
       "    </tr>\n",
       "    <tr>\n",
       "      <th>SU9</th>\n",
       "      <td>28</td>\n",
       "      <td>31</td>\n",
       "    </tr>\n",
       "  </tbody>\n",
       "</table>\n",
       "</div>"
      ],
      "text/plain": [
       "month          february  january\n",
       "aircraft_code                   \n",
       "733                  28       31\n",
       "SU9                  28       31"
      ]
     },
     "execution_count": 134,
     "metadata": {},
     "output_type": "execute_result"
    }
   ],
   "source": [
    "# Количество полетов по месяцам\n",
    "pd.DataFrame(data_group.groupby(['aircraft_code', 'month']).size().unstack())"
   ]
  },
  {
   "cell_type": "code",
   "execution_count": 126,
   "metadata": {},
   "outputs": [
    {
     "data": {
      "text/plain": [
       "24.176923076923078"
      ]
     },
     "execution_count": 126,
     "metadata": {},
     "output_type": "execute_result"
    }
   ],
   "source": [
    "# Количество Боингов 733 необходимое для перевоза всех пассажиров в феврале с учетом 100% заполненности борта.\n",
    "data_group[(data_group.aircraft_code == '733')&(data_group.month=='february')]['fare_conditions'].sum()/130"
   ]
  },
  {
   "cell_type": "code",
   "execution_count": 127,
   "metadata": {},
   "outputs": [
    {
     "data": {
      "text/plain": [
       "27.161538461538463"
      ]
     },
     "execution_count": 127,
     "metadata": {},
     "output_type": "execute_result"
    }
   ],
   "source": [
    "# Количество Боингов 733 необходимое для перевоза всех пассажиров в январе с учетом 100% заполненности борта.\n",
    "data_group[(data_group.aircraft_code == '733')&(data_group.month=='january')]['fare_conditions'].sum()/130"
   ]
  },
  {
   "cell_type": "code",
   "execution_count": 167,
   "metadata": {},
   "outputs": [
    {
     "name": "stdout",
     "output_type": "stream",
     "text": [
      "Рейсы в феврале  [136360, 136250, 136351, 136486]\n",
      "Рейсы в январе  [136122, 136178, 136464, 136202]\n"
     ]
    }
   ],
   "source": [
    "# Для повышения доходности от полетов Боинга 733 зимой предлагаю отказаться \n",
    "# от 8-ми самых незаполненых рейсов февраля и января. \n",
    "print('Рейсы в феврале ', list(data_group[(data_group.aircraft_code == '733')&(data_group.month=='february')].sort_values('fullness')[:4].index))\n",
    "print('Рейсы в январе ', list(data_group[(data_group.aircraft_code == '733')&(data_group.month=='january')].sort_values('fullness')[:4].index))"
   ]
  },
  {
   "cell_type": "code",
   "execution_count": 165,
   "metadata": {},
   "outputs": [
    {
     "data": {
      "text/plain": [
       "26.0"
      ]
     },
     "execution_count": 165,
     "metadata": {},
     "output_type": "execute_result"
    }
   ],
   "source": [
    "# Количество SU9 необходимое для перевоза всех пассажиров в феврале с учетом 100% заполненности борта.\n",
    "data_group[(data_group.aircraft_code == 'SU9')&(data_group.month=='february')]['fare_conditions'].sum()/97"
   ]
  },
  {
   "cell_type": "code",
   "execution_count": 133,
   "metadata": {},
   "outputs": [
    {
     "data": {
      "text/plain": [
       "28.855670103092784"
      ]
     },
     "execution_count": 133,
     "metadata": {},
     "output_type": "execute_result"
    }
   ],
   "source": [
    "# Количество SU9 необходимое для перевоза всех пассажиров в январе с учетом 100% заполненности борта.\n",
    "data_group[(data_group.aircraft_code == 'SU9')&(data_group.month=='january')]['fare_conditions'].sum()/97"
   ]
  },
  {
   "cell_type": "code",
   "execution_count": 168,
   "metadata": {},
   "outputs": [
    {
     "name": "stdout",
     "output_type": "stream",
     "text": [
      "Рейсы в феврале  [136807, 136922]\n",
      "Рейсы в январе  [136642, 136887]\n"
     ]
    }
   ],
   "source": [
    "# Для повышения доходности от полетов SU9 зимой предлагаю отказаться \n",
    "# от 4-х самых незаполненых рейсов февраля и января. \n",
    "print('Рейсы в феврале ', list(data_group[(data_group.aircraft_code == 'SU9')&(data_group.month=='february')].sort_values('fullness')[:2].index))\n",
    "print('Рейсы в январе ', list(data_group[(data_group.aircraft_code == 'SU9')&(data_group.month=='january')].sort_values('fullness')[:2].index))"
   ]
  },
  {
   "cell_type": "code",
   "execution_count": null,
   "metadata": {},
   "outputs": [],
   "source": [
    "https://docs.google.com/presentation/d/1DtkosWMyGE03jOroJc7H6AGvdxBfZr-2nxZZGNUPk8c/edit?usp=sharing"
   ]
  }
 ],
 "metadata": {
  "kernelspec": {
   "display_name": "Python 3",
   "language": "python",
   "name": "python3"
  },
  "language_info": {
   "codemirror_mode": {
    "name": "ipython",
    "version": 3
   },
   "file_extension": ".py",
   "mimetype": "text/x-python",
   "name": "python",
   "nbconvert_exporter": "python",
   "pygments_lexer": "ipython3",
   "version": "3.8.3"
  },
  "varInspector": {
   "cols": {
    "lenName": 16,
    "lenType": 16,
    "lenVar": 40
   },
   "kernels_config": {
    "python": {
     "delete_cmd_postfix": "",
     "delete_cmd_prefix": "del ",
     "library": "var_list.py",
     "varRefreshCmd": "print(var_dic_list())"
    },
    "r": {
     "delete_cmd_postfix": ") ",
     "delete_cmd_prefix": "rm(",
     "library": "var_list.r",
     "varRefreshCmd": "cat(var_dic_list()) "
    }
   },
   "types_to_exclude": [
    "module",
    "function",
    "builtin_function_or_method",
    "instance",
    "_Feature"
   ],
   "window_display": false
  }
 },
 "nbformat": 4,
 "nbformat_minor": 4
}
