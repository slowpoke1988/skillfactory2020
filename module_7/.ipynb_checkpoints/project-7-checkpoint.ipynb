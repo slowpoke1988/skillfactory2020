{
 "cells": [
  {
   "cell_type": "markdown",
   "metadata": {},
   "source": [
    "# Car Price prediction\n",
    "\n",
    "<img src=\"https://whatcar.vn/media/2018/09/car-lot-940x470.jpg\"/>\n",
    "\n",
    "## Прогнозирование стоимости автомобиля по характеристикам\n"
   ]
  },
  {
   "cell_type": "code",
   "execution_count": null,
   "metadata": {
    "_kg_hide-input": true,
    "execution": {
     "iopub.execute_input": "2021-06-18T09:46:27.620457Z",
     "iopub.status.busy": "2021-06-18T09:46:27.620029Z",
     "iopub.status.idle": "2021-06-18T09:46:34.715119Z",
     "shell.execute_reply": "2021-06-18T09:46:34.713812Z",
     "shell.execute_reply.started": "2021-06-18T09:46:27.620423Z"
    }
   },
   "outputs": [],
   "source": [
    "!pip install - q tensorflow == 2.3"
   ]
  },
  {
   "cell_type": "code",
   "execution_count": null,
   "metadata": {
    "_kg_hide-input": true,
    "execution": {
     "iopub.execute_input": "2021-06-18T09:46:34.720109Z",
     "iopub.status.busy": "2021-06-18T09:46:34.719715Z",
     "iopub.status.idle": "2021-06-18T09:46:41.749809Z",
     "shell.execute_reply": "2021-06-18T09:46:41.748627Z",
     "shell.execute_reply.started": "2021-06-18T09:46:34.720068Z"
    }
   },
   "outputs": [],
   "source": [
    "# аугментации изображений\n",
    "!pip install albumentations - q"
   ]
  },
  {
   "cell_type": "code",
   "execution_count": null,
   "metadata": {
    "_cell_guid": "b1076dfc-b9ad-4769-8c92-a6c4dae69d19",
    "_kg_hide-input": true,
    "_uuid": "8f2839f25d086af736a60e9eeb907d3b93b6e0e5",
    "execution": {
     "iopub.execute_input": "2021-06-18T09:46:41.753099Z",
     "iopub.status.busy": "2021-06-18T09:46:41.752696Z",
     "iopub.status.idle": "2021-06-18T09:46:41.795836Z",
     "shell.execute_reply": "2021-06-18T09:46:41.794554Z",
     "shell.execute_reply.started": "2021-06-18T09:46:41.753049Z"
    }
   },
   "outputs": [],
   "source": [
    "# This Python 3 environment comes with many helpful analytics libraries installed\n",
    "# It is defined by the kaggle/python Docker image: https://github.com/kaggle/docker-python\n",
    "# For example, here's several helpful packages to load\n",
    "\n",
    "import random\n",
    "import numpy as np  # linear algebra\n",
    "import pandas as pd  # data processing, CSV file I/O (e.g. pd.read_csv)\n",
    "import os\n",
    "import sys\n",
    "import PIL\n",
    "import cv2\n",
    "import re\n",
    "\n",
    "# Input data files are available in the read-only \"../input/\" directory\n",
    "# For example, running this (by clicking run or pressing Shift+Enter) will list all files under the input directory\n",
    "\n",
    "from catboost import CatBoostRegressor\n",
    "from sklearn.model_selection import train_test_split\n",
    "from sklearn.preprocessing import MinMaxScaler, StandardScaler, RobustScaler\n",
    "from sklearn.model_selection import GridSearchCV\n",
    "# # keras\n",
    "import tensorflow as tf\n",
    "import tensorflow.keras.layers as L\n",
    "from tensorflow.keras.models import Model, Sequential\n",
    "from tensorflow.keras.preprocessing.text import Tokenizer\n",
    "from tensorflow.keras.preprocessing import sequence\n",
    "from tensorflow.keras.callbacks import ModelCheckpoint, EarlyStopping\n",
    "from tensorflow.keras import regularizers\n",
    "import albumentations\n",
    "from sklearn.feature_selection import f_regression, mutual_info_regression\n",
    "# plt\n",
    "import matplotlib.pyplot as plt\n",
    "# увеличим дефолтный размер графиков\n",
    "import seaborn as sns\n",
    "from pylab import rcParams\n",
    "rcParams['figure.figsize'] = 10, 5\n",
    "# графики в svg выглядят более четкими\n",
    "%config InlineBackend.figure_format = 'svg'\n",
    "%matplotlib inline\n",
    "np.set_printoptions(suppress=True)\n",
    "# You can write up to 5GB to the current directory (/kaggle/working/) that gets preserved as output when you create a version using \"Save & Run All\"\n",
    "# You can also write temporary files to /kaggle/temp/, but they won't be saved outside of the current session"
   ]
  },
  {
   "cell_type": "code",
   "execution_count": null,
   "metadata": {
    "_kg_hide-input": true,
    "execution": {
     "iopub.execute_input": "2021-06-18T09:46:41.797977Z",
     "iopub.status.busy": "2021-06-18T09:46:41.797644Z",
     "iopub.status.idle": "2021-06-18T09:46:41.807866Z",
     "shell.execute_reply": "2021-06-18T09:46:41.806545Z",
     "shell.execute_reply.started": "2021-06-18T09:46:41.797946Z"
    }
   },
   "outputs": [],
   "source": [
    "print('Python       :', sys.version.split('\\n')[0])\n",
    "print('Numpy        :', np.__version__)\n",
    "print('Tensorflow   :', tf.__version__)"
   ]
  },
  {
   "cell_type": "code",
   "execution_count": null,
   "metadata": {
    "_kg_hide-input": true,
    "execution": {
     "iopub.execute_input": "2021-06-18T09:46:41.811758Z",
     "iopub.status.busy": "2021-06-18T09:46:41.811396Z",
     "iopub.status.idle": "2021-06-18T09:46:41.82707Z",
     "shell.execute_reply": "2021-06-18T09:46:41.82572Z",
     "shell.execute_reply.started": "2021-06-18T09:46:41.811724Z"
    }
   },
   "outputs": [],
   "source": [
    "def mape(y_true, y_pred):\n",
    "    return np.mean(np.abs((y_pred-y_true)/y_true))"
   ]
  },
  {
   "cell_type": "code",
   "execution_count": null,
   "metadata": {
    "_kg_hide-input": true,
    "execution": {
     "iopub.execute_input": "2021-06-18T09:46:41.831505Z",
     "iopub.status.busy": "2021-06-18T09:46:41.830793Z",
     "iopub.status.idle": "2021-06-18T09:46:41.840074Z",
     "shell.execute_reply": "2021-06-18T09:46:41.839152Z",
     "shell.execute_reply.started": "2021-06-18T09:46:41.831453Z"
    }
   },
   "outputs": [],
   "source": [
    "# всегда фиксируйте RANDOM_SEED, чтобы ваши эксперименты были воспроизводимы!\n",
    "RANDOM_SEED = 42\n",
    "np.random.seed(RANDOM_SEED)"
   ]
  },
  {
   "cell_type": "code",
   "execution_count": null,
   "metadata": {
    "_kg_hide-input": true,
    "execution": {
     "iopub.execute_input": "2021-06-18T09:46:41.841976Z",
     "iopub.status.busy": "2021-06-18T09:46:41.841603Z",
     "iopub.status.idle": "2021-06-18T09:46:43.847077Z",
     "shell.execute_reply": "2021-06-18T09:46:43.845657Z",
     "shell.execute_reply.started": "2021-06-18T09:46:41.841942Z"
    }
   },
   "outputs": [],
   "source": [
    "!pip freeze > requirements.txt"
   ]
  },
  {
   "cell_type": "markdown",
   "metadata": {},
   "source": [
    "# DATA"
   ]
  },
  {
   "cell_type": "markdown",
   "metadata": {},
   "source": [
    "Посмотрим на типы признаков:\n",
    "\n",
    "* bodyType - категориальный\n",
    "* brand - категориальный\n",
    "* color - категориальный\n",
    "* description - текстовый\n",
    "* engineDisplacement - числовой, представленный как текст\n",
    "* enginePower - числовой, представленный как текст\n",
    "* fuelType - категориальный\n",
    "* mileage - числовой\n",
    "* modelDate - числовой\n",
    "* model_info - категориальный\n",
    "* name - категориальный, желательно сократить размерность\n",
    "* numberOfDoors - категориальный\n",
    "* price - числовой, целевой\n",
    "* productionDate - числовой\n",
    "* sell_id - изображение (файл доступен по адресу, основанному на sell_id)\n",
    "* vehicleConfiguration - не используется (комбинация других столбцов)\n",
    "* vehicleTransmission - категориальный\n",
    "* Владельцы - категориальный\n",
    "* Владение - числовой, представленный как текст\n",
    "* ПТС - категориальный\n",
    "* Привод - категориальный\n",
    "* Руль - категориальный"
   ]
  },
  {
   "cell_type": "code",
   "execution_count": null,
   "metadata": {
    "_cell_guid": "79c7e3d0-c299-4dcb-8224-4455121ee9b0",
    "_uuid": "d629ff2d2480ee46fbb7e2d37f6b5fab8052498a",
    "execution": {
     "iopub.execute_input": "2021-06-18T09:46:43.84937Z",
     "iopub.status.busy": "2021-06-18T09:46:43.849002Z",
     "iopub.status.idle": "2021-06-18T09:46:44.033542Z",
     "shell.execute_reply": "2021-06-18T09:46:44.032494Z",
     "shell.execute_reply.started": "2021-06-18T09:46:43.849336Z"
    }
   },
   "outputs": [],
   "source": [
    "DATA_DIR = '../input/sf-dst-car-price-prediction-part2/'\n",
    "train = pd.read_csv(DATA_DIR + 'train.csv')\n",
    "test = pd.read_csv(DATA_DIR + 'test.csv')\n",
    "sample_submission = pd.read_csv(DATA_DIR + 'sample_submission.csv')"
   ]
  },
  {
   "cell_type": "code",
   "execution_count": null,
   "metadata": {
    "execution": {
     "iopub.execute_input": "2021-06-18T09:46:44.037602Z",
     "iopub.status.busy": "2021-06-18T09:46:44.037282Z",
     "iopub.status.idle": "2021-06-18T09:46:44.064403Z",
     "shell.execute_reply": "2021-06-18T09:46:44.06298Z",
     "shell.execute_reply.started": "2021-06-18T09:46:44.037573Z"
    }
   },
   "outputs": [],
   "source": [
    "train.info()"
   ]
  },
  {
   "cell_type": "code",
   "execution_count": null,
   "metadata": {
    "execution": {
     "iopub.execute_input": "2021-06-18T09:46:44.066481Z",
     "iopub.status.busy": "2021-06-18T09:46:44.066025Z",
     "iopub.status.idle": "2021-06-18T09:46:44.137362Z",
     "shell.execute_reply": "2021-06-18T09:46:44.136309Z",
     "shell.execute_reply.started": "2021-06-18T09:46:44.066435Z"
    }
   },
   "outputs": [],
   "source": [
    "train.nunique()"
   ]
  },
  {
   "cell_type": "markdown",
   "metadata": {},
   "source": [
    "# Model 1: Создадим \"наивную\" модель \n",
    "Эта модель будет предсказывать среднюю цену по модели и году выпуска. \n",
    "C ней будем сравнивать другие модели.\n",
    "\n"
   ]
  },
  {
   "cell_type": "code",
   "execution_count": null,
   "metadata": {
    "execution": {
     "iopub.execute_input": "2021-06-18T09:46:44.139961Z",
     "iopub.status.busy": "2021-06-18T09:46:44.139485Z",
     "iopub.status.idle": "2021-06-18T09:46:44.150616Z",
     "shell.execute_reply": "2021-06-18T09:46:44.149592Z",
     "shell.execute_reply.started": "2021-06-18T09:46:44.139911Z"
    }
   },
   "outputs": [],
   "source": [
    "# split данных\n",
    "data_train, data_test = train_test_split(\n",
    "    train, test_size=0.15, shuffle=True, random_state=RANDOM_SEED)"
   ]
  },
  {
   "cell_type": "code",
   "execution_count": null,
   "metadata": {
    "execution": {
     "iopub.execute_input": "2021-06-18T09:46:44.152631Z",
     "iopub.status.busy": "2021-06-18T09:46:44.152234Z",
     "iopub.status.idle": "2021-06-18T09:46:48.735179Z",
     "shell.execute_reply": "2021-06-18T09:46:48.734191Z",
     "shell.execute_reply.started": "2021-06-18T09:46:44.1526Z"
    }
   },
   "outputs": [],
   "source": [
    "# Наивная модель\n",
    "predicts = []\n",
    "for index, row in pd.DataFrame(data_test[['model_info', 'productionDate']]).iterrows():\n",
    "    query = f\"model_info == '{row[0]}' and productionDate == '{row[1]}'\"\n",
    "    predicts.append(data_train.query(query)['price'].median())\n",
    "\n",
    "# заполним не найденные совпадения\n",
    "predicts = pd.DataFrame(predicts)\n",
    "predicts = predicts.fillna(predicts.median())\n",
    "\n",
    "# округлим\n",
    "predicts = (predicts // 1000) * 1000\n",
    "\n",
    "# оцениваем точность\n",
    "print(\n",
    "    f\"Точность наивной модели по метрике MAPE: {(mape(data_test['price'], predicts.values[:, 0]))*100:0.2f}%\")"
   ]
  },
  {
   "cell_type": "markdown",
   "metadata": {},
   "source": [
    "# EDA"
   ]
  },
  {
   "cell_type": "markdown",
   "metadata": {},
   "source": [
    "Проведем быстрый анализ данных для того, чтобы понимать, сможет ли с этими данными работать наш алгоритм."
   ]
  },
  {
   "cell_type": "markdown",
   "metadata": {},
   "source": [
    "Посмотрим, как выглядят распределения числовых признаков:"
   ]
  },
  {
   "cell_type": "code",
   "execution_count": null,
   "metadata": {
    "_kg_hide-input": true,
    "execution": {
     "iopub.execute_input": "2021-06-18T09:46:48.737051Z",
     "iopub.status.busy": "2021-06-18T09:46:48.736732Z",
     "iopub.status.idle": "2021-06-18T09:46:49.306974Z",
     "shell.execute_reply": "2021-06-18T09:46:49.305857Z",
     "shell.execute_reply.started": "2021-06-18T09:46:48.737019Z"
    }
   },
   "outputs": [],
   "source": [
    "# посмотрим, как выглядят распределения числовых признаков\n",
    "def visualize_distributions(titles_values_dict):\n",
    "    columns = min(3, len(titles_values_dict))\n",
    "    rows = (len(titles_values_dict) - 1) // columns + 1\n",
    "    fig = plt.figure(figsize=(columns * 6, rows * 4))\n",
    "    for i, (title, values) in enumerate(titles_values_dict.items()):\n",
    "        hist, bins = np.histogram(values, bins=20)\n",
    "        ax = fig.add_subplot(rows, columns, i + 1)\n",
    "        ax.bar(bins[:-1], hist, width=(bins[1] - bins[0]) * 0.7)\n",
    "        ax.set_title(title)\n",
    "    plt.show()\n",
    "\n",
    "\n",
    "visualize_distributions({\n",
    "    'mileage': train['mileage'].dropna(),\n",
    "    'modelDate': train['modelDate'].dropna(),\n",
    "    'productionDate': train['productionDate'].dropna()\n",
    "})"
   ]
  },
  {
   "cell_type": "markdown",
   "metadata": {},
   "source": [
    "Итого:\n",
    "* CatBoost сможет работать с признаками и в таком виде, но для нейросети нужны нормированные данные."
   ]
  },
  {
   "cell_type": "markdown",
   "metadata": {},
   "source": [
    "# PreProc Tabular Data"
   ]
  },
  {
   "cell_type": "code",
   "execution_count": null,
   "metadata": {
    "execution": {
     "iopub.execute_input": "2021-06-18T09:46:49.308785Z",
     "iopub.status.busy": "2021-06-18T09:46:49.30847Z",
     "iopub.status.idle": "2021-06-18T09:46:49.315336Z",
     "shell.execute_reply": "2021-06-18T09:46:49.31404Z",
     "shell.execute_reply.started": "2021-06-18T09:46:49.308755Z"
    }
   },
   "outputs": [],
   "source": [
    "# используем все текстовые признаки как категориальные без предобработки\n",
    "categorical_features = ['bodyType', 'brand', 'color', 'engineDisplacement', 'enginePower', 'fuelType', 'model_info', 'name',\n",
    "                        'numberOfDoors', 'vehicleTransmission', 'Владельцы', 'Владение', 'ПТС', 'Привод', 'Руль']\n",
    "\n",
    "# используем все числовые признаки\n",
    "numerical_features = ['mileage', 'modelDate', 'productionDate']"
   ]
  },
  {
   "cell_type": "code",
   "execution_count": null,
   "metadata": {
    "execution": {
     "iopub.execute_input": "2021-06-18T09:46:49.317413Z",
     "iopub.status.busy": "2021-06-18T09:46:49.31683Z",
     "iopub.status.idle": "2021-06-18T09:46:49.349106Z",
     "shell.execute_reply": "2021-06-18T09:46:49.348216Z",
     "shell.execute_reply.started": "2021-06-18T09:46:49.317361Z"
    }
   },
   "outputs": [],
   "source": [
    "# ВАЖНО! дря корректной обработки признаков объединяем трейн и тест в один датасет\n",
    "train['sample'] = 1  # помечаем где у нас трейн\n",
    "test['sample'] = 0  # помечаем где у нас тест\n",
    "# в тесте у нас нет значения price, мы его должны предсказать, поэтому пока просто заполняем нулями\n",
    "test['price'] = 0\n",
    "\n",
    "data = test.append(train, sort=False).reset_index(drop=True)  # объединяем\n",
    "print(train.shape, test.shape, data.shape)"
   ]
  },
  {
   "cell_type": "code",
   "execution_count": null,
   "metadata": {
    "execution": {
     "iopub.execute_input": "2021-06-18T09:46:49.351217Z",
     "iopub.status.busy": "2021-06-18T09:46:49.350907Z",
     "iopub.status.idle": "2021-06-18T09:46:49.380523Z",
     "shell.execute_reply": "2021-06-18T09:46:49.379282Z",
     "shell.execute_reply.started": "2021-06-18T09:46:49.351171Z"
    }
   },
   "outputs": [],
   "source": [
    "data.info()"
   ]
  },
  {
   "cell_type": "code",
   "execution_count": null,
   "metadata": {
    "execution": {
     "iopub.execute_input": "2021-06-18T09:46:49.38211Z",
     "iopub.status.busy": "2021-06-18T09:46:49.381815Z",
     "iopub.status.idle": "2021-06-18T09:46:49.888516Z",
     "shell.execute_reply": "2021-06-18T09:46:49.887391Z",
     "shell.execute_reply.started": "2021-06-18T09:46:49.382081Z"
    }
   },
   "outputs": [],
   "source": [
    "# Посмотрим на распределения целевой переменной и логарифмированной ее версии\n",
    "plt.figure(figsize=(15, 5))\n",
    "plt.subplot(1, 2, 1)\n",
    "plt.title('price')\n",
    "sns.distplot(data[data['sample'] == 1].price)\n",
    "plt.subplot(1, 2, 2)\n",
    "plt.title('log_price')\n",
    "sns.distplot(np.log(data[data['sample'] == 1].price))"
   ]
  },
  {
   "cell_type": "code",
   "execution_count": null,
   "metadata": {
    "execution": {
     "iopub.execute_input": "2021-06-18T09:46:49.89097Z",
     "iopub.status.busy": "2021-06-18T09:46:49.890515Z",
     "iopub.status.idle": "2021-06-18T09:46:49.896533Z",
     "shell.execute_reply": "2021-06-18T09:46:49.895173Z",
     "shell.execute_reply.started": "2021-06-18T09:46:49.89092Z"
    }
   },
   "outputs": [],
   "source": [
    "# Так как целевая переменная имеет тяжелый правый хвост, а логарифмирование приводит ее к более нормальному распредению то для CatBoost буду использовать логарифм."
   ]
  },
  {
   "cell_type": "code",
   "execution_count": null,
   "metadata": {
    "execution": {
     "iopub.execute_input": "2021-06-18T09:46:49.898827Z",
     "iopub.status.busy": "2021-06-18T09:46:49.898387Z",
     "iopub.status.idle": "2021-06-18T09:46:49.910905Z",
     "shell.execute_reply": "2021-06-18T09:46:49.910025Z",
     "shell.execute_reply.started": "2021-06-18T09:46:49.898779Z"
    }
   },
   "outputs": [],
   "source": [
    "# Займемся предобработкой данных"
   ]
  },
  {
   "cell_type": "code",
   "execution_count": null,
   "metadata": {
    "execution": {
     "iopub.execute_input": "2021-06-18T09:46:49.912914Z",
     "iopub.status.busy": "2021-06-18T09:46:49.912473Z",
     "iopub.status.idle": "2021-06-18T09:46:49.931876Z",
     "shell.execute_reply": "2021-06-18T09:46:49.930618Z",
     "shell.execute_reply.started": "2021-06-18T09:46:49.912871Z"
    }
   },
   "outputs": [],
   "source": [
    "# bodyType\n",
    "data.bodyType.value_counts()"
   ]
  },
  {
   "cell_type": "code",
   "execution_count": null,
   "metadata": {
    "execution": {
     "iopub.execute_input": "2021-06-18T09:46:49.93363Z",
     "iopub.status.busy": "2021-06-18T09:46:49.93329Z",
     "iopub.status.idle": "2021-06-18T09:46:49.948846Z",
     "shell.execute_reply": "2021-06-18T09:46:49.947406Z",
     "shell.execute_reply.started": "2021-06-18T09:46:49.933597Z"
    }
   },
   "outputs": [],
   "source": [
    "# brand\n",
    "data.brand.value_counts()"
   ]
  },
  {
   "cell_type": "code",
   "execution_count": null,
   "metadata": {
    "execution": {
     "iopub.execute_input": "2021-06-18T09:46:49.950772Z",
     "iopub.status.busy": "2021-06-18T09:46:49.950423Z",
     "iopub.status.idle": "2021-06-18T09:46:49.967851Z",
     "shell.execute_reply": "2021-06-18T09:46:49.966647Z",
     "shell.execute_reply.started": "2021-06-18T09:46:49.950742Z"
    }
   },
   "outputs": [],
   "source": [
    "# color\n",
    "data.color.value_counts()"
   ]
  },
  {
   "cell_type": "code",
   "execution_count": null,
   "metadata": {
    "execution": {
     "iopub.execute_input": "2021-06-18T09:46:49.969307Z",
     "iopub.status.busy": "2021-06-18T09:46:49.968987Z",
     "iopub.status.idle": "2021-06-18T09:46:49.98732Z",
     "shell.execute_reply": "2021-06-18T09:46:49.986176Z",
     "shell.execute_reply.started": "2021-06-18T09:46:49.969276Z"
    }
   },
   "outputs": [],
   "source": [
    "data.engineDisplacement.value_counts()"
   ]
  },
  {
   "cell_type": "code",
   "execution_count": null,
   "metadata": {
    "execution": {
     "iopub.execute_input": "2021-06-18T09:46:49.989Z",
     "iopub.status.busy": "2021-06-18T09:46:49.988685Z",
     "iopub.status.idle": "2021-06-18T09:46:50.531345Z",
     "shell.execute_reply": "2021-06-18T09:46:50.530409Z",
     "shell.execute_reply.started": "2021-06-18T09:46:49.988971Z"
    }
   },
   "outputs": [],
   "source": [
    "# Переведем признак engineDisplacement из категориального в числовой дополнительно взяв логарифм для более нормального распределения\n",
    "data['engineDisplacement'] = data['engineDisplacement'].apply(\n",
    "    lambda x: '2.0 LTR' if x == 'undefined LTR' else x)\n",
    "plt.figure(figsize=(15, 5))\n",
    "plt.subplot(1, 2, 1)\n",
    "plt.title('engineDisplacement')\n",
    "sns.distplot(data['engineDisplacement'].apply(\n",
    "    lambda x: float((x.split(' ')[0]))))\n",
    "plt.subplot(1, 2, 2)\n",
    "plt.title('log_engineDisplacement')\n",
    "sns.distplot(np.log(data['engineDisplacement'].apply(\n",
    "    lambda x: float((x.split(' ')[0])))))"
   ]
  },
  {
   "cell_type": "code",
   "execution_count": null,
   "metadata": {
    "execution": {
     "iopub.execute_input": "2021-06-18T09:46:50.533086Z",
     "iopub.status.busy": "2021-06-18T09:46:50.532767Z",
     "iopub.status.idle": "2021-06-18T09:46:50.53747Z",
     "shell.execute_reply": "2021-06-18T09:46:50.536415Z",
     "shell.execute_reply.started": "2021-06-18T09:46:50.533053Z"
    }
   },
   "outputs": [],
   "source": [
    "# В моделях будем использовать признак engineDisplacement как числовой"
   ]
  },
  {
   "cell_type": "code",
   "execution_count": null,
   "metadata": {
    "execution": {
     "iopub.execute_input": "2021-06-18T09:46:50.539883Z",
     "iopub.status.busy": "2021-06-18T09:46:50.539411Z",
     "iopub.status.idle": "2021-06-18T09:46:50.558935Z",
     "shell.execute_reply": "2021-06-18T09:46:50.557838Z",
     "shell.execute_reply.started": "2021-06-18T09:46:50.539834Z"
    }
   },
   "outputs": [],
   "source": [
    "# enginePower\n",
    "data.enginePower.value_counts()"
   ]
  },
  {
   "cell_type": "code",
   "execution_count": null,
   "metadata": {
    "execution": {
     "iopub.execute_input": "2021-06-18T09:46:50.561027Z",
     "iopub.status.busy": "2021-06-18T09:46:50.560709Z",
     "iopub.status.idle": "2021-06-18T09:46:51.409424Z",
     "shell.execute_reply": "2021-06-18T09:46:51.408426Z",
     "shell.execute_reply.started": "2021-06-18T09:46:50.560995Z"
    }
   },
   "outputs": [],
   "source": [
    "# Переведем признак enginePower из категориального в числовой дополнительно взяв логарифм для более нормального распределения\n",
    "plt.figure(figsize=(15, 5))\n",
    "plt.subplot(1, 2, 1)\n",
    "plt.title('enginePower')\n",
    "sns.distplot(data['enginePower'].str.split().apply(lambda x: int(x[0])))\n",
    "plt.subplot(1, 2, 2)\n",
    "plt.title('log_enginePower')\n",
    "sns.distplot(\n",
    "    np.log(data['enginePower'].str.split().apply(lambda x: int(x[0]))))"
   ]
  },
  {
   "cell_type": "code",
   "execution_count": null,
   "metadata": {
    "execution": {
     "iopub.execute_input": "2021-06-18T09:46:51.411251Z",
     "iopub.status.busy": "2021-06-18T09:46:51.410899Z",
     "iopub.status.idle": "2021-06-18T09:46:51.41607Z",
     "shell.execute_reply": "2021-06-18T09:46:51.41497Z",
     "shell.execute_reply.started": "2021-06-18T09:46:51.411208Z"
    }
   },
   "outputs": [],
   "source": [
    "# В моделях будем использовать признак enginePower как числовой"
   ]
  },
  {
   "cell_type": "code",
   "execution_count": null,
   "metadata": {
    "execution": {
     "iopub.execute_input": "2021-06-18T09:46:51.418017Z",
     "iopub.status.busy": "2021-06-18T09:46:51.417703Z",
     "iopub.status.idle": "2021-06-18T09:46:51.43596Z",
     "shell.execute_reply": "2021-06-18T09:46:51.435052Z",
     "shell.execute_reply.started": "2021-06-18T09:46:51.417987Z"
    }
   },
   "outputs": [],
   "source": [
    "# fuelType\n",
    "data.fuelType.value_counts()"
   ]
  },
  {
   "cell_type": "code",
   "execution_count": null,
   "metadata": {
    "execution": {
     "iopub.execute_input": "2021-06-18T09:46:51.437371Z",
     "iopub.status.busy": "2021-06-18T09:46:51.437058Z",
     "iopub.status.idle": "2021-06-18T09:46:51.456228Z",
     "shell.execute_reply": "2021-06-18T09:46:51.4549Z",
     "shell.execute_reply.started": "2021-06-18T09:46:51.43734Z"
    }
   },
   "outputs": [],
   "source": [
    "# model_info\n",
    "data.model_info.value_counts()"
   ]
  },
  {
   "cell_type": "code",
   "execution_count": null,
   "metadata": {
    "execution": {
     "iopub.execute_input": "2021-06-18T09:46:51.458086Z",
     "iopub.status.busy": "2021-06-18T09:46:51.457683Z",
     "iopub.status.idle": "2021-06-18T09:46:51.478943Z",
     "shell.execute_reply": "2021-06-18T09:46:51.477672Z",
     "shell.execute_reply.started": "2021-06-18T09:46:51.458053Z"
    }
   },
   "outputs": [],
   "source": [
    "# name\n",
    "data.name.value_counts()"
   ]
  },
  {
   "cell_type": "code",
   "execution_count": null,
   "metadata": {
    "execution": {
     "iopub.execute_input": "2021-06-18T09:46:51.492813Z",
     "iopub.status.busy": "2021-06-18T09:46:51.492453Z",
     "iopub.status.idle": "2021-06-18T09:46:51.524815Z",
     "shell.execute_reply": "2021-06-18T09:46:51.523571Z",
     "shell.execute_reply.started": "2021-06-18T09:46:51.492781Z"
    }
   },
   "outputs": [],
   "source": [
    "# Понизим размерность name убрав из признака дублирующуюся информацию из колонок 'enginePower', 'engineDisplacement', 'vehicleTransmission'\n",
    "data.name.str.split(' ').apply(lambda x: x[0]).value_counts()"
   ]
  },
  {
   "cell_type": "code",
   "execution_count": null,
   "metadata": {
    "execution": {
     "iopub.execute_input": "2021-06-18T09:46:51.528209Z",
     "iopub.status.busy": "2021-06-18T09:46:51.527859Z",
     "iopub.status.idle": "2021-06-18T09:46:51.532507Z",
     "shell.execute_reply": "2021-06-18T09:46:51.531421Z",
     "shell.execute_reply.started": "2021-06-18T09:46:51.528157Z"
    }
   },
   "outputs": [],
   "source": [
    "# В моделях будем использовать name c меньшей размерностью"
   ]
  },
  {
   "cell_type": "code",
   "execution_count": null,
   "metadata": {
    "execution": {
     "iopub.execute_input": "2021-06-18T09:46:51.534985Z",
     "iopub.status.busy": "2021-06-18T09:46:51.534304Z",
     "iopub.status.idle": "2021-06-18T09:46:51.558675Z",
     "shell.execute_reply": "2021-06-18T09:46:51.557597Z",
     "shell.execute_reply.started": "2021-06-18T09:46:51.534938Z"
    }
   },
   "outputs": [],
   "source": [
    "# добавим новый признак  4wd из данных колонки name\n",
    "data['name'].apply(lambda x: 1 if '4WD' in x else 0).value_counts()"
   ]
  },
  {
   "cell_type": "code",
   "execution_count": null,
   "metadata": {
    "execution": {
     "iopub.execute_input": "2021-06-18T09:46:51.560325Z",
     "iopub.status.busy": "2021-06-18T09:46:51.560011Z",
     "iopub.status.idle": "2021-06-18T09:46:51.576456Z",
     "shell.execute_reply": "2021-06-18T09:46:51.574898Z",
     "shell.execute_reply.started": "2021-06-18T09:46:51.560296Z"
    }
   },
   "outputs": [],
   "source": [
    "# добавим новый признак  4wd из данных колонки name\n",
    "data['name'].apply(lambda x: 1 if 'xDrive' in x else 0).value_counts()"
   ]
  },
  {
   "cell_type": "code",
   "execution_count": null,
   "metadata": {
    "execution": {
     "iopub.execute_input": "2021-06-18T09:46:51.578354Z",
     "iopub.status.busy": "2021-06-18T09:46:51.577994Z",
     "iopub.status.idle": "2021-06-18T09:46:51.587399Z",
     "shell.execute_reply": "2021-06-18T09:46:51.586379Z",
     "shell.execute_reply.started": "2021-06-18T09:46:51.57832Z"
    }
   },
   "outputs": [],
   "source": [
    "# numberOfDoors\n",
    "data.numberOfDoors.value_counts()"
   ]
  },
  {
   "cell_type": "code",
   "execution_count": null,
   "metadata": {
    "execution": {
     "iopub.execute_input": "2021-06-18T09:46:51.588801Z",
     "iopub.status.busy": "2021-06-18T09:46:51.588497Z",
     "iopub.status.idle": "2021-06-18T09:46:51.606784Z",
     "shell.execute_reply": "2021-06-18T09:46:51.605894Z",
     "shell.execute_reply.started": "2021-06-18T09:46:51.588771Z"
    }
   },
   "outputs": [],
   "source": [
    "# vehicleTransmission\n",
    "data.vehicleTransmission.value_counts()"
   ]
  },
  {
   "cell_type": "code",
   "execution_count": null,
   "metadata": {
    "execution": {
     "iopub.execute_input": "2021-06-18T09:46:51.60848Z",
     "iopub.status.busy": "2021-06-18T09:46:51.608005Z",
     "iopub.status.idle": "2021-06-18T09:46:51.625261Z",
     "shell.execute_reply": "2021-06-18T09:46:51.624219Z",
     "shell.execute_reply.started": "2021-06-18T09:46:51.608447Z"
    }
   },
   "outputs": [],
   "source": [
    "# Владельцы\n",
    "data.Владельцы.value_counts()"
   ]
  },
  {
   "cell_type": "code",
   "execution_count": null,
   "metadata": {
    "execution": {
     "iopub.execute_input": "2021-06-18T09:46:51.62704Z",
     "iopub.status.busy": "2021-06-18T09:46:51.626452Z",
     "iopub.status.idle": "2021-06-18T09:46:51.640062Z",
     "shell.execute_reply": "2021-06-18T09:46:51.63916Z",
     "shell.execute_reply.started": "2021-06-18T09:46:51.627008Z"
    }
   },
   "outputs": [],
   "source": [
    "# ПТС\n",
    "data.ПТС.value_counts()"
   ]
  },
  {
   "cell_type": "code",
   "execution_count": null,
   "metadata": {
    "execution": {
     "iopub.execute_input": "2021-06-18T09:46:51.641769Z",
     "iopub.status.busy": "2021-06-18T09:46:51.641315Z",
     "iopub.status.idle": "2021-06-18T09:46:51.655087Z",
     "shell.execute_reply": "2021-06-18T09:46:51.653973Z",
     "shell.execute_reply.started": "2021-06-18T09:46:51.641738Z"
    }
   },
   "outputs": [],
   "source": [
    "# Привод\n",
    "data.Привод.value_counts()"
   ]
  },
  {
   "cell_type": "code",
   "execution_count": null,
   "metadata": {
    "execution": {
     "iopub.execute_input": "2021-06-18T09:46:51.656923Z",
     "iopub.status.busy": "2021-06-18T09:46:51.656467Z",
     "iopub.status.idle": "2021-06-18T09:46:51.67146Z",
     "shell.execute_reply": "2021-06-18T09:46:51.670317Z",
     "shell.execute_reply.started": "2021-06-18T09:46:51.656876Z"
    }
   },
   "outputs": [],
   "source": [
    "# Руль\n",
    "data.Руль.value_counts()"
   ]
  },
  {
   "cell_type": "code",
   "execution_count": null,
   "metadata": {
    "execution": {
     "iopub.execute_input": "2021-06-18T09:46:51.67363Z",
     "iopub.status.busy": "2021-06-18T09:46:51.673305Z",
     "iopub.status.idle": "2021-06-18T09:46:52.21256Z",
     "shell.execute_reply": "2021-06-18T09:46:52.21154Z",
     "shell.execute_reply.started": "2021-06-18T09:46:51.6736Z"
    }
   },
   "outputs": [],
   "source": [
    "# Посмотрим на распредение признака mileage и его логарифмированной версии\n",
    "plt.figure(figsize=(15, 5))\n",
    "plt.subplot(1, 2, 1)\n",
    "plt.title('mileage')\n",
    "sns.distplot(data['mileage'])\n",
    "plt.subplot(1, 2, 2)\n",
    "plt.title('log_mileage')\n",
    "sns.distplot(np.log(data['mileage']))"
   ]
  },
  {
   "cell_type": "code",
   "execution_count": null,
   "metadata": {
    "execution": {
     "iopub.execute_input": "2021-06-18T09:46:52.214227Z",
     "iopub.status.busy": "2021-06-18T09:46:52.213897Z",
     "iopub.status.idle": "2021-06-18T09:46:52.218831Z",
     "shell.execute_reply": "2021-06-18T09:46:52.217665Z",
     "shell.execute_reply.started": "2021-06-18T09:46:52.214175Z"
    }
   },
   "outputs": [],
   "source": [
    "# np.corrcoef(data[data['sample']==1].mileage**0.5, np.log(data[data['sample']==1]['price']))[0, 1]"
   ]
  },
  {
   "cell_type": "code",
   "execution_count": null,
   "metadata": {
    "execution": {
     "iopub.execute_input": "2021-06-18T09:46:52.221168Z",
     "iopub.status.busy": "2021-06-18T09:46:52.22068Z",
     "iopub.status.idle": "2021-06-18T09:46:52.243859Z",
     "shell.execute_reply": "2021-06-18T09:46:52.241475Z",
     "shell.execute_reply.started": "2021-06-18T09:46:52.221118Z"
    }
   },
   "outputs": [],
   "source": [
    "np.corrcoef(data[data['sample'] == 1].mileage, np.log(\n",
    "    data[data['sample'] == 1]['price']))[0, 1]"
   ]
  },
  {
   "cell_type": "code",
   "execution_count": null,
   "metadata": {
    "execution": {
     "iopub.execute_input": "2021-06-18T09:46:52.246061Z",
     "iopub.status.busy": "2021-06-18T09:46:52.245583Z",
     "iopub.status.idle": "2021-06-18T09:46:52.25567Z",
     "shell.execute_reply": "2021-06-18T09:46:52.254321Z",
     "shell.execute_reply.started": "2021-06-18T09:46:52.246011Z"
    }
   },
   "outputs": [],
   "source": [
    "data.mileage"
   ]
  },
  {
   "cell_type": "code",
   "execution_count": null,
   "metadata": {
    "execution": {
     "iopub.execute_input": "2021-06-18T09:46:52.258377Z",
     "iopub.status.busy": "2021-06-18T09:46:52.257825Z",
     "iopub.status.idle": "2021-06-18T09:46:52.268042Z",
     "shell.execute_reply": "2021-06-18T09:46:52.266723Z",
     "shell.execute_reply.started": "2021-06-18T09:46:52.258327Z"
    }
   },
   "outputs": [],
   "source": [
    "# Логарифмирование не улучшило распредение потому оставим признак без изменений"
   ]
  },
  {
   "cell_type": "code",
   "execution_count": null,
   "metadata": {
    "execution": {
     "iopub.execute_input": "2021-06-18T09:46:52.270655Z",
     "iopub.status.busy": "2021-06-18T09:46:52.27013Z",
     "iopub.status.idle": "2021-06-18T09:46:52.787618Z",
     "shell.execute_reply": "2021-06-18T09:46:52.786359Z",
     "shell.execute_reply.started": "2021-06-18T09:46:52.270601Z"
    }
   },
   "outputs": [],
   "source": [
    "# Посмотрим на распредение признака modelDate и его логарифмированной версии\n",
    "plt.figure(figsize=(15, 5))\n",
    "plt.subplot(1, 3, 1)\n",
    "plt.title('mileage')\n",
    "sns.distplot(2021 - data['modelDate'])\n",
    "plt.subplot(1, 3, 2)\n",
    "plt.title('log_modelDate')\n",
    "sns.distplot(np.log(2021 - data['modelDate']))"
   ]
  },
  {
   "cell_type": "code",
   "execution_count": null,
   "metadata": {
    "execution": {
     "iopub.execute_input": "2021-06-18T09:46:52.789692Z",
     "iopub.status.busy": "2021-06-18T09:46:52.789296Z",
     "iopub.status.idle": "2021-06-18T09:46:52.794779Z",
     "shell.execute_reply": "2021-06-18T09:46:52.793447Z",
     "shell.execute_reply.started": "2021-06-18T09:46:52.789659Z"
    }
   },
   "outputs": [],
   "source": [
    "# Логарифмирование не улучшило распредение потому оставим признак без изменений"
   ]
  },
  {
   "cell_type": "code",
   "execution_count": null,
   "metadata": {
    "execution": {
     "iopub.execute_input": "2021-06-18T09:46:52.797616Z",
     "iopub.status.busy": "2021-06-18T09:46:52.797137Z",
     "iopub.status.idle": "2021-06-18T09:46:53.317334Z",
     "shell.execute_reply": "2021-06-18T09:46:53.316158Z",
     "shell.execute_reply.started": "2021-06-18T09:46:52.797568Z"
    }
   },
   "outputs": [],
   "source": [
    "# Посмотрим на распредение признака productionDate и его логарифмированной версии\n",
    "plt.figure(figsize=(15, 5))\n",
    "plt.subplot(1, 3, 1)\n",
    "plt.title('productionDate')\n",
    "sns.distplot(data['productionDate'])\n",
    "plt.subplot(1, 3, 2)\n",
    "plt.title('log_productionDate')\n",
    "sns.distplot(np.log(data['productionDate']))"
   ]
  },
  {
   "cell_type": "code",
   "execution_count": null,
   "metadata": {
    "execution": {
     "iopub.execute_input": "2021-06-18T09:46:53.319012Z",
     "iopub.status.busy": "2021-06-18T09:46:53.318716Z",
     "iopub.status.idle": "2021-06-18T09:46:53.323122Z",
     "shell.execute_reply": "2021-06-18T09:46:53.321846Z",
     "shell.execute_reply.started": "2021-06-18T09:46:53.318983Z"
    }
   },
   "outputs": [],
   "source": [
    "# Логарифмирование не улучшило распредение потому оставим признак без изменений"
   ]
  },
  {
   "cell_type": "code",
   "execution_count": null,
   "metadata": {
    "execution": {
     "iopub.execute_input": "2021-06-18T09:46:53.324925Z",
     "iopub.status.busy": "2021-06-18T09:46:53.324584Z",
     "iopub.status.idle": "2021-06-18T09:46:53.611916Z",
     "shell.execute_reply": "2021-06-18T09:46:53.611009Z",
     "shell.execute_reply.started": "2021-06-18T09:46:53.324894Z"
    }
   },
   "outputs": [],
   "source": [
    "# Добавим новый признак - разницу между датой производства и датой создания модели\n",
    "# Посмотрим на его распределение\n",
    "sns.distplot(data.productionDate - data.modelDate)"
   ]
  },
  {
   "cell_type": "code",
   "execution_count": null,
   "metadata": {
    "execution": {
     "iopub.execute_input": "2021-06-18T09:46:53.613889Z",
     "iopub.status.busy": "2021-06-18T09:46:53.613281Z",
     "iopub.status.idle": "2021-06-18T09:46:53.618429Z",
     "shell.execute_reply": "2021-06-18T09:46:53.617298Z",
     "shell.execute_reply.started": "2021-06-18T09:46:53.613842Z"
    }
   },
   "outputs": [],
   "source": [
    "# Распредение похоже на нормальное потому добавим без изменений"
   ]
  },
  {
   "cell_type": "code",
   "execution_count": null,
   "metadata": {
    "execution": {
     "iopub.execute_input": "2021-06-18T09:46:53.620462Z",
     "iopub.status.busy": "2021-06-18T09:46:53.619994Z",
     "iopub.status.idle": "2021-06-18T09:46:53.890815Z",
     "shell.execute_reply": "2021-06-18T09:46:53.889748Z",
     "shell.execute_reply.started": "2021-06-18T09:46:53.620416Z"
    }
   },
   "outputs": [],
   "source": [
    "# Добавим признак - пробег в год\n",
    "sns.distplot(data.mileage/(2021 - data['productionDate']))"
   ]
  },
  {
   "cell_type": "code",
   "execution_count": null,
   "metadata": {
    "execution": {
     "iopub.execute_input": "2021-06-18T09:46:53.892623Z",
     "iopub.status.busy": "2021-06-18T09:46:53.892294Z",
     "iopub.status.idle": "2021-06-18T09:46:53.896354Z",
     "shell.execute_reply": "2021-06-18T09:46:53.895526Z",
     "shell.execute_reply.started": "2021-06-18T09:46:53.892592Z"
    }
   },
   "outputs": [],
   "source": [
    "# (data['m_per_y'] > 20000)&(data['sample'] == 1)&(data['mileage']> 200000)"
   ]
  },
  {
   "cell_type": "code",
   "execution_count": null,
   "metadata": {
    "execution": {
     "iopub.execute_input": "2021-06-18T09:46:53.897933Z",
     "iopub.status.busy": "2021-06-18T09:46:53.897516Z",
     "iopub.status.idle": "2021-06-18T09:46:53.934508Z",
     "shell.execute_reply": "2021-06-18T09:46:53.933566Z",
     "shell.execute_reply.started": "2021-06-18T09:46:53.897902Z"
    }
   },
   "outputs": [],
   "source": [
    "# используем все текстовые признаки как категориальные без предобработки\n",
    "categorical_features = ['bodyType', 'brand', 'color', 'engineDisplacement', 'enginePower', 'fuelType', 'model_info', 'name',\n",
    "                        'numberOfDoors', 'vehicleTransmission', 'Владельцы', 'Владение', 'ПТС', 'Привод', 'Руль']\n",
    "\n",
    "# используем все числовые признаки\n",
    "numerical_features = ['mileage', 'modelDate', 'productionDate']\n",
    "\n",
    "\n",
    "def preproc_data(df_input):\n",
    "    '''includes several functions to pre-process the predictor data.'''\n",
    "\n",
    "    df_output = df_input.copy()\n",
    "\n",
    "#     Создадим бинарные признаки поработав с описаним машин\n",
    "    df_output['гараж'] = df_output.description.apply(\n",
    "        lambda x: 1 if 'гараж' in x else 0)\n",
    "    df_output['подарок'] = df_output.description.apply(\n",
    "        lambda x: 1 if 'подарок' in x else 0)\n",
    "    df_output['торг'] = df_output.description.apply(\n",
    "        lambda x: 1 if 'торг' in x else 0)\n",
    "    df_output['шины'] = df_output.description.apply(\n",
    "        lambda x: 1 if ('шин' in x) or ('резин' in x) else 0)\n",
    "    df_output['дилер'] = df_output.description.apply(\n",
    "        lambda x: 1 if 'дилер' in x else 0)\n",
    "    df_output['подогрев'] = df_output.description.apply(\n",
    "        lambda x: 1 if 'подогрев' in x else 0)\n",
    "    df_output['обмен'] = df_output.description.apply(\n",
    "        lambda x: 1 if 'обмен' in x else 0)\n",
    "    df_output['обслуж'] = df_output.description.apply(\n",
    "        lambda x: 1 if 'обслуж' in x else 0)\n",
    "    df_output['срочн'] = df_output.description.apply(\n",
    "        lambda x: 1 if 'срочн' in x else 0)\n",
    "    df_output['полн'] = df_output.description.apply(\n",
    "        lambda x: 1 if 'полн' in x else 0)\n",
    "    df_output['скидк'] = df_output.description.apply(\n",
    "        lambda x: 1 if 'скидк' in x else 0)\n",
    "    df_output['диск'] = df_output.description.apply(\n",
    "        lambda x: 1 if 'диск' in x else 0)\n",
    "\n",
    "    df_output.drop(['description', 'sell_id', ], axis=1, inplace=True)\n",
    "#     Удалим колонку Владение так как она заполнена менее чем на половину. Это улучшает метрику качества на 0.07%\n",
    "    df_output.drop(['Владение'], axis=1, inplace=True)\n",
    "    categorical_features.remove('Владение')\n",
    "#     Логарифмируем целевую переменную для придачи ей нормального распределения.\n",
    "#     Это улучшает метрику качества при использовании CatBoost на 1.4% но не значительно ухудшает на нейросетях потому там будем экспонентой от логарифмированной целевой переменной при обучении\n",
    "    df_output.price = df_output.price.apply(\n",
    "        lambda x: np.log(x) if x != 0 else 0)\n",
    "\n",
    "\n",
    "#     Переведем признак engineDisplacement из категориальных в числовые дополнительно прологарифмировав его.\n",
    "    df_output['engineDisplacement'] = df_output['engineDisplacement'].apply(\n",
    "        lambda x: '2.0 LTR' if x == 'undefined LTR' else x)\n",
    "    df_output['engineDisplacement'] = df_output['engineDisplacement'].apply(\n",
    "        lambda x: np.log(float((x.split(' ')[0]))))\n",
    "    categorical_features.remove('engineDisplacement')\n",
    "    numerical_features.append('engineDisplacement')\n",
    "\n",
    "  #     Переведем признак enginePower из категориальных в числовые дополнительно прологарифмировав его.\n",
    "    df_output['enginePower'] = np.log(\n",
    "        df_output['enginePower'].str.split().apply(lambda x: int(x[0])))\n",
    "    categorical_features.remove('enginePower')\n",
    "    numerical_features.append('enginePower')\n",
    "\n",
    "#     Сгенерируем 2 новых признака из признака name и удалим столбец name\n",
    "    df_output['4wd'] = df_output['name'].apply(\n",
    "        lambda x: 1 if '4WD' in x else 0)\n",
    "    categorical_features.append('4wd')\n",
    "\n",
    "    df_output['xdrive'] = df_output['name'].apply(\n",
    "        lambda x: 1 if 'xDrive' in x else 0)\n",
    "    categorical_features.append('xdrive')\n",
    "    df_output.drop(['name'], axis=1, inplace=True)\n",
    "    categorical_features.remove('name')\n",
    "\n",
    "#     Создадим признак - разница между созданием модели и выпуском автомобиля\n",
    "    df_output['Y_no_sale'] = data.productionDate - data.modelDate\n",
    "    numerical_features.append('Y_no_sale')\n",
    "#     Содадим признак - мили в год\n",
    "    df_output['m_per_y'] = data.mileage/(2021 - data['productionDate'])\n",
    "    numerical_features.append('m_per_y')\n",
    "#     Создадим признак который выделяет авто которые были в регулярном пользовании\n",
    "    df_output['hard_usage'] = df_output['m_per_y'].apply(\n",
    "        lambda x: 1 if x >= 20000 else 0)\n",
    "    categorical_features.append('hard_usage')\n",
    "#     Выделим авто с очень большим пробегом\n",
    "    df_output['trash'] = data.mileage.apply(lambda x: 1 if x >= 300000 else 0)\n",
    "    categorical_features.append('trash')\n",
    "\n",
    "    df_output['productionDate'] = 2021 - df_output['productionDate']\n",
    "\n",
    "\n",
    "#     df_output['retro'] = (df_output['productionDate'] >= 30)\n",
    "#     df_output['retro'] = df_output['retro'].apply(lambda x: 1 if x is True else 0)\n",
    "#     categorical_features.append('retro')\n",
    "\n",
    "\n",
    "#     df_output['cat_productionDate'] = pd.qcut(data['productionDate'], 12, labels=[x for x in range(1,13)])\n",
    "#     categorical_features.append('cat_productionDate')\n",
    "\n",
    "    df_output['modelDate'] = 2021 - df_output['modelDate']\n",
    "\n",
    "#     df_output['mileage_1'] = df_output['mileage']**0.5\n",
    "#     numerical_features.append('mileage_1')\n",
    "#     df_output['modelDate_1'] = df_output['modelDate']**0.1\n",
    "#     numerical_features.append('modelDate_1')\n",
    "#     df_output['productionDate_1'] = df_output['productionDate']**0.1\n",
    "#     numerical_features.append('productionDate_1')\n",
    "    # ################### Numerical Features ##############################################################\n",
    "    # Далее заполняем пропуски\n",
    "    for column in numerical_features:\n",
    "        df_output[column].fillna(df_output[column].median(), inplace=True)\n",
    "    # тут ваш код по обработке NAN\n",
    "    # ....\n",
    "\n",
    "    # Нормализация данных\n",
    "#     scaler = MinMaxScaler()\n",
    "#     for column in numerical_features:\n",
    "#         df_output[column] = scaler.fit_transform(df_output[[column]])[:,0]\n",
    "\n",
    "#     scaler = StandardScaler()\n",
    "#     for column in numerical_features:\n",
    "#         df_output[column] = scaler.fit_transform(df_output[[column]])[:,0]\n",
    "\n",
    "    scaler = RobustScaler()\n",
    "    for column in numerical_features:\n",
    "        df_output[column] = scaler.fit_transform(df_output[[column]])[:, 0]\n",
    "\n",
    "    # ################### Categorical Features ##############################################################\n",
    "    # Label Encoding\n",
    "    for column in categorical_features:\n",
    "        df_output[column] = df_output[column].astype('category').cat.codes\n",
    "\n",
    "    # One-Hot Encoding: в pandas есть готовая функция - get_dummies.\n",
    "    df_output = pd.get_dummies(\n",
    "        df_output, columns=categorical_features, dummy_na=False)\n",
    "    # тут ваш код не Encoding фитчей\n",
    "    # ....\n",
    "\n",
    "    df_output['white'] = data.color.apply(lambda x: 1 if 'белый' in x else 0)\n",
    "    categorical_features.append('white')\n",
    "\n",
    "    # ################### Clean ####################################################\n",
    "    # убираем признаки которые еще не успели обработать,\n",
    "    df_output.drop(['vehicleConfiguration'], axis=1, inplace=True)\n",
    "    return df_output"
   ]
  },
  {
   "cell_type": "code",
   "execution_count": null,
   "metadata": {
    "execution": {
     "iopub.execute_input": "2021-06-18T09:46:53.936297Z",
     "iopub.status.busy": "2021-06-18T09:46:53.935858Z",
     "iopub.status.idle": "2021-06-18T09:46:54.357117Z",
     "shell.execute_reply": "2021-06-18T09:46:54.356194Z",
     "shell.execute_reply.started": "2021-06-18T09:46:53.936264Z"
    }
   },
   "outputs": [],
   "source": [
    "# Запускаем и проверяем, что получилось\n",
    "df_preproc = preproc_data(data)\n",
    "df_preproc.sample(10)"
   ]
  },
  {
   "cell_type": "markdown",
   "metadata": {},
   "source": [
    "## Split data"
   ]
  },
  {
   "cell_type": "code",
   "execution_count": null,
   "metadata": {
    "execution": {
     "iopub.execute_input": "2021-06-18T09:46:54.35887Z",
     "iopub.status.busy": "2021-06-18T09:46:54.35855Z",
     "iopub.status.idle": "2021-06-18T09:46:54.43277Z",
     "shell.execute_reply": "2021-06-18T09:46:54.431561Z",
     "shell.execute_reply.started": "2021-06-18T09:46:54.358837Z"
    }
   },
   "outputs": [],
   "source": [
    "# Теперь выделим тестовую часть\n",
    "train_data = df_preproc.query('sample == 1').drop(['sample'], axis=1)\n",
    "test_data = df_preproc.query('sample == 0').drop(['sample'], axis=1)\n",
    "\n",
    "y = train_data.price.values     # наш таргет\n",
    "X = train_data.drop(['price'], axis=1)\n",
    "X_sub = test_data.drop(['price'], axis=1)"
   ]
  },
  {
   "cell_type": "code",
   "execution_count": null,
   "metadata": {
    "execution": {
     "iopub.execute_input": "2021-06-18T09:46:54.435036Z",
     "iopub.status.busy": "2021-06-18T09:46:54.434418Z",
     "iopub.status.idle": "2021-06-18T09:46:54.470808Z",
     "shell.execute_reply": "2021-06-18T09:46:54.4698Z",
     "shell.execute_reply.started": "2021-06-18T09:46:54.434988Z"
    }
   },
   "outputs": [],
   "source": [
    "test_data.info()"
   ]
  },
  {
   "cell_type": "markdown",
   "metadata": {},
   "source": [
    "# Model 2: CatBoostRegressor"
   ]
  },
  {
   "cell_type": "code",
   "execution_count": null,
   "metadata": {
    "execution": {
     "iopub.execute_input": "2021-06-18T09:46:54.472825Z",
     "iopub.status.busy": "2021-06-18T09:46:54.472251Z",
     "iopub.status.idle": "2021-06-18T09:46:54.494083Z",
     "shell.execute_reply": "2021-06-18T09:46:54.492393Z",
     "shell.execute_reply.started": "2021-06-18T09:46:54.472779Z"
    }
   },
   "outputs": [],
   "source": [
    "X_train, X_test, y_train, y_test = train_test_split(\n",
    "    X, y, test_size=0.15, shuffle=True, random_state=RANDOM_SEED)"
   ]
  },
  {
   "cell_type": "code",
   "execution_count": null,
   "metadata": {
    "_kg_hide-output": true,
    "execution": {
     "iopub.execute_input": "2021-06-18T09:46:54.496376Z",
     "iopub.status.busy": "2021-06-18T09:46:54.495932Z",
     "iopub.status.idle": "2021-06-18T09:47:21.45837Z",
     "shell.execute_reply": "2021-06-18T09:47:21.457408Z",
     "shell.execute_reply.started": "2021-06-18T09:46:54.496332Z"
    }
   },
   "outputs": [],
   "source": [
    "model = CatBoostRegressor(iterations=5000,\n",
    "                          #                           depth=5,\n",
    "                          #                           learning_rate = 0.022,\n",
    "                          random_seed=RANDOM_SEED,\n",
    "                          eval_metric='MAPE',\n",
    "                          custom_metric=['RMSE', 'MAE'],\n",
    "                          od_wait=500,\n",
    "                          # task_type='GPU',\n",
    "                          #                           max_leaves=32\n",
    "                          )\n",
    "model.fit(X_train, y_train,\n",
    "          eval_set=(X_test, y_test),\n",
    "          verbose_eval=100,\n",
    "          use_best_model=True,\n",
    "          #          plot=True\n",
    "          )"
   ]
  },
  {
   "cell_type": "code",
   "execution_count": null,
   "metadata": {
    "execution": {
     "iopub.execute_input": "2021-06-18T09:47:21.461851Z",
     "iopub.status.busy": "2021-06-18T09:47:21.461392Z",
     "iopub.status.idle": "2021-06-18T09:47:21.485627Z",
     "shell.execute_reply": "2021-06-18T09:47:21.484623Z",
     "shell.execute_reply.started": "2021-06-18T09:47:21.461814Z"
    }
   },
   "outputs": [],
   "source": [
    "test_predict_catboost = np.exp(model.predict(X_test))\n",
    "print(f\"TEST mape: {(mape(np.exp(y_test), test_predict_catboost))*100:0.2f}%\")"
   ]
  },
  {
   "cell_type": "code",
   "execution_count": null,
   "metadata": {
    "execution": {
     "iopub.execute_input": "2021-06-18T09:47:39.799095Z",
     "iopub.status.busy": "2021-06-18T09:47:39.798724Z",
     "iopub.status.idle": "2021-06-18T09:47:39.805394Z",
     "shell.execute_reply": "2021-06-18T09:47:39.804477Z",
     "shell.execute_reply.started": "2021-06-18T09:47:39.799064Z"
    }
   },
   "outputs": [],
   "source": [
    "np.round(test_predict_catboost)"
   ]
  },
  {
   "cell_type": "code",
   "execution_count": null,
   "metadata": {
    "execution": {
     "iopub.execute_input": "2021-06-18T09:49:01.077811Z",
     "iopub.status.busy": "2021-06-18T09:49:01.077445Z",
     "iopub.status.idle": "2021-06-18T09:49:01.102497Z",
     "shell.execute_reply": "2021-06-18T09:49:01.101276Z",
     "shell.execute_reply.started": "2021-06-18T09:49:01.07778Z"
    }
   },
   "outputs": [],
   "source": [
    "test_predict_catboost = np.exp(model.predict(X_test))\n",
    "print(\n",
    "    f\"TEST mape: {(mape(np.exp(y_test), np.round(test_predict_catboost)))*100:0.2f}%\")"
   ]
  },
  {
   "cell_type": "markdown",
   "metadata": {},
   "source": [
    "### Submission"
   ]
  },
  {
   "cell_type": "code",
   "execution_count": null,
   "metadata": {
    "execution": {
     "iopub.status.busy": "2021-06-18T09:47:21.872878Z",
     "iopub.status.idle": "2021-06-18T09:47:21.873372Z"
    }
   },
   "outputs": [],
   "source": [
    "sub_predict_catboost = np.exp(model.predict(X_sub))\n",
    "sample_submission['price'] = sub_predict_catboost\n",
    "sample_submission.to_csv('catboost_submission.csv', index=False)"
   ]
  },
  {
   "cell_type": "markdown",
   "metadata": {},
   "source": [
    "# Model 3: Tabular NN"
   ]
  },
  {
   "cell_type": "markdown",
   "metadata": {},
   "source": [
    "Построим обычную сеть:"
   ]
  },
  {
   "cell_type": "code",
   "execution_count": null,
   "metadata": {
    "execution": {
     "iopub.status.busy": "2021-06-18T09:47:21.874691Z",
     "iopub.status.idle": "2021-06-18T09:47:21.875167Z"
    }
   },
   "outputs": [],
   "source": [
    "X_train.head(5)"
   ]
  },
  {
   "cell_type": "markdown",
   "metadata": {},
   "source": [
    "## Simple Dense NN"
   ]
  },
  {
   "cell_type": "code",
   "execution_count": null,
   "metadata": {
    "execution": {
     "iopub.status.busy": "2021-06-18T09:47:21.876314Z",
     "iopub.status.idle": "2021-06-18T09:47:21.876812Z"
    }
   },
   "outputs": [],
   "source": [
    "model = Sequential()\n",
    "model.add(L.Dense(512, input_dim=X_train.shape[1], activation=\"relu\"))\n",
    "model.add(L.Dropout(0.5))\n",
    "model.add(L.Dense(256, activation=\"relu\"))\n",
    "model.add(L.Dropout(0.5))\n",
    "model.add(L.Dense(1, activation=\"linear\"))"
   ]
  },
  {
   "cell_type": "code",
   "execution_count": null,
   "metadata": {
    "execution": {
     "iopub.status.busy": "2021-06-18T09:47:21.878063Z",
     "iopub.status.idle": "2021-06-18T09:47:21.878553Z"
    }
   },
   "outputs": [],
   "source": [
    "# model.summary()"
   ]
  },
  {
   "cell_type": "code",
   "execution_count": null,
   "metadata": {
    "execution": {
     "iopub.status.busy": "2021-06-18T09:47:21.879591Z",
     "iopub.status.idle": "2021-06-18T09:47:21.880068Z"
    }
   },
   "outputs": [],
   "source": [
    "# Compile model\n",
    "optimizer = tf.keras.optimizers.Adam(0.01)\n",
    "model.compile(loss='MAPE', optimizer=optimizer, metrics=['MAPE'])"
   ]
  },
  {
   "cell_type": "code",
   "execution_count": null,
   "metadata": {
    "execution": {
     "iopub.status.busy": "2021-06-18T09:47:21.881156Z",
     "iopub.status.idle": "2021-06-18T09:47:21.88164Z"
    }
   },
   "outputs": [],
   "source": [
    "checkpoint = ModelCheckpoint(\n",
    "    '../working/best_model.hdf5', monitor=['val_MAPE'], verbose=0, mode='min')\n",
    "earlystop = EarlyStopping(\n",
    "    monitor='val_MAPE', patience=50, restore_best_weights=True,)\n",
    "callbacks_list = [checkpoint, earlystop]"
   ]
  },
  {
   "cell_type": "markdown",
   "metadata": {},
   "source": [
    "### Fit"
   ]
  },
  {
   "cell_type": "code",
   "execution_count": null,
   "metadata": {
    "execution": {
     "iopub.status.busy": "2021-06-18T09:47:21.882646Z",
     "iopub.status.idle": "2021-06-18T09:47:21.883137Z"
    }
   },
   "outputs": [],
   "source": [
    "history = model.fit(X_train, np.exp(y_train),\n",
    "                    batch_size=512,\n",
    "                    epochs=500,  # фактически мы обучаем пока EarlyStopping не остановит обучение\n",
    "                    validation_data=(X_test, np.exp(y_test)),\n",
    "                    callbacks=callbacks_list,\n",
    "                    verbose=0,\n",
    "                    )"
   ]
  },
  {
   "cell_type": "code",
   "execution_count": null,
   "metadata": {
    "execution": {
     "iopub.status.busy": "2021-06-18T09:47:21.884443Z",
     "iopub.status.idle": "2021-06-18T09:47:21.884927Z"
    }
   },
   "outputs": [],
   "source": [
    "plt.title('Loss')\n",
    "plt.plot(history.history['MAPE'], label='train')\n",
    "plt.plot(history.history['val_MAPE'], label='test')\n",
    "plt.show()"
   ]
  },
  {
   "cell_type": "code",
   "execution_count": null,
   "metadata": {
    "execution": {
     "iopub.status.busy": "2021-06-18T09:47:21.886028Z",
     "iopub.status.idle": "2021-06-18T09:47:21.886523Z"
    }
   },
   "outputs": [],
   "source": [
    "model.load_weights('../working/best_model.hdf5')\n",
    "model.save('../working/nn_1.hdf5')"
   ]
  },
  {
   "cell_type": "code",
   "execution_count": null,
   "metadata": {
    "execution": {
     "iopub.status.busy": "2021-06-18T09:47:21.887521Z",
     "iopub.status.idle": "2021-06-18T09:47:21.888016Z"
    }
   },
   "outputs": [],
   "source": [
    "test_predict_nn1 = model.predict(X_test)\n",
    "print(f\"TEST mape: {(mape(np.exp(y_test), test_predict_nn1[:,0]))*100:0.2f}%\")"
   ]
  },
  {
   "cell_type": "code",
   "execution_count": null,
   "metadata": {
    "execution": {
     "iopub.status.busy": "2021-06-18T09:47:21.889225Z",
     "iopub.status.idle": "2021-06-18T09:47:21.88971Z"
    }
   },
   "outputs": [],
   "source": [
    "sub_predict_nn1 = model.predict(X_sub)\n",
    "sample_submission['price'] = sub_predict_nn1[:, 0]\n",
    "sample_submission.to_csv('nn1_submission.csv', index=False)"
   ]
  },
  {
   "cell_type": "code",
   "execution_count": null,
   "metadata": {
    "execution": {
     "iopub.status.busy": "2021-06-18T09:47:21.890857Z",
     "iopub.status.idle": "2021-06-18T09:47:21.891369Z"
    }
   },
   "outputs": [],
   "source": [
    "# Блендинг из решений от двух алгоритмов\n",
    "new_pred = (test_predict_catboost + test_predict_nn1[:, 0])/2\n",
    "print(f\"TEST mape: {(mape(np.exp(y_test), new_pred))*100:0.2f}%\")"
   ]
  },
  {
   "cell_type": "code",
   "execution_count": null,
   "metadata": {
    "execution": {
     "iopub.status.busy": "2021-06-18T09:47:21.892455Z",
     "iopub.status.idle": "2021-06-18T09:47:21.892937Z"
    }
   },
   "outputs": [],
   "source": [
    "sample_submission['price'] = (sub_predict_nn1[:, 0] + sub_predict_catboost)/2\n",
    "sample_submission.to_csv('nn1_cat_submission.csv', index=False)"
   ]
  },
  {
   "cell_type": "markdown",
   "metadata": {},
   "source": [
    "# Model 4: NLP + Multiple Inputs"
   ]
  },
  {
   "cell_type": "code",
   "execution_count": null,
   "metadata": {
    "execution": {
     "iopub.status.busy": "2021-06-18T09:47:21.895571Z",
     "iopub.status.idle": "2021-06-18T09:47:21.896056Z"
    }
   },
   "outputs": [],
   "source": [
    "data.description"
   ]
  },
  {
   "cell_type": "code",
   "execution_count": null,
   "metadata": {
    "execution": {
     "iopub.status.busy": "2021-06-18T09:47:21.897351Z",
     "iopub.status.idle": "2021-06-18T09:47:21.897826Z"
    }
   },
   "outputs": [],
   "source": [
    "!pip install pymorphy2"
   ]
  },
  {
   "cell_type": "code",
   "execution_count": null,
   "metadata": {
    "execution": {
     "iopub.status.busy": "2021-06-18T09:47:21.898831Z",
     "iopub.status.idle": "2021-06-18T09:47:21.899316Z"
    }
   },
   "outputs": [],
   "source": [
    "# Удалим из описания части речи коорые не несут сильной смысловой нагрузки\n",
    "import pymorphy2  # $ pip install pymorphy2\n",
    "\n",
    "\n",
    "def pos(word, morth=pymorphy2.MorphAnalyzer()):\n",
    "    \"Return a likely part of speech for the *word*.\"\"\"\n",
    "    return morth.parse(word)[0].tag.POS\n",
    "\n",
    "\n",
    "functors_pos = {'INTJ', 'CONJ', 'PREP'}  # function words"
   ]
  },
  {
   "cell_type": "code",
   "execution_count": null,
   "metadata": {
    "execution": {
     "iopub.status.busy": "2021-06-18T09:47:21.900332Z",
     "iopub.status.idle": "2021-06-18T09:47:21.900809Z"
    }
   },
   "outputs": [],
   "source": [
    "data.description = data.description.apply(lambda x: \" \".join(\n",
    "    [word for word in x.split() if pos(word) not in functors_pos]))"
   ]
  },
  {
   "cell_type": "code",
   "execution_count": null,
   "metadata": {
    "execution": {
     "iopub.status.busy": "2021-06-18T09:47:21.901775Z",
     "iopub.status.idle": "2021-06-18T09:47:21.902258Z"
    }
   },
   "outputs": [],
   "source": [
    "# Лемматизация\n",
    "morph = pymorphy2.MorphAnalyzer()\n",
    "df_NLP = data.copy()\n",
    "\n",
    "patterns = \"[A-Za-z0-9!#$%&'()*+,./:;<=>?@[\\]^_`{|}~—\\\"\\-]+●•✅☑️☛\"\n",
    "\n",
    "\n",
    "def lemmatize(doc):\n",
    "    doc = re.sub(patterns, ' ', doc)\n",
    "    tokens = []\n",
    "    for token in doc.split():\n",
    "        token = token.strip()\n",
    "        token = morph.normal_forms(token)[0]\n",
    "        tokens.append(token)\n",
    "    return ' '.join(tokens)"
   ]
  },
  {
   "cell_type": "code",
   "execution_count": null,
   "metadata": {
    "execution": {
     "iopub.status.busy": "2021-06-18T09:47:21.903269Z",
     "iopub.status.idle": "2021-06-18T09:47:21.903736Z"
    }
   },
   "outputs": [],
   "source": [
    "data['description'] = df_NLP.apply(\n",
    "    lambda df_NLP: lemmatize(df_NLP.description), axis=1)"
   ]
  },
  {
   "cell_type": "code",
   "execution_count": null,
   "metadata": {
    "execution": {
     "iopub.status.busy": "2021-06-18T09:47:21.904805Z",
     "iopub.status.idle": "2021-06-18T09:47:21.905279Z"
    }
   },
   "outputs": [],
   "source": [
    "# TOKENIZER\n",
    "# The maximum number of words to be used. (most frequent)\n",
    "MAX_WORDS = 100000\n",
    "# Max number of words in each complaint.\n",
    "MAX_SEQUENCE_LENGTH = 256"
   ]
  },
  {
   "cell_type": "code",
   "execution_count": null,
   "metadata": {
    "execution": {
     "iopub.status.busy": "2021-06-18T09:47:21.906286Z",
     "iopub.status.idle": "2021-06-18T09:47:21.906758Z"
    }
   },
   "outputs": [],
   "source": [
    "# split данных\n",
    "text_train = data.description.iloc[X_train.index]\n",
    "text_test = data.description.iloc[X_test.index]\n",
    "text_sub = data.description.iloc[X_sub.index]"
   ]
  },
  {
   "cell_type": "markdown",
   "metadata": {},
   "source": [
    "### Tokenizer"
   ]
  },
  {
   "cell_type": "code",
   "execution_count": null,
   "metadata": {
    "execution": {
     "iopub.status.busy": "2021-06-18T09:47:21.907818Z",
     "iopub.status.idle": "2021-06-18T09:47:21.908295Z"
    }
   },
   "outputs": [],
   "source": [
    "% % time\n",
    "tokenize = Tokenizer(num_words=MAX_WORDS,\n",
    "                     filters='!\"#$%&()*+,-./:;<=>?@[\\\\]^_`{|}~\\t\\n•–∙—″☑️✔➥●·✅☛———————————————————————————')\n",
    "tokenize.fit_on_texts(data.description)"
   ]
  },
  {
   "cell_type": "code",
   "execution_count": null,
   "metadata": {
    "_kg_hide-output": true,
    "execution": {
     "iopub.status.busy": "2021-06-18T09:47:21.909327Z",
     "iopub.status.idle": "2021-06-18T09:47:21.9098Z"
    }
   },
   "outputs": [],
   "source": [
    "tokenize.word_index"
   ]
  },
  {
   "cell_type": "code",
   "execution_count": null,
   "metadata": {
    "execution": {
     "iopub.status.busy": "2021-06-18T09:47:21.910723Z",
     "iopub.status.idle": "2021-06-18T09:47:21.911196Z"
    }
   },
   "outputs": [],
   "source": [
    "% % time\n",
    "text_train_sequences = sequence.pad_sequences(\n",
    "    tokenize.texts_to_sequences(text_train), maxlen=MAX_SEQUENCE_LENGTH)\n",
    "text_test_sequences = sequence.pad_sequences(\n",
    "    tokenize.texts_to_sequences(text_test), maxlen=MAX_SEQUENCE_LENGTH)\n",
    "text_sub_sequences = sequence.pad_sequences(\n",
    "    tokenize.texts_to_sequences(text_sub), maxlen=MAX_SEQUENCE_LENGTH)\n",
    "\n",
    "print(text_train_sequences.shape,\n",
    "      text_test_sequences.shape, text_sub_sequences.shape, )"
   ]
  },
  {
   "cell_type": "code",
   "execution_count": null,
   "metadata": {
    "execution": {
     "iopub.status.busy": "2021-06-18T09:47:21.91232Z",
     "iopub.status.idle": "2021-06-18T09:47:21.912791Z"
    }
   },
   "outputs": [],
   "source": [
    "# # вот так теперь выглядит наш текст\n",
    "print(text_train.iloc[6])\n",
    "print(text_train_sequences[6])"
   ]
  },
  {
   "cell_type": "markdown",
   "metadata": {},
   "source": [
    "### RNN NLP"
   ]
  },
  {
   "cell_type": "code",
   "execution_count": null,
   "metadata": {
    "execution": {
     "iopub.status.busy": "2021-06-18T09:47:21.913739Z",
     "iopub.status.idle": "2021-06-18T09:47:21.914218Z"
    }
   },
   "outputs": [],
   "source": [
    "model_nlp = Sequential()\n",
    "model_nlp.add(L.Input(shape=MAX_SEQUENCE_LENGTH, name=\"seq_description\"))\n",
    "model_nlp.add(L.Embedding(len(tokenize.word_index)+1, MAX_SEQUENCE_LENGTH,))\n",
    "model_nlp.add(L.LSTM(256, return_sequences=True))\n",
    "model_nlp.add(L.Dropout(0.5))\n",
    "model_nlp.add(L.LSTM(128,))\n",
    "model_nlp.add(L.Dropout(0.25))\n",
    "model_nlp.add(L.Dense(64, activation=\"relu\"))\n",
    "model_nlp.add(L.Dropout(0.25))"
   ]
  },
  {
   "cell_type": "markdown",
   "metadata": {},
   "source": [
    "### MLP"
   ]
  },
  {
   "cell_type": "code",
   "execution_count": null,
   "metadata": {
    "execution": {
     "iopub.status.busy": "2021-06-18T09:47:21.91523Z",
     "iopub.status.idle": "2021-06-18T09:47:21.915699Z"
    }
   },
   "outputs": [],
   "source": [
    "model_mlp = Sequential()\n",
    "model_mlp.add(L.Dense(512, input_dim=X_train.shape[1], activation=\"relu\"))\n",
    "model_mlp.add(L.Dropout(0.5))\n",
    "model_mlp.add(L.Dense(256, activation=\"relu\"))\n",
    "model_mlp.add(L.Dropout(0.5))"
   ]
  },
  {
   "cell_type": "markdown",
   "metadata": {},
   "source": [
    "### Multiple Inputs NN"
   ]
  },
  {
   "cell_type": "code",
   "execution_count": null,
   "metadata": {
    "execution": {
     "iopub.status.busy": "2021-06-18T09:47:21.916708Z",
     "iopub.status.idle": "2021-06-18T09:47:21.917174Z"
    }
   },
   "outputs": [],
   "source": [
    "combinedInput = L.concatenate([model_nlp.output, model_mlp.output])\n",
    "# being our regression head\n",
    "head = L.Dense(64, activation=\"relu\")(combinedInput)\n",
    "head = L.Dense(1, activation=\"linear\")(head)\n",
    "\n",
    "model = Model(inputs=[model_nlp.input, model_mlp.input], outputs=head)"
   ]
  },
  {
   "cell_type": "code",
   "execution_count": null,
   "metadata": {
    "_kg_hide-output": true,
    "execution": {
     "iopub.status.busy": "2021-06-18T09:47:21.918079Z",
     "iopub.status.idle": "2021-06-18T09:47:21.918564Z"
    }
   },
   "outputs": [],
   "source": [
    "# model.summary()"
   ]
  },
  {
   "cell_type": "markdown",
   "metadata": {},
   "source": [
    "### Fit"
   ]
  },
  {
   "cell_type": "code",
   "execution_count": null,
   "metadata": {
    "execution": {
     "iopub.status.busy": "2021-06-18T09:47:21.919561Z",
     "iopub.status.idle": "2021-06-18T09:47:21.920029Z"
    }
   },
   "outputs": [],
   "source": [
    "optimizer = tf.keras.optimizers.Adam(0.01)\n",
    "model.compile(loss='MAPE', optimizer=optimizer, metrics=['MAPE'])"
   ]
  },
  {
   "cell_type": "code",
   "execution_count": null,
   "metadata": {
    "execution": {
     "iopub.status.busy": "2021-06-18T09:47:21.921019Z",
     "iopub.status.idle": "2021-06-18T09:47:21.921501Z"
    }
   },
   "outputs": [],
   "source": [
    "checkpoint = ModelCheckpoint(\n",
    "    '../working/best_model.hdf5', monitor=['val_MAPE'], verbose=0, mode='min')\n",
    "earlystop = EarlyStopping(\n",
    "    monitor='val_MAPE', patience=10, restore_best_weights=True,)\n",
    "callbacks_list = [checkpoint, earlystop]"
   ]
  },
  {
   "cell_type": "code",
   "execution_count": null,
   "metadata": {
    "_kg_hide-output": true,
    "execution": {
     "iopub.status.busy": "2021-06-18T09:47:21.922542Z",
     "iopub.status.idle": "2021-06-18T09:47:21.923024Z"
    }
   },
   "outputs": [],
   "source": [
    "history = model.fit([text_train_sequences, X_train], np.exp(y_train),\n",
    "                    batch_size=512,\n",
    "                    epochs=500,  # фактически мы обучаем пока EarlyStopping не остановит обучение\n",
    "                    validation_data=(\n",
    "                        [text_test_sequences, X_test], np.exp(y_test)),\n",
    "                    callbacks=callbacks_list\n",
    "                    )"
   ]
  },
  {
   "cell_type": "code",
   "execution_count": null,
   "metadata": {
    "execution": {
     "iopub.status.busy": "2021-06-18T09:47:21.924043Z",
     "iopub.status.idle": "2021-06-18T09:47:21.924535Z"
    }
   },
   "outputs": [],
   "source": [
    "plt.title('Loss')\n",
    "plt.plot(history.history['MAPE'], label='train')\n",
    "plt.plot(history.history['val_MAPE'], label='test')\n",
    "plt.show()"
   ]
  },
  {
   "cell_type": "code",
   "execution_count": null,
   "metadata": {
    "execution": {
     "iopub.status.busy": "2021-06-18T09:47:21.925537Z",
     "iopub.status.idle": "2021-06-18T09:47:21.926056Z"
    }
   },
   "outputs": [],
   "source": [
    "model.load_weights('../working/best_model.hdf5')\n",
    "model.save('../working/nn_mlp_nlp.hdf5')"
   ]
  },
  {
   "cell_type": "code",
   "execution_count": null,
   "metadata": {
    "execution": {
     "iopub.status.busy": "2021-06-18T09:47:21.927468Z",
     "iopub.status.idle": "2021-06-18T09:47:21.927995Z"
    }
   },
   "outputs": [],
   "source": [
    "model.predict([text_test_sequences, X_test])"
   ]
  },
  {
   "cell_type": "code",
   "execution_count": null,
   "metadata": {
    "execution": {
     "iopub.status.busy": "2021-06-18T09:47:21.929042Z",
     "iopub.status.idle": "2021-06-18T09:47:21.929542Z"
    }
   },
   "outputs": [],
   "source": [
    "test_predict_nn2 = model.predict([text_test_sequences, X_test])\n",
    "print(f\"TEST mape: {(mape(np.exp(y_test), test_predict_nn2[:,0]))*100:0.2f}%\")"
   ]
  },
  {
   "cell_type": "code",
   "execution_count": null,
   "metadata": {
    "execution": {
     "iopub.status.busy": "2021-06-18T09:47:21.930558Z",
     "iopub.status.idle": "2021-06-18T09:47:21.93104Z"
    }
   },
   "outputs": [],
   "source": [
    "# Блендинг из решений от трех алгоритмов. Этот вариант показывает лучший результат\n",
    "new_pred_1 = (test_predict_catboost +\n",
    "              test_predict_nn2[:, 0] + test_predict_nn1[:, 0])/3\n",
    "print(f\"TEST mape: {(mape(np.exp(y_test), new_pred_1))*100:0.2f}%\")"
   ]
  },
  {
   "cell_type": "code",
   "execution_count": null,
   "metadata": {
    "execution": {
     "iopub.status.busy": "2021-06-18T09:47:21.932043Z",
     "iopub.status.idle": "2021-06-18T09:47:21.932533Z"
    }
   },
   "outputs": [],
   "source": [
    "sub_predict_nn2 = model.predict([text_sub_sequences, X_sub])\n",
    "sample_submission['price'] = (\n",
    "    sub_predict_nn2[:, 0] + sub_predict_catboost + sub_predict_nn1[:, 0])/3\n",
    "sample_submission.to_csv('nn2_1_cat_submission.csv', index=False)"
   ]
  },
  {
   "cell_type": "markdown",
   "metadata": {},
   "source": [
    "# Model 5: Добавляем картинки"
   ]
  },
  {
   "cell_type": "markdown",
   "metadata": {},
   "source": [
    "### Data"
   ]
  },
  {
   "cell_type": "code",
   "execution_count": null,
   "metadata": {
    "execution": {
     "iopub.status.busy": "2021-06-18T09:47:21.933637Z",
     "iopub.status.idle": "2021-06-18T09:47:21.934414Z"
    }
   },
   "outputs": [],
   "source": [
    "# убедимся, что цены и фото подгрузились верно\n",
    "plt.figure(figsize=(12, 8))\n",
    "\n",
    "random_image = train.sample(n=9)\n",
    "random_image_paths = random_image['sell_id'].values\n",
    "random_image_cat = random_image['price'].values\n",
    "\n",
    "for index, path in enumerate(random_image_paths):\n",
    "    im = PIL.Image.open(DATA_DIR+'img/img/' + str(path) + '.jpg')\n",
    "    plt.subplot(3, 3, index + 1)\n",
    "    plt.imshow(im)\n",
    "    plt.title('price: ' + str(random_image_cat[index]))\n",
    "    plt.axis('off')\n",
    "plt.show()"
   ]
  },
  {
   "cell_type": "code",
   "execution_count": null,
   "metadata": {
    "execution": {
     "iopub.status.busy": "2021-06-18T09:47:21.935522Z",
     "iopub.status.idle": "2021-06-18T09:47:21.936006Z"
    }
   },
   "outputs": [],
   "source": [
    "size = (320, 240)\n",
    "\n",
    "\n",
    "def get_image_array(index):\n",
    "    images_train = []\n",
    "    for index, sell_id in enumerate(data['sell_id'].iloc[index].values):\n",
    "        image = cv2.imread(DATA_DIR + 'img/img/' + str(sell_id) + '.jpg')\n",
    "        assert(image is not None)\n",
    "        image = cv2.resize(image, size)\n",
    "        images_train.append(image)\n",
    "    images_train = np.array(images_train)\n",
    "    print('images shape', images_train.shape, 'dtype', images_train.dtype)\n",
    "    return(images_train)\n",
    "\n",
    "\n",
    "images_train = get_image_array(X_train.index)\n",
    "images_test = get_image_array(X_test.index)\n",
    "images_sub = get_image_array(X_sub.index)"
   ]
  },
  {
   "cell_type": "markdown",
   "metadata": {},
   "source": [
    "### albumentations"
   ]
  },
  {
   "cell_type": "code",
   "execution_count": null,
   "metadata": {
    "execution": {
     "iopub.status.busy": "2021-06-18T09:47:21.937219Z",
     "iopub.status.idle": "2021-06-18T09:47:21.937711Z"
    }
   },
   "outputs": [],
   "source": [
    "from albumentations import (\n",
    "    HorizontalFlip, IAAPerspective, ShiftScaleRotate, CLAHE, RandomRotate90,\n",
    "    Transpose, ShiftScaleRotate, Blur, OpticalDistortion, GridDistortion, HueSaturationValue,\n",
    "    IAAAdditiveGaussianNoise, GaussNoise, MotionBlur, MedianBlur, IAAPiecewiseAffine,\n",
    "    IAASharpen, IAAEmboss, RandomBrightnessContrast, Flip, OneOf, Compose\n",
    ")\n",
    "\n",
    "\n",
    "# пример взят из официальной документации: https://albumentations.readthedocs.io/en/latest/examples.html\n",
    "augmentation = Compose([\n",
    "    HorizontalFlip(),\n",
    "    OneOf([\n",
    "        IAAAdditiveGaussianNoise(),\n",
    "        GaussNoise(),\n",
    "    ], p=0.2),\n",
    "    OneOf([\n",
    "        MotionBlur(p=0.2),\n",
    "        MedianBlur(blur_limit=3, p=0.1),\n",
    "        Blur(blur_limit=3, p=0.1),\n",
    "    ], p=0.2),\n",
    "    ShiftScaleRotate(shift_limit=0.0625, scale_limit=0.2,\n",
    "                     rotate_limit=15, p=1),\n",
    "    OneOf([\n",
    "        OpticalDistortion(p=0.3),\n",
    "        GridDistortion(p=0.1),\n",
    "        IAAPiecewiseAffine(p=0.3),\n",
    "    ], p=0.2),\n",
    "    OneOf([\n",
    "        CLAHE(clip_limit=2),\n",
    "        IAASharpen(),\n",
    "        IAAEmboss(),\n",
    "        RandomBrightnessContrast(),\n",
    "    ], p=0.3),\n",
    "    HueSaturationValue(p=0.3),\n",
    "], p=1)\n",
    "\n",
    "# пример\n",
    "plt.figure(figsize=(12, 8))\n",
    "for i in range(9):\n",
    "    img = augmentation(image=images_train[0])['image']\n",
    "    plt.subplot(3, 3, i + 1)\n",
    "    plt.imshow(img)\n",
    "    plt.axis('off')\n",
    "plt.show()"
   ]
  },
  {
   "cell_type": "code",
   "execution_count": null,
   "metadata": {
    "execution": {
     "iopub.status.busy": "2021-06-18T09:47:21.938749Z",
     "iopub.status.idle": "2021-06-18T09:47:21.939238Z"
    }
   },
   "outputs": [],
   "source": [
    "def make_augmentations(images):\n",
    "    print('применение аугментаций', end='')\n",
    "    augmented_images = np.empty(images.shape)\n",
    "    for i in range(images.shape[0]):\n",
    "        if i % 200 == 0:\n",
    "            print('.', end='')\n",
    "        augment_dict = augmentation(image=images[i])\n",
    "        augmented_image = augment_dict['image']\n",
    "        augmented_images[i] = augmented_image\n",
    "    print('')\n",
    "    return augmented_images"
   ]
  },
  {
   "cell_type": "markdown",
   "metadata": {},
   "source": [
    "## tf.data.Dataset\n",
    "Если все изображения мы будем хранить в памяти, то может возникнуть проблема ее нехватки. Не храните все изображения в памяти целиком!\n",
    "\n",
    "Метод .fit() модели keras может принимать либо данные в виде массивов или тензоров, либо разного рода итераторы, из которых наиболее современным и гибким является [tf.data.Dataset](https://www.tensorflow.org/guide/data). Он представляет собой конвейер, то есть мы указываем, откуда берем данные и какую цепочку преобразований с ними выполняем. Далее мы будем работать с tf.data.Dataset.\n",
    "\n",
    "Dataset хранит информацию о конечном или бесконечном наборе кортежей (tuple) с данными и может возвращать эти наборы по очереди. Например, данными могут быть пары (input, target) для обучения нейросети. С данными можно осуществлять преобразования, которые осуществляются по мере необходимости ([lazy evaluation](https://ru.wikipedia.org/wiki/%D0%9B%D0%B5%D0%BD%D0%B8%D0%B2%D1%8B%D0%B5_%D0%B2%D1%8B%D1%87%D0%B8%D1%81%D0%BB%D0%B5%D0%BD%D0%B8%D1%8F)).\n",
    "\n",
    "`tf.data.Dataset.from_tensor_slices(data)` - создает датасет из данных, которые представляют собой либо массив, либо кортеж из массивов. Деление осуществляется по первому индексу каждого массива. Например, если `data = (np.zeros((128, 256, 256)), np.zeros(128))`, то датасет будет содержать 128 элементов, каждый из которых содержит один массив 256x256 и одно число.\n",
    "\n",
    "`dataset2 = dataset1.map(func)` - применение функции к датасету; функция должна принимать столько аргументов, каков размер кортежа в датасете 1 и возвращать столько, сколько нужно иметь в датасете 2. Пусть, например, датасет содержит изображения и метки, а нам нужно создать датасет только из изображений, тогда мы напишем так: `dataset2 = dataset.map(lambda img, label: img)`.\n",
    "\n",
    "`dataset2 = dataset1.batch(8)` - группировка по батчам; если датасет 2 должен вернуть один элемент, то он берет из датасета 1 восемь элементов, склеивает их (нулевой индекс результата - номер элемента) и возвращает.\n",
    "\n",
    "`dataset.__iter__()` - превращение датасета в итератор, из которого можно получать элементы методом `.__next__()`. Итератор, в отличие от самого датасета, хранит позицию текущего элемента. Можно также перебирать датасет циклом for.\n",
    "\n",
    "`dataset2 = dataset1.repeat(X)` - датасет 2 будет повторять датасет 1 X раз.\n",
    "\n",
    "Если нам нужно взять из датасета 1000 элементов и использовать их как тестовые, а остальные как обучающие, то мы напишем так:\n",
    "\n",
    "`test_dataset = dataset.take(1000)\n",
    "train_dataset = dataset.skip(1000)`\n",
    "\n",
    "Датасет по сути неизменен: такие операции, как map, batch, repeat, take, skip никак не затрагивают оригинальный датасет. Если датасет хранит элементы [1, 2, 3], то выполнив 3 раза подряд функцию dataset.take(1) мы получим 3 новых датасета, каждый из которых вернет число 1. Если же мы выполним функцию dataset.skip(1), мы получим датасет, возвращающий числа [2, 3], но исходный датасет все равно будет возвращать [1, 2, 3] каждый раз, когда мы его перебираем.\n",
    "\n",
    "tf.Dataset всегда выполняется в graph-режиме (в противоположность eager-режиму), поэтому либо преобразования (`.map()`) должны содержать только tensorflow-функции, либо мы должны использовать tf.py_function в качестве обертки для функций, вызываемых в `.map()`. Подробнее можно прочитать [здесь](https://www.tensorflow.org/guide/data#applying_arbitrary_python_logic)."
   ]
  },
  {
   "cell_type": "code",
   "execution_count": null,
   "metadata": {
    "execution": {
     "iopub.status.busy": "2021-06-18T09:47:21.940461Z",
     "iopub.status.idle": "2021-06-18T09:47:21.940949Z"
    }
   },
   "outputs": [],
   "source": [
    "# NLP part\n",
    "tokenize = Tokenizer(num_words=MAX_WORDS)\n",
    "tokenize.fit_on_texts(data.description)"
   ]
  },
  {
   "cell_type": "code",
   "execution_count": null,
   "metadata": {
    "execution": {
     "iopub.status.busy": "2021-06-18T09:47:21.942047Z",
     "iopub.status.idle": "2021-06-18T09:47:21.942547Z"
    }
   },
   "outputs": [],
   "source": [
    "def process_image(image):\n",
    "    return augmentation(image=image.numpy())['image']\n",
    "\n",
    "\n",
    "def tokenize_(descriptions):\n",
    "    return sequence.pad_sequences(tokenize.texts_to_sequences(descriptions), maxlen=MAX_SEQUENCE_LENGTH)\n",
    "\n",
    "\n",
    "def tokenize_text(text):\n",
    "    return tokenize_([text.numpy().decode('utf-8')])[0]\n",
    "\n",
    "\n",
    "def tf_process_train_dataset_element(image, table_data, text, price):\n",
    "    im_shape = image.shape\n",
    "    [image, ] = tf.py_function(process_image, [image], [tf.uint8])\n",
    "    image.set_shape(im_shape)\n",
    "    [text, ] = tf.py_function(tokenize_text, [text], [tf.int32])\n",
    "    return (image, table_data, text), price\n",
    "\n",
    "\n",
    "def tf_process_val_dataset_element(image, table_data, text, price):\n",
    "    [text, ] = tf.py_function(tokenize_text, [text], [tf.int32])\n",
    "    return (image, table_data, text), price\n",
    "\n",
    "\n",
    "train_dataset = tf.data.Dataset.from_tensor_slices((\n",
    "    images_train, X_train, data.description.iloc[X_train.index], np.exp(\n",
    "        y_train)\n",
    ")).map(tf_process_train_dataset_element)\n",
    "\n",
    "test_dataset = tf.data.Dataset.from_tensor_slices((\n",
    "    images_test, X_test, data.description.iloc[X_test.index], np.exp(y_test)\n",
    ")).map(tf_process_val_dataset_element)\n",
    "\n",
    "y_sub = np.zeros(len(X_sub))\n",
    "sub_dataset = tf.data.Dataset.from_tensor_slices((\n",
    "    images_sub, X_sub, data.description.iloc[X_sub.index], y_sub\n",
    ")).map(tf_process_val_dataset_element)\n",
    "\n",
    "# проверяем, что нет ошибок (не будет выброшено исключение):\n",
    "train_dataset.__iter__().__next__()\n",
    "test_dataset.__iter__().__next__()\n",
    "sub_dataset.__iter__().__next__()"
   ]
  },
  {
   "cell_type": "markdown",
   "metadata": {},
   "source": [
    "### Строим сверточную сеть для анализа изображений без \"головы\""
   ]
  },
  {
   "cell_type": "code",
   "execution_count": null,
   "metadata": {
    "execution": {
     "iopub.status.busy": "2021-06-18T09:47:21.943587Z",
     "iopub.status.idle": "2021-06-18T09:47:21.944071Z"
    }
   },
   "outputs": [],
   "source": [
    "# нормализация включена в состав модели EfficientNetB3, поэтому на вход она принимает данные типа uint8\n",
    "efficientnet_model = tf.keras.applications.efficientnet.EfficientNetB3(\n",
    "    weights='imagenet', include_top=False, input_shape=(size[1], size[0], 3))\n",
    "efficientnet_output = L.GlobalAveragePooling2D()(efficientnet_model.output)"
   ]
  },
  {
   "cell_type": "code",
   "execution_count": null,
   "metadata": {
    "execution": {
     "iopub.status.busy": "2021-06-18T09:47:21.945099Z",
     "iopub.status.idle": "2021-06-18T09:47:21.945592Z"
    }
   },
   "outputs": [],
   "source": [
    "# строим нейросеть для анализа табличных данных\n",
    "tabular_model = Sequential([\n",
    "    L.Input(shape=X.shape[1]),\n",
    "    L.Dense(512, activation='relu'),\n",
    "    L.Dropout(0.5),\n",
    "    L.Dense(256, activation='relu'),\n",
    "    L.Dropout(0.5),\n",
    "])"
   ]
  },
  {
   "cell_type": "code",
   "execution_count": null,
   "metadata": {
    "execution": {
     "iopub.status.busy": "2021-06-18T09:47:21.94671Z",
     "iopub.status.idle": "2021-06-18T09:47:21.947199Z"
    }
   },
   "outputs": [],
   "source": [
    "# NLP\n",
    "nlp_model = Sequential([\n",
    "    L.Input(shape=MAX_SEQUENCE_LENGTH, name=\"seq_description\"),\n",
    "    L.Embedding(len(tokenize.word_index)+1, MAX_SEQUENCE_LENGTH,),\n",
    "    L.LSTM(256, return_sequences=True),\n",
    "    L.Dropout(0.5),\n",
    "    L.LSTM(128),\n",
    "    L.Dropout(0.25),\n",
    "    L.Dense(64),\n",
    "])"
   ]
  },
  {
   "cell_type": "code",
   "execution_count": null,
   "metadata": {
    "_kg_hide-output": true,
    "execution": {
     "iopub.status.busy": "2021-06-18T09:47:21.948122Z",
     "iopub.status.idle": "2021-06-18T09:47:21.948615Z"
    }
   },
   "outputs": [],
   "source": [
    "# объединяем выходы трех нейросетей\n",
    "combinedInput = L.concatenate(\n",
    "    [efficientnet_output, tabular_model.output, nlp_model.output])\n",
    "\n",
    "# being our regression head\n",
    "head = L.Dense(256, activation=\"relu\")(combinedInput)\n",
    "head = L.Dense(1,)(head)\n",
    "\n",
    "model = Model(inputs=[efficientnet_model.input,\n",
    "                      tabular_model.input, nlp_model.input], outputs=head)\n",
    "model.summary()"
   ]
  },
  {
   "cell_type": "code",
   "execution_count": null,
   "metadata": {
    "execution": {
     "iopub.status.busy": "2021-06-18T09:47:21.949626Z",
     "iopub.status.idle": "2021-06-18T09:47:21.9501Z"
    }
   },
   "outputs": [],
   "source": [
    "optimizer = tf.keras.optimizers.Adam(0.005)\n",
    "model.compile(loss='MAPE', optimizer=optimizer, metrics=['MAPE'])"
   ]
  },
  {
   "cell_type": "code",
   "execution_count": null,
   "metadata": {
    "execution": {
     "iopub.status.busy": "2021-06-18T09:47:21.95109Z",
     "iopub.status.idle": "2021-06-18T09:47:21.951567Z"
    }
   },
   "outputs": [],
   "source": [
    "checkpoint = ModelCheckpoint(\n",
    "    '../working/best_model.hdf5', monitor=['val_MAPE'], verbose=0, mode='min')\n",
    "earlystop = EarlyStopping(\n",
    "    monitor='val_MAPE', patience=10, restore_best_weights=True,)\n",
    "callbacks_list = [checkpoint, earlystop]"
   ]
  },
  {
   "cell_type": "code",
   "execution_count": null,
   "metadata": {
    "_kg_hide-output": true,
    "execution": {
     "iopub.status.busy": "2021-06-18T09:47:21.952577Z",
     "iopub.status.idle": "2021-06-18T09:47:21.953055Z"
    }
   },
   "outputs": [],
   "source": [
    "history = model.fit(train_dataset.batch(30),\n",
    "                    epochs=100,\n",
    "                    validation_data=test_dataset.batch(30),\n",
    "                    callbacks=callbacks_list\n",
    "                    )"
   ]
  },
  {
   "cell_type": "code",
   "execution_count": null,
   "metadata": {
    "execution": {
     "iopub.status.busy": "2021-06-18T09:47:21.954109Z",
     "iopub.status.idle": "2021-06-18T09:47:21.95462Z"
    }
   },
   "outputs": [],
   "source": [
    "plt.title('Loss')\n",
    "plt.plot(history.history['MAPE'], label='train')\n",
    "plt.plot(history.history['val_MAPE'], label='test')\n",
    "plt.show()"
   ]
  },
  {
   "cell_type": "code",
   "execution_count": null,
   "metadata": {
    "execution": {
     "iopub.status.busy": "2021-06-18T09:47:21.955752Z",
     "iopub.status.idle": "2021-06-18T09:47:21.956269Z"
    }
   },
   "outputs": [],
   "source": [
    "model.load_weights('../working/best_model.hdf5')\n",
    "model.save('../working/nn_final.hdf5')"
   ]
  },
  {
   "cell_type": "code",
   "execution_count": null,
   "metadata": {
    "execution": {
     "iopub.status.busy": "2021-06-18T09:47:21.957239Z",
     "iopub.status.idle": "2021-06-18T09:47:21.957723Z"
    }
   },
   "outputs": [],
   "source": [
    "test_predict_nn3 = model.predict(test_dataset.batch(30))\n",
    "print(f\"TEST mape: {(mape(np.exp(y_test), test_predict_nn3[:,0]))*100:0.2f}%\")"
   ]
  },
  {
   "cell_type": "code",
   "execution_count": null,
   "metadata": {
    "execution": {
     "iopub.status.busy": "2021-06-18T09:47:21.958817Z",
     "iopub.status.idle": "2021-06-18T09:47:21.959307Z"
    }
   },
   "outputs": [],
   "source": [
    "new_pred_end = (test_predict_catboost +\n",
    "                test_predict_nn2[:, 0] + test_predict_nn1[:, 0]+test_predict_nn3[:, 0])/4\n",
    "print(f\"TEST mape: {(mape(np.exp(y_test), new_pred_end))*100:0.2f}%\")"
   ]
  },
  {
   "cell_type": "code",
   "execution_count": null,
   "metadata": {
    "execution": {
     "iopub.status.busy": "2021-06-18T09:47:21.960526Z",
     "iopub.status.idle": "2021-06-18T09:47:21.961085Z"
    }
   },
   "outputs": [],
   "source": [
    "sub_predict_nn3 = model.predict(sub_dataset.batch(30))\n",
    "sample_submission['price'] = sub_predict_nn3[:, 0]\n",
    "sample_submission.to_csv('nn3_submission.csv', index=False)"
   ]
  },
  {
   "cell_type": "code",
   "execution_count": null,
   "metadata": {
    "execution": {
     "iopub.status.busy": "2021-06-18T09:47:21.962124Z",
     "iopub.status.idle": "2021-06-18T09:47:21.962629Z"
    }
   },
   "outputs": [],
   "source": [
    "sub_predict_nn3 = model.predict(sub_dataset.batch(30))\n",
    "sample_submission['price'] = (\n",
    "    sub_predict_nn2[:, 0] + sub_predict_catboost + sub_predict_nn1[:, 0]+sub_predict_nn3[:, 0])/4\n",
    "sample_submission.to_csv('nn2_1_3_cat_submission.csv', index=False)"
   ]
  }
 ],
 "metadata": {
  "kernelspec": {
   "display_name": "Python 3",
   "language": "python",
   "name": "python3"
  },
  "language_info": {
   "codemirror_mode": {
    "name": "ipython",
    "version": 3
   },
   "file_extension": ".py",
   "mimetype": "text/x-python",
   "name": "python",
   "nbconvert_exporter": "python",
   "pygments_lexer": "ipython3",
   "version": "3.8.3"
  },
  "varInspector": {
   "cols": {
    "lenName": 16,
    "lenType": 16,
    "lenVar": 40
   },
   "kernels_config": {
    "python": {
     "delete_cmd_postfix": "",
     "delete_cmd_prefix": "del ",
     "library": "var_list.py",
     "varRefreshCmd": "print(var_dic_list())"
    },
    "r": {
     "delete_cmd_postfix": ") ",
     "delete_cmd_prefix": "rm(",
     "library": "var_list.r",
     "varRefreshCmd": "cat(var_dic_list()) "
    }
   },
   "types_to_exclude": [
    "module",
    "function",
    "builtin_function_or_method",
    "instance",
    "_Feature"
   ],
   "window_display": false
  }
 },
 "nbformat": 4,
 "nbformat_minor": 4
}
