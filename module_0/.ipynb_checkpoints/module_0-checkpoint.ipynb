{
 "cells": [
  {
   "cell_type": "code",
   "execution_count": 1,
   "metadata": {},
   "outputs": [],
   "source": [
    "import numpy as np\n",
    "def game_core_v1(number):\n",
    "    '''Просто угадываем на random, никак не используя информацию о больше или меньше.\n",
    "       Функция принимает загаданное число и возвращает число попыток'''\n",
    "    count = 0\n",
    "    while True:\n",
    "        count+=1\n",
    "        predict = np.random.randint(1,101) # предполагаемое число\n",
    "        if number == predict: \n",
    "            return(count) # выход из цикла, если угадали\n",
    "        \n",
    "        \n",
    "def game_core(number):\n",
    "    '''Устанавливаем массив чисел от 1 до 100. Поиск числа начинаем с числа 51, а потом уменьшаем или увеличиваем его в зависимости от того, больше оно или меньше нужного.\n",
    "       Функция принимает загаданное число и возвращает число попыток'''\n",
    "    count = 1\n",
    "    predict = [x for x in range(1,101)]\n",
    "    goal_number = 51\n",
    "    while number != goal_number:\n",
    "        list_predict_center = int(len(predict)/2) \n",
    "        count+=1\n",
    "        if number > goal_number: \n",
    "            predict = predict[list_predict_center:]\n",
    "            goal_number = predict[int(len(predict)/2)]\n",
    "        elif number < goal_number: \n",
    "            predict = predict[:list_predict_center]\n",
    "            goal_number = predict[int(len(predict)/2)]\n",
    "    return(count)\n",
    "        \n",
    "        \n",
    "def score_game(game_core):\n",
    "    '''Запускаем игру 1000 раз, чтобы узнать, как быстро игра угадывает число'''\n",
    "    count_ls = []\n",
    "    np.random.seed(1)  # фиксируем RANDOM SEED, чтобы ваш эксперимент был воспроизводим!\n",
    "    random_array = np.random.randint(1,101, size=(10000))\n",
    "    for number in random_array:\n",
    "        count_ls.append(game_core(number))\n",
    "    score = int(np.mean(count_ls))\n",
    "    print(f\"Ваш алгоритм угадывает число в среднем за {score} попыток\")\n",
    "    return(score)"
   ]
  },
  {
   "cell_type": "code",
   "execution_count": 2,
   "metadata": {},
   "outputs": [
    {
     "name": "stdout",
     "output_type": "stream",
     "text": [
      "Ваш алгоритм угадывает число в среднем за 5 попыток\n"
     ]
    },
    {
     "data": {
      "text/plain": [
       "5"
      ]
     },
     "execution_count": 2,
     "metadata": {},
     "output_type": "execute_result"
    }
   ],
   "source": [
    "score_game(game_core)"
   ]
  },
  {
   "cell_type": "code",
   "execution_count": null,
   "metadata": {},
   "outputs": [],
   "source": []
  }
 ],
 "metadata": {
  "kernelspec": {
   "display_name": "Python 3",
   "language": "python",
   "name": "python3"
  },
  "language_info": {
   "codemirror_mode": {
    "name": "ipython",
    "version": 3
   },
   "file_extension": ".py",
   "mimetype": "text/x-python",
   "name": "python",
   "nbconvert_exporter": "python",
   "pygments_lexer": "ipython3",
   "version": "3.7.6"
  }
 },
 "nbformat": 4,
 "nbformat_minor": 4
}
