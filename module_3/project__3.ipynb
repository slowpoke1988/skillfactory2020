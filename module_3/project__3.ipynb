{
 "cells": [
  {
   "cell_type": "markdown",
   "metadata": {},
   "source": [
    "# Загрузка Pandas и очистка данных"
   ]
  },
  {
   "cell_type": "code",
   "execution_count": 323,
   "metadata": {},
   "outputs": [],
   "source": [
    "import pandas as pd\n",
    "from afinn import Afinn\n",
    "import re\n",
    "from sklearn.preprocessing import StandardScaler\n",
    "import numpy as np\n",
    "import matplotlib.pyplot as plt\n",
    "import seaborn as sns \n",
    "%matplotlib inline\n",
    "from collections import Counter\n",
    "from datetime import datetime\n",
    "import requests\n",
    "from bs4 import BeautifulSoup"
   ]
  },
  {
   "cell_type": "code",
   "execution_count": 331,
   "metadata": {},
   "outputs": [],
   "source": [
    "df_train = pd.read_csv('main_task.csv')\n",
    "df_test = pd.read_csv('kaggle_task.csv')\n",
    "df_train['sample'] = 1  # помечаем где у нас трейн\n",
    "df_test['sample'] = 0  # помечаем где у нас тест\n",
    "# в тесте у нас нет значения Rating, мы его должны предсказать, по этому пока просто заполняем нулями\n",
    "df_test['Rating'] = 0\n",
    "df = df_test.append(df_train, sort=False).reset_index(drop=True)\n",
    "\n",
    "# Данные полученные с помощью парсинга функцией new_features страниц типа https://www.tripadvisor.com/UpdateListing-d12516716\n",
    "new_feature = pd.read_csv('new_feature_1.csv')"
   ]
  },
  {
   "cell_type": "code",
   "execution_count": 332,
   "metadata": {},
   "outputs": [],
   "source": [
    "# Функция для парсинга страниц типа https://www.tripadvisor.com/UpdateListing-d12516716 с помощью данных из колонки ID_TA (df.ID_TA.apply(new_features))\n",
    "def new_features(x):\n",
    "    url = 'https://www.tripadvisor.com/UpdateListing-' + x\n",
    "    r = requests.get(url)\n",
    "    soup = BeautifulSoup(r.text)\n",
    "    feachers_list = []\n",
    "    for i in soup.select('.inline'):\n",
    "        feachers_list.append(str(i))\n",
    "    if len(feachers_list) != 0:\n",
    "        special_list = []\n",
    "        for i in feachers_list:\n",
    "            if 'dining_options' in i and 'checked' in i:\n",
    "                spec = re.search(r'\\\"\\>([^\\/[\\]]+)\\<\\/', i)[0][2:-2]\n",
    "                special_list.append(spec)\n",
    "        if len(special_list) != 0:\n",
    "            return special_list\n",
    "        else:\n",
    "            return None\n",
    "    else:\n",
    "        return None\n",
    "\n",
    "\n",
    "# Функция для формирования признаков из new_feature\n",
    "def find_item_2(cell):\n",
    "    if type(cell) != float:\n",
    "        if item in cell:\n",
    "            return 1\n",
    "        else:\n",
    "            return 0\n",
    "    else:\n",
    "        return 0\n",
    "\n",
    "# Функция для формирования признаков из Cuisine Style\n",
    "\n",
    "\n",
    "def find_item(cell):\n",
    "    if item in cell:\n",
    "        return 1\n",
    "    return 0\n",
    "\n",
    "\n",
    "def city_rest(city):\n",
    "    return city_group[city]\n",
    "\n",
    "\n",
    "def rev_std_city(city):\n",
    "    return city_rev_mean[city]"
   ]
  },
  {
   "cell_type": "code",
   "execution_count": null,
   "metadata": {},
   "outputs": [],
   "source": [
    "# Ваш код по очистке данных и генерации новых признаков\n",
    "# При необходимости добавьте ячейки"
   ]
  },
  {
   "cell_type": "code",
   "execution_count": 333,
   "metadata": {},
   "outputs": [],
   "source": [
    "# Добавляем признаки полученные с помощью парсинга старниц сайта\n",
    "df['new'] = new_feature\n",
    "df.new = df.new.apply(\n",
    "    lambda x: x if pd.isnull(x) else eval(x))\n",
    "new_f = df.new.explode().unique()\n",
    "# Признак показывает какие специальные предложения имеет ресторан\n",
    "for item in new_f:\n",
    "    df[item] = df.new.apply(find_item_2)\n",
    "# Признак показывает количество специальных предложений ресторана\n",
    "df['count_new'] = df['new'].apply(lambda x: 0 if type(x) == float else len(x))\n",
    "df[['Rating','count_new']].corr()"
   ]
  },
  {
   "cell_type": "code",
   "execution_count": 327,
   "metadata": {},
   "outputs": [],
   "source": [
    "# Признак отношения ресторна к опреденному городу\n",
    "df = pd.concat([df, pd.get_dummies(df.City)], axis=1)"
   ]
  },
  {
   "cell_type": "code",
   "execution_count": 338,
   "metadata": {},
   "outputs": [],
   "source": [
    "# Заполняем пропуски в колонке Cuisine Style основываясь на принадлежности ресторана к опреденному городу:\n",
    "# среднему количеству кухонь в реторанах города и самым популярным видам кухонь в городе\n",
    "df['Cuisine Style'] = df['Cuisine Style'].apply(\n",
    "    lambda x: x if pd.isnull(x) else eval(x))\n",
    "\n",
    "for y, x in df.groupby('City')['Cuisine Style']:\n",
    "    median_cuisin_len = int(x[~x.isna()].apply(lambda z: len(z)).median())\n",
    "    nan_len = df[df['City'] == y]['Cuisine Style'].isna().sum()\n",
    "    nan_replace = pd.Series([list(x.explode().value_counts(\n",
    "    )[:median_cuisin_len].index) for item in range(nan_len)])\n",
    "    nan_place_index = df[(df['City'] == y) & (\n",
    "        df['Cuisine Style'].isna() == True)]['Cuisine Style'].index\n",
    "    df.loc[nan_place_index, 'Cuisine Style'] = nan_replace.values\n",
    "\n",
    "# ]Признак количества кухонь в ресторане\n",
    "df['cuisine_style_len'] = df['Cuisine Style'].apply(lambda x: len(x))\n",
    "\n",
    "\n",
    "# Признак наличия той или иной кухни в ресторане\n",
    "cuisine = df['Cuisine Style'].explode().unique()\n",
    "\n",
    "for item in cuisine:\n",
    "    df[item] = df['Cuisine Style'].apply(find_item)\n",
    "df[['Rating','cuisine_style_len']].corr()"
   ]
  },
  {
   "cell_type": "code",
   "execution_count": 328,
   "metadata": {},
   "outputs": [
    {
     "data": {
      "image/png": "[encoded data removed]",
      "text/plain": [
       "<Figure size 432x288 with 1 Axes>"
      ]
     },
     "metadata": {
      "needs_background": "light"
     },
     "output_type": "display_data"
    }
   ],
   "source": [
    "# Ranking имеет нормальное распределение, просто в больших городах больше ресторанов, из-за мы этого имеем смещение.\n",
    "for x in (df['City'].value_counts())[0:10].index:\n",
    "    df['Ranking'][df['City'] == x].hist(bins=100)\n",
    "plt.show()"
   ]
  },
  {
   "cell_type": "code",
   "execution_count": 340,
   "metadata": {},
   "outputs": [
    {
     "data": {
      "text/html": [
       "<div>\n",
       "<style scoped>\n",
       "    .dataframe tbody tr th:only-of-type {\n",
       "        vertical-align: middle;\n",
       "    }\n",
       "\n",
       "    .dataframe tbody tr th {\n",
       "        vertical-align: top;\n",
       "    }\n",
       "\n",
       "    .dataframe thead th {\n",
       "        text-align: right;\n",
       "    }\n",
       "</style>\n",
       "<table border=\"1\" class=\"dataframe\">\n",
       "  <thead>\n",
       "    <tr style=\"text-align: right;\">\n",
       "      <th></th>\n",
       "      <th>Rating</th>\n",
       "      <th>Ranking</th>\n",
       "    </tr>\n",
       "  </thead>\n",
       "  <tbody>\n",
       "    <tr>\n",
       "      <th>Rating</th>\n",
       "      <td>1.000000</td>\n",
       "      <td>-0.109897</td>\n",
       "    </tr>\n",
       "    <tr>\n",
       "      <th>Ranking</th>\n",
       "      <td>-0.109897</td>\n",
       "      <td>1.000000</td>\n",
       "    </tr>\n",
       "  </tbody>\n",
       "</table>\n",
       "</div>"
      ],
      "text/plain": [
       "           Rating   Ranking\n",
       "Rating   1.000000 -0.109897\n",
       "Ranking -0.109897  1.000000"
      ]
     },
     "execution_count": 340,
     "metadata": {},
     "output_type": "execute_result"
    }
   ],
   "source": [
    "df[['Rating','Ranking']].corr()"
   ]
  },
  {
   "cell_type": "code",
   "execution_count": 341,
   "metadata": {},
   "outputs": [],
   "source": [
    "#Делаем распредение рангов в городах равномерным\n",
    "for x, y in df.groupby('City')['Ranking']:\n",
    "    gg = y.sort_values()\n",
    "    tt = pd.Series([x for x in range(1, len(gg)+1)], index=gg.index).sort_index()\n",
    "    df.loc[y.index, 'Ranking'] = tt.values\n",
    "    \n",
    "# Распределяем ранги ресторанов на одной шкале от 1 до 7193 (7193 это количестсво ресторанов в Лондоне)\n",
    "for x in df.City.unique():\n",
    "    df.loc[df.City == x, 'Ranking'] = pd.cut(df[df.City == x]['Ranking'], 7193, labels=[x for x in range(1, 7194)])\n",
    "df.Ranking = df.Ranking.astype(float)"
   ]
  },
  {
   "cell_type": "code",
   "execution_count": 330,
   "metadata": {},
   "outputs": [
    {
     "data": {
      "image/png": "[encoded data removed]",
      "text/plain": [
       "<Figure size 432x288 with 1 Axes>"
      ]
     },
     "metadata": {
      "needs_background": "light"
     },
     "output_type": "display_data"
    }
   ],
   "source": [
    "#Убрали смещение\n",
    "for x in (df['City'].value_counts())[0:10].index:\n",
    "    df['Ranking'][df['City'] == x].hist(bins=100)\n",
    "plt.show()"
   ]
  },
  {
   "cell_type": "code",
   "execution_count": 342,
   "metadata": {},
   "outputs": [
    {
     "data": {
      "text/html": [
       "<div>\n",
       "<style scoped>\n",
       "    .dataframe tbody tr th:only-of-type {\n",
       "        vertical-align: middle;\n",
       "    }\n",
       "\n",
       "    .dataframe tbody tr th {\n",
       "        vertical-align: top;\n",
       "    }\n",
       "\n",
       "    .dataframe thead th {\n",
       "        text-align: right;\n",
       "    }\n",
       "</style>\n",
       "<table border=\"1\" class=\"dataframe\">\n",
       "  <thead>\n",
       "    <tr style=\"text-align: right;\">\n",
       "      <th></th>\n",
       "      <th>Rating</th>\n",
       "      <th>Ranking</th>\n",
       "    </tr>\n",
       "  </thead>\n",
       "  <tbody>\n",
       "    <tr>\n",
       "      <th>Rating</th>\n",
       "      <td>1.000000</td>\n",
       "      <td>-0.168648</td>\n",
       "    </tr>\n",
       "    <tr>\n",
       "      <th>Ranking</th>\n",
       "      <td>-0.168648</td>\n",
       "      <td>1.000000</td>\n",
       "    </tr>\n",
       "  </tbody>\n",
       "</table>\n",
       "</div>"
      ],
      "text/plain": [
       "           Rating   Ranking\n",
       "Rating   1.000000 -0.168648\n",
       "Ranking -0.168648  1.000000"
      ]
     },
     "execution_count": 342,
     "metadata": {},
     "output_type": "execute_result"
    }
   ],
   "source": [
    "df[['Rating','Ranking']].corr()"
   ]
  },
  {
   "cell_type": "code",
   "execution_count": 343,
   "metadata": {},
   "outputs": [],
   "source": [
    "# Добавялем признаки: соотноешние ранга к количеству ресторанов в городе\n",
    "city_group = df.groupby('City').size()\n",
    "def city_rest(city):\n",
    "    return city_group[city]\n",
    "df['restoran_count'] = df.City.apply(city_rest)\n",
    "df['restoran_count_ranking'] = df['Ranking'] / df['restoran_count']\n",
    "df[['Rating', 'restoran_count_ranking']].corr()"
   ]
  },
  {
   "cell_type": "code",
   "execution_count": 347,
   "metadata": {},
   "outputs": [],
   "source": [
    "# Добавялем признаки: соотноешние ранга к количеству отзывов о ресторане.\n",
    "df['restoran_count_rev'] = df['Ranking'] / df['Number of Reviews']\n",
    "df[['Rating', 'restoran_count_rev']].corr()"
   ]
  },
  {
   "cell_type": "code",
   "execution_count": 349,
   "metadata": {},
   "outputs": [],
   "source": [
    "# Добавляем признак тональности отзывов\n",
    "afinn = Afinn(language='en')\n",
    "text_reviews = df['Reviews'].apply(lambda x: 0 if x ==\n",
    "                    '[[], []]' else 0 if type(x) == float else re.findall(r'\\[([^\\/[\\]]+)\\]', x))\n",
    "text_reviews_1 = text_reviews.apply(lambda x: x if x==0 else 0 if x==[] else x[0][1:-1])\n",
    "text_reviews_1=text_reviews_1.apply(lambda x: x if x == 0 else x.replace(\"', '\", ' '))\n",
    "df['reviews_score'] = text_reviews_1.apply(lambda x: x if x==0 else afinn.score(x))\n",
    "df[['Rating', 'reviews_score']].corr()"
   ]
  },
  {
   "cell_type": "code",
   "execution_count": 352,
   "metadata": {},
   "outputs": [],
   "source": [
    "# Добавляем признак количества дней от последнего отзыва\n",
    "date_reviews = df['Reviews'].dropna().apply(lambda x: re.findall(r'\\d\\d\\/\\d\\d\\/\\d{4}', x))\n",
    "df['last_rev'] = pd.to_datetime(date_reviews.apply(lambda x: x[1] if len(x) == 2 else x[0] if len(x) == 1 else None))\n",
    "df['last_rev'].fillna(df['last_rev'].min(), inplace=True)\n",
    "current_datetime = datetime.now()\n",
    "df['days_dfom_last_rev'] = (current_datetime - df['last_rev'])\n",
    "df['days_dfom_last_rev'] = df['days_dfom_last_rev'].apply(lambda x: x.days)\n",
    "df[['Rating', 'days_dfom_last_rev']].corr()"
   ]
  },
  {
   "cell_type": "code",
   "execution_count": 354,
   "metadata": {},
   "outputs": [
    {
     "data": {
      "text/html": [
       "<div>\n",
       "<style scoped>\n",
       "    .dataframe tbody tr th:only-of-type {\n",
       "        vertical-align: middle;\n",
       "    }\n",
       "\n",
       "    .dataframe tbody tr th {\n",
       "        vertical-align: top;\n",
       "    }\n",
       "\n",
       "    .dataframe thead th {\n",
       "        text-align: right;\n",
       "    }\n",
       "</style>\n",
       "<table border=\"1\" class=\"dataframe\">\n",
       "  <thead>\n",
       "    <tr style=\"text-align: right;\">\n",
       "      <th></th>\n",
       "      <th>Rating</th>\n",
       "      <th>ID_TA</th>\n",
       "    </tr>\n",
       "  </thead>\n",
       "  <tbody>\n",
       "    <tr>\n",
       "      <th>Rating</th>\n",
       "      <td>1.000000</td>\n",
       "      <td>0.049589</td>\n",
       "    </tr>\n",
       "    <tr>\n",
       "      <th>ID_TA</th>\n",
       "      <td>0.049589</td>\n",
       "      <td>1.000000</td>\n",
       "    </tr>\n",
       "  </tbody>\n",
       "</table>\n",
       "</div>"
      ],
      "text/plain": [
       "          Rating     ID_TA\n",
       "Rating  1.000000  0.049589\n",
       "ID_TA   0.049589  1.000000"
      ]
     },
     "execution_count": 354,
     "metadata": {},
     "output_type": "execute_result"
    }
   ],
   "source": [
    "# Если превратить эту колонку в ичловую то она тоже неплохо помагает в предсказании оценки\n",
    "df['ID_TA'] = df['ID_TA'].apply(lambda x: int(x[1:]))\n",
    "df[['Rating', 'ID_TA']].corr()"
   ]
  },
  {
   "cell_type": "code",
   "execution_count": 355,
   "metadata": {},
   "outputs": [
    {
     "data": {
      "text/html": [
       "<div>\n",
       "<style scoped>\n",
       "    .dataframe tbody tr th:only-of-type {\n",
       "        vertical-align: middle;\n",
       "    }\n",
       "\n",
       "    .dataframe tbody tr th {\n",
       "        vertical-align: top;\n",
       "    }\n",
       "\n",
       "    .dataframe thead th {\n",
       "        text-align: right;\n",
       "    }\n",
       "</style>\n",
       "<table border=\"1\" class=\"dataframe\">\n",
       "  <thead>\n",
       "    <tr style=\"text-align: right;\">\n",
       "      <th></th>\n",
       "      <th>Rating</th>\n",
       "      <th>people_per_res</th>\n",
       "      <th>people_per_rev</th>\n",
       "    </tr>\n",
       "  </thead>\n",
       "  <tbody>\n",
       "    <tr>\n",
       "      <th>Rating</th>\n",
       "      <td>1.000000</td>\n",
       "      <td>0.008247</td>\n",
       "      <td>-0.005336</td>\n",
       "    </tr>\n",
       "    <tr>\n",
       "      <th>people_per_res</th>\n",
       "      <td>0.008247</td>\n",
       "      <td>1.000000</td>\n",
       "      <td>0.046912</td>\n",
       "    </tr>\n",
       "    <tr>\n",
       "      <th>people_per_rev</th>\n",
       "      <td>-0.005336</td>\n",
       "      <td>0.046912</td>\n",
       "      <td>1.000000</td>\n",
       "    </tr>\n",
       "  </tbody>\n",
       "</table>\n",
       "</div>"
      ],
      "text/plain": [
       "                  Rating  people_per_res  people_per_rev\n",
       "Rating          1.000000        0.008247       -0.005336\n",
       "people_per_res  0.008247        1.000000        0.046912\n",
       "people_per_rev -0.005336        0.046912        1.000000"
      ]
     },
     "execution_count": 355,
     "metadata": {},
     "output_type": "execute_result"
    }
   ],
   "source": [
    "#Добавялем данные о популяции в городах и формируем признаки:\n",
    "# количество людей в городе на один ресторан\n",
    "# количество людей в городе на 1 отзыв\n",
    "population = {\n",
    " 'London': 8788,\n",
    " 'Paris': 10958,\n",
    " 'Madrid': 6559,\n",
    " 'Barcelona': 5541,\n",
    " 'Berlin': 3557,\n",
    " 'Milan': 3136,\n",
    " 'Rome': 4234,\n",
    " 'Prague': 1319,\n",
    " 'Lisbon': 2942,\n",
    " 'Vienna': 1915,\n",
    " 'Amsterdam': 1140,\n",
    " 'Brussels': 2065,\n",
    " 'Hamburg': 1791,\n",
    " 'Munich': 1521,\n",
    " 'Lyon': 1705,\n",
    " 'Stockholm': 974,\n",
    " 'Budapest': 1764,\n",
    " 'Warsaw': 1776,\n",
    " 'Dublin': 1215,\n",
    " 'Copenhagen': 1334,\n",
    " 'Athens': 3154,\n",
    " 'Edinburgh': 531,\n",
    " 'Zurich': 1383,\n",
    " 'Oporto': 238,\n",
    " 'Geneva': 202,\n",
    " 'Krakow': 1832,\n",
    " 'Oslo': 1020,\n",
    " 'Helsinki': 1292,\n",
    " 'Bratislava': 426,\n",
    " 'Luxembourg': 614,\n",
    " 'Ljubljana': 284,\n",
    "}\n",
    "df['population'] = df['City'].map(population)\n",
    "\n",
    "df['people_per_res'] = df['population'] / df['restoran_count']\n",
    "df['people_per_rev'] = df['population'] / df['Number of Reviews']\n",
    "\n",
    "df[['Rating', 'people_per_res', 'people_per_rev']].corr()"
   ]
  },
  {
   "cell_type": "code",
   "execution_count": 356,
   "metadata": {},
   "outputs": [
    {
     "data": {
      "text/html": [
       "<div>\n",
       "<style scoped>\n",
       "    .dataframe tbody tr th:only-of-type {\n",
       "        vertical-align: middle;\n",
       "    }\n",
       "\n",
       "    .dataframe tbody tr th {\n",
       "        vertical-align: top;\n",
       "    }\n",
       "\n",
       "    .dataframe thead th {\n",
       "        text-align: right;\n",
       "    }\n",
       "</style>\n",
       "<table border=\"1\" class=\"dataframe\">\n",
       "  <thead>\n",
       "    <tr style=\"text-align: right;\">\n",
       "      <th></th>\n",
       "      <th>Rating</th>\n",
       "      <th>rev_std</th>\n",
       "    </tr>\n",
       "  </thead>\n",
       "  <tbody>\n",
       "    <tr>\n",
       "      <th>Rating</th>\n",
       "      <td>1.000000</td>\n",
       "      <td>0.008928</td>\n",
       "    </tr>\n",
       "    <tr>\n",
       "      <th>rev_std</th>\n",
       "      <td>0.008928</td>\n",
       "      <td>1.000000</td>\n",
       "    </tr>\n",
       "  </tbody>\n",
       "</table>\n",
       "</div>"
      ],
      "text/plain": [
       "           Rating   rev_std\n",
       "Rating   1.000000  0.008928\n",
       "rev_std  0.008928  1.000000"
      ]
     },
     "execution_count": 356,
     "metadata": {},
     "output_type": "execute_result"
    }
   ],
   "source": [
    "# Признак отклнение от среднего количества отзывов в городе\n",
    "city_rev_mean = df.groupby('City')['Number of Reviews'].mean()\n",
    "def rev_std_city(city):\n",
    "    return city_rev_mean[city]\n",
    "df['rev_std'] = df['Number of Reviews'] - df.City.apply(rev_std_city)\n",
    "df[['Rating', 'rev_std']].corr()"
   ]
  },
  {
   "cell_type": "code",
   "execution_count": 317,
   "metadata": {},
   "outputs": [],
   "source": [
    "# Признак уровня цен в ресторанах\n",
    "df['Price Range 1-3'] = df['Price Range'].apply(\n",
    "    lambda x: 1 if x == '$' else 2 if x == '$$ - $$$' else 3 if x == '$$$$' else x)\n",
    "df['Price Range 1-3'].fillna(df['Price Range 1-3'].median(), inplace=True)"
   ]
  },
  {
   "cell_type": "code",
   "execution_count": 360,
   "metadata": {},
   "outputs": [],
   "source": [
    "# Очистка данных\n",
    "df = df.drop(['City', 'Cuisine Style', 'Reviews',\n",
    "              'URL_TA', 'Price Range', 'last_rev', 'population', 'restoran_count', 'new'], axis=1)\n",
    "df = df.apply(lambda x: x.fillna(0) if x.dtype == 'float64' else x)"
   ]
  },
  {
   "cell_type": "markdown",
   "metadata": {},
   "source": [
    "# Разбиваем датафрейм на части, необходимые для обучения и тестирования модели"
   ]
  },
  {
   "cell_type": "code",
   "execution_count": 361,
   "metadata": {},
   "outputs": [],
   "source": [
    "# Х - данные с информацией о ресторанах, у - целевая переменная (рейтинги ресторанов)\n",
    "train_data = df.query('sample == 1').drop(['sample'], axis=1)\n",
    "test_data = df.query('sample == 0').drop(['sample'], axis=1)\n",
    "\n",
    "X = train_data.drop(['Restaurant_id', 'Rating'], axis = 1)\n",
    "\n",
    "y = train_data['Rating']\n"
   ]
  },
  {
   "cell_type": "code",
   "execution_count": 14,
   "metadata": {},
   "outputs": [],
   "source": [
    "# Загружаем специальный инструмент для разбивки:\n",
    "from sklearn.model_selection import train_test_split"
   ]
  },
  {
   "cell_type": "code",
   "execution_count": 363,
   "metadata": {},
   "outputs": [],
   "source": [
    "# Наборы данных с меткой \"train\" будут использоваться для обучения модели, \"test\" - для тестирования.\n",
    "# Для тестирования мы будем использовать 25% от исходного датасета.\n",
    "X_train, X_test, y_train, y_test = train_test_split(X, y, test_size=0.25)\n"
   ]
  },
  {
   "cell_type": "markdown",
   "metadata": {},
   "source": [
    "# Создаём, обучаем и тестируем модель"
   ]
  },
  {
   "cell_type": "code",
   "execution_count": 16,
   "metadata": {},
   "outputs": [],
   "source": [
    "# Импортируем необходимые библиотеки:\n",
    "from sklearn.ensemble import RandomForestRegressor # инструмент для создания и обучения модели\n",
    "from sklearn import metrics # инструменты для оценки точности модели"
   ]
  },
  {
   "cell_type": "code",
   "execution_count": 364,
   "metadata": {},
   "outputs": [],
   "source": [
    "# Создаём модель\n",
    "regr = RandomForestRegressor(n_estimators=100)\n",
    "\n",
    "# Обучаем модель на тестовом наборе данных\n",
    "regr.fit(X_train, y_train)\n",
    "\n",
    "# Используем обученную модель для предсказания рейтинга ресторанов в тестовой выборке.\n",
    "# Предсказанные значения записываем в переменную y_pred\n",
    "y_pred = regr.predict(X_test)"
   ]
  },
  {
   "cell_type": "code",
   "execution_count": 322,
   "metadata": {},
   "outputs": [
    {
     "name": "stdout",
     "output_type": "stream",
     "text": [
      "MAE: 0.19873749999999998\n"
     ]
    }
   ],
   "source": [
    "# Сравниваем предсказанные значения (y_pred) с реальными (y_test), и смотрим насколько они в среднем отличаются\n",
    "# Метрика называется Mean Absolute Error (MAE) и показывает среднее отклонение предсказанных значений от фактических.\n",
    "print('MAE:', metrics.mean_absolute_error(y_test, y_pred))\n"
   ]
  },
  {
   "cell_type": "code",
   "execution_count": 240,
   "metadata": {},
   "outputs": [
    {
     "data": {
      "text/plain": [
       "<matplotlib.axes._subplots.AxesSubplot at 0x7fecf3896520>"
      ]
     },
     "execution_count": 240,
     "metadata": {},
     "output_type": "execute_result"
    },
    {
     "data": {
      "image/png": "[encoded data removed]",
      "text/plain": [
       "<Figure size 1440x720 with 1 Axes>"
      ]
     },
     "metadata": {
      "needs_background": "light"
     },
     "output_type": "display_data"
    }
   ],
   "source": [
    "plt.rcParams['figure.figsize'] = (20,10)\n",
    "feat_importances = pd.Series(regr.feature_importances_, index=X.columns)\n",
    "feat_importances.nlargest(25).plot(kind='barh')\n",
    "\n"
   ]
  },
  {
   "cell_type": "code",
   "execution_count": null,
   "metadata": {},
   "outputs": [],
   "source": []
  }
 ],
 "metadata": {
  "kernelspec": {
   "display_name": "Python 3",
   "language": "python",
   "name": "python3"
  },
  "language_info": {
   "codemirror_mode": {
    "name": "ipython",
    "version": 3
   },
   "file_extension": ".py",
   "mimetype": "text/x-python",
   "name": "python",
   "nbconvert_exporter": "python",
   "pygments_lexer": "ipython3",
   "version": "3.8.3"
  },
  "varInspector": {
   "cols": {
    "lenName": 16,
    "lenType": 16,
    "lenVar": 40
   },
   "kernels_config": {
    "python": {
     "delete_cmd_postfix": "",
     "delete_cmd_prefix": "del ",
     "library": "var_list.py",
     "varRefreshCmd": "print(var_dic_list())"
    },
    "r": {
     "delete_cmd_postfix": ") ",
     "delete_cmd_prefix": "rm(",
     "library": "var_list.r",
     "varRefreshCmd": "cat(var_dic_list()) "
    }
   },
   "types_to_exclude": [
    "module",
    "function",
    "builtin_function_or_method",
    "instance",
    "_Feature"
   ],
   "window_display": false
  }
 },
 "nbformat": 4,
 "nbformat_minor": 2
}
