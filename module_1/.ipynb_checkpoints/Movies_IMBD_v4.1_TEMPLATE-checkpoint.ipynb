{
 "cells": [
  {
   "cell_type": "code",
   "execution_count": 2,
   "metadata": {
    "_cell_guid": "b1076dfc-b9ad-4769-8c92-a6c4dae69d19",
    "_uuid": "8f2839f25d086af736a60e9eeb907d3b93b6e0e5",
    "colab": {},
    "colab_type": "code",
    "id": "U2D2gTdJVp90"
   },
   "outputs": [],
   "source": [
    "import numpy as np\n",
    "import pandas as pd\n",
    "import seaborn as sns\n",
    "import matplotlib.pyplot as plt\n",
    "from collections import Counter\n",
    "import itertools as it"
   ]
  },
  {
   "cell_type": "code",
   "execution_count": 4,
   "metadata": {
    "_cell_guid": "79c7e3d0-c299-4dcb-8224-4455121ee9b0",
    "_uuid": "d629ff2d2480ee46fbb7e2d37f6b5fab8052498a",
    "colab": {},
    "colab_type": "code",
    "id": "oyGfxL3eVp9-"
   },
   "outputs": [
    {
     "data": {
      "text/html": [
       "<div>\n",
       "<style scoped>\n",
       "    .dataframe tbody tr th:only-of-type {\n",
       "        vertical-align: middle;\n",
       "    }\n",
       "\n",
       "    .dataframe tbody tr th {\n",
       "        vertical-align: top;\n",
       "    }\n",
       "\n",
       "    .dataframe thead th {\n",
       "        text-align: right;\n",
       "    }\n",
       "</style>\n",
       "<table border=\"1\" class=\"dataframe\">\n",
       "  <thead>\n",
       "    <tr style=\"text-align: right;\">\n",
       "      <th></th>\n",
       "      <th>imdb_id</th>\n",
       "      <th>budget</th>\n",
       "      <th>revenue</th>\n",
       "      <th>original_title</th>\n",
       "      <th>cast</th>\n",
       "      <th>director</th>\n",
       "      <th>tagline</th>\n",
       "      <th>overview</th>\n",
       "      <th>runtime</th>\n",
       "      <th>genres</th>\n",
       "      <th>production_companies</th>\n",
       "      <th>release_date</th>\n",
       "      <th>vote_average</th>\n",
       "      <th>release_year</th>\n",
       "    </tr>\n",
       "  </thead>\n",
       "  <tbody>\n",
       "    <tr>\n",
       "      <th>475</th>\n",
       "      <td>tt1321509</td>\n",
       "      <td>21000000</td>\n",
       "      <td>49050886</td>\n",
       "      <td>Death at a Funeral</td>\n",
       "      <td>Zoe Saldana|James Marsden|Martin Lawrence|Pete...</td>\n",
       "      <td>Neil LaBute</td>\n",
       "      <td>This is one sad family.</td>\n",
       "      <td>Aaron's father's funeral is today at the famil...</td>\n",
       "      <td>92</td>\n",
       "      <td>Comedy</td>\n",
       "      <td>Parabolic Pictures|Screen Gems</td>\n",
       "      <td>4/15/2010</td>\n",
       "      <td>5.7</td>\n",
       "      <td>2010</td>\n",
       "    </tr>\n",
       "    <tr>\n",
       "      <th>467</th>\n",
       "      <td>tt1470023</td>\n",
       "      <td>10000000</td>\n",
       "      <td>6110000</td>\n",
       "      <td>MacGruber</td>\n",
       "      <td>Will Forte|Kristen Wiig|Val Kilmer|Ryan Philli...</td>\n",
       "      <td>Jorma Taccone</td>\n",
       "      <td>He's the ultimate tool.</td>\n",
       "      <td>Ex-special operative MacGruber (Forte) is call...</td>\n",
       "      <td>90</td>\n",
       "      <td>Action|Adventure|Comedy</td>\n",
       "      <td>Relativity Media</td>\n",
       "      <td>5/21/2010</td>\n",
       "      <td>5.2</td>\n",
       "      <td>2010</td>\n",
       "    </tr>\n",
       "    <tr>\n",
       "      <th>743</th>\n",
       "      <td>tt1411697</td>\n",
       "      <td>80000000</td>\n",
       "      <td>254455986</td>\n",
       "      <td>The Hangover Part II</td>\n",
       "      <td>Bradley Cooper|Ed Helms|Zach Galifianakis|Just...</td>\n",
       "      <td>Todd Phillips</td>\n",
       "      <td>The Wolfpack Is Back</td>\n",
       "      <td>The Hangover crew heads to Thailand for Stu's ...</td>\n",
       "      <td>102</td>\n",
       "      <td>Comedy</td>\n",
       "      <td>Legendary Pictures|Living Films|Green Hat Film...</td>\n",
       "      <td>5/25/2011</td>\n",
       "      <td>6.1</td>\n",
       "      <td>2011</td>\n",
       "    </tr>\n",
       "    <tr>\n",
       "      <th>77</th>\n",
       "      <td>tt1754656</td>\n",
       "      <td>64000000</td>\n",
       "      <td>97571250</td>\n",
       "      <td>The Little Prince</td>\n",
       "      <td>Jeff Bridges|Rachel McAdams|Paul Rudd|Marion C...</td>\n",
       "      <td>Mark Osborne</td>\n",
       "      <td>Growing up isn't the problem... forgetting is.</td>\n",
       "      <td>Based on the best-seller book 'The Little Prin...</td>\n",
       "      <td>92</td>\n",
       "      <td>Adventure|Animation|Fantasy</td>\n",
       "      <td>Onyx Films|Orange Studios|CityMation|On Entert...</td>\n",
       "      <td>7/29/2015</td>\n",
       "      <td>7.5</td>\n",
       "      <td>2015</td>\n",
       "    </tr>\n",
       "    <tr>\n",
       "      <th>204</th>\n",
       "      <td>tt1742334</td>\n",
       "      <td>35000000</td>\n",
       "      <td>17508518</td>\n",
       "      <td>Sabotage</td>\n",
       "      <td>Arnold Schwarzenegger|Sam Worthington|Mireille...</td>\n",
       "      <td>David Ayer</td>\n",
       "      <td>Leave no loose ends</td>\n",
       "      <td>In \"Sabotage\", Arnold Schwarzenegger leads an ...</td>\n",
       "      <td>110</td>\n",
       "      <td>Action|Drama|Thriller|Crime</td>\n",
       "      <td>Open Road Films|QED International|Albert S. Ru...</td>\n",
       "      <td>3/28/2014</td>\n",
       "      <td>5.4</td>\n",
       "      <td>2014</td>\n",
       "    </tr>\n",
       "    <tr>\n",
       "      <th>1593</th>\n",
       "      <td>tt0337563</td>\n",
       "      <td>37000000</td>\n",
       "      <td>96455697</td>\n",
       "      <td>13 Going On 30</td>\n",
       "      <td>Jennifer Garner|Mark Ruffalo|Judy Greer|Andy S...</td>\n",
       "      <td>Gary Winick</td>\n",
       "      <td>For some, 13 feels like it was just yesterday....</td>\n",
       "      <td>After total humiliation at her thirteenth birt...</td>\n",
       "      <td>98</td>\n",
       "      <td>Comedy|Fantasy|Romance</td>\n",
       "      <td>Columbia Pictures|Revolution Studios|Thirteen ...</td>\n",
       "      <td>4/13/2004</td>\n",
       "      <td>6.1</td>\n",
       "      <td>2004</td>\n",
       "    </tr>\n",
       "    <tr>\n",
       "      <th>1785</th>\n",
       "      <td>tt0368794</td>\n",
       "      <td>20000000</td>\n",
       "      <td>4001121</td>\n",
       "      <td>I'm Not There.</td>\n",
       "      <td>Cate Blanchett|Heath Ledger|Julianne Moore|Ben...</td>\n",
       "      <td>Todd Haynes</td>\n",
       "      <td>All I Can Do Is Be Me Whoever That Is</td>\n",
       "      <td>Six actors portray six personas of music legen...</td>\n",
       "      <td>135</td>\n",
       "      <td>Drama|Music</td>\n",
       "      <td>Endgame Entertainment|Rising Star|Killer Films...</td>\n",
       "      <td>10/1/2007</td>\n",
       "      <td>6.5</td>\n",
       "      <td>2007</td>\n",
       "    </tr>\n",
       "    <tr>\n",
       "      <th>154</th>\n",
       "      <td>tt1121096</td>\n",
       "      <td>95000000</td>\n",
       "      <td>114178613</td>\n",
       "      <td>Seventh Son</td>\n",
       "      <td>Jeff Bridges|Julianne Moore|Ben Barnes|Alicia ...</td>\n",
       "      <td>Sergey Bodrov</td>\n",
       "      <td>When darkness falls, the son will rise. When t...</td>\n",
       "      <td>John Gregory, who is a seventh son of a sevent...</td>\n",
       "      <td>102</td>\n",
       "      <td>Adventure|Fantasy</td>\n",
       "      <td>Legendary Pictures|Thunder Road Pictures|Outla...</td>\n",
       "      <td>12/12/2014</td>\n",
       "      <td>5.1</td>\n",
       "      <td>2014</td>\n",
       "    </tr>\n",
       "    <tr>\n",
       "      <th>937</th>\n",
       "      <td>tt0284490</td>\n",
       "      <td>85000000</td>\n",
       "      <td>77741732</td>\n",
       "      <td>Showtime</td>\n",
       "      <td>Robert De Niro|Rachael Harris|Eddie Murphy|Zai...</td>\n",
       "      <td>Tom Dey</td>\n",
       "      <td>Lights. Camera. Aggravation.</td>\n",
       "      <td>A spoof of buddy cop movies where two very dif...</td>\n",
       "      <td>95</td>\n",
       "      <td>Action|Comedy</td>\n",
       "      <td>Village Roadshow Pictures|NPV Entertainment|Wa...</td>\n",
       "      <td>3/14/2002</td>\n",
       "      <td>5.2</td>\n",
       "      <td>2002</td>\n",
       "    </tr>\n",
       "    <tr>\n",
       "      <th>1230</th>\n",
       "      <td>tt2334879</td>\n",
       "      <td>150000000</td>\n",
       "      <td>205366737</td>\n",
       "      <td>White House Down</td>\n",
       "      <td>Channing Tatum|Jamie Foxx|Joey King|Maggie Gyl...</td>\n",
       "      <td>Roland Emmerich</td>\n",
       "      <td>It Will Start Like Any Other Day.</td>\n",
       "      <td>Capitol Policeman John Cale has just been deni...</td>\n",
       "      <td>131</td>\n",
       "      <td>Action|Drama|Thriller</td>\n",
       "      <td>Columbia Pictures|Centropolis Entertainment|Ir...</td>\n",
       "      <td>6/27/2013</td>\n",
       "      <td>6.4</td>\n",
       "      <td>2013</td>\n",
       "    </tr>\n",
       "    <tr>\n",
       "      <th>521</th>\n",
       "      <td>tt0257106</td>\n",
       "      <td>45000000</td>\n",
       "      <td>141220678</td>\n",
       "      <td>Scary Movie 2</td>\n",
       "      <td>Anna Faris|Marlon Wayans|James DeBello|Shawn W...</td>\n",
       "      <td>Keenen Ivory Wayans</td>\n",
       "      <td>No More Mercy. No More Shame. No More Sequels ...</td>\n",
       "      <td>While the original parodied slasher flicks lik...</td>\n",
       "      <td>83</td>\n",
       "      <td>Comedy</td>\n",
       "      <td>Gold/Miller Productions|Wayans Bros. Entertain...</td>\n",
       "      <td>7/4/2001</td>\n",
       "      <td>5.5</td>\n",
       "      <td>2001</td>\n",
       "    </tr>\n",
       "    <tr>\n",
       "      <th>173</th>\n",
       "      <td>tt1086772</td>\n",
       "      <td>40000000</td>\n",
       "      <td>123494610</td>\n",
       "      <td>Blended</td>\n",
       "      <td>Drew Barrymore|Adam Sandler|Wendi McLendon-Cov...</td>\n",
       "      <td>Frank Coraci</td>\n",
       "      <td>Single Dad, No Clue. Single Mum, Flying Solo.</td>\n",
       "      <td>After a bad blind date, a man and woman find t...</td>\n",
       "      <td>117</td>\n",
       "      <td>Comedy</td>\n",
       "      <td>Happy Madison Productions|Karz Entertainment|W...</td>\n",
       "      <td>5/21/2014</td>\n",
       "      <td>6.7</td>\n",
       "      <td>2014</td>\n",
       "    </tr>\n",
       "    <tr>\n",
       "      <th>541</th>\n",
       "      <td>tt0272020</td>\n",
       "      <td>72000000</td>\n",
       "      <td>27642707</td>\n",
       "      <td>The Last Castle</td>\n",
       "      <td>Robert Redford|James Gandolfini|Mark Ruffalo|S...</td>\n",
       "      <td>Rod Lurie</td>\n",
       "      <td>A Castle Can Only Have One King</td>\n",
       "      <td>A Court Martialed general rallies together 120...</td>\n",
       "      <td>131</td>\n",
       "      <td>Action|Drama|Thriller</td>\n",
       "      <td>DreamWorks SKG</td>\n",
       "      <td>10/19/2001</td>\n",
       "      <td>7.1</td>\n",
       "      <td>2001</td>\n",
       "    </tr>\n",
       "    <tr>\n",
       "      <th>1080</th>\n",
       "      <td>tt2215719</td>\n",
       "      <td>12000000</td>\n",
       "      <td>32726956</td>\n",
       "      <td>Katy Perry: Part of Me</td>\n",
       "      <td>Katy Perry|Russell Brand|Shannon Woodward|Rach...</td>\n",
       "      <td>Dan Cutforth|Jane Lipsitz</td>\n",
       "      <td>Be yourself and you can be anything</td>\n",
       "      <td>Giving fans unprecedented access to the real l...</td>\n",
       "      <td>93</td>\n",
       "      <td>Documentary|Music</td>\n",
       "      <td>Paramount Pictures|Imagine Entertainment|MTV F...</td>\n",
       "      <td>6/28/2012</td>\n",
       "      <td>6.5</td>\n",
       "      <td>2012</td>\n",
       "    </tr>\n",
       "    <tr>\n",
       "      <th>1387</th>\n",
       "      <td>tt0408790</td>\n",
       "      <td>55000000</td>\n",
       "      <td>223387299</td>\n",
       "      <td>Flightplan</td>\n",
       "      <td>Jodie Foster|Peter Sarsgaard|Sean Bean|Kate Be...</td>\n",
       "      <td>Robert Schwentke</td>\n",
       "      <td>If Someone Took Everything You Live For... How...</td>\n",
       "      <td>A claustrophobic, Hitchcockian thriller. A ber...</td>\n",
       "      <td>98</td>\n",
       "      <td>Thriller|Drama|Mystery</td>\n",
       "      <td>Imagine Entertainment|Touchstone Pictures</td>\n",
       "      <td>9/22/2005</td>\n",
       "      <td>6.0</td>\n",
       "      <td>2005</td>\n",
       "    </tr>\n",
       "    <tr>\n",
       "      <th>1100</th>\n",
       "      <td>tt0316396</td>\n",
       "      <td>100000000</td>\n",
       "      <td>121975011</td>\n",
       "      <td>Peter Pan</td>\n",
       "      <td>Jeremy Sumpter|Jason Isaacs|Rachel Hurd-Wood|R...</td>\n",
       "      <td>P.J. Hogan</td>\n",
       "      <td>All children grow up except one.</td>\n",
       "      <td>In stifling Edwardian London, Wendy Darling me...</td>\n",
       "      <td>113</td>\n",
       "      <td>Adventure|Fantasy|Family</td>\n",
       "      <td>Columbia Pictures|Universal Pictures|Revolutio...</td>\n",
       "      <td>12/25/2003</td>\n",
       "      <td>6.7</td>\n",
       "      <td>2003</td>\n",
       "    </tr>\n",
       "    <tr>\n",
       "      <th>466</th>\n",
       "      <td>tt1287468</td>\n",
       "      <td>85000000</td>\n",
       "      <td>112483764</td>\n",
       "      <td>Cats &amp; Dogs 2 : The Revenge of Kitty Galore</td>\n",
       "      <td>James Marsden|Nick Nolte|Christina Applegate|B...</td>\n",
       "      <td>Brad Peyton</td>\n",
       "      <td>Just like real spies... only furrier.</td>\n",
       "      <td>The ongoing war between the canine and feline ...</td>\n",
       "      <td>82</td>\n",
       "      <td>Comedy|Family</td>\n",
       "      <td>Village Roadshow Pictures</td>\n",
       "      <td>7/30/2010</td>\n",
       "      <td>5.0</td>\n",
       "      <td>2010</td>\n",
       "    </tr>\n",
       "    <tr>\n",
       "      <th>1147</th>\n",
       "      <td>tt0285531</td>\n",
       "      <td>68000000</td>\n",
       "      <td>75715436</td>\n",
       "      <td>Dreamcatcher</td>\n",
       "      <td>Morgan Freeman|Thomas Jane|Jason Lee|Damian Le...</td>\n",
       "      <td>Lawrence Kasdan</td>\n",
       "      <td>A circle of friendship. A web of mystery. A pa...</td>\n",
       "      <td>Four boyhood pals perform a heroic act and are...</td>\n",
       "      <td>136</td>\n",
       "      <td>Drama|Horror|Science Fiction|Thriller</td>\n",
       "      <td>Village Roadshow Pictures|Castle Rock Entertai...</td>\n",
       "      <td>3/21/2003</td>\n",
       "      <td>5.1</td>\n",
       "      <td>2003</td>\n",
       "    </tr>\n",
       "    <tr>\n",
       "      <th>192</th>\n",
       "      <td>tt1020072</td>\n",
       "      <td>20000000</td>\n",
       "      <td>66787908</td>\n",
       "      <td>Selma</td>\n",
       "      <td>David Oyelowo|Tom Wilkinson|Carmen Ejogo|AndrÃ...</td>\n",
       "      <td>Ava DuVernay</td>\n",
       "      <td>Martin Luther King, Lyndon Baines Johnson and ...</td>\n",
       "      <td>\"Selma,\" as in Alabama, the place where segreg...</td>\n",
       "      <td>127</td>\n",
       "      <td>History|Drama</td>\n",
       "      <td>Plan B Entertainment|Harpo Films|Celador Films...</td>\n",
       "      <td>12/25/2014</td>\n",
       "      <td>7.5</td>\n",
       "      <td>2014</td>\n",
       "    </tr>\n",
       "    <tr>\n",
       "      <th>212</th>\n",
       "      <td>tt1418377</td>\n",
       "      <td>65000000</td>\n",
       "      <td>71154592</td>\n",
       "      <td>I, Frankenstein</td>\n",
       "      <td>Aaron Eckhart|Yvonne Strahovski|Bill Nighy|Jai...</td>\n",
       "      <td>Stuart Beattie</td>\n",
       "      <td>In the battle between good and evil, an immort...</td>\n",
       "      <td>200 years after his shocking creation, Dr. Fra...</td>\n",
       "      <td>92</td>\n",
       "      <td>Horror|Thriller</td>\n",
       "      <td>Lakeshore Entertainment|Sidney Kimmel Entertai...</td>\n",
       "      <td>1/22/2014</td>\n",
       "      <td>5.1</td>\n",
       "      <td>2014</td>\n",
       "    </tr>\n",
       "    <tr>\n",
       "      <th>1629</th>\n",
       "      <td>tt0381707</td>\n",
       "      <td>37000000</td>\n",
       "      <td>113086475</td>\n",
       "      <td>White Chicks</td>\n",
       "      <td>Shawn Wayans|Marlon Wayans|Jaime King|Frankie ...</td>\n",
       "      <td>Keenen Ivory Wayans</td>\n",
       "      <td>They're going deep undercover.</td>\n",
       "      <td>Two FBI agent brothers, Marcus and Kevin Copel...</td>\n",
       "      <td>109</td>\n",
       "      <td>Comedy</td>\n",
       "      <td>Columbia Pictures|Revolution Studios|Wayans Br...</td>\n",
       "      <td>6/23/2004</td>\n",
       "      <td>6.4</td>\n",
       "      <td>2004</td>\n",
       "    </tr>\n",
       "    <tr>\n",
       "      <th>1617</th>\n",
       "      <td>tt0391198</td>\n",
       "      <td>10000000</td>\n",
       "      <td>183474602</td>\n",
       "      <td>The Grudge</td>\n",
       "      <td>Sarah Michelle Gellar|Jason Behr|William Mapot...</td>\n",
       "      <td>Takashi Shimizu</td>\n",
       "      <td>It never forgives. It never forgets.</td>\n",
       "      <td>Karen Davis is an American Nurse moves to Toky...</td>\n",
       "      <td>92</td>\n",
       "      <td>Horror|Thriller|Mystery</td>\n",
       "      <td>Ghost House Pictures|Vertigo Entertainment|Sen...</td>\n",
       "      <td>10/22/2004</td>\n",
       "      <td>5.8</td>\n",
       "      <td>2004</td>\n",
       "    </tr>\n",
       "    <tr>\n",
       "      <th>1694</th>\n",
       "      <td>tt0389790</td>\n",
       "      <td>150000000</td>\n",
       "      <td>287594577</td>\n",
       "      <td>Bee Movie</td>\n",
       "      <td>Jerry Seinfeld|RenÃ©e Zellweger|Matthew Broder...</td>\n",
       "      <td>Steve Hickner|Simon J. Smith</td>\n",
       "      <td>Born to bee wild.</td>\n",
       "      <td>Barry B. Benson, a bee who has just graduated ...</td>\n",
       "      <td>91</td>\n",
       "      <td>Family|Animation|Adventure|Comedy</td>\n",
       "      <td>Pacific Data Images (PDI)|DreamWorks Animation...</td>\n",
       "      <td>10/28/2007</td>\n",
       "      <td>5.6</td>\n",
       "      <td>2007</td>\n",
       "    </tr>\n",
       "    <tr>\n",
       "      <th>1149</th>\n",
       "      <td>tt0309530</td>\n",
       "      <td>35000000</td>\n",
       "      <td>20298207</td>\n",
       "      <td>Down with Love</td>\n",
       "      <td>RenÃ©e Zellweger|Ewan McGregor|Sarah Paulson|D...</td>\n",
       "      <td>Peyton Reed</td>\n",
       "      <td>The ultimate catch has met his match</td>\n",
       "      <td>Aaaah... it's New York City in 1962, and love ...</td>\n",
       "      <td>101</td>\n",
       "      <td>Action|Comedy|Romance|Thriller</td>\n",
       "      <td>Regency Enterprises|Fox 2000 Pictures|Epsilon ...</td>\n",
       "      <td>5/8/2003</td>\n",
       "      <td>6.0</td>\n",
       "      <td>2003</td>\n",
       "    </tr>\n",
       "    <tr>\n",
       "      <th>729</th>\n",
       "      <td>tt0945513</td>\n",
       "      <td>32000000</td>\n",
       "      <td>147332697</td>\n",
       "      <td>Source Code</td>\n",
       "      <td>Jake Gyllenhaal|Michelle Monaghan|Vera Farmiga...</td>\n",
       "      <td>Duncan Jones</td>\n",
       "      <td>Make Every Second Count</td>\n",
       "      <td>Decorated soldier Captain Colter Stevens wakes...</td>\n",
       "      <td>93</td>\n",
       "      <td>Thriller|Science Fiction|Mystery</td>\n",
       "      <td>The Mark Gordon Company|Vendome Pictures</td>\n",
       "      <td>3/30/2011</td>\n",
       "      <td>7.0</td>\n",
       "      <td>2011</td>\n",
       "    </tr>\n",
       "  </tbody>\n",
       "</table>\n",
       "</div>"
      ],
      "text/plain": [
       "        imdb_id     budget    revenue  \\\n",
       "475   tt1321509   21000000   49050886   \n",
       "467   tt1470023   10000000    6110000   \n",
       "743   tt1411697   80000000  254455986   \n",
       "77    tt1754656   64000000   97571250   \n",
       "204   tt1742334   35000000   17508518   \n",
       "1593  tt0337563   37000000   96455697   \n",
       "1785  tt0368794   20000000    4001121   \n",
       "154   tt1121096   95000000  114178613   \n",
       "937   tt0284490   85000000   77741732   \n",
       "1230  tt2334879  150000000  205366737   \n",
       "521   tt0257106   45000000  141220678   \n",
       "173   tt1086772   40000000  123494610   \n",
       "541   tt0272020   72000000   27642707   \n",
       "1080  tt2215719   12000000   32726956   \n",
       "1387  tt0408790   55000000  223387299   \n",
       "1100  tt0316396  100000000  121975011   \n",
       "466   tt1287468   85000000  112483764   \n",
       "1147  tt0285531   68000000   75715436   \n",
       "192   tt1020072   20000000   66787908   \n",
       "212   tt1418377   65000000   71154592   \n",
       "1629  tt0381707   37000000  113086475   \n",
       "1617  tt0391198   10000000  183474602   \n",
       "1694  tt0389790  150000000  287594577   \n",
       "1149  tt0309530   35000000   20298207   \n",
       "729   tt0945513   32000000  147332697   \n",
       "\n",
       "                                   original_title  \\\n",
       "475                            Death at a Funeral   \n",
       "467                                     MacGruber   \n",
       "743                          The Hangover Part II   \n",
       "77                              The Little Prince   \n",
       "204                                      Sabotage   \n",
       "1593                               13 Going On 30   \n",
       "1785                               I'm Not There.   \n",
       "154                                   Seventh Son   \n",
       "937                                      Showtime   \n",
       "1230                             White House Down   \n",
       "521                                 Scary Movie 2   \n",
       "173                                       Blended   \n",
       "541                               The Last Castle   \n",
       "1080                       Katy Perry: Part of Me   \n",
       "1387                                   Flightplan   \n",
       "1100                                    Peter Pan   \n",
       "466   Cats & Dogs 2 : The Revenge of Kitty Galore   \n",
       "1147                                 Dreamcatcher   \n",
       "192                                         Selma   \n",
       "212                               I, Frankenstein   \n",
       "1629                                 White Chicks   \n",
       "1617                                   The Grudge   \n",
       "1694                                    Bee Movie   \n",
       "1149                               Down with Love   \n",
       "729                                   Source Code   \n",
       "\n",
       "                                                   cast  \\\n",
       "475   Zoe Saldana|James Marsden|Martin Lawrence|Pete...   \n",
       "467   Will Forte|Kristen Wiig|Val Kilmer|Ryan Philli...   \n",
       "743   Bradley Cooper|Ed Helms|Zach Galifianakis|Just...   \n",
       "77    Jeff Bridges|Rachel McAdams|Paul Rudd|Marion C...   \n",
       "204   Arnold Schwarzenegger|Sam Worthington|Mireille...   \n",
       "1593  Jennifer Garner|Mark Ruffalo|Judy Greer|Andy S...   \n",
       "1785  Cate Blanchett|Heath Ledger|Julianne Moore|Ben...   \n",
       "154   Jeff Bridges|Julianne Moore|Ben Barnes|Alicia ...   \n",
       "937   Robert De Niro|Rachael Harris|Eddie Murphy|Zai...   \n",
       "1230  Channing Tatum|Jamie Foxx|Joey King|Maggie Gyl...   \n",
       "521   Anna Faris|Marlon Wayans|James DeBello|Shawn W...   \n",
       "173   Drew Barrymore|Adam Sandler|Wendi McLendon-Cov...   \n",
       "541   Robert Redford|James Gandolfini|Mark Ruffalo|S...   \n",
       "1080  Katy Perry|Russell Brand|Shannon Woodward|Rach...   \n",
       "1387  Jodie Foster|Peter Sarsgaard|Sean Bean|Kate Be...   \n",
       "1100  Jeremy Sumpter|Jason Isaacs|Rachel Hurd-Wood|R...   \n",
       "466   James Marsden|Nick Nolte|Christina Applegate|B...   \n",
       "1147  Morgan Freeman|Thomas Jane|Jason Lee|Damian Le...   \n",
       "192   David Oyelowo|Tom Wilkinson|Carmen Ejogo|AndrÃ...   \n",
       "212   Aaron Eckhart|Yvonne Strahovski|Bill Nighy|Jai...   \n",
       "1629  Shawn Wayans|Marlon Wayans|Jaime King|Frankie ...   \n",
       "1617  Sarah Michelle Gellar|Jason Behr|William Mapot...   \n",
       "1694  Jerry Seinfeld|RenÃ©e Zellweger|Matthew Broder...   \n",
       "1149  RenÃ©e Zellweger|Ewan McGregor|Sarah Paulson|D...   \n",
       "729   Jake Gyllenhaal|Michelle Monaghan|Vera Farmiga...   \n",
       "\n",
       "                          director  \\\n",
       "475                    Neil LaBute   \n",
       "467                  Jorma Taccone   \n",
       "743                  Todd Phillips   \n",
       "77                    Mark Osborne   \n",
       "204                     David Ayer   \n",
       "1593                   Gary Winick   \n",
       "1785                   Todd Haynes   \n",
       "154                  Sergey Bodrov   \n",
       "937                        Tom Dey   \n",
       "1230               Roland Emmerich   \n",
       "521            Keenen Ivory Wayans   \n",
       "173                   Frank Coraci   \n",
       "541                      Rod Lurie   \n",
       "1080     Dan Cutforth|Jane Lipsitz   \n",
       "1387              Robert Schwentke   \n",
       "1100                    P.J. Hogan   \n",
       "466                    Brad Peyton   \n",
       "1147               Lawrence Kasdan   \n",
       "192                   Ava DuVernay   \n",
       "212                 Stuart Beattie   \n",
       "1629           Keenen Ivory Wayans   \n",
       "1617               Takashi Shimizu   \n",
       "1694  Steve Hickner|Simon J. Smith   \n",
       "1149                   Peyton Reed   \n",
       "729                   Duncan Jones   \n",
       "\n",
       "                                                tagline  \\\n",
       "475                             This is one sad family.   \n",
       "467                             He's the ultimate tool.   \n",
       "743                                The Wolfpack Is Back   \n",
       "77       Growing up isn't the problem... forgetting is.   \n",
       "204                                 Leave no loose ends   \n",
       "1593  For some, 13 feels like it was just yesterday....   \n",
       "1785              All I Can Do Is Be Me Whoever That Is   \n",
       "154   When darkness falls, the son will rise. When t...   \n",
       "937                        Lights. Camera. Aggravation.   \n",
       "1230                  It Will Start Like Any Other Day.   \n",
       "521   No More Mercy. No More Shame. No More Sequels ...   \n",
       "173       Single Dad, No Clue. Single Mum, Flying Solo.   \n",
       "541                     A Castle Can Only Have One King   \n",
       "1080                Be yourself and you can be anything   \n",
       "1387  If Someone Took Everything You Live For... How...   \n",
       "1100                   All children grow up except one.   \n",
       "466               Just like real spies... only furrier.   \n",
       "1147  A circle of friendship. A web of mystery. A pa...   \n",
       "192   Martin Luther King, Lyndon Baines Johnson and ...   \n",
       "212   In the battle between good and evil, an immort...   \n",
       "1629                     They're going deep undercover.   \n",
       "1617               It never forgives. It never forgets.   \n",
       "1694                                  Born to bee wild.   \n",
       "1149               The ultimate catch has met his match   \n",
       "729                             Make Every Second Count   \n",
       "\n",
       "                                               overview  runtime  \\\n",
       "475   Aaron's father's funeral is today at the famil...       92   \n",
       "467   Ex-special operative MacGruber (Forte) is call...       90   \n",
       "743   The Hangover crew heads to Thailand for Stu's ...      102   \n",
       "77    Based on the best-seller book 'The Little Prin...       92   \n",
       "204   In \"Sabotage\", Arnold Schwarzenegger leads an ...      110   \n",
       "1593  After total humiliation at her thirteenth birt...       98   \n",
       "1785  Six actors portray six personas of music legen...      135   \n",
       "154   John Gregory, who is a seventh son of a sevent...      102   \n",
       "937   A spoof of buddy cop movies where two very dif...       95   \n",
       "1230  Capitol Policeman John Cale has just been deni...      131   \n",
       "521   While the original parodied slasher flicks lik...       83   \n",
       "173   After a bad blind date, a man and woman find t...      117   \n",
       "541   A Court Martialed general rallies together 120...      131   \n",
       "1080  Giving fans unprecedented access to the real l...       93   \n",
       "1387  A claustrophobic, Hitchcockian thriller. A ber...       98   \n",
       "1100  In stifling Edwardian London, Wendy Darling me...      113   \n",
       "466   The ongoing war between the canine and feline ...       82   \n",
       "1147  Four boyhood pals perform a heroic act and are...      136   \n",
       "192   \"Selma,\" as in Alabama, the place where segreg...      127   \n",
       "212   200 years after his shocking creation, Dr. Fra...       92   \n",
       "1629  Two FBI agent brothers, Marcus and Kevin Copel...      109   \n",
       "1617  Karen Davis is an American Nurse moves to Toky...       92   \n",
       "1694  Barry B. Benson, a bee who has just graduated ...       91   \n",
       "1149  Aaaah... it's New York City in 1962, and love ...      101   \n",
       "729   Decorated soldier Captain Colter Stevens wakes...       93   \n",
       "\n",
       "                                     genres  \\\n",
       "475                                  Comedy   \n",
       "467                 Action|Adventure|Comedy   \n",
       "743                                  Comedy   \n",
       "77              Adventure|Animation|Fantasy   \n",
       "204             Action|Drama|Thriller|Crime   \n",
       "1593                 Comedy|Fantasy|Romance   \n",
       "1785                            Drama|Music   \n",
       "154                       Adventure|Fantasy   \n",
       "937                           Action|Comedy   \n",
       "1230                  Action|Drama|Thriller   \n",
       "521                                  Comedy   \n",
       "173                                  Comedy   \n",
       "541                   Action|Drama|Thriller   \n",
       "1080                      Documentary|Music   \n",
       "1387                 Thriller|Drama|Mystery   \n",
       "1100               Adventure|Fantasy|Family   \n",
       "466                           Comedy|Family   \n",
       "1147  Drama|Horror|Science Fiction|Thriller   \n",
       "192                           History|Drama   \n",
       "212                         Horror|Thriller   \n",
       "1629                                 Comedy   \n",
       "1617                Horror|Thriller|Mystery   \n",
       "1694      Family|Animation|Adventure|Comedy   \n",
       "1149         Action|Comedy|Romance|Thriller   \n",
       "729        Thriller|Science Fiction|Mystery   \n",
       "\n",
       "                                   production_companies release_date  \\\n",
       "475                      Parabolic Pictures|Screen Gems    4/15/2010   \n",
       "467                                    Relativity Media    5/21/2010   \n",
       "743   Legendary Pictures|Living Films|Green Hat Film...    5/25/2011   \n",
       "77    Onyx Films|Orange Studios|CityMation|On Entert...    7/29/2015   \n",
       "204   Open Road Films|QED International|Albert S. Ru...    3/28/2014   \n",
       "1593  Columbia Pictures|Revolution Studios|Thirteen ...    4/13/2004   \n",
       "1785  Endgame Entertainment|Rising Star|Killer Films...    10/1/2007   \n",
       "154   Legendary Pictures|Thunder Road Pictures|Outla...   12/12/2014   \n",
       "937   Village Roadshow Pictures|NPV Entertainment|Wa...    3/14/2002   \n",
       "1230  Columbia Pictures|Centropolis Entertainment|Ir...    6/27/2013   \n",
       "521   Gold/Miller Productions|Wayans Bros. Entertain...     7/4/2001   \n",
       "173   Happy Madison Productions|Karz Entertainment|W...    5/21/2014   \n",
       "541                                      DreamWorks SKG   10/19/2001   \n",
       "1080  Paramount Pictures|Imagine Entertainment|MTV F...    6/28/2012   \n",
       "1387          Imagine Entertainment|Touchstone Pictures    9/22/2005   \n",
       "1100  Columbia Pictures|Universal Pictures|Revolutio...   12/25/2003   \n",
       "466                           Village Roadshow Pictures    7/30/2010   \n",
       "1147  Village Roadshow Pictures|Castle Rock Entertai...    3/21/2003   \n",
       "192   Plan B Entertainment|Harpo Films|Celador Films...   12/25/2014   \n",
       "212   Lakeshore Entertainment|Sidney Kimmel Entertai...    1/22/2014   \n",
       "1629  Columbia Pictures|Revolution Studios|Wayans Br...    6/23/2004   \n",
       "1617  Ghost House Pictures|Vertigo Entertainment|Sen...   10/22/2004   \n",
       "1694  Pacific Data Images (PDI)|DreamWorks Animation...   10/28/2007   \n",
       "1149  Regency Enterprises|Fox 2000 Pictures|Epsilon ...     5/8/2003   \n",
       "729            The Mark Gordon Company|Vendome Pictures    3/30/2011   \n",
       "\n",
       "      vote_average  release_year  \n",
       "475            5.7          2010  \n",
       "467            5.2          2010  \n",
       "743            6.1          2011  \n",
       "77             7.5          2015  \n",
       "204            5.4          2014  \n",
       "1593           6.1          2004  \n",
       "1785           6.5          2007  \n",
       "154            5.1          2014  \n",
       "937            5.2          2002  \n",
       "1230           6.4          2013  \n",
       "521            5.5          2001  \n",
       "173            6.7          2014  \n",
       "541            7.1          2001  \n",
       "1080           6.5          2012  \n",
       "1387           6.0          2005  \n",
       "1100           6.7          2003  \n",
       "466            5.0          2010  \n",
       "1147           5.1          2003  \n",
       "192            7.5          2014  \n",
       "212            5.1          2014  \n",
       "1629           6.4          2004  \n",
       "1617           5.8          2004  \n",
       "1694           5.6          2007  \n",
       "1149           6.0          2003  \n",
       "729            7.0          2011  "
      ]
     },
     "execution_count": 4,
     "metadata": {},
     "output_type": "execute_result"
    }
   ],
   "source": [
    "data = pd.read_csv('movie_bd_v5.csv')\n",
    "data.sample(25)"
   ]
  },
  {
   "cell_type": "code",
   "execution_count": 314,
   "metadata": {
    "colab": {},
    "colab_type": "code",
    "id": "CoYUnagMVp-C"
   },
   "outputs": [
    {
     "data": {
      "text/html": [
       "<div>\n",
       "<style scoped>\n",
       "    .dataframe tbody tr th:only-of-type {\n",
       "        vertical-align: middle;\n",
       "    }\n",
       "\n",
       "    .dataframe tbody tr th {\n",
       "        vertical-align: top;\n",
       "    }\n",
       "\n",
       "    .dataframe thead th {\n",
       "        text-align: right;\n",
       "    }\n",
       "</style>\n",
       "<table border=\"1\" class=\"dataframe\">\n",
       "  <thead>\n",
       "    <tr style=\"text-align: right;\">\n",
       "      <th></th>\n",
       "      <th>imdb_id</th>\n",
       "      <th>original_title</th>\n",
       "      <th>cast</th>\n",
       "      <th>director</th>\n",
       "      <th>tagline</th>\n",
       "      <th>overview</th>\n",
       "      <th>genres</th>\n",
       "      <th>production_companies</th>\n",
       "    </tr>\n",
       "  </thead>\n",
       "  <tbody>\n",
       "    <tr>\n",
       "      <th>count</th>\n",
       "      <td>1889</td>\n",
       "      <td>1889</td>\n",
       "      <td>1889</td>\n",
       "      <td>1889</td>\n",
       "      <td>1889</td>\n",
       "      <td>1889</td>\n",
       "      <td>1889</td>\n",
       "      <td>1889</td>\n",
       "    </tr>\n",
       "    <tr>\n",
       "      <th>unique</th>\n",
       "      <td>1889</td>\n",
       "      <td>1887</td>\n",
       "      <td>1878</td>\n",
       "      <td>957</td>\n",
       "      <td>1880</td>\n",
       "      <td>1889</td>\n",
       "      <td>652</td>\n",
       "      <td>1624</td>\n",
       "    </tr>\n",
       "    <tr>\n",
       "      <th>top</th>\n",
       "      <td>tt2103254</td>\n",
       "      <td>Fantastic Four</td>\n",
       "      <td>Elijah Wood|Ian McKellen|Viggo Mortensen|Liv T...</td>\n",
       "      <td>Steven Soderbergh</td>\n",
       "      <td>Misery loves family.</td>\n",
       "      <td>A drunken playboy stands to lose a wealthy inh...</td>\n",
       "      <td>Comedy</td>\n",
       "      <td>New Line Cinema</td>\n",
       "    </tr>\n",
       "    <tr>\n",
       "      <th>freq</th>\n",
       "      <td>1</td>\n",
       "      <td>2</td>\n",
       "      <td>3</td>\n",
       "      <td>13</td>\n",
       "      <td>2</td>\n",
       "      <td>1</td>\n",
       "      <td>141</td>\n",
       "      <td>21</td>\n",
       "    </tr>\n",
       "  </tbody>\n",
       "</table>\n",
       "</div>"
      ],
      "text/plain": [
       "          imdb_id  original_title  \\\n",
       "count        1889            1889   \n",
       "unique       1889            1887   \n",
       "top     tt2103254  Fantastic Four   \n",
       "freq            1               2   \n",
       "\n",
       "                                                     cast           director  \\\n",
       "count                                                1889               1889   \n",
       "unique                                               1878                957   \n",
       "top     Elijah Wood|Ian McKellen|Viggo Mortensen|Liv T...  Steven Soderbergh   \n",
       "freq                                                    3                 13   \n",
       "\n",
       "                     tagline  \\\n",
       "count                   1889   \n",
       "unique                  1880   \n",
       "top     Misery loves family.   \n",
       "freq                       2   \n",
       "\n",
       "                                                 overview  genres  \\\n",
       "count                                                1889    1889   \n",
       "unique                                               1889     652   \n",
       "top     A drunken playboy stands to lose a wealthy inh...  Comedy   \n",
       "freq                                                    1     141   \n",
       "\n",
       "       production_companies  \n",
       "count                  1889  \n",
       "unique                 1624  \n",
       "top         New Line Cinema  \n",
       "freq                     21  "
      ]
     },
     "execution_count": 314,
     "metadata": {},
     "output_type": "execute_result"
    }
   ],
   "source": [
    "data.describe(include='object')"
   ]
  },
  {
   "cell_type": "code",
   "execution_count": 20,
   "metadata": {},
   "outputs": [
    {
     "name": "stdout",
     "output_type": "stream",
     "text": [
      "<class 'pandas.core.frame.DataFrame'>\n",
      "RangeIndex: 1889 entries, 0 to 1888\n",
      "Data columns (total 15 columns):\n",
      " #   Column                Non-Null Count  Dtype  \n",
      "---  ------                --------------  -----  \n",
      " 0   imdb_id               1889 non-null   object \n",
      " 1   budget                1889 non-null   int64  \n",
      " 2   revenue               1889 non-null   int64  \n",
      " 3   original_title        1889 non-null   object \n",
      " 4   cast                  1889 non-null   object \n",
      " 5   director              1889 non-null   object \n",
      " 6   tagline               1889 non-null   object \n",
      " 7   overview              1889 non-null   object \n",
      " 8   runtime               1889 non-null   int64  \n",
      " 9   genres                1889 non-null   object \n",
      " 10  production_companies  1889 non-null   object \n",
      " 11  release_date          1889 non-null   object \n",
      " 12  vote_average          1889 non-null   float64\n",
      " 13  release_year          1889 non-null   int64  \n",
      " 14  profit                1889 non-null   int64  \n",
      "dtypes: float64(1), int64(5), object(9)\n",
      "memory usage: 221.5+ KB\n"
     ]
    }
   ],
   "source": [
    "data.info()"
   ]
  },
  {
   "cell_type": "code",
   "execution_count": 5,
   "metadata": {},
   "outputs": [
    {
     "data": {
      "text/plain": [
       "Index(['imdb_id', 'budget', 'revenue', 'original_title', 'cast', 'director',\n",
       "       'tagline', 'overview', 'runtime', 'genres', 'production_companies',\n",
       "       'release_date', 'vote_average', 'release_year'],\n",
       "      dtype='object')"
      ]
     },
     "execution_count": 5,
     "metadata": {},
     "output_type": "execute_result"
    }
   ],
   "source": [
    "data.columns"
   ]
  },
  {
   "cell_type": "markdown",
   "metadata": {
    "colab_type": "text",
    "id": "DTIt7ezGVp-G"
   },
   "source": [
    "# Предобработка"
   ]
  },
  {
   "cell_type": "code",
   "execution_count": 168,
   "metadata": {
    "colab": {},
    "colab_type": "code",
    "id": "jNb40DwKVp-H"
   },
   "outputs": [],
   "source": [
    "answers = {} # создадим словарь для ответов\n",
    "\n",
    "# тут другие ваши предобработки колонок например:\n",
    "\n",
    "#the time given in the dataset is in string format.\n",
    "#So we need to change this in datetime format\n",
    "# ..."
   ]
  },
  {
   "cell_type": "markdown",
   "metadata": {
    "colab_type": "text",
    "id": "YxZaH-nPVp-L"
   },
   "source": [
    "# 1. У какого фильма из списка самый большой бюджет?"
   ]
  },
  {
   "cell_type": "markdown",
   "metadata": {
    "colab_type": "text",
    "id": "Nd-G5gX6Vp-M"
   },
   "source": [
    "Использовать варианты ответов в коде решения запрещено.    \n",
    "Вы думаете и в жизни у вас будут варианты ответов?)"
   ]
  },
  {
   "cell_type": "code",
   "execution_count": 171,
   "metadata": {
    "colab": {},
    "colab_type": "code",
    "id": "uVnXAY5RVp-O"
   },
   "outputs": [],
   "source": [
    "# в словарь вставляем номер вопроса и ваш ответ на него\n",
    "# Пример: \n",
    "answers['1'] = '2. Spider-Man 3 (tt0413300)'\n",
    "# запишите свой вариант ответа\n",
    "answers['1'] = 'Pirates of the Caribbean: On Stranger Tides'\n",
    "# если ответили верно, можете добавить комментарий со значком \"+\""
   ]
  },
  {
   "cell_type": "code",
   "execution_count": 7,
   "metadata": {
    "colab": {},
    "colab_type": "code",
    "id": "dZwb3m28Vp-S"
   },
   "outputs": [
    {
     "data": {
      "text/plain": [
       "723    Pirates of the Caribbean: On Stranger Tides\n",
       "Name: original_title, dtype: object"
      ]
     },
     "execution_count": 7,
     "metadata": {},
     "output_type": "execute_result"
    }
   ],
   "source": [
    "# тут пишем ваш код для решения данного вопроса:\n",
    "data.original_title[data.budget == data.budget.max()]"
   ]
  },
  {
   "cell_type": "markdown",
   "metadata": {
    "colab_type": "text",
    "id": "K7L3nbRXVp-X"
   },
   "source": [
    "ВАРИАНТ 2"
   ]
  },
  {
   "cell_type": "code",
   "execution_count": 0,
   "metadata": {
    "colab": {},
    "colab_type": "code",
    "id": "OGaoQI7rVp-X"
   },
   "outputs": [],
   "source": [
    "# можно добавлять разные варианты решения"
   ]
  },
  {
   "cell_type": "markdown",
   "metadata": {
    "colab_type": "text",
    "id": "FNRbbI3vVp-c"
   },
   "source": [
    "# 2. Какой из фильмов самый длительный (в минутах)?"
   ]
  },
  {
   "cell_type": "code",
   "execution_count": 172,
   "metadata": {
    "colab": {},
    "colab_type": "code",
    "id": "vHAoEXNTVp-d"
   },
   "outputs": [],
   "source": [
    "# думаю логику работы с этим словарем вы уже поняли, \n",
    "# по этому не буду больше его дублировать\n",
    "answers['2'] = 'Gods and Generals'"
   ]
  },
  {
   "cell_type": "code",
   "execution_count": 8,
   "metadata": {
    "colab": {},
    "colab_type": "code",
    "id": "ot-VX2XrVp-g"
   },
   "outputs": [
    {
     "data": {
      "text/plain": [
       "1157    Gods and Generals\n",
       "Name: original_title, dtype: object"
      ]
     },
     "execution_count": 8,
     "metadata": {},
     "output_type": "execute_result"
    }
   ],
   "source": [
    "data.original_title[data.runtime == data.runtime.max()]"
   ]
  },
  {
   "cell_type": "markdown",
   "metadata": {
    "colab_type": "text",
    "id": "bapLlpW8Vp-k"
   },
   "source": [
    "# 3. Какой из фильмов самый короткий (в минутах)?\n",
    "\n",
    "\n",
    "\n"
   ]
  },
  {
   "cell_type": "code",
   "execution_count": 179,
   "metadata": {
    "colab": {},
    "colab_type": "code",
    "id": "YBxaSHuAVp-l"
   },
   "outputs": [
    {
     "data": {
      "text/plain": [
       "768    Winnie the Pooh\n",
       "Name: original_title, dtype: object"
      ]
     },
     "execution_count": 179,
     "metadata": {},
     "output_type": "execute_result"
    }
   ],
   "source": [
    "data.original_title[data.runtime == data.runtime.min()]\n"
   ]
  },
  {
   "cell_type": "code",
   "execution_count": 178,
   "metadata": {},
   "outputs": [],
   "source": [
    "answers['3'] = 'Winnie the Pooh'"
   ]
  },
  {
   "cell_type": "markdown",
   "metadata": {
    "colab_type": "text",
    "id": "TfQbxbfNVp-p"
   },
   "source": [
    "# 4. Какова средняя длительность фильмов?\n"
   ]
  },
  {
   "cell_type": "code",
   "execution_count": 180,
   "metadata": {
    "colab": {},
    "colab_type": "code",
    "id": "5K6dKZYVVp-q"
   },
   "outputs": [
    {
     "data": {
      "text/plain": [
       "110"
      ]
     },
     "execution_count": 180,
     "metadata": {},
     "output_type": "execute_result"
    }
   ],
   "source": [
    "round(data.runtime.mean())"
   ]
  },
  {
   "cell_type": "code",
   "execution_count": 181,
   "metadata": {},
   "outputs": [],
   "source": [
    "answers['4'] = '110'"
   ]
  },
  {
   "cell_type": "markdown",
   "metadata": {
    "colab_type": "text",
    "id": "r5TvbnT_Vp-u"
   },
   "source": [
    "# 5. Каково медианное значение длительности фильмов? "
   ]
  },
  {
   "cell_type": "code",
   "execution_count": 175,
   "metadata": {
    "colab": {},
    "colab_type": "code",
    "id": "iBROplKnVp-v"
   },
   "outputs": [
    {
     "data": {
      "text/plain": [
       "107.0"
      ]
     },
     "execution_count": 175,
     "metadata": {},
     "output_type": "execute_result"
    }
   ],
   "source": [
    "data.runtime.median()"
   ]
  },
  {
   "cell_type": "code",
   "execution_count": 182,
   "metadata": {},
   "outputs": [],
   "source": [
    "answers['5'] = '107'"
   ]
  },
  {
   "cell_type": "markdown",
   "metadata": {
    "colab_type": "text",
    "id": "39P-deDSVp-y"
   },
   "source": [
    "# 6. Какой самый прибыльный фильм?\n",
    "#### Внимание! Здесь и далее под «прибылью» или «убытками» понимается разность между сборами и бюджетом фильма. (прибыль = сборы - бюджет) в нашем датасете это будет (profit = revenue - budget) "
   ]
  },
  {
   "cell_type": "code",
   "execution_count": 5,
   "metadata": {
    "colab": {},
    "colab_type": "code",
    "id": "UYZh4T9WVp-y"
   },
   "outputs": [
    {
     "data": {
      "text/plain": [
       "239    Avatar\n",
       "Name: original_title, dtype: object"
      ]
     },
     "execution_count": 5,
     "metadata": {},
     "output_type": "execute_result"
    }
   ],
   "source": [
    "# лучше код получения столбца profit вынести в Предобработку что в начале\n",
    "data['profit'] = data.revenue - data.budget\n",
    "data.original_title[data.profit == data.profit.max()]"
   ]
  },
  {
   "cell_type": "code",
   "execution_count": 183,
   "metadata": {},
   "outputs": [],
   "source": [
    "answers['6'] = 'Avatar'"
   ]
  },
  {
   "cell_type": "markdown",
   "metadata": {
    "colab_type": "text",
    "id": "M99JmIX4Vp-2"
   },
   "source": [
    "# 7. Какой фильм самый убыточный? "
   ]
  },
  {
   "cell_type": "code",
   "execution_count": 31,
   "metadata": {},
   "outputs": [
    {
     "data": {
      "text/plain": [
       "1245    The Lone Ranger\n",
       "Name: original_title, dtype: object"
      ]
     },
     "execution_count": 31,
     "metadata": {},
     "output_type": "execute_result"
    }
   ],
   "source": [
    "data.original_title[data.profit == data.profit.min()]"
   ]
  },
  {
   "cell_type": "code",
   "execution_count": 197,
   "metadata": {},
   "outputs": [],
   "source": [
    "answers['7'] = 'The Lone Ranger'"
   ]
  },
  {
   "cell_type": "markdown",
   "metadata": {
    "colab_type": "text",
    "id": "wEOM5ERVVp-6"
   },
   "source": [
    "# 8. У скольких фильмов из датасета объем сборов оказался выше бюджета?"
   ]
  },
  {
   "cell_type": "code",
   "execution_count": 179,
   "metadata": {
    "colab": {},
    "colab_type": "code",
    "id": "y00_7HD6Vp-7"
   },
   "outputs": [
    {
     "data": {
      "text/plain": [
       "1478"
      ]
     },
     "execution_count": 179,
     "metadata": {},
     "output_type": "execute_result"
    }
   ],
   "source": [
    "data.imdb_id[data.profit > 0].count()\n"
   ]
  },
  {
   "cell_type": "code",
   "execution_count": 198,
   "metadata": {},
   "outputs": [],
   "source": [
    "answers['8'] = '1478'"
   ]
  },
  {
   "cell_type": "markdown",
   "metadata": {
    "colab_type": "text",
    "id": "xhpspA9KVp_A"
   },
   "source": [
    "# 9. Какой фильм оказался самым кассовым в 2008 году?"
   ]
  },
  {
   "cell_type": "code",
   "execution_count": 180,
   "metadata": {
    "colab": {},
    "colab_type": "code",
    "id": "MoUyQr9RVp_B"
   },
   "outputs": [
    {
     "data": {
      "text/plain": [
       "599    The Dark Knight\n",
       "Name: original_title, dtype: object"
      ]
     },
     "execution_count": 180,
     "metadata": {},
     "output_type": "execute_result"
    }
   ],
   "source": [
    "data.original_title[data.profit == data.profit[data.release_year == 2008].max()]\n"
   ]
  },
  {
   "cell_type": "code",
   "execution_count": 187,
   "metadata": {},
   "outputs": [],
   "source": [
    "answers['9'] = 'The Dark Knight'"
   ]
  },
  {
   "cell_type": "markdown",
   "metadata": {
    "colab_type": "text",
    "id": "Zi4hDKidVp_F"
   },
   "source": [
    "# 10. Самый убыточный фильм за период с 2012 по 2014 г. (включительно)?\n"
   ]
  },
  {
   "cell_type": "code",
   "execution_count": 181,
   "metadata": {
    "colab": {},
    "colab_type": "code",
    "id": "XqyRmufJVp_F"
   },
   "outputs": [
    {
     "data": {
      "text/plain": [
       "1245    The Lone Ranger\n",
       "Name: original_title, dtype: object"
      ]
     },
     "execution_count": 181,
     "metadata": {},
     "output_type": "execute_result"
    }
   ],
   "source": [
    "data.original_title[data.profit == data.profit[(data.release_year <= 2014) & (data.release_year >= 2012)].min()]"
   ]
  },
  {
   "cell_type": "code",
   "execution_count": 188,
   "metadata": {},
   "outputs": [],
   "source": [
    "answers['10'] = 'The Lone Ranger'"
   ]
  },
  {
   "cell_type": "markdown",
   "metadata": {
    "colab_type": "text",
    "id": "EA7Sa9dkVp_I"
   },
   "source": [
    "# 11. Какого жанра фильмов больше всего?"
   ]
  },
  {
   "cell_type": "code",
   "execution_count": 195,
   "metadata": {
    "colab": {},
    "colab_type": "code",
    "id": "zsJAwJ8QVp_J"
   },
   "outputs": [
    {
     "data": {
      "text/plain": [
       "'Drama'"
      ]
     },
     "execution_count": 195,
     "metadata": {},
     "output_type": "execute_result"
    }
   ],
   "source": [
    "# эту задачу тоже можно решать разными подходами, попробуй реализовать разные варианты\n",
    "# если будешь добавлять функцию - выноси ее в предобработку что в начале\n",
    "genres_list = data.genres.str.cat(sep='|').split('|')\n",
    "Counter(genres_list).most_common(1)[0][0]"
   ]
  },
  {
   "cell_type": "markdown",
   "metadata": {
    "colab_type": "text",
    "id": "Ax6g2C8SVp_M"
   },
   "source": [
    "ВАРИАНТ 2"
   ]
  },
  {
   "cell_type": "code",
   "execution_count": 10,
   "metadata": {},
   "outputs": [
    {
     "data": {
      "text/plain": [
       "'Drama'"
      ]
     },
     "execution_count": 10,
     "metadata": {},
     "output_type": "execute_result"
    }
   ],
   "source": [
    "genres_list = pd.Series(data.genres.str.cat(sep='|').split('|'))\n",
    "genres_list.describe()['top']"
   ]
  },
  {
   "cell_type": "markdown",
   "metadata": {},
   "source": [
    "ВАРИАНТ 3"
   ]
  },
  {
   "cell_type": "code",
   "execution_count": 7,
   "metadata": {},
   "outputs": [
    {
     "data": {
      "text/plain": [
       "'Drama'"
      ]
     },
     "execution_count": 7,
     "metadata": {},
     "output_type": "execute_result"
    }
   ],
   "source": [
    "genres = data.genres.apply(lambda x: x.split('|'))\n",
    "loop = {}\n",
    "for i in genres:\n",
    "    for g in i:\n",
    "        if g in loop:\n",
    "            loop[g] +=1\n",
    "        else: loop[g] = 1\n",
    "sorted(loop, key=loop.get, reverse=True)[0]"
   ]
  },
  {
   "cell_type": "code",
   "execution_count": null,
   "metadata": {},
   "outputs": [],
   "source": [
    "answers['11'] = 'Drama'"
   ]
  },
  {
   "cell_type": "markdown",
   "metadata": {
    "colab_type": "text",
    "id": "T9_bPWpkVp_Q"
   },
   "source": [
    "# 12. Фильмы какого жанра чаще всего становятся прибыльными? "
   ]
  },
  {
   "cell_type": "code",
   "execution_count": 269,
   "metadata": {
    "colab": {},
    "colab_type": "code",
    "id": "Tmt8MaK1Vp_R"
   },
   "outputs": [
    {
     "data": {
      "text/plain": [
       "'Drama'"
      ]
     },
     "execution_count": 269,
     "metadata": {},
     "output_type": "execute_result"
    }
   ],
   "source": [
    "profit_data = data[data.profit > 0]\n",
    "genres_list = profit_data.genres.str.cat(sep='|').split('|')\n",
    "Counter(genres_list).most_common(1)[0][0]"
   ]
  },
  {
   "cell_type": "code",
   "execution_count": 8,
   "metadata": {},
   "outputs": [
    {
     "data": {
      "text/plain": [
       "'Drama'"
      ]
     },
     "execution_count": 8,
     "metadata": {},
     "output_type": "execute_result"
    }
   ],
   "source": [
    "profit_data = data[data.profit > 0]\n",
    "genres_list = pd.Series(profit_data.genres.str.cat(sep='|').split('|'))\n",
    "genres_list.describe()['top']"
   ]
  },
  {
   "cell_type": "code",
   "execution_count": 216,
   "metadata": {},
   "outputs": [],
   "source": [
    "answers['12'] = 'Drama'"
   ]
  },
  {
   "cell_type": "markdown",
   "metadata": {
    "colab_type": "text",
    "id": "0F23bgsDVp_U"
   },
   "source": [
    "# 13. У какого режиссера самые большие суммарные кассовые сбооры?"
   ]
  },
  {
   "cell_type": "code",
   "execution_count": 184,
   "metadata": {
    "colab": {},
    "colab_type": "code",
    "id": "K6Z3J8ygVp_X"
   },
   "outputs": [
    {
     "data": {
      "text/plain": [
       "director\n",
       "Peter Jackson    5202593685\n",
       "Name: profit, dtype: int64"
      ]
     },
     "execution_count": 184,
     "metadata": {},
     "output_type": "execute_result"
    }
   ],
   "source": [
    "data.groupby('director')['profit'].sum().sort_values(ascending=False)[:1]"
   ]
  },
  {
   "cell_type": "code",
   "execution_count": 194,
   "metadata": {},
   "outputs": [],
   "source": [
    "answers['13'] = 'Peter Jackson'"
   ]
  },
  {
   "cell_type": "markdown",
   "metadata": {
    "colab_type": "text",
    "id": "PsYC9FgRVp_a"
   },
   "source": [
    "# 14. Какой режисер снял больше всего фильмов в стиле Action?"
   ]
  },
  {
   "cell_type": "code",
   "execution_count": 194,
   "metadata": {},
   "outputs": [
    {
     "data": {
      "text/plain": [
       "'Robert Rodriguez'"
      ]
     },
     "execution_count": 194,
     "metadata": {},
     "output_type": "execute_result"
    }
   ],
   "source": [
    "director_list = data.director[data.genres.str.contains('Action')].str.cat(sep='|').split('|')\n",
    "Counter(director_list).most_common(1)[0][0]"
   ]
  },
  {
   "cell_type": "code",
   "execution_count": 188,
   "metadata": {},
   "outputs": [
    {
     "data": {
      "text/plain": [
       "[('Robert Rodriguez', 9)]"
      ]
     },
     "execution_count": 188,
     "metadata": {},
     "output_type": "execute_result"
    }
   ],
   "source": [
    "Counter(director_list).most_common(1)"
   ]
  },
  {
   "cell_type": "code",
   "execution_count": 217,
   "metadata": {},
   "outputs": [],
   "source": [
    "answers['14'] = 'Robert Rodriguez'"
   ]
  },
  {
   "cell_type": "markdown",
   "metadata": {
    "colab_type": "text",
    "id": "PQ0KciD7Vp_f"
   },
   "source": [
    "# 15. Фильмы с каким актером принесли самые высокие кассовые сборы в 2012 году? "
   ]
  },
  {
   "cell_type": "code",
   "execution_count": 242,
   "metadata": {},
   "outputs": [
    {
     "data": {
      "text/plain": [
       "'Chris Hemsworth'"
      ]
     },
     "execution_count": 242,
     "metadata": {},
     "output_type": "execute_result"
    }
   ],
   "source": [
    "data[data.release_year == 2012]\n",
    "data_2012 = data[data.release_year == 2012]\n",
    "cast_list = data_2012.cast.str.cat(sep = '|').split('|')\n",
    "cast_revenue_dict = {x:data_2012.revenue[data_2012.cast.str.contains(x)].sum() for x in cast_list}\n",
    "sorted(cast_revenue_dict, key=cast_revenue_dict.get, reverse=True)[0]"
   ]
  },
  {
   "cell_type": "code",
   "execution_count": 200,
   "metadata": {},
   "outputs": [],
   "source": [
    "answers['15'] = 'Chris Hemsworth'"
   ]
  },
  {
   "cell_type": "markdown",
   "metadata": {
    "colab_type": "text",
    "id": "mWHyyL7QVp_j"
   },
   "source": [
    "# 16. Какой актер снялся в большем количестве высокобюджетных фильмов?"
   ]
  },
  {
   "cell_type": "code",
   "execution_count": 262,
   "metadata": {},
   "outputs": [
    {
     "data": {
      "text/plain": [
       "'Matt Damon'"
      ]
     },
     "execution_count": 262,
     "metadata": {},
     "output_type": "execute_result"
    }
   ],
   "source": [
    "budget_data = data[data.budget > data.budget.mean()]\n",
    "cast_list = budget_data.cast.str.cat(sep = '|').split('|')\n",
    "hb_actors = pd.Series({x:budget_data.imdb_id[budget_data.cast.str.contains(x)].count() for x in cast_list})\n",
    "hb_actors.sort_values(ascending=False).index[0]"
   ]
  },
  {
   "cell_type": "code",
   "execution_count": 201,
   "metadata": {},
   "outputs": [],
   "source": [
    "answers['16'] = 'Matt Damon'"
   ]
  },
  {
   "cell_type": "markdown",
   "metadata": {
    "colab_type": "text",
    "id": "NIh6AaW5Vp_n"
   },
   "source": [
    "# 17. В фильмах какого жанра больше всего снимался Nicolas Cage? "
   ]
  },
  {
   "cell_type": "code",
   "execution_count": 266,
   "metadata": {
    "colab": {},
    "colab_type": "code",
    "id": "H74SJDIBVp_n"
   },
   "outputs": [
    {
     "data": {
      "text/plain": [
       "'Action'"
      ]
     },
     "execution_count": 266,
     "metadata": {},
     "output_type": "execute_result"
    }
   ],
   "source": [
    "nicolas_data = data[data.cast.str.contains('Nicolas Cage')]\n",
    "nicolas_genres = nicolas_data.genres.str.cat(sep='|').split('|')\n",
    "Counter(nicolas_genres).most_common(1)[0][0]"
   ]
  },
  {
   "cell_type": "code",
   "execution_count": 202,
   "metadata": {},
   "outputs": [],
   "source": [
    "answers['17'] = 'Action'"
   ]
  },
  {
   "cell_type": "markdown",
   "metadata": {
    "colab_type": "text",
    "id": "RqOmPRfWVp_q"
   },
   "source": [
    "# 18. Самый убыточный фильм от Paramount Pictures"
   ]
  },
  {
   "cell_type": "code",
   "execution_count": 276,
   "metadata": {
    "colab": {},
    "colab_type": "code",
    "id": "9E_B0Y96Vp_r"
   },
   "outputs": [
    {
     "data": {
      "text/plain": [
       "925    K-19: The Widowmaker\n",
       "Name: original_title, dtype: object"
      ]
     },
     "execution_count": 276,
     "metadata": {},
     "output_type": "execute_result"
    }
   ],
   "source": [
    "data2 = data[(data.production_companies.str.contains('Paramount Pictures')) & (data.profit < 0)]\n",
    "data2.original_title[data2.profit == data2.profit.min()]\n"
   ]
  },
  {
   "cell_type": "code",
   "execution_count": 203,
   "metadata": {},
   "outputs": [],
   "source": [
    "answers['18'] = 'K-19: The Widowmaker'"
   ]
  },
  {
   "cell_type": "markdown",
   "metadata": {
    "colab_type": "text",
    "id": "vS8Ur6ddVp_u"
   },
   "source": [
    "# 19. Какой год стал самым успешным по суммарным кассовым сборам?"
   ]
  },
  {
   "cell_type": "code",
   "execution_count": 280,
   "metadata": {
    "colab": {},
    "colab_type": "code",
    "id": "Dnbt4GdIVp_v"
   },
   "outputs": [
    {
     "data": {
      "text/plain": [
       "2015"
      ]
     },
     "execution_count": 280,
     "metadata": {},
     "output_type": "execute_result"
    }
   ],
   "source": [
    "data.groupby('release_year')['revenue'].sum().sort_values(ascending=False).index[0]"
   ]
  },
  {
   "cell_type": "code",
   "execution_count": 204,
   "metadata": {},
   "outputs": [],
   "source": [
    "answers['19'] = '2015'"
   ]
  },
  {
   "cell_type": "markdown",
   "metadata": {
    "colab_type": "text",
    "id": "JAzJh4QAVp_z"
   },
   "source": [
    "# 20. Какой самый прибыльный год для студии Warner Bros?"
   ]
  },
  {
   "cell_type": "code",
   "execution_count": 282,
   "metadata": {
    "colab": {},
    "colab_type": "code",
    "id": "wgVu02DEVp_0"
   },
   "outputs": [
    {
     "data": {
      "text/plain": [
       "2014"
      ]
     },
     "execution_count": 282,
     "metadata": {},
     "output_type": "execute_result"
    }
   ],
   "source": [
    "data_WB = data[data.production_companies.str.contains('Warner Bros')]\n",
    "data_WB.groupby('release_year')['revenue'].sum().sort_values(ascending=False).index[0]"
   ]
  },
  {
   "cell_type": "code",
   "execution_count": 205,
   "metadata": {},
   "outputs": [],
   "source": [
    "answers['20'] = '2014'"
   ]
  },
  {
   "cell_type": "markdown",
   "metadata": {
    "colab_type": "text",
    "id": "8Im1S2HRVp_4"
   },
   "source": [
    "# 21. В каком месяце за все годы суммарно вышло больше всего фильмов?"
   ]
  },
  {
   "cell_type": "code",
   "execution_count": 81,
   "metadata": {},
   "outputs": [
    {
     "data": {
      "text/plain": [
       "'9'"
      ]
     },
     "execution_count": 81,
     "metadata": {},
     "output_type": "execute_result"
    }
   ],
   "source": [
    "data['release_date'] = pd.to_datetime(data['release_date'])\n",
    "data['month'] = data['release_date'].dt.month.astype('str')\n",
    "data.describe(include='object')['month']['top']"
   ]
  },
  {
   "cell_type": "code",
   "execution_count": 206,
   "metadata": {},
   "outputs": [],
   "source": [
    "answers['20'] = '2014'"
   ]
  },
  {
   "cell_type": "markdown",
   "metadata": {
    "colab_type": "text",
    "id": "uAJsZ_NeVp_7"
   },
   "source": [
    "# 22. Сколько суммарно вышло фильмов летом? (за июнь, июль, август)"
   ]
  },
  {
   "cell_type": "code",
   "execution_count": 82,
   "metadata": {
    "colab": {},
    "colab_type": "code",
    "id": "Aa-hEREoVp_8"
   },
   "outputs": [
    {
     "data": {
      "text/plain": [
       "530"
      ]
     },
     "execution_count": 82,
     "metadata": {},
     "output_type": "execute_result"
    }
   ],
   "source": [
    "data['release_date'] = pd.to_datetime(data['release_date'])\n",
    "data['month'] = data['release_date'].dt.month\n",
    "data.month[(data.month == 7)|(data.month == 8)|(data.month == 9)].count()"
   ]
  },
  {
   "cell_type": "code",
   "execution_count": 207,
   "metadata": {},
   "outputs": [],
   "source": [
    "answers['21'] = '530'"
   ]
  },
  {
   "cell_type": "code",
   "execution_count": 83,
   "metadata": {},
   "outputs": [
    {
     "data": {
      "text/plain": [
       "450"
      ]
     },
     "execution_count": 83,
     "metadata": {},
     "output_type": "execute_result"
    }
   ],
   "source": [
    "data['release_date'] = pd.to_datetime(data['release_date'])\n",
    "data['month'] = data['release_date'].dt.month.astype('str')\n",
    "data.month[(data.month == '6')|(data.month == '7')|(data.month == '8')].count()"
   ]
  },
  {
   "cell_type": "code",
   "execution_count": 208,
   "metadata": {},
   "outputs": [],
   "source": [
    "answers['22'] = '450'"
   ]
  },
  {
   "cell_type": "markdown",
   "metadata": {
    "colab_type": "text",
    "id": "G94ppOY1VqAA"
   },
   "source": [
    "# 23. Для какого режиссера зима – самое продуктивное время года? "
   ]
  },
  {
   "cell_type": "code",
   "execution_count": 158,
   "metadata": {
    "colab": {},
    "colab_type": "code",
    "id": "RhNTsamuVqAB"
   },
   "outputs": [
    {
     "data": {
      "text/plain": [
       "'Peter Jackson'"
      ]
     },
     "execution_count": 158,
     "metadata": {},
     "output_type": "execute_result"
    }
   ],
   "source": [
    "winter_data = data[(data.month == '1')|(data.month == '2')|(data.month == '12')]\n",
    "winter_dir = winter_data.director.str.cat(sep='|').split('|')\n",
    "winter_dir\n",
    "Counter(winter_dir).most_common(1)[0][0]"
   ]
  },
  {
   "cell_type": "code",
   "execution_count": 209,
   "metadata": {},
   "outputs": [],
   "source": [
    "answers['23'] = 'Peter Jackson'"
   ]
  },
  {
   "cell_type": "markdown",
   "metadata": {
    "colab_type": "text",
    "id": "RBo0JVjVVqAF"
   },
   "source": [
    "# 24. Какая студия дает самые длинные названия своим фильмам по количеству символов?"
   ]
  },
  {
   "cell_type": "code",
   "execution_count": 113,
   "metadata": {},
   "outputs": [
    {
     "data": {
      "text/plain": [
       "'Four By Two Productions'"
      ]
     },
     "execution_count": 113,
     "metadata": {},
     "output_type": "execute_result"
    }
   ],
   "source": [
    "data['len_name'] = data.original_title.apply(lambda x: len(x))\n",
    "companies_list = data.production_companies.str.cat(sep=\"|\").split(\"|\")\n",
    "companies_dict = {x:list(data.len_name[data.production_companies.str.contains(x)]) for x in companies_list}\n",
    "companies_dict_2 = {}\n",
    "for companies in companies_dict:\n",
    "    if len(companies_dict[companies]) != 0:\n",
    "        companies_dict_2[companies] = companies_dict[companies]\n",
    "final_dict = {x:sum(companies_dict_2[x])/len(companies_dict_2[x]) for x in companies_dict_2}\n",
    "sorted(final_dict, key=final_dict.get, reverse=True)[0]"
   ]
  },
  {
   "cell_type": "code",
   "execution_count": 210,
   "metadata": {},
   "outputs": [],
   "source": [
    "answers['24'] = 'Four By Two Productions'"
   ]
  },
  {
   "cell_type": "markdown",
   "metadata": {
    "colab_type": "text",
    "id": "9G0hbvR7VqAK"
   },
   "source": [
    "# 25. Описание фильмов какой студии в среднем самые длинные по количеству слов?"
   ]
  },
  {
   "cell_type": "code",
   "execution_count": 114,
   "metadata": {
    "colab": {},
    "colab_type": "code",
    "id": "Ge2GsLNxVqAK"
   },
   "outputs": [
    {
     "data": {
      "text/plain": [
       "'Midnight Picture Show'"
      ]
     },
     "execution_count": 114,
     "metadata": {},
     "output_type": "execute_result"
    }
   ],
   "source": [
    "data['words_overview'] = data.overview.apply(lambda x: len(x.split(\" \")))\n",
    "companies_list = data.production_companies.str.cat(sep=\"|\").split(\"|\")\n",
    "companies_dict = {x:list(data.words_overview[data.production_companies.str.contains(x)]) for x in companies_list}\n",
    "companies_dict_2 = {}\n",
    "for companies in companies_dict:\n",
    "    if len(companies_dict[companies]) != 0:\n",
    "        companies_dict_2[companies] = companies_dict[companies]\n",
    "final_dict = {x:sum(companies_dict_2[x])/len(companies_dict_2[x]) for x in companies_dict_2}\n",
    "sorted(final_dict, key=final_dict.get, reverse=True)[0]"
   ]
  },
  {
   "cell_type": "code",
   "execution_count": 211,
   "metadata": {},
   "outputs": [],
   "source": [
    "answers['25'] = 'Midnight Picture Show'"
   ]
  },
  {
   "cell_type": "markdown",
   "metadata": {
    "colab_type": "text",
    "id": "FJ1AFt90VqAP"
   },
   "source": [
    "# 26. Какие фильмы входят в 1 процент лучших по рейтингу? \n",
    "по vote_average"
   ]
  },
  {
   "cell_type": "code",
   "execution_count": 67,
   "metadata": {
    "colab": {},
    "colab_type": "code",
    "id": "8qmJVq4CVqAQ"
   },
   "outputs": [
    {
     "data": {
      "text/plain": [
       "9                                          Inside Out\n",
       "34                                               Room\n",
       "118                                      Interstellar\n",
       "119                           Guardians of the Galaxy\n",
       "125                                The Imitation Game\n",
       "128                                         Gone Girl\n",
       "138                          The Grand Budapest Hotel\n",
       "370                                         Inception\n",
       "599                                   The Dark Knight\n",
       "872                                       The Pianist\n",
       "1081    The Lord of the Rings: The Return of the King\n",
       "1183                          The Wolf of Wall Street\n",
       "1191                                 12 Years a Slave\n",
       "1800                                          Memento\n",
       "Name: original_title, dtype: object"
      ]
     },
     "execution_count": 67,
     "metadata": {},
     "output_type": "execute_result"
    }
   ],
   "source": [
    "data.original_title[data.vote_average > data.vote_average.quantile(q=0.99)]"
   ]
  },
  {
   "cell_type": "code",
   "execution_count": 212,
   "metadata": {},
   "outputs": [],
   "source": [
    "answers['26'] = 'Inside Out, The Dark Knight, 12 Years a Slave'"
   ]
  },
  {
   "cell_type": "markdown",
   "metadata": {
    "colab_type": "text",
    "id": "MdXsUXbCVqAV"
   },
   "source": [
    "# 27. Какие актеры чаще всего снимаются в одном фильме вместе?\n"
   ]
  },
  {
   "cell_type": "code",
   "execution_count": 219,
   "metadata": {},
   "outputs": [
    {
     "data": {
      "text/plain": [
       "{'Johnny Depp|Helena Bonham Carter': 6,\n",
       " 'Ben Stiller|Owen Wilson': 6,\n",
       " 'Vin Diesel|Paul Walker': 5,\n",
       " 'Adam Sandler|Kevin James': 5,\n",
       " 'Daniel Radcliffe|Rupert Grint': 8}"
      ]
     },
     "execution_count": 219,
     "metadata": {},
     "output_type": "execute_result"
    }
   ],
   "source": [
    "actors_duet = {'Johnny Depp|Helena Bonham Carter':0, 'Ben Stiller|Owen Wilson':0, 'Vin Diesel|Paul Walker':0, \n",
    "               'Adam Sandler|Kevin James':0, 'Daniel Radcliffe|Rupert Grint':0}\n",
    "for actors in actors_duet.keys():\n",
    "    actors_duet[actors] = data.original_title[(data.cast.str.contains(actors.split('|')[0]))&(data.cast.str.contains(actors.split('|')[1]))].count()\n",
    "sorted(actors_duet, key=actors_duet.get, reverse=True)[0] \n",
    "actors_duet\n",
    "\n",
    "\n"
   ]
  },
  {
   "cell_type": "markdown",
   "metadata": {
    "colab_type": "text",
    "id": "4ymnxEVoVqAW"
   },
   "source": [
    "ВАРИАНТ 2"
   ]
  },
  {
   "cell_type": "code",
   "execution_count": null,
   "metadata": {},
   "outputs": [],
   "source": [
    "actors = list(set(data.cast.str.cat(sep='|').split('|')))\n",
    "actors_column = pd.DataFrame({'actor':actors, 'movies_count':[data.original_title[data.cast.str.contains(x)].count() for x in actors]})\n",
    "actors_column_2 = actors_column[actors_column.movies_count > round(actors_column.movies_count.mean())]\n",
    "top_actors = list(actors_column_2.actor)\n",
    "pairs_actors = list(it.combinations(top_actors, 2))\n",
    "pairs_actors_dict = {}\n",
    "for i in pairs_actors:\n",
    "    pairs_actors_dict[i] = 0\n",
    "for actors in pairs_actors:\n",
    "    pairs_actors_dict[actors] = data.original_title[(data.cast.str.contains(actors[0])) & (data.cast.str.contains(actors[1]))].count()\n",
    "sorted(pairs_actors_dict, key=pairs_actors_dict.get, reverse=True) "
   ]
  },
  {
   "cell_type": "code",
   "execution_count": 213,
   "metadata": {},
   "outputs": [],
   "source": [
    "answers['27'] = 'Daniel Radcliffe|Rupert Grinte'"
   ]
  },
  {
   "cell_type": "markdown",
   "metadata": {
    "colab_type": "text",
    "id": "U0nONFnGVqAX"
   },
   "source": [
    "# Submission"
   ]
  },
  {
   "cell_type": "code",
   "execution_count": 214,
   "metadata": {
    "colab": {},
    "colab_type": "code",
    "id": "IfcaRO9-VqAX",
    "outputId": "0f132912-32bb-4196-c98c-abfbc4ad5a5f"
   },
   "outputs": [
    {
     "data": {
      "text/plain": [
       "{'27': 'Daniel Radcliffe|Rupert Grinte',\n",
       " '1': 'Pirates of the Caribbean: On Stranger Tides',\n",
       " '2': 'Gods and Generals',\n",
       " '3': 'Winnie the Pooh',\n",
       " '4': '110',\n",
       " '5': '107',\n",
       " '6': 'Avatar',\n",
       " '7': 'The Lone Ranger',\n",
       " '9': 'The Dark Knight',\n",
       " '10': 'The Lone Ranger',\n",
       " '11': 'Drama',\n",
       " '13': 'Peter Jackson',\n",
       " '15': 'Chris Hemsworth',\n",
       " '8': '1478',\n",
       " '16': 'Matt Damon',\n",
       " '17': 'Action',\n",
       " '18': 'K-19: The Widowmaker',\n",
       " '19': '2015',\n",
       " '20': '2014',\n",
       " '21': '530',\n",
       " '22': '450',\n",
       " '23': 'Peter Jackson',\n",
       " '24': 'Four By Two Productions',\n",
       " '25': 'Midnight Picture Show',\n",
       " '26': 'Inside Out, The Dark Knight, 12 Years a Slave'}"
      ]
     },
     "execution_count": 214,
     "metadata": {},
     "output_type": "execute_result"
    }
   ],
   "source": [
    "# в конце можно посмотреть свои ответы к каждому вопросу\n",
    "answers"
   ]
  },
  {
   "cell_type": "code",
   "execution_count": 218,
   "metadata": {
    "colab": {},
    "colab_type": "code",
    "id": "SiRmHPl8VqAd"
   },
   "outputs": [
    {
     "data": {
      "text/plain": [
       "27"
      ]
     },
     "execution_count": 218,
     "metadata": {},
     "output_type": "execute_result"
    }
   ],
   "source": [
    "# и убедиться что ни чего не пропустил)\n",
    "len(answers)"
   ]
  },
  {
   "cell_type": "code",
   "execution_count": 0,
   "metadata": {
    "colab": {},
    "colab_type": "code",
    "id": "uCfuTkRbVqAg"
   },
   "outputs": [],
   "source": []
  },
  {
   "cell_type": "code",
   "execution_count": 0,
   "metadata": {
    "colab": {},
    "colab_type": "code",
    "id": "Vwx3NrkSVqAl"
   },
   "outputs": [],
   "source": []
  }
 ],
 "metadata": {
  "colab": {
   "name": "Copy of [SF-DST] Movies IMBD v4.1 TEMPLATE.ipynb",
   "provenance": []
  },
  "kernelspec": {
   "display_name": "Python 3",
   "language": "python",
   "name": "python3"
  },
  "language_info": {
   "codemirror_mode": {
    "name": "ipython",
    "version": 3
   },
   "file_extension": ".py",
   "mimetype": "text/x-python",
   "name": "python",
   "nbconvert_exporter": "python",
   "pygments_lexer": "ipython3",
   "version": "3.7.6"
  }
 },
 "nbformat": 4,
 "nbformat_minor": 1
}
