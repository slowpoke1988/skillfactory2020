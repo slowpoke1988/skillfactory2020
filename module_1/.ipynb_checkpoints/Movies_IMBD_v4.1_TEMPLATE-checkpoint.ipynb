{
 "cells": [
  {
   "cell_type": "code",
   "execution_count": 1,
   "metadata": {
    "_cell_guid": "b1076dfc-b9ad-4769-8c92-a6c4dae69d19",
    "_uuid": "8f2839f25d086af736a60e9eeb907d3b93b6e0e5",
    "colab": {},
    "colab_type": "code",
    "id": "U2D2gTdJVp90"
   },
   "outputs": [],
   "source": [
    "import numpy as np\n",
    "import pandas as pd\n",
    "import seaborn as sns\n",
    "import matplotlib.pyplot as plt\n",
    "from collections import Counter"
   ]
  },
  {
   "cell_type": "code",
   "execution_count": 3,
   "metadata": {
    "_cell_guid": "79c7e3d0-c299-4dcb-8224-4455121ee9b0",
    "_uuid": "d629ff2d2480ee46fbb7e2d37f6b5fab8052498a",
    "colab": {},
    "colab_type": "code",
    "id": "oyGfxL3eVp9-"
   },
   "outputs": [
    {
     "data": {
      "text/html": [
       "<div>\n",
       "<style scoped>\n",
       "    .dataframe tbody tr th:only-of-type {\n",
       "        vertical-align: middle;\n",
       "    }\n",
       "\n",
       "    .dataframe tbody tr th {\n",
       "        vertical-align: top;\n",
       "    }\n",
       "\n",
       "    .dataframe thead th {\n",
       "        text-align: right;\n",
       "    }\n",
       "</style>\n",
       "<table border=\"1\" class=\"dataframe\">\n",
       "  <thead>\n",
       "    <tr style=\"text-align: right;\">\n",
       "      <th></th>\n",
       "      <th>imdb_id</th>\n",
       "      <th>budget</th>\n",
       "      <th>revenue</th>\n",
       "      <th>original_title</th>\n",
       "      <th>cast</th>\n",
       "      <th>director</th>\n",
       "      <th>tagline</th>\n",
       "      <th>overview</th>\n",
       "      <th>runtime</th>\n",
       "      <th>genres</th>\n",
       "      <th>production_companies</th>\n",
       "      <th>release_date</th>\n",
       "      <th>vote_average</th>\n",
       "      <th>release_year</th>\n",
       "    </tr>\n",
       "  </thead>\n",
       "  <tbody>\n",
       "    <tr>\n",
       "      <th>1633</th>\n",
       "      <td>tt0375063</td>\n",
       "      <td>16000000</td>\n",
       "      <td>109502303</td>\n",
       "      <td>Sideways</td>\n",
       "      <td>Paul Giamatti|Thomas Haden Church|Virginia Mad...</td>\n",
       "      <td>Alexander Payne</td>\n",
       "      <td>In search of wine. In search of women. In sear...</td>\n",
       "      <td>Two middle-aged men embark on a spiritual jour...</td>\n",
       "      <td>126</td>\n",
       "      <td>Comedy|Drama|Romance</td>\n",
       "      <td>Fox Searchlight Pictures|Michael London Produc...</td>\n",
       "      <td>10/22/2004</td>\n",
       "      <td>6.6</td>\n",
       "      <td>2004</td>\n",
       "    </tr>\n",
       "    <tr>\n",
       "      <th>1037</th>\n",
       "      <td>tt1758830</td>\n",
       "      <td>35000000</td>\n",
       "      <td>88058786</td>\n",
       "      <td>This Is 40</td>\n",
       "      <td>Paul Rudd|Leslie Mann|Jason Segel|Maude Apatow...</td>\n",
       "      <td>Judd Apatow</td>\n",
       "      <td>The sort-of sequel to 'Knocked Up'</td>\n",
       "      <td>Pete and Debbie are both about to turn 40, the...</td>\n",
       "      <td>134</td>\n",
       "      <td>Comedy</td>\n",
       "      <td>Apatow Productions</td>\n",
       "      <td>12/20/2012</td>\n",
       "      <td>5.5</td>\n",
       "      <td>2012</td>\n",
       "    </tr>\n",
       "    <tr>\n",
       "      <th>231</th>\n",
       "      <td>tt1929263</td>\n",
       "      <td>12000000</td>\n",
       "      <td>101332962</td>\n",
       "      <td>Heaven is for Real</td>\n",
       "      <td>Greg Kinnear|Kelly Reilly|Connor Corum|Thomas ...</td>\n",
       "      <td>Randall Wallace</td>\n",
       "      <td>Unlock the mystery</td>\n",
       "      <td>Heaven is for Real recounts the true story of ...</td>\n",
       "      <td>99</td>\n",
       "      <td>Drama</td>\n",
       "      <td>TriStar Pictures|Screen Gems|Roth Films</td>\n",
       "      <td>4/16/2014</td>\n",
       "      <td>6.1</td>\n",
       "      <td>2014</td>\n",
       "    </tr>\n",
       "    <tr>\n",
       "      <th>122</th>\n",
       "      <td>tt1951265</td>\n",
       "      <td>125000000</td>\n",
       "      <td>752100229</td>\n",
       "      <td>The Hunger Games: Mockingjay - Part 1</td>\n",
       "      <td>Jennifer Lawrence|Josh Hutcherson|Liam Hemswor...</td>\n",
       "      <td>Francis Lawrence</td>\n",
       "      <td>Fire burns brighter in the darkness</td>\n",
       "      <td>Katniss Everdeen reluctantly becomes the symbo...</td>\n",
       "      <td>123</td>\n",
       "      <td>Science Fiction|Adventure|Thriller</td>\n",
       "      <td>Lionsgate|Color Force</td>\n",
       "      <td>11/18/2014</td>\n",
       "      <td>6.6</td>\n",
       "      <td>2014</td>\n",
       "    </tr>\n",
       "    <tr>\n",
       "      <th>565</th>\n",
       "      <td>tt0236784</td>\n",
       "      <td>21000000</td>\n",
       "      <td>28008462</td>\n",
       "      <td>The Tailor of Panama</td>\n",
       "      <td>Pierce Brosnan|Geoffrey Rush|Jamie Lee Curtis|...</td>\n",
       "      <td>John Boorman</td>\n",
       "      <td>In a place this treacherous, what a good spy n...</td>\n",
       "      <td>A British spy is banished to Panama after havi...</td>\n",
       "      <td>109</td>\n",
       "      <td>Drama|Thriller</td>\n",
       "      <td>Columbia Pictures|Merlin Films</td>\n",
       "      <td>2/11/2001</td>\n",
       "      <td>5.7</td>\n",
       "      <td>2001</td>\n",
       "    </tr>\n",
       "    <tr>\n",
       "      <th>60</th>\n",
       "      <td>tt3076658</td>\n",
       "      <td>35000000</td>\n",
       "      <td>137935567</td>\n",
       "      <td>Creed</td>\n",
       "      <td>Michael B. Jordan|Sylvester Stallone|Graham Mc...</td>\n",
       "      <td>Ryan Coogler</td>\n",
       "      <td>Your legacy is more than a name</td>\n",
       "      <td>The former World Heavyweight Champion Rocky Ba...</td>\n",
       "      <td>133</td>\n",
       "      <td>Drama</td>\n",
       "      <td>New Line Cinema|Warner Bros.|Metro-Goldwyn-May...</td>\n",
       "      <td>11/25/2015</td>\n",
       "      <td>7.3</td>\n",
       "      <td>2015</td>\n",
       "    </tr>\n",
       "    <tr>\n",
       "      <th>324</th>\n",
       "      <td>tt0762125</td>\n",
       "      <td>70000000</td>\n",
       "      <td>104945765</td>\n",
       "      <td>Planet 51</td>\n",
       "      <td>Dwayne Johnson|Seann William Scott|Jessica Bie...</td>\n",
       "      <td>Jorge Blanco|Javier Abad|Marcos MartÃ­nez</td>\n",
       "      <td>Something strange is coming to their planet...Us!</td>\n",
       "      <td>When Earth astronaut Capt. Chuck Baker arrives...</td>\n",
       "      <td>91</td>\n",
       "      <td>Science Fiction|Animation|Family|Comedy|Adventure</td>\n",
       "      <td>TriStar Pictures|Ilion Animation Studios|Hand ...</td>\n",
       "      <td>11/19/2009</td>\n",
       "      <td>5.7</td>\n",
       "      <td>2009</td>\n",
       "    </tr>\n",
       "    <tr>\n",
       "      <th>204</th>\n",
       "      <td>tt1742334</td>\n",
       "      <td>35000000</td>\n",
       "      <td>17508518</td>\n",
       "      <td>Sabotage</td>\n",
       "      <td>Arnold Schwarzenegger|Sam Worthington|Mireille...</td>\n",
       "      <td>David Ayer</td>\n",
       "      <td>Leave no loose ends</td>\n",
       "      <td>In \"Sabotage\", Arnold Schwarzenegger leads an ...</td>\n",
       "      <td>110</td>\n",
       "      <td>Action|Drama|Thriller|Crime</td>\n",
       "      <td>Open Road Films|QED International|Albert S. Ru...</td>\n",
       "      <td>3/28/2014</td>\n",
       "      <td>5.4</td>\n",
       "      <td>2014</td>\n",
       "    </tr>\n",
       "    <tr>\n",
       "      <th>581</th>\n",
       "      <td>tt0211465</td>\n",
       "      <td>15000000</td>\n",
       "      <td>12000000</td>\n",
       "      <td>Knockaround Guys</td>\n",
       "      <td>Barry Pepper|Andy Davoli|Seth Green|Vin Diesel...</td>\n",
       "      <td>Brian Koppelman|David Levien</td>\n",
       "      <td>If they don't finish the job, their fathers wi...</td>\n",
       "      <td>Four sons of well-known New York mobsters must...</td>\n",
       "      <td>92</td>\n",
       "      <td>Crime|Thriller</td>\n",
       "      <td>Lawrence Bender Productions</td>\n",
       "      <td>9/7/2001</td>\n",
       "      <td>5.7</td>\n",
       "      <td>2001</td>\n",
       "    </tr>\n",
       "    <tr>\n",
       "      <th>664</th>\n",
       "      <td>tt0369436</td>\n",
       "      <td>80000000</td>\n",
       "      <td>163733697</td>\n",
       "      <td>Four Christmases</td>\n",
       "      <td>Reese Witherspoon|Vince Vaughn|Robert Duvall|M...</td>\n",
       "      <td>Seth Gordon</td>\n",
       "      <td>His father, her mother, his mother and her fat...</td>\n",
       "      <td>Brad and Kate have made something of an art fo...</td>\n",
       "      <td>88</td>\n",
       "      <td>Comedy|Romance|Drama</td>\n",
       "      <td>New Line Cinema|Spyglass Entertainment|Type A ...</td>\n",
       "      <td>11/26/2008</td>\n",
       "      <td>5.3</td>\n",
       "      <td>2008</td>\n",
       "    </tr>\n",
       "    <tr>\n",
       "      <th>1264</th>\n",
       "      <td>tt1661382</td>\n",
       "      <td>40000000</td>\n",
       "      <td>44907260</td>\n",
       "      <td>Grudge Match</td>\n",
       "      <td>Robert De Niro|Sylvester Stallone|Alan Arkin|J...</td>\n",
       "      <td>Peter Segal</td>\n",
       "      <td>DeNiro vs Stallone</td>\n",
       "      <td>A pair of aging boxing rivals are coaxed out o...</td>\n",
       "      <td>113</td>\n",
       "      <td>Comedy</td>\n",
       "      <td>Gerber Pictures|Warner Bros.</td>\n",
       "      <td>12/25/2013</td>\n",
       "      <td>6.0</td>\n",
       "      <td>2013</td>\n",
       "    </tr>\n",
       "    <tr>\n",
       "      <th>1317</th>\n",
       "      <td>tt0367594</td>\n",
       "      <td>150000000</td>\n",
       "      <td>474968763</td>\n",
       "      <td>Charlie and the Chocolate Factory</td>\n",
       "      <td>Johnny Depp|Freddie Highmore|AnnaSophia Robb|J...</td>\n",
       "      <td>Tim Burton</td>\n",
       "      <td>Willy Wonka is semi-sweet and nuts.</td>\n",
       "      <td>A young boy wins a tour through the most magni...</td>\n",
       "      <td>115</td>\n",
       "      <td>Adventure|Comedy|Family|Fantasy</td>\n",
       "      <td>Village Roadshow Pictures|The Zanuck Company|W...</td>\n",
       "      <td>7/9/2005</td>\n",
       "      <td>6.5</td>\n",
       "      <td>2005</td>\n",
       "    </tr>\n",
       "    <tr>\n",
       "      <th>1697</th>\n",
       "      <td>tt0478311</td>\n",
       "      <td>30000000</td>\n",
       "      <td>219076518</td>\n",
       "      <td>Knocked Up</td>\n",
       "      <td>Seth Rogen|Katherine Heigl|Leslie Mann|Paul Ru...</td>\n",
       "      <td>Judd Apatow</td>\n",
       "      <td>Save the due date.</td>\n",
       "      <td>For fun loving party animal Ben Stone, the las...</td>\n",
       "      <td>129</td>\n",
       "      <td>Comedy|Romance|Drama</td>\n",
       "      <td>Universal Pictures|Apatow Productions</td>\n",
       "      <td>6/1/2007</td>\n",
       "      <td>6.0</td>\n",
       "      <td>2007</td>\n",
       "    </tr>\n",
       "    <tr>\n",
       "      <th>1082</th>\n",
       "      <td>tt0320691</td>\n",
       "      <td>22000000</td>\n",
       "      <td>95708457</td>\n",
       "      <td>Underworld</td>\n",
       "      <td>Kate Beckinsale|Scott Speedman|Michael Sheen|S...</td>\n",
       "      <td>Len Wiseman</td>\n",
       "      <td>An immortal battle for supremacy.</td>\n",
       "      <td>Vampires and werewolves have waged a nocturnal...</td>\n",
       "      <td>121</td>\n",
       "      <td>Fantasy|Action|Thriller</td>\n",
       "      <td>Lakeshore Entertainment|Laurinfilm|Subterranea...</td>\n",
       "      <td>9/19/2003</td>\n",
       "      <td>6.5</td>\n",
       "      <td>2003</td>\n",
       "    </tr>\n",
       "    <tr>\n",
       "      <th>1586</th>\n",
       "      <td>tt0405159</td>\n",
       "      <td>30000000</td>\n",
       "      <td>216763646</td>\n",
       "      <td>Million Dollar Baby</td>\n",
       "      <td>Clint Eastwood|Hilary Swank|Morgan Freeman|Jay...</td>\n",
       "      <td>Clint Eastwood</td>\n",
       "      <td>Beyond his silence, there is a past. Beyond he...</td>\n",
       "      <td>Despondent over a painful estrangement from hi...</td>\n",
       "      <td>132</td>\n",
       "      <td>Drama</td>\n",
       "      <td>Lakeshore Entertainment|Malpaso Productions|Ep...</td>\n",
       "      <td>12/14/2004</td>\n",
       "      <td>7.6</td>\n",
       "      <td>2004</td>\n",
       "    </tr>\n",
       "    <tr>\n",
       "      <th>1148</th>\n",
       "      <td>tt0338459</td>\n",
       "      <td>38000000</td>\n",
       "      <td>197011982</td>\n",
       "      <td>Spy Kids 3-D: Game Over</td>\n",
       "      <td>Antonio Banderas|Carla Gugino|Alexa PenaVega|D...</td>\n",
       "      <td>Robert Rodriguez</td>\n",
       "      <td>3rd Mission. 3rd Dimension.</td>\n",
       "      <td>Carmen's caught in a virtual reality game desi...</td>\n",
       "      <td>84</td>\n",
       "      <td>Action|Adventure|Comedy|Family|Science Fiction</td>\n",
       "      <td>Dimension Films</td>\n",
       "      <td>7/25/2003</td>\n",
       "      <td>4.8</td>\n",
       "      <td>2003</td>\n",
       "    </tr>\n",
       "    <tr>\n",
       "      <th>847</th>\n",
       "      <td>tt1726669</td>\n",
       "      <td>10000000</td>\n",
       "      <td>3665069</td>\n",
       "      <td>Killer Joe</td>\n",
       "      <td>Matthew McConaughey|Emile Hirsch|Thomas Haden ...</td>\n",
       "      <td>William Friedkin</td>\n",
       "      <td>A Totally Deep-Fried Texas Redneck Trailer Par...</td>\n",
       "      <td>A cop (Matthew McConaughey) who moonlights as ...</td>\n",
       "      <td>102</td>\n",
       "      <td>Drama|Thriller</td>\n",
       "      <td>Voltage pictures|Worldview Entertainment|ANA M...</td>\n",
       "      <td>9/10/2011</td>\n",
       "      <td>6.3</td>\n",
       "      <td>2011</td>\n",
       "    </tr>\n",
       "    <tr>\n",
       "      <th>629</th>\n",
       "      <td>tt0452608</td>\n",
       "      <td>45000000</td>\n",
       "      <td>73762516</td>\n",
       "      <td>Death Race</td>\n",
       "      <td>Jason Statham|Joan Allen|Ian McShane|Tyrese Gi...</td>\n",
       "      <td>Paul W.S. Anderson</td>\n",
       "      <td>Get ready for a killer race.</td>\n",
       "      <td>Terminal Island, New York: 2020. Overcrowding ...</td>\n",
       "      <td>105</td>\n",
       "      <td>Action|Thriller|Science Fiction</td>\n",
       "      <td>Universal Pictures|Cruise/Wagner Productions|I...</td>\n",
       "      <td>8/22/2008</td>\n",
       "      <td>5.9</td>\n",
       "      <td>2008</td>\n",
       "    </tr>\n",
       "    <tr>\n",
       "      <th>1024</th>\n",
       "      <td>tt1855199</td>\n",
       "      <td>7000000</td>\n",
       "      <td>48126384</td>\n",
       "      <td>End of Watch</td>\n",
       "      <td>Jake Gyllenhaal|Michael PeÃ±a|Natalie Martinez...</td>\n",
       "      <td>David Ayer</td>\n",
       "      <td>Every moment of your life they stand watch</td>\n",
       "      <td>Shot documentary-style, this film follows the ...</td>\n",
       "      <td>109</td>\n",
       "      <td>Crime|Drama|Thriller</td>\n",
       "      <td>Emmett/Furla Films|Exclusive Media Group|Hedge...</td>\n",
       "      <td>9/20/2012</td>\n",
       "      <td>7.1</td>\n",
       "      <td>2012</td>\n",
       "    </tr>\n",
       "    <tr>\n",
       "      <th>657</th>\n",
       "      <td>tt0364970</td>\n",
       "      <td>70000000</td>\n",
       "      <td>72108608</td>\n",
       "      <td>Babylon A.D.</td>\n",
       "      <td>Vin Diesel|Michelle Yeoh|MÃ©lanie Thierry|Lamb...</td>\n",
       "      <td>Mathieu Kassovitz</td>\n",
       "      <td>Kill or be Killed.</td>\n",
       "      <td>In Babylon A.D Vin Diesel stars as a veteran-t...</td>\n",
       "      <td>101</td>\n",
       "      <td>Action|Adventure|Science Fiction|Thriller</td>\n",
       "      <td>StudioCanal|M6 Films|Canal+|CinÃ©CinÃ©ma|Babylon</td>\n",
       "      <td>8/20/2008</td>\n",
       "      <td>5.4</td>\n",
       "      <td>2008</td>\n",
       "    </tr>\n",
       "    <tr>\n",
       "      <th>1127</th>\n",
       "      <td>tt0338094</td>\n",
       "      <td>90000000</td>\n",
       "      <td>182290266</td>\n",
       "      <td>The Haunted Mansion</td>\n",
       "      <td>Eddie Murphy|Terence Stamp|Nathaniel Parker|Ma...</td>\n",
       "      <td>Rob Minkoff</td>\n",
       "      <td>Check your pulse at the door... if you have one.</td>\n",
       "      <td>Workaholic Jim Evers and his wife/business par...</td>\n",
       "      <td>99</td>\n",
       "      <td>Thriller|Fantasy|Comedy|Family|Mystery</td>\n",
       "      <td>Walt Disney Pictures|Gunn Films|Doom Buggy Pro...</td>\n",
       "      <td>11/25/2003</td>\n",
       "      <td>5.1</td>\n",
       "      <td>2003</td>\n",
       "    </tr>\n",
       "    <tr>\n",
       "      <th>1594</th>\n",
       "      <td>tt0327679</td>\n",
       "      <td>31000000</td>\n",
       "      <td>27388767</td>\n",
       "      <td>Ella Enchanted</td>\n",
       "      <td>Anne Hathaway|Hugh Dancy|Cary Elwes|Aidan McAr...</td>\n",
       "      <td>Tommy O'Haver</td>\n",
       "      <td>Get enchanted</td>\n",
       "      <td>Ella of Frell is given the \"gift of obedience\"...</td>\n",
       "      <td>96</td>\n",
       "      <td>Fantasy|Comedy|Family|Romance</td>\n",
       "      <td>Miramax Films</td>\n",
       "      <td>4/9/2004</td>\n",
       "      <td>5.7</td>\n",
       "      <td>2004</td>\n",
       "    </tr>\n",
       "    <tr>\n",
       "      <th>1884</th>\n",
       "      <td>tt0120903</td>\n",
       "      <td>75000000</td>\n",
       "      <td>157299717</td>\n",
       "      <td>X-Men</td>\n",
       "      <td>Patrick Stewart|Hugh Jackman|Ian McKellen|Hall...</td>\n",
       "      <td>Bryan Singer</td>\n",
       "      <td>Evolution Begins</td>\n",
       "      <td>Two mutants, Rogue and Wolverine, come to a pr...</td>\n",
       "      <td>104</td>\n",
       "      <td>Adventure|Action|Science Fiction</td>\n",
       "      <td>Twentieth Century Fox Film Corporation|Donners...</td>\n",
       "      <td>7/13/2000</td>\n",
       "      <td>6.6</td>\n",
       "      <td>2000</td>\n",
       "    </tr>\n",
       "    <tr>\n",
       "      <th>490</th>\n",
       "      <td>tt0473102</td>\n",
       "      <td>12500000</td>\n",
       "      <td>3878993</td>\n",
       "      <td>The Perfect Game</td>\n",
       "      <td>Clifton Collins, Jr.|Cheech Marin|MoisÃ©s Aria...</td>\n",
       "      <td>William Dear</td>\n",
       "      <td>Dream for the fences.</td>\n",
       "      <td>Based on a true story, a group of boys from Mo...</td>\n",
       "      <td>118</td>\n",
       "      <td>Drama|Family</td>\n",
       "      <td>HighRoad Entertainment|Prelude Pictures|Lone R...</td>\n",
       "      <td>4/1/2010</td>\n",
       "      <td>5.7</td>\n",
       "      <td>2010</td>\n",
       "    </tr>\n",
       "    <tr>\n",
       "      <th>822</th>\n",
       "      <td>tt1540133</td>\n",
       "      <td>6000000</td>\n",
       "      <td>19560274</td>\n",
       "      <td>The Guard</td>\n",
       "      <td>Brendan Gleeson|Don Cheadle|Liam Cunningham|Ma...</td>\n",
       "      <td>John Michael McDonagh</td>\n",
       "      <td>The FBI are about to discover that things work...</td>\n",
       "      <td>An unorthodox Irish policeman with a confronta...</td>\n",
       "      <td>96</td>\n",
       "      <td>Action|Comedy|Thriller|Crime</td>\n",
       "      <td>UK Film Council|Crescendo Productions|Element ...</td>\n",
       "      <td>7/7/2011</td>\n",
       "      <td>6.6</td>\n",
       "      <td>2011</td>\n",
       "    </tr>\n",
       "  </tbody>\n",
       "</table>\n",
       "</div>"
      ],
      "text/plain": [
       "        imdb_id     budget    revenue                         original_title  \\\n",
       "1633  tt0375063   16000000  109502303                               Sideways   \n",
       "1037  tt1758830   35000000   88058786                             This Is 40   \n",
       "231   tt1929263   12000000  101332962                     Heaven is for Real   \n",
       "122   tt1951265  125000000  752100229  The Hunger Games: Mockingjay - Part 1   \n",
       "565   tt0236784   21000000   28008462                   The Tailor of Panama   \n",
       "60    tt3076658   35000000  137935567                                  Creed   \n",
       "324   tt0762125   70000000  104945765                              Planet 51   \n",
       "204   tt1742334   35000000   17508518                               Sabotage   \n",
       "581   tt0211465   15000000   12000000                       Knockaround Guys   \n",
       "664   tt0369436   80000000  163733697                       Four Christmases   \n",
       "1264  tt1661382   40000000   44907260                           Grudge Match   \n",
       "1317  tt0367594  150000000  474968763      Charlie and the Chocolate Factory   \n",
       "1697  tt0478311   30000000  219076518                             Knocked Up   \n",
       "1082  tt0320691   22000000   95708457                             Underworld   \n",
       "1586  tt0405159   30000000  216763646                    Million Dollar Baby   \n",
       "1148  tt0338459   38000000  197011982                Spy Kids 3-D: Game Over   \n",
       "847   tt1726669   10000000    3665069                             Killer Joe   \n",
       "629   tt0452608   45000000   73762516                             Death Race   \n",
       "1024  tt1855199    7000000   48126384                           End of Watch   \n",
       "657   tt0364970   70000000   72108608                           Babylon A.D.   \n",
       "1127  tt0338094   90000000  182290266                    The Haunted Mansion   \n",
       "1594  tt0327679   31000000   27388767                         Ella Enchanted   \n",
       "1884  tt0120903   75000000  157299717                                  X-Men   \n",
       "490   tt0473102   12500000    3878993                       The Perfect Game   \n",
       "822   tt1540133    6000000   19560274                              The Guard   \n",
       "\n",
       "                                                   cast  \\\n",
       "1633  Paul Giamatti|Thomas Haden Church|Virginia Mad...   \n",
       "1037  Paul Rudd|Leslie Mann|Jason Segel|Maude Apatow...   \n",
       "231   Greg Kinnear|Kelly Reilly|Connor Corum|Thomas ...   \n",
       "122   Jennifer Lawrence|Josh Hutcherson|Liam Hemswor...   \n",
       "565   Pierce Brosnan|Geoffrey Rush|Jamie Lee Curtis|...   \n",
       "60    Michael B. Jordan|Sylvester Stallone|Graham Mc...   \n",
       "324   Dwayne Johnson|Seann William Scott|Jessica Bie...   \n",
       "204   Arnold Schwarzenegger|Sam Worthington|Mireille...   \n",
       "581   Barry Pepper|Andy Davoli|Seth Green|Vin Diesel...   \n",
       "664   Reese Witherspoon|Vince Vaughn|Robert Duvall|M...   \n",
       "1264  Robert De Niro|Sylvester Stallone|Alan Arkin|J...   \n",
       "1317  Johnny Depp|Freddie Highmore|AnnaSophia Robb|J...   \n",
       "1697  Seth Rogen|Katherine Heigl|Leslie Mann|Paul Ru...   \n",
       "1082  Kate Beckinsale|Scott Speedman|Michael Sheen|S...   \n",
       "1586  Clint Eastwood|Hilary Swank|Morgan Freeman|Jay...   \n",
       "1148  Antonio Banderas|Carla Gugino|Alexa PenaVega|D...   \n",
       "847   Matthew McConaughey|Emile Hirsch|Thomas Haden ...   \n",
       "629   Jason Statham|Joan Allen|Ian McShane|Tyrese Gi...   \n",
       "1024  Jake Gyllenhaal|Michael PeÃ±a|Natalie Martinez...   \n",
       "657   Vin Diesel|Michelle Yeoh|MÃ©lanie Thierry|Lamb...   \n",
       "1127  Eddie Murphy|Terence Stamp|Nathaniel Parker|Ma...   \n",
       "1594  Anne Hathaway|Hugh Dancy|Cary Elwes|Aidan McAr...   \n",
       "1884  Patrick Stewart|Hugh Jackman|Ian McKellen|Hall...   \n",
       "490   Clifton Collins, Jr.|Cheech Marin|MoisÃ©s Aria...   \n",
       "822   Brendan Gleeson|Don Cheadle|Liam Cunningham|Ma...   \n",
       "\n",
       "                                       director  \\\n",
       "1633                            Alexander Payne   \n",
       "1037                                Judd Apatow   \n",
       "231                             Randall Wallace   \n",
       "122                            Francis Lawrence   \n",
       "565                                John Boorman   \n",
       "60                                 Ryan Coogler   \n",
       "324   Jorge Blanco|Javier Abad|Marcos MartÃ­nez   \n",
       "204                                  David Ayer   \n",
       "581                Brian Koppelman|David Levien   \n",
       "664                                 Seth Gordon   \n",
       "1264                                Peter Segal   \n",
       "1317                                 Tim Burton   \n",
       "1697                                Judd Apatow   \n",
       "1082                                Len Wiseman   \n",
       "1586                             Clint Eastwood   \n",
       "1148                           Robert Rodriguez   \n",
       "847                            William Friedkin   \n",
       "629                          Paul W.S. Anderson   \n",
       "1024                                 David Ayer   \n",
       "657                           Mathieu Kassovitz   \n",
       "1127                                Rob Minkoff   \n",
       "1594                              Tommy O'Haver   \n",
       "1884                               Bryan Singer   \n",
       "490                                William Dear   \n",
       "822                       John Michael McDonagh   \n",
       "\n",
       "                                                tagline  \\\n",
       "1633  In search of wine. In search of women. In sear...   \n",
       "1037                 The sort-of sequel to 'Knocked Up'   \n",
       "231                                  Unlock the mystery   \n",
       "122                 Fire burns brighter in the darkness   \n",
       "565   In a place this treacherous, what a good spy n...   \n",
       "60                      Your legacy is more than a name   \n",
       "324   Something strange is coming to their planet...Us!   \n",
       "204                                 Leave no loose ends   \n",
       "581   If they don't finish the job, their fathers wi...   \n",
       "664   His father, her mother, his mother and her fat...   \n",
       "1264                                 DeNiro vs Stallone   \n",
       "1317                Willy Wonka is semi-sweet and nuts.   \n",
       "1697                                 Save the due date.   \n",
       "1082                  An immortal battle for supremacy.   \n",
       "1586  Beyond his silence, there is a past. Beyond he...   \n",
       "1148                        3rd Mission. 3rd Dimension.   \n",
       "847   A Totally Deep-Fried Texas Redneck Trailer Par...   \n",
       "629                        Get ready for a killer race.   \n",
       "1024         Every moment of your life they stand watch   \n",
       "657                                  Kill or be Killed.   \n",
       "1127   Check your pulse at the door... if you have one.   \n",
       "1594                                      Get enchanted   \n",
       "1884                                   Evolution Begins   \n",
       "490                               Dream for the fences.   \n",
       "822   The FBI are about to discover that things work...   \n",
       "\n",
       "                                               overview  runtime  \\\n",
       "1633  Two middle-aged men embark on a spiritual jour...      126   \n",
       "1037  Pete and Debbie are both about to turn 40, the...      134   \n",
       "231   Heaven is for Real recounts the true story of ...       99   \n",
       "122   Katniss Everdeen reluctantly becomes the symbo...      123   \n",
       "565   A British spy is banished to Panama after havi...      109   \n",
       "60    The former World Heavyweight Champion Rocky Ba...      133   \n",
       "324   When Earth astronaut Capt. Chuck Baker arrives...       91   \n",
       "204   In \"Sabotage\", Arnold Schwarzenegger leads an ...      110   \n",
       "581   Four sons of well-known New York mobsters must...       92   \n",
       "664   Brad and Kate have made something of an art fo...       88   \n",
       "1264  A pair of aging boxing rivals are coaxed out o...      113   \n",
       "1317  A young boy wins a tour through the most magni...      115   \n",
       "1697  For fun loving party animal Ben Stone, the las...      129   \n",
       "1082  Vampires and werewolves have waged a nocturnal...      121   \n",
       "1586  Despondent over a painful estrangement from hi...      132   \n",
       "1148  Carmen's caught in a virtual reality game desi...       84   \n",
       "847   A cop (Matthew McConaughey) who moonlights as ...      102   \n",
       "629   Terminal Island, New York: 2020. Overcrowding ...      105   \n",
       "1024  Shot documentary-style, this film follows the ...      109   \n",
       "657   In Babylon A.D Vin Diesel stars as a veteran-t...      101   \n",
       "1127  Workaholic Jim Evers and his wife/business par...       99   \n",
       "1594  Ella of Frell is given the \"gift of obedience\"...       96   \n",
       "1884  Two mutants, Rogue and Wolverine, come to a pr...      104   \n",
       "490   Based on a true story, a group of boys from Mo...      118   \n",
       "822   An unorthodox Irish policeman with a confronta...       96   \n",
       "\n",
       "                                                 genres  \\\n",
       "1633                               Comedy|Drama|Romance   \n",
       "1037                                             Comedy   \n",
       "231                                               Drama   \n",
       "122                  Science Fiction|Adventure|Thriller   \n",
       "565                                      Drama|Thriller   \n",
       "60                                                Drama   \n",
       "324   Science Fiction|Animation|Family|Comedy|Adventure   \n",
       "204                         Action|Drama|Thriller|Crime   \n",
       "581                                      Crime|Thriller   \n",
       "664                                Comedy|Romance|Drama   \n",
       "1264                                             Comedy   \n",
       "1317                    Adventure|Comedy|Family|Fantasy   \n",
       "1697                               Comedy|Romance|Drama   \n",
       "1082                            Fantasy|Action|Thriller   \n",
       "1586                                              Drama   \n",
       "1148     Action|Adventure|Comedy|Family|Science Fiction   \n",
       "847                                      Drama|Thriller   \n",
       "629                     Action|Thriller|Science Fiction   \n",
       "1024                               Crime|Drama|Thriller   \n",
       "657           Action|Adventure|Science Fiction|Thriller   \n",
       "1127             Thriller|Fantasy|Comedy|Family|Mystery   \n",
       "1594                      Fantasy|Comedy|Family|Romance   \n",
       "1884                   Adventure|Action|Science Fiction   \n",
       "490                                        Drama|Family   \n",
       "822                        Action|Comedy|Thriller|Crime   \n",
       "\n",
       "                                   production_companies release_date  \\\n",
       "1633  Fox Searchlight Pictures|Michael London Produc...   10/22/2004   \n",
       "1037                                 Apatow Productions   12/20/2012   \n",
       "231             TriStar Pictures|Screen Gems|Roth Films    4/16/2014   \n",
       "122                               Lionsgate|Color Force   11/18/2014   \n",
       "565                      Columbia Pictures|Merlin Films    2/11/2001   \n",
       "60    New Line Cinema|Warner Bros.|Metro-Goldwyn-May...   11/25/2015   \n",
       "324   TriStar Pictures|Ilion Animation Studios|Hand ...   11/19/2009   \n",
       "204   Open Road Films|QED International|Albert S. Ru...    3/28/2014   \n",
       "581                         Lawrence Bender Productions     9/7/2001   \n",
       "664   New Line Cinema|Spyglass Entertainment|Type A ...   11/26/2008   \n",
       "1264                       Gerber Pictures|Warner Bros.   12/25/2013   \n",
       "1317  Village Roadshow Pictures|The Zanuck Company|W...     7/9/2005   \n",
       "1697              Universal Pictures|Apatow Productions     6/1/2007   \n",
       "1082  Lakeshore Entertainment|Laurinfilm|Subterranea...    9/19/2003   \n",
       "1586  Lakeshore Entertainment|Malpaso Productions|Ep...   12/14/2004   \n",
       "1148                                    Dimension Films    7/25/2003   \n",
       "847   Voltage pictures|Worldview Entertainment|ANA M...    9/10/2011   \n",
       "629   Universal Pictures|Cruise/Wagner Productions|I...    8/22/2008   \n",
       "1024  Emmett/Furla Films|Exclusive Media Group|Hedge...    9/20/2012   \n",
       "657    StudioCanal|M6 Films|Canal+|CinÃ©CinÃ©ma|Babylon    8/20/2008   \n",
       "1127  Walt Disney Pictures|Gunn Films|Doom Buggy Pro...   11/25/2003   \n",
       "1594                                      Miramax Films     4/9/2004   \n",
       "1884  Twentieth Century Fox Film Corporation|Donners...    7/13/2000   \n",
       "490   HighRoad Entertainment|Prelude Pictures|Lone R...     4/1/2010   \n",
       "822   UK Film Council|Crescendo Productions|Element ...     7/7/2011   \n",
       "\n",
       "      vote_average  release_year  \n",
       "1633           6.6          2004  \n",
       "1037           5.5          2012  \n",
       "231            6.1          2014  \n",
       "122            6.6          2014  \n",
       "565            5.7          2001  \n",
       "60             7.3          2015  \n",
       "324            5.7          2009  \n",
       "204            5.4          2014  \n",
       "581            5.7          2001  \n",
       "664            5.3          2008  \n",
       "1264           6.0          2013  \n",
       "1317           6.5          2005  \n",
       "1697           6.0          2007  \n",
       "1082           6.5          2003  \n",
       "1586           7.6          2004  \n",
       "1148           4.8          2003  \n",
       "847            6.3          2011  \n",
       "629            5.9          2008  \n",
       "1024           7.1          2012  \n",
       "657            5.4          2008  \n",
       "1127           5.1          2003  \n",
       "1594           5.7          2004  \n",
       "1884           6.6          2000  \n",
       "490            5.7          2010  \n",
       "822            6.6          2011  "
      ]
     },
     "execution_count": 3,
     "metadata": {},
     "output_type": "execute_result"
    }
   ],
   "source": [
    "data = pd.read_csv('movie_bd_v5.csv')\n",
    "data.sample(25)"
   ]
  },
  {
   "cell_type": "code",
   "execution_count": 314,
   "metadata": {
    "colab": {},
    "colab_type": "code",
    "id": "CoYUnagMVp-C"
   },
   "outputs": [
    {
     "data": {
      "text/html": [
       "<div>\n",
       "<style scoped>\n",
       "    .dataframe tbody tr th:only-of-type {\n",
       "        vertical-align: middle;\n",
       "    }\n",
       "\n",
       "    .dataframe tbody tr th {\n",
       "        vertical-align: top;\n",
       "    }\n",
       "\n",
       "    .dataframe thead th {\n",
       "        text-align: right;\n",
       "    }\n",
       "</style>\n",
       "<table border=\"1\" class=\"dataframe\">\n",
       "  <thead>\n",
       "    <tr style=\"text-align: right;\">\n",
       "      <th></th>\n",
       "      <th>imdb_id</th>\n",
       "      <th>original_title</th>\n",
       "      <th>cast</th>\n",
       "      <th>director</th>\n",
       "      <th>tagline</th>\n",
       "      <th>overview</th>\n",
       "      <th>genres</th>\n",
       "      <th>production_companies</th>\n",
       "    </tr>\n",
       "  </thead>\n",
       "  <tbody>\n",
       "    <tr>\n",
       "      <th>count</th>\n",
       "      <td>1889</td>\n",
       "      <td>1889</td>\n",
       "      <td>1889</td>\n",
       "      <td>1889</td>\n",
       "      <td>1889</td>\n",
       "      <td>1889</td>\n",
       "      <td>1889</td>\n",
       "      <td>1889</td>\n",
       "    </tr>\n",
       "    <tr>\n",
       "      <th>unique</th>\n",
       "      <td>1889</td>\n",
       "      <td>1887</td>\n",
       "      <td>1878</td>\n",
       "      <td>957</td>\n",
       "      <td>1880</td>\n",
       "      <td>1889</td>\n",
       "      <td>652</td>\n",
       "      <td>1624</td>\n",
       "    </tr>\n",
       "    <tr>\n",
       "      <th>top</th>\n",
       "      <td>tt2103254</td>\n",
       "      <td>Fantastic Four</td>\n",
       "      <td>Elijah Wood|Ian McKellen|Viggo Mortensen|Liv T...</td>\n",
       "      <td>Steven Soderbergh</td>\n",
       "      <td>Misery loves family.</td>\n",
       "      <td>A drunken playboy stands to lose a wealthy inh...</td>\n",
       "      <td>Comedy</td>\n",
       "      <td>New Line Cinema</td>\n",
       "    </tr>\n",
       "    <tr>\n",
       "      <th>freq</th>\n",
       "      <td>1</td>\n",
       "      <td>2</td>\n",
       "      <td>3</td>\n",
       "      <td>13</td>\n",
       "      <td>2</td>\n",
       "      <td>1</td>\n",
       "      <td>141</td>\n",
       "      <td>21</td>\n",
       "    </tr>\n",
       "  </tbody>\n",
       "</table>\n",
       "</div>"
      ],
      "text/plain": [
       "          imdb_id  original_title  \\\n",
       "count        1889            1889   \n",
       "unique       1889            1887   \n",
       "top     tt2103254  Fantastic Four   \n",
       "freq            1               2   \n",
       "\n",
       "                                                     cast           director  \\\n",
       "count                                                1889               1889   \n",
       "unique                                               1878                957   \n",
       "top     Elijah Wood|Ian McKellen|Viggo Mortensen|Liv T...  Steven Soderbergh   \n",
       "freq                                                    3                 13   \n",
       "\n",
       "                     tagline  \\\n",
       "count                   1889   \n",
       "unique                  1880   \n",
       "top     Misery loves family.   \n",
       "freq                       2   \n",
       "\n",
       "                                                 overview  genres  \\\n",
       "count                                                1889    1889   \n",
       "unique                                               1889     652   \n",
       "top     A drunken playboy stands to lose a wealthy inh...  Comedy   \n",
       "freq                                                    1     141   \n",
       "\n",
       "       production_companies  \n",
       "count                  1889  \n",
       "unique                 1624  \n",
       "top         New Line Cinema  \n",
       "freq                     21  "
      ]
     },
     "execution_count": 314,
     "metadata": {},
     "output_type": "execute_result"
    }
   ],
   "source": [
    "data.describe(include='object')"
   ]
  },
  {
   "cell_type": "code",
   "execution_count": 20,
   "metadata": {},
   "outputs": [
    {
     "name": "stdout",
     "output_type": "stream",
     "text": [
      "<class 'pandas.core.frame.DataFrame'>\n",
      "RangeIndex: 1889 entries, 0 to 1888\n",
      "Data columns (total 15 columns):\n",
      " #   Column                Non-Null Count  Dtype  \n",
      "---  ------                --------------  -----  \n",
      " 0   imdb_id               1889 non-null   object \n",
      " 1   budget                1889 non-null   int64  \n",
      " 2   revenue               1889 non-null   int64  \n",
      " 3   original_title        1889 non-null   object \n",
      " 4   cast                  1889 non-null   object \n",
      " 5   director              1889 non-null   object \n",
      " 6   tagline               1889 non-null   object \n",
      " 7   overview              1889 non-null   object \n",
      " 8   runtime               1889 non-null   int64  \n",
      " 9   genres                1889 non-null   object \n",
      " 10  production_companies  1889 non-null   object \n",
      " 11  release_date          1889 non-null   object \n",
      " 12  vote_average          1889 non-null   float64\n",
      " 13  release_year          1889 non-null   int64  \n",
      " 14  profit                1889 non-null   int64  \n",
      "dtypes: float64(1), int64(5), object(9)\n",
      "memory usage: 221.5+ KB\n"
     ]
    }
   ],
   "source": [
    "data.info()"
   ]
  },
  {
   "cell_type": "code",
   "execution_count": 5,
   "metadata": {},
   "outputs": [
    {
     "data": {
      "text/plain": [
       "Index(['imdb_id', 'budget', 'revenue', 'original_title', 'cast', 'director',\n",
       "       'tagline', 'overview', 'runtime', 'genres', 'production_companies',\n",
       "       'release_date', 'vote_average', 'release_year'],\n",
       "      dtype='object')"
      ]
     },
     "execution_count": 5,
     "metadata": {},
     "output_type": "execute_result"
    }
   ],
   "source": [
    "data.columns"
   ]
  },
  {
   "cell_type": "markdown",
   "metadata": {
    "colab_type": "text",
    "id": "DTIt7ezGVp-G"
   },
   "source": [
    "# Предобработка"
   ]
  },
  {
   "cell_type": "code",
   "execution_count": 168,
   "metadata": {
    "colab": {},
    "colab_type": "code",
    "id": "jNb40DwKVp-H"
   },
   "outputs": [],
   "source": [
    "answers = {} # создадим словарь для ответов\n",
    "\n",
    "# тут другие ваши предобработки колонок например:\n",
    "\n",
    "#the time given in the dataset is in string format.\n",
    "#So we need to change this in datetime format\n",
    "# ..."
   ]
  },
  {
   "cell_type": "markdown",
   "metadata": {
    "colab_type": "text",
    "id": "YxZaH-nPVp-L"
   },
   "source": [
    "# 1. У какого фильма из списка самый большой бюджет?"
   ]
  },
  {
   "cell_type": "markdown",
   "metadata": {
    "colab_type": "text",
    "id": "Nd-G5gX6Vp-M"
   },
   "source": [
    "Использовать варианты ответов в коде решения запрещено.    \n",
    "Вы думаете и в жизни у вас будут варианты ответов?)"
   ]
  },
  {
   "cell_type": "code",
   "execution_count": 171,
   "metadata": {
    "colab": {},
    "colab_type": "code",
    "id": "uVnXAY5RVp-O"
   },
   "outputs": [],
   "source": [
    "# в словарь вставляем номер вопроса и ваш ответ на него\n",
    "# Пример: \n",
    "answers['1'] = '2. Spider-Man 3 (tt0413300)'\n",
    "# запишите свой вариант ответа\n",
    "answers['1'] = 'Pirates of the Caribbean: On Stranger Tides'\n",
    "# если ответили верно, можете добавить комментарий со значком \"+\""
   ]
  },
  {
   "cell_type": "code",
   "execution_count": 7,
   "metadata": {
    "colab": {},
    "colab_type": "code",
    "id": "dZwb3m28Vp-S"
   },
   "outputs": [
    {
     "data": {
      "text/plain": [
       "723    Pirates of the Caribbean: On Stranger Tides\n",
       "Name: original_title, dtype: object"
      ]
     },
     "execution_count": 7,
     "metadata": {},
     "output_type": "execute_result"
    }
   ],
   "source": [
    "# тут пишем ваш код для решения данного вопроса:\n",
    "data.original_title[data.budget == data.budget.max()]"
   ]
  },
  {
   "cell_type": "markdown",
   "metadata": {
    "colab_type": "text",
    "id": "K7L3nbRXVp-X"
   },
   "source": [
    "ВАРИАНТ 2"
   ]
  },
  {
   "cell_type": "code",
   "execution_count": 0,
   "metadata": {
    "colab": {},
    "colab_type": "code",
    "id": "OGaoQI7rVp-X"
   },
   "outputs": [],
   "source": [
    "# можно добавлять разные варианты решения"
   ]
  },
  {
   "cell_type": "markdown",
   "metadata": {
    "colab_type": "text",
    "id": "FNRbbI3vVp-c"
   },
   "source": [
    "# 2. Какой из фильмов самый длительный (в минутах)?"
   ]
  },
  {
   "cell_type": "code",
   "execution_count": 172,
   "metadata": {
    "colab": {},
    "colab_type": "code",
    "id": "vHAoEXNTVp-d"
   },
   "outputs": [],
   "source": [
    "# думаю логику работы с этим словарем вы уже поняли, \n",
    "# по этому не буду больше его дублировать\n",
    "answers['2'] = 'Gods and Generals'"
   ]
  },
  {
   "cell_type": "code",
   "execution_count": 8,
   "metadata": {
    "colab": {},
    "colab_type": "code",
    "id": "ot-VX2XrVp-g"
   },
   "outputs": [
    {
     "data": {
      "text/plain": [
       "1157    Gods and Generals\n",
       "Name: original_title, dtype: object"
      ]
     },
     "execution_count": 8,
     "metadata": {},
     "output_type": "execute_result"
    }
   ],
   "source": [
    "data.original_title[data.runtime == data.runtime.max()]"
   ]
  },
  {
   "cell_type": "markdown",
   "metadata": {
    "colab_type": "text",
    "id": "bapLlpW8Vp-k"
   },
   "source": [
    "# 3. Какой из фильмов самый короткий (в минутах)?\n",
    "\n",
    "\n",
    "\n"
   ]
  },
  {
   "cell_type": "code",
   "execution_count": 179,
   "metadata": {
    "colab": {},
    "colab_type": "code",
    "id": "YBxaSHuAVp-l"
   },
   "outputs": [
    {
     "data": {
      "text/plain": [
       "768    Winnie the Pooh\n",
       "Name: original_title, dtype: object"
      ]
     },
     "execution_count": 179,
     "metadata": {},
     "output_type": "execute_result"
    }
   ],
   "source": [
    "data.original_title[data.runtime == data.runtime.min()]\n"
   ]
  },
  {
   "cell_type": "code",
   "execution_count": 178,
   "metadata": {},
   "outputs": [],
   "source": [
    "answers['3'] = 'Winnie the Pooh'"
   ]
  },
  {
   "cell_type": "markdown",
   "metadata": {
    "colab_type": "text",
    "id": "TfQbxbfNVp-p"
   },
   "source": [
    "# 4. Какова средняя длительность фильмов?\n"
   ]
  },
  {
   "cell_type": "code",
   "execution_count": 180,
   "metadata": {
    "colab": {},
    "colab_type": "code",
    "id": "5K6dKZYVVp-q"
   },
   "outputs": [
    {
     "data": {
      "text/plain": [
       "110"
      ]
     },
     "execution_count": 180,
     "metadata": {},
     "output_type": "execute_result"
    }
   ],
   "source": [
    "round(data.runtime.mean())"
   ]
  },
  {
   "cell_type": "code",
   "execution_count": 181,
   "metadata": {},
   "outputs": [],
   "source": [
    "answers['4'] = '110'"
   ]
  },
  {
   "cell_type": "markdown",
   "metadata": {
    "colab_type": "text",
    "id": "r5TvbnT_Vp-u"
   },
   "source": [
    "# 5. Каково медианное значение длительности фильмов? "
   ]
  },
  {
   "cell_type": "code",
   "execution_count": 175,
   "metadata": {
    "colab": {},
    "colab_type": "code",
    "id": "iBROplKnVp-v"
   },
   "outputs": [
    {
     "data": {
      "text/plain": [
       "107.0"
      ]
     },
     "execution_count": 175,
     "metadata": {},
     "output_type": "execute_result"
    }
   ],
   "source": [
    "data.runtime.median()"
   ]
  },
  {
   "cell_type": "code",
   "execution_count": 182,
   "metadata": {},
   "outputs": [],
   "source": [
    "answers['5'] = '107'"
   ]
  },
  {
   "cell_type": "markdown",
   "metadata": {
    "colab_type": "text",
    "id": "39P-deDSVp-y"
   },
   "source": [
    "# 6. Какой самый прибыльный фильм?\n",
    "#### Внимание! Здесь и далее под «прибылью» или «убытками» понимается разность между сборами и бюджетом фильма. (прибыль = сборы - бюджет) в нашем датасете это будет (profit = revenue - budget) "
   ]
  },
  {
   "cell_type": "code",
   "execution_count": 184,
   "metadata": {
    "colab": {},
    "colab_type": "code",
    "id": "UYZh4T9WVp-y"
   },
   "outputs": [
    {
     "data": {
      "text/plain": [
       "239    Avatar\n",
       "Name: original_title, dtype: object"
      ]
     },
     "execution_count": 184,
     "metadata": {},
     "output_type": "execute_result"
    }
   ],
   "source": [
    "# лучше код получения столбца profit вынести в Предобработку что в начале\n",
    "data['profit'] = data.revenue - data.budget\n",
    "data.original_title[data.profit == data.profit.max()]"
   ]
  },
  {
   "cell_type": "code",
   "execution_count": 183,
   "metadata": {},
   "outputs": [],
   "source": [
    "answers['6'] = 'Avatar'"
   ]
  },
  {
   "cell_type": "markdown",
   "metadata": {
    "colab_type": "text",
    "id": "M99JmIX4Vp-2"
   },
   "source": [
    "# 7. Какой фильм самый убыточный? "
   ]
  },
  {
   "cell_type": "code",
   "execution_count": 31,
   "metadata": {},
   "outputs": [
    {
     "data": {
      "text/plain": [
       "1245    The Lone Ranger\n",
       "Name: original_title, dtype: object"
      ]
     },
     "execution_count": 31,
     "metadata": {},
     "output_type": "execute_result"
    }
   ],
   "source": [
    "data.original_title[data.profit == data.profit.min()]"
   ]
  },
  {
   "cell_type": "code",
   "execution_count": 197,
   "metadata": {},
   "outputs": [],
   "source": [
    "answers['7'] = 'The Lone Ranger'"
   ]
  },
  {
   "cell_type": "markdown",
   "metadata": {
    "colab_type": "text",
    "id": "wEOM5ERVVp-6"
   },
   "source": [
    "# 8. У скольких фильмов из датасета объем сборов оказался выше бюджета?"
   ]
  },
  {
   "cell_type": "code",
   "execution_count": 179,
   "metadata": {
    "colab": {},
    "colab_type": "code",
    "id": "y00_7HD6Vp-7"
   },
   "outputs": [
    {
     "data": {
      "text/plain": [
       "1478"
      ]
     },
     "execution_count": 179,
     "metadata": {},
     "output_type": "execute_result"
    }
   ],
   "source": [
    "data.imdb_id[data.profit > 0].count()\n"
   ]
  },
  {
   "cell_type": "code",
   "execution_count": 198,
   "metadata": {},
   "outputs": [],
   "source": [
    "answers['8'] = '1478'"
   ]
  },
  {
   "cell_type": "markdown",
   "metadata": {
    "colab_type": "text",
    "id": "xhpspA9KVp_A"
   },
   "source": [
    "# 9. Какой фильм оказался самым кассовым в 2008 году?"
   ]
  },
  {
   "cell_type": "code",
   "execution_count": 180,
   "metadata": {
    "colab": {},
    "colab_type": "code",
    "id": "MoUyQr9RVp_B"
   },
   "outputs": [
    {
     "data": {
      "text/plain": [
       "599    The Dark Knight\n",
       "Name: original_title, dtype: object"
      ]
     },
     "execution_count": 180,
     "metadata": {},
     "output_type": "execute_result"
    }
   ],
   "source": [
    "data.original_title[data.profit == data.profit[data.release_year == 2008].max()]\n"
   ]
  },
  {
   "cell_type": "code",
   "execution_count": 187,
   "metadata": {},
   "outputs": [],
   "source": [
    "answers['9'] = 'The Dark Knight'"
   ]
  },
  {
   "cell_type": "markdown",
   "metadata": {
    "colab_type": "text",
    "id": "Zi4hDKidVp_F"
   },
   "source": [
    "# 10. Самый убыточный фильм за период с 2012 по 2014 г. (включительно)?\n"
   ]
  },
  {
   "cell_type": "code",
   "execution_count": 181,
   "metadata": {
    "colab": {},
    "colab_type": "code",
    "id": "XqyRmufJVp_F"
   },
   "outputs": [
    {
     "data": {
      "text/plain": [
       "1245    The Lone Ranger\n",
       "Name: original_title, dtype: object"
      ]
     },
     "execution_count": 181,
     "metadata": {},
     "output_type": "execute_result"
    }
   ],
   "source": [
    "data.original_title[data.profit == data.profit[(data.release_year <= 2014) & (data.release_year >= 2012)].min()]"
   ]
  },
  {
   "cell_type": "code",
   "execution_count": 188,
   "metadata": {},
   "outputs": [],
   "source": [
    "answers['10'] = 'The Lone Ranger'"
   ]
  },
  {
   "cell_type": "markdown",
   "metadata": {
    "colab_type": "text",
    "id": "EA7Sa9dkVp_I"
   },
   "source": [
    "# 11. Какого жанра фильмов больше всего?"
   ]
  },
  {
   "cell_type": "code",
   "execution_count": 195,
   "metadata": {
    "colab": {},
    "colab_type": "code",
    "id": "zsJAwJ8QVp_J"
   },
   "outputs": [
    {
     "data": {
      "text/plain": [
       "'Drama'"
      ]
     },
     "execution_count": 195,
     "metadata": {},
     "output_type": "execute_result"
    }
   ],
   "source": [
    "# эту задачу тоже можно решать разными подходами, попробуй реализовать разные варианты\n",
    "# если будешь добавлять функцию - выноси ее в предобработку что в начале\n",
    "genres_list = data.genres.str.cat(sep='|').split('|')\n",
    "Counter(genres_list).most_common(1)[0][0]"
   ]
  },
  {
   "cell_type": "markdown",
   "metadata": {
    "colab_type": "text",
    "id": "Ax6g2C8SVp_M"
   },
   "source": [
    "ВАРИАНТ 2"
   ]
  },
  {
   "cell_type": "code",
   "execution_count": 193,
   "metadata": {},
   "outputs": [
    {
     "data": {
      "text/plain": [
       "'Drama'"
      ]
     },
     "execution_count": 193,
     "metadata": {},
     "output_type": "execute_result"
    }
   ],
   "source": [
    "genres_list = pd.Series(data.genres.str.cat(sep='|').split('|'))\n",
    "genres_list.describe(include='object').loc['top']"
   ]
  },
  {
   "cell_type": "code",
   "execution_count": null,
   "metadata": {},
   "outputs": [],
   "source": [
    "answers['11'] = 'Drama'"
   ]
  },
  {
   "cell_type": "markdown",
   "metadata": {
    "colab_type": "text",
    "id": "T9_bPWpkVp_Q"
   },
   "source": [
    "# 12. Фильмы какого жанра чаще всего становятся прибыльными? "
   ]
  },
  {
   "cell_type": "code",
   "execution_count": 269,
   "metadata": {
    "colab": {},
    "colab_type": "code",
    "id": "Tmt8MaK1Vp_R"
   },
   "outputs": [
    {
     "data": {
      "text/plain": [
       "'Drama'"
      ]
     },
     "execution_count": 269,
     "metadata": {},
     "output_type": "execute_result"
    }
   ],
   "source": [
    "profit_data = data[data.profit > 0]\n",
    "genres_list = profit_data.genres.str.cat(sep='|').split('|')\n",
    "Counter(genres_list).most_common(1)[0][0]"
   ]
  },
  {
   "cell_type": "code",
   "execution_count": 216,
   "metadata": {},
   "outputs": [],
   "source": [
    "answers['12'] = 'Drama'"
   ]
  },
  {
   "cell_type": "markdown",
   "metadata": {
    "colab_type": "text",
    "id": "0F23bgsDVp_U"
   },
   "source": [
    "# 13. У какого режиссера самые большие суммарные кассовые сбооры?"
   ]
  },
  {
   "cell_type": "code",
   "execution_count": 184,
   "metadata": {
    "colab": {},
    "colab_type": "code",
    "id": "K6Z3J8ygVp_X"
   },
   "outputs": [
    {
     "data": {
      "text/plain": [
       "director\n",
       "Peter Jackson    5202593685\n",
       "Name: profit, dtype: int64"
      ]
     },
     "execution_count": 184,
     "metadata": {},
     "output_type": "execute_result"
    }
   ],
   "source": [
    "data.groupby('director')['profit'].sum().sort_values(ascending=False)[:1]"
   ]
  },
  {
   "cell_type": "code",
   "execution_count": 194,
   "metadata": {},
   "outputs": [],
   "source": [
    "answers['13'] = 'Peter Jackson'"
   ]
  },
  {
   "cell_type": "markdown",
   "metadata": {
    "colab_type": "text",
    "id": "PsYC9FgRVp_a"
   },
   "source": [
    "# 14. Какой режисер снял больше всего фильмов в стиле Action?"
   ]
  },
  {
   "cell_type": "code",
   "execution_count": 194,
   "metadata": {},
   "outputs": [
    {
     "data": {
      "text/plain": [
       "'Robert Rodriguez'"
      ]
     },
     "execution_count": 194,
     "metadata": {},
     "output_type": "execute_result"
    }
   ],
   "source": [
    "director_list = data.director[data.genres.str.contains('Action')].str.cat(sep='|').split('|')\n",
    "Counter(director_list).most_common(1)[0][0]"
   ]
  },
  {
   "cell_type": "code",
   "execution_count": 188,
   "metadata": {},
   "outputs": [
    {
     "data": {
      "text/plain": [
       "[('Robert Rodriguez', 9)]"
      ]
     },
     "execution_count": 188,
     "metadata": {},
     "output_type": "execute_result"
    }
   ],
   "source": [
    "Counter(director_list).most_common(1)"
   ]
  },
  {
   "cell_type": "code",
   "execution_count": 217,
   "metadata": {},
   "outputs": [],
   "source": [
    "answers['14'] = 'Robert Rodriguez'"
   ]
  },
  {
   "cell_type": "markdown",
   "metadata": {
    "colab_type": "text",
    "id": "PQ0KciD7Vp_f"
   },
   "source": [
    "# 15. Фильмы с каким актером принесли самые высокие кассовые сборы в 2012 году? "
   ]
  },
  {
   "cell_type": "code",
   "execution_count": 242,
   "metadata": {},
   "outputs": [
    {
     "data": {
      "text/plain": [
       "'Chris Hemsworth'"
      ]
     },
     "execution_count": 242,
     "metadata": {},
     "output_type": "execute_result"
    }
   ],
   "source": [
    "data[data.release_year == 2012]\n",
    "data_2012 = data[data.release_year == 2012]\n",
    "cast_list = data_2012.cast.str.cat(sep = '|').split('|')\n",
    "cast_revenue_dict = {x:data_2012.revenue[data_2012.cast.str.contains(x)].sum() for x in cast_list}\n",
    "sorted(cast_revenue_dict, key=cast_revenue_dict.get, reverse=True)[0]"
   ]
  },
  {
   "cell_type": "code",
   "execution_count": 200,
   "metadata": {},
   "outputs": [],
   "source": [
    "answers['15'] = 'Chris Hemsworth'"
   ]
  },
  {
   "cell_type": "markdown",
   "metadata": {
    "colab_type": "text",
    "id": "mWHyyL7QVp_j"
   },
   "source": [
    "# 16. Какой актер снялся в большем количестве высокобюджетных фильмов?"
   ]
  },
  {
   "cell_type": "code",
   "execution_count": 262,
   "metadata": {},
   "outputs": [
    {
     "data": {
      "text/plain": [
       "'Matt Damon'"
      ]
     },
     "execution_count": 262,
     "metadata": {},
     "output_type": "execute_result"
    }
   ],
   "source": [
    "budget_data = data[data.budget > data.budget.mean()]\n",
    "cast_list = budget_data.cast.str.cat(sep = '|').split('|')\n",
    "hb_actors = pd.Series({x:budget_data.imdb_id[budget_data.cast.str.contains(x)].count() for x in cast_list})\n",
    "hb_actors.sort_values(ascending=False).index[0]"
   ]
  },
  {
   "cell_type": "code",
   "execution_count": 201,
   "metadata": {},
   "outputs": [],
   "source": [
    "answers['16'] = 'Matt Damon'"
   ]
  },
  {
   "cell_type": "markdown",
   "metadata": {
    "colab_type": "text",
    "id": "NIh6AaW5Vp_n"
   },
   "source": [
    "# 17. В фильмах какого жанра больше всего снимался Nicolas Cage? "
   ]
  },
  {
   "cell_type": "code",
   "execution_count": 266,
   "metadata": {
    "colab": {},
    "colab_type": "code",
    "id": "H74SJDIBVp_n"
   },
   "outputs": [
    {
     "data": {
      "text/plain": [
       "'Action'"
      ]
     },
     "execution_count": 266,
     "metadata": {},
     "output_type": "execute_result"
    }
   ],
   "source": [
    "nicolas_data = data[data.cast.str.contains('Nicolas Cage')]\n",
    "nicolas_genres = nicolas_data.genres.str.cat(sep='|').split('|')\n",
    "Counter(nicolas_genres).most_common(1)[0][0]"
   ]
  },
  {
   "cell_type": "code",
   "execution_count": 202,
   "metadata": {},
   "outputs": [],
   "source": [
    "answers['17'] = 'Action'"
   ]
  },
  {
   "cell_type": "markdown",
   "metadata": {
    "colab_type": "text",
    "id": "RqOmPRfWVp_q"
   },
   "source": [
    "# 18. Самый убыточный фильм от Paramount Pictures"
   ]
  },
  {
   "cell_type": "code",
   "execution_count": 276,
   "metadata": {
    "colab": {},
    "colab_type": "code",
    "id": "9E_B0Y96Vp_r"
   },
   "outputs": [
    {
     "data": {
      "text/plain": [
       "925    K-19: The Widowmaker\n",
       "Name: original_title, dtype: object"
      ]
     },
     "execution_count": 276,
     "metadata": {},
     "output_type": "execute_result"
    }
   ],
   "source": [
    "data2 = data[(data.production_companies.str.contains('Paramount Pictures')) & (data.profit < 0)]\n",
    "data2.original_title[data2.profit == data2.profit.min()]\n"
   ]
  },
  {
   "cell_type": "code",
   "execution_count": 203,
   "metadata": {},
   "outputs": [],
   "source": [
    "answers['18'] = 'K-19: The Widowmaker'"
   ]
  },
  {
   "cell_type": "markdown",
   "metadata": {
    "colab_type": "text",
    "id": "vS8Ur6ddVp_u"
   },
   "source": [
    "# 19. Какой год стал самым успешным по суммарным кассовым сборам?"
   ]
  },
  {
   "cell_type": "code",
   "execution_count": 280,
   "metadata": {
    "colab": {},
    "colab_type": "code",
    "id": "Dnbt4GdIVp_v"
   },
   "outputs": [
    {
     "data": {
      "text/plain": [
       "2015"
      ]
     },
     "execution_count": 280,
     "metadata": {},
     "output_type": "execute_result"
    }
   ],
   "source": [
    "data.groupby('release_year')['revenue'].sum().sort_values(ascending=False).index[0]"
   ]
  },
  {
   "cell_type": "code",
   "execution_count": 204,
   "metadata": {},
   "outputs": [],
   "source": [
    "answers['19'] = '2015'"
   ]
  },
  {
   "cell_type": "markdown",
   "metadata": {
    "colab_type": "text",
    "id": "JAzJh4QAVp_z"
   },
   "source": [
    "# 20. Какой самый прибыльный год для студии Warner Bros?"
   ]
  },
  {
   "cell_type": "code",
   "execution_count": 282,
   "metadata": {
    "colab": {},
    "colab_type": "code",
    "id": "wgVu02DEVp_0"
   },
   "outputs": [
    {
     "data": {
      "text/plain": [
       "2014"
      ]
     },
     "execution_count": 282,
     "metadata": {},
     "output_type": "execute_result"
    }
   ],
   "source": [
    "data_WB = data[data.production_companies.str.contains('Warner Bros')]\n",
    "data_WB.groupby('release_year')['revenue'].sum().sort_values(ascending=False).index[0]"
   ]
  },
  {
   "cell_type": "code",
   "execution_count": 205,
   "metadata": {},
   "outputs": [],
   "source": [
    "answers['20'] = '2014'"
   ]
  },
  {
   "cell_type": "markdown",
   "metadata": {
    "colab_type": "text",
    "id": "8Im1S2HRVp_4"
   },
   "source": [
    "# 21. В каком месяце за все годы суммарно вышло больше всего фильмов?"
   ]
  },
  {
   "cell_type": "code",
   "execution_count": 81,
   "metadata": {},
   "outputs": [
    {
     "data": {
      "text/plain": [
       "'9'"
      ]
     },
     "execution_count": 81,
     "metadata": {},
     "output_type": "execute_result"
    }
   ],
   "source": [
    "data['release_date'] = pd.to_datetime(data['release_date'])\n",
    "data['month'] = data['release_date'].dt.month.astype('str')\n",
    "data.describe(include='object')['month']['top']"
   ]
  },
  {
   "cell_type": "code",
   "execution_count": 206,
   "metadata": {},
   "outputs": [],
   "source": [
    "answers['20'] = '2014'"
   ]
  },
  {
   "cell_type": "markdown",
   "metadata": {
    "colab_type": "text",
    "id": "uAJsZ_NeVp_7"
   },
   "source": [
    "# 22. Сколько суммарно вышло фильмов летом? (за июнь, июль, август)"
   ]
  },
  {
   "cell_type": "code",
   "execution_count": 82,
   "metadata": {
    "colab": {},
    "colab_type": "code",
    "id": "Aa-hEREoVp_8"
   },
   "outputs": [
    {
     "data": {
      "text/plain": [
       "530"
      ]
     },
     "execution_count": 82,
     "metadata": {},
     "output_type": "execute_result"
    }
   ],
   "source": [
    "data['release_date'] = pd.to_datetime(data['release_date'])\n",
    "data['month'] = data['release_date'].dt.month\n",
    "data.month[(data.month == 7)|(data.month == 8)|(data.month == 9)].count()"
   ]
  },
  {
   "cell_type": "code",
   "execution_count": 207,
   "metadata": {},
   "outputs": [],
   "source": [
    "answers['21'] = '530'"
   ]
  },
  {
   "cell_type": "code",
   "execution_count": 83,
   "metadata": {},
   "outputs": [
    {
     "data": {
      "text/plain": [
       "450"
      ]
     },
     "execution_count": 83,
     "metadata": {},
     "output_type": "execute_result"
    }
   ],
   "source": [
    "data['release_date'] = pd.to_datetime(data['release_date'])\n",
    "data['month'] = data['release_date'].dt.month.astype('str')\n",
    "data.month[(data.month == '6')|(data.month == '7')|(data.month == '8')].count()"
   ]
  },
  {
   "cell_type": "code",
   "execution_count": 208,
   "metadata": {},
   "outputs": [],
   "source": [
    "answers['22'] = '450'"
   ]
  },
  {
   "cell_type": "markdown",
   "metadata": {
    "colab_type": "text",
    "id": "G94ppOY1VqAA"
   },
   "source": [
    "# 23. Для какого режиссера зима – самое продуктивное время года? "
   ]
  },
  {
   "cell_type": "code",
   "execution_count": 158,
   "metadata": {
    "colab": {},
    "colab_type": "code",
    "id": "RhNTsamuVqAB"
   },
   "outputs": [
    {
     "data": {
      "text/plain": [
       "'Peter Jackson'"
      ]
     },
     "execution_count": 158,
     "metadata": {},
     "output_type": "execute_result"
    }
   ],
   "source": [
    "winter_data = data[(data.month == '1')|(data.month == '2')|(data.month == '12')]\n",
    "winter_dir = winter_data.director.str.cat(sep='|').split('|')\n",
    "winter_dir\n",
    "Counter(winter_dir).most_common(1)[0][0]"
   ]
  },
  {
   "cell_type": "code",
   "execution_count": 209,
   "metadata": {},
   "outputs": [],
   "source": [
    "answers['23'] = 'Peter Jackson'"
   ]
  },
  {
   "cell_type": "markdown",
   "metadata": {
    "colab_type": "text",
    "id": "RBo0JVjVVqAF"
   },
   "source": [
    "# 24. Какая студия дает самые длинные названия своим фильмам по количеству символов?"
   ]
  },
  {
   "cell_type": "code",
   "execution_count": 113,
   "metadata": {},
   "outputs": [
    {
     "data": {
      "text/plain": [
       "'Four By Two Productions'"
      ]
     },
     "execution_count": 113,
     "metadata": {},
     "output_type": "execute_result"
    }
   ],
   "source": [
    "data['len_name'] = data.original_title.apply(lambda x: len(x))\n",
    "companies_list = data.production_companies.str.cat(sep=\"|\").split(\"|\")\n",
    "companies_dict = {x:list(data.len_name[data.production_companies.str.contains(x)]) for x in companies_list}\n",
    "companies_dict_2 = {}\n",
    "for companies in companies_dict:\n",
    "    if len(companies_dict[companies]) != 0:\n",
    "        companies_dict_2[companies] = companies_dict[companies]\n",
    "final_dict = {x:sum(companies_dict_2[x])/len(companies_dict_2[x]) for x in companies_dict_2}\n",
    "sorted(final_dict, key=final_dict.get, reverse=True)[0]"
   ]
  },
  {
   "cell_type": "code",
   "execution_count": 210,
   "metadata": {},
   "outputs": [],
   "source": [
    "answers['24'] = 'Four By Two Productions'"
   ]
  },
  {
   "cell_type": "markdown",
   "metadata": {
    "colab_type": "text",
    "id": "9G0hbvR7VqAK"
   },
   "source": [
    "# 25. Описание фильмов какой студии в среднем самые длинные по количеству слов?"
   ]
  },
  {
   "cell_type": "code",
   "execution_count": 114,
   "metadata": {
    "colab": {},
    "colab_type": "code",
    "id": "Ge2GsLNxVqAK"
   },
   "outputs": [
    {
     "data": {
      "text/plain": [
       "'Midnight Picture Show'"
      ]
     },
     "execution_count": 114,
     "metadata": {},
     "output_type": "execute_result"
    }
   ],
   "source": [
    "data['words_overview'] = data.overview.apply(lambda x: len(x.split(\" \")))\n",
    "companies_list = data.production_companies.str.cat(sep=\"|\").split(\"|\")\n",
    "companies_dict = {x:list(data.words_overview[data.production_companies.str.contains(x)]) for x in companies_list}\n",
    "companies_dict_2 = {}\n",
    "for companies in companies_dict:\n",
    "    if len(companies_dict[companies]) != 0:\n",
    "        companies_dict_2[companies] = companies_dict[companies]\n",
    "final_dict = {x:sum(companies_dict_2[x])/len(companies_dict_2[x]) for x in companies_dict_2}\n",
    "sorted(final_dict, key=final_dict.get, reverse=True)[0]"
   ]
  },
  {
   "cell_type": "code",
   "execution_count": 211,
   "metadata": {},
   "outputs": [],
   "source": [
    "answers['25'] = 'Midnight Picture Show'"
   ]
  },
  {
   "cell_type": "markdown",
   "metadata": {
    "colab_type": "text",
    "id": "FJ1AFt90VqAP"
   },
   "source": [
    "# 26. Какие фильмы входят в 1 процент лучших по рейтингу? \n",
    "по vote_average"
   ]
  },
  {
   "cell_type": "code",
   "execution_count": 67,
   "metadata": {
    "colab": {},
    "colab_type": "code",
    "id": "8qmJVq4CVqAQ"
   },
   "outputs": [
    {
     "data": {
      "text/plain": [
       "9                                          Inside Out\n",
       "34                                               Room\n",
       "118                                      Interstellar\n",
       "119                           Guardians of the Galaxy\n",
       "125                                The Imitation Game\n",
       "128                                         Gone Girl\n",
       "138                          The Grand Budapest Hotel\n",
       "370                                         Inception\n",
       "599                                   The Dark Knight\n",
       "872                                       The Pianist\n",
       "1081    The Lord of the Rings: The Return of the King\n",
       "1183                          The Wolf of Wall Street\n",
       "1191                                 12 Years a Slave\n",
       "1800                                          Memento\n",
       "Name: original_title, dtype: object"
      ]
     },
     "execution_count": 67,
     "metadata": {},
     "output_type": "execute_result"
    }
   ],
   "source": [
    "data.original_title[data.vote_average > data.vote_average.quantile(q=0.99)]"
   ]
  },
  {
   "cell_type": "code",
   "execution_count": 212,
   "metadata": {},
   "outputs": [],
   "source": [
    "answers['26'] = 'Inside Out, The Dark Knight, 12 Years a Slave'"
   ]
  },
  {
   "cell_type": "markdown",
   "metadata": {
    "colab_type": "text",
    "id": "MdXsUXbCVqAV"
   },
   "source": [
    "# 27. Какие актеры чаще всего снимаются в одном фильме вместе?\n"
   ]
  },
  {
   "cell_type": "code",
   "execution_count": 219,
   "metadata": {},
   "outputs": [
    {
     "data": {
      "text/plain": [
       "{'Johnny Depp|Helena Bonham Carter': 6,\n",
       " 'Ben Stiller|Owen Wilson': 6,\n",
       " 'Vin Diesel|Paul Walker': 5,\n",
       " 'Adam Sandler|Kevin James': 5,\n",
       " 'Daniel Radcliffe|Rupert Grint': 8}"
      ]
     },
     "execution_count": 219,
     "metadata": {},
     "output_type": "execute_result"
    }
   ],
   "source": [
    "actors_duet = {'Johnny Depp|Helena Bonham Carter':0, 'Ben Stiller|Owen Wilson':0, 'Vin Diesel|Paul Walker':0, \n",
    "               'Adam Sandler|Kevin James':0, 'Daniel Radcliffe|Rupert Grint':0}\n",
    "for actors in actors_duet.keys():\n",
    "    actors_duet[actors] = data.original_title[(data.cast.str.contains(actors.split('|')[0]))&(data.cast.str.contains(actors.split('|')[1]))].count()\n",
    "sorted(actors_duet, key=actors_duet.get, reverse=True)[0] \n",
    "actors_duet\n",
    "\n",
    "\n"
   ]
  },
  {
   "cell_type": "markdown",
   "metadata": {
    "colab_type": "text",
    "id": "4ymnxEVoVqAW"
   },
   "source": [
    "ВАРИАНТ 2"
   ]
  },
  {
   "cell_type": "code",
   "execution_count": null,
   "metadata": {},
   "outputs": [],
   "source": [
    "actors = list(set(data.cast.str.cat(sep='|').split('|')))\n",
    "actors_column = pd.DataFrame({'actor':actors, 'movies_count':[data.original_title[data.cast.str.contains(x)].count() for x in actors]})\n",
    "actors_column_2 = actors_column[actors_column.movies_count > round(actors_column.movies_count.mean())]\n",
    "top_actors = list(actors_column_2.actor)\n",
    "pairs_actors = list(it.combinations(top_actors, 2))\n",
    "pairs_actors_dict = {}\n",
    "for i in pairs_actors:\n",
    "    pairs_actors_dict[i] = 0\n",
    "for actors in pairs_actors:\n",
    "    pairs_actors_dict[actors] = data.original_title[(data.cast.str.contains(actors[0])) & (data.cast.str.contains(actors[1]))].count()\n",
    "sorted(pairs_actors_dict, key=pairs_actors_dict.get, reverse=True) "
   ]
  },
  {
   "cell_type": "code",
   "execution_count": 213,
   "metadata": {},
   "outputs": [],
   "source": [
    "answers['27'] = 'Daniel Radcliffe|Rupert Grinte'"
   ]
  },
  {
   "cell_type": "markdown",
   "metadata": {
    "colab_type": "text",
    "id": "U0nONFnGVqAX"
   },
   "source": [
    "# Submission"
   ]
  },
  {
   "cell_type": "code",
   "execution_count": 214,
   "metadata": {
    "colab": {},
    "colab_type": "code",
    "id": "IfcaRO9-VqAX",
    "outputId": "0f132912-32bb-4196-c98c-abfbc4ad5a5f"
   },
   "outputs": [
    {
     "data": {
      "text/plain": [
       "{'27': 'Daniel Radcliffe|Rupert Grinte',\n",
       " '1': 'Pirates of the Caribbean: On Stranger Tides',\n",
       " '2': 'Gods and Generals',\n",
       " '3': 'Winnie the Pooh',\n",
       " '4': '110',\n",
       " '5': '107',\n",
       " '6': 'Avatar',\n",
       " '7': 'The Lone Ranger',\n",
       " '9': 'The Dark Knight',\n",
       " '10': 'The Lone Ranger',\n",
       " '11': 'Drama',\n",
       " '13': 'Peter Jackson',\n",
       " '15': 'Chris Hemsworth',\n",
       " '8': '1478',\n",
       " '16': 'Matt Damon',\n",
       " '17': 'Action',\n",
       " '18': 'K-19: The Widowmaker',\n",
       " '19': '2015',\n",
       " '20': '2014',\n",
       " '21': '530',\n",
       " '22': '450',\n",
       " '23': 'Peter Jackson',\n",
       " '24': 'Four By Two Productions',\n",
       " '25': 'Midnight Picture Show',\n",
       " '26': 'Inside Out, The Dark Knight, 12 Years a Slave'}"
      ]
     },
     "execution_count": 214,
     "metadata": {},
     "output_type": "execute_result"
    }
   ],
   "source": [
    "# в конце можно посмотреть свои ответы к каждому вопросу\n",
    "answers"
   ]
  },
  {
   "cell_type": "code",
   "execution_count": 218,
   "metadata": {
    "colab": {},
    "colab_type": "code",
    "id": "SiRmHPl8VqAd"
   },
   "outputs": [
    {
     "data": {
      "text/plain": [
       "27"
      ]
     },
     "execution_count": 218,
     "metadata": {},
     "output_type": "execute_result"
    }
   ],
   "source": [
    "# и убедиться что ни чего не пропустил)\n",
    "len(answers)"
   ]
  },
  {
   "cell_type": "code",
   "execution_count": 0,
   "metadata": {
    "colab": {},
    "colab_type": "code",
    "id": "uCfuTkRbVqAg"
   },
   "outputs": [],
   "source": []
  },
  {
   "cell_type": "code",
   "execution_count": 0,
   "metadata": {
    "colab": {},
    "colab_type": "code",
    "id": "Vwx3NrkSVqAl"
   },
   "outputs": [],
   "source": []
  }
 ],
 "metadata": {
  "colab": {
   "name": "Copy of [SF-DST] Movies IMBD v4.1 TEMPLATE.ipynb",
   "provenance": []
  },
  "kernelspec": {
   "display_name": "Python 3",
   "language": "python",
   "name": "python3"
  },
  "language_info": {
   "codemirror_mode": {
    "name": "ipython",
    "version": 3
   },
   "file_extension": ".py",
   "mimetype": "text/x-python",
   "name": "python",
   "nbconvert_exporter": "python",
   "pygments_lexer": "ipython3",
   "version": "3.7.6"
  }
 },
 "nbformat": 4,
 "nbformat_minor": 1
}
