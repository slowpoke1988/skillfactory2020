{
 "cells": [
  {
   "cell_type": "code",
   "execution_count": 1,
   "metadata": {
    "_cell_guid": "b1076dfc-b9ad-4769-8c92-a6c4dae69d19",
    "_uuid": "8f2839f25d086af736a60e9eeb907d3b93b6e0e5",
    "colab": {},
    "colab_type": "code",
    "id": "U2D2gTdJVp90"
   },
   "outputs": [],
   "source": [
    "import numpy as np\n",
    "import pandas as pd\n",
    "import seaborn as sns\n",
    "import matplotlib.pyplot as plt\n",
    "from collections import Counter\n",
    "import itertools as it"
   ]
  },
  {
   "cell_type": "code",
   "execution_count": 2,
   "metadata": {
    "_cell_guid": "79c7e3d0-c299-4dcb-8224-4455121ee9b0",
    "_uuid": "d629ff2d2480ee46fbb7e2d37f6b5fab8052498a",
    "colab": {},
    "colab_type": "code",
    "id": "oyGfxL3eVp9-"
   },
   "outputs": [
    {
     "data": {
      "text/html": [
       "<div>\n",
       "<style scoped>\n",
       "    .dataframe tbody tr th:only-of-type {\n",
       "        vertical-align: middle;\n",
       "    }\n",
       "\n",
       "    .dataframe tbody tr th {\n",
       "        vertical-align: top;\n",
       "    }\n",
       "\n",
       "    .dataframe thead th {\n",
       "        text-align: right;\n",
       "    }\n",
       "</style>\n",
       "<table border=\"1\" class=\"dataframe\">\n",
       "  <thead>\n",
       "    <tr style=\"text-align: right;\">\n",
       "      <th></th>\n",
       "      <th>imdb_id</th>\n",
       "      <th>budget</th>\n",
       "      <th>revenue</th>\n",
       "      <th>original_title</th>\n",
       "      <th>cast</th>\n",
       "      <th>director</th>\n",
       "      <th>tagline</th>\n",
       "      <th>overview</th>\n",
       "      <th>runtime</th>\n",
       "      <th>genres</th>\n",
       "      <th>production_companies</th>\n",
       "      <th>release_date</th>\n",
       "      <th>vote_average</th>\n",
       "      <th>release_year</th>\n",
       "    </tr>\n",
       "  </thead>\n",
       "  <tbody>\n",
       "    <tr>\n",
       "      <th>252</th>\n",
       "      <td>tt0472033</td>\n",
       "      <td>30000000</td>\n",
       "      <td>48428063</td>\n",
       "      <td>9</td>\n",
       "      <td>Elijah Wood|John C. Reilly|Jennifer Connelly|C...</td>\n",
       "      <td>Shane Acker</td>\n",
       "      <td>When our world ended their mission began.</td>\n",
       "      <td>When 9 first comes to life, he finds himself i...</td>\n",
       "      <td>79</td>\n",
       "      <td>Action|Adventure|Animation|Science Fiction|Thr...</td>\n",
       "      <td>Focus Films|Starz Animation|Relativity Media|T...</td>\n",
       "      <td>8/19/2009</td>\n",
       "      <td>6.5</td>\n",
       "      <td>2009</td>\n",
       "    </tr>\n",
       "    <tr>\n",
       "      <th>868</th>\n",
       "      <td>tt0145487</td>\n",
       "      <td>139000000</td>\n",
       "      <td>821708551</td>\n",
       "      <td>Spider-Man</td>\n",
       "      <td>Tobey Maguire|Willem Dafoe|Kirsten Dunst|James...</td>\n",
       "      <td>Sam Raimi</td>\n",
       "      <td>With great power comes great responsibility.</td>\n",
       "      <td>After being bitten by a genetically altered sp...</td>\n",
       "      <td>121</td>\n",
       "      <td>Fantasy|Action</td>\n",
       "      <td>Columbia Pictures|Marvel Enterprises</td>\n",
       "      <td>5/1/2002</td>\n",
       "      <td>6.6</td>\n",
       "      <td>2002</td>\n",
       "    </tr>\n",
       "    <tr>\n",
       "      <th>94</th>\n",
       "      <td>tt2473510</td>\n",
       "      <td>10000000</td>\n",
       "      <td>78099553</td>\n",
       "      <td>Paranormal Activity: The Ghost Dimension</td>\n",
       "      <td>Chris J. Murray|Brit Shaw|Ivy George|Lauren Fr...</td>\n",
       "      <td>Gregory Plotkin</td>\n",
       "      <td>You can't save them. All you can do is watch.</td>\n",
       "      <td>Using a special camera that can see spirits, a...</td>\n",
       "      <td>88</td>\n",
       "      <td>Horror|Thriller</td>\n",
       "      <td>Paramount Pictures|Blumhouse Productions</td>\n",
       "      <td>10/21/2015</td>\n",
       "      <td>5.0</td>\n",
       "      <td>2015</td>\n",
       "    </tr>\n",
       "    <tr>\n",
       "      <th>1685</th>\n",
       "      <td>tt0398808</td>\n",
       "      <td>60000000</td>\n",
       "      <td>137587063</td>\n",
       "      <td>Bridge to Terabithia</td>\n",
       "      <td>Josh Hutcherson|AnnaSophia Robb|Zooey Deschane...</td>\n",
       "      <td>GÃ¡bor CsupÃ³</td>\n",
       "      <td>Close your eyes, but keep your mind wide open.</td>\n",
       "      <td>Jesse Aarons trained all summer to become the ...</td>\n",
       "      <td>96</td>\n",
       "      <td>Adventure|Drama|Family</td>\n",
       "      <td>Walden Media|Hal Lieberman Company|Lauren Levi...</td>\n",
       "      <td>2/16/2007</td>\n",
       "      <td>6.9</td>\n",
       "      <td>2007</td>\n",
       "    </tr>\n",
       "    <tr>\n",
       "      <th>805</th>\n",
       "      <td>tt1772240</td>\n",
       "      <td>5000000</td>\n",
       "      <td>25562924</td>\n",
       "      <td>Apollo 18</td>\n",
       "      <td>Ryan Robbins|Warren Christie|Lloyd Owen|Andrew...</td>\n",
       "      <td>Gonzalo LÃ³pez-Gallego</td>\n",
       "      <td>There's a reason we've never gone back to the ...</td>\n",
       "      <td>Officially, Apollo 17 was the last manned miss...</td>\n",
       "      <td>86</td>\n",
       "      <td>Horror|Thriller|Science Fiction</td>\n",
       "      <td>Bazelevs Production|Dimension Films|Bekmambeto...</td>\n",
       "      <td>7/20/2011</td>\n",
       "      <td>4.9</td>\n",
       "      <td>2011</td>\n",
       "    </tr>\n",
       "    <tr>\n",
       "      <th>756</th>\n",
       "      <td>tt1222817</td>\n",
       "      <td>80000000</td>\n",
       "      <td>169852759</td>\n",
       "      <td>Zookeeper</td>\n",
       "      <td>Kevin James|Rosario Dawson|Sylvester Stallone|...</td>\n",
       "      <td>Frank Coraci</td>\n",
       "      <td>Welcome to his jungle.</td>\n",
       "      <td>A comedy about a zookeeper who might be great ...</td>\n",
       "      <td>102</td>\n",
       "      <td>Comedy|Romance|Family</td>\n",
       "      <td>Columbia Pictures|Happy Madison Productions|So...</td>\n",
       "      <td>7/6/2011</td>\n",
       "      <td>5.4</td>\n",
       "      <td>2011</td>\n",
       "    </tr>\n",
       "    <tr>\n",
       "      <th>1310</th>\n",
       "      <td>tt2234155</td>\n",
       "      <td>58000000</td>\n",
       "      <td>44000000</td>\n",
       "      <td>The Internship</td>\n",
       "      <td>Owen Wilson|Vince Vaughn|Tiya Sircar|Rose Byrn...</td>\n",
       "      <td>Shawn Levy</td>\n",
       "      <td>Hiring them was a brilliant mistake.</td>\n",
       "      <td>Two recently laid-off men in their 40s try to ...</td>\n",
       "      <td>119</td>\n",
       "      <td>Comedy</td>\n",
       "      <td>Twentieth Century Fox Film Corporation|Regency...</td>\n",
       "      <td>6/7/2013</td>\n",
       "      <td>6.1</td>\n",
       "      <td>2013</td>\n",
       "    </tr>\n",
       "    <tr>\n",
       "      <th>110</th>\n",
       "      <td>tt1810683</td>\n",
       "      <td>20000000</td>\n",
       "      <td>6420319</td>\n",
       "      <td>Little Boy</td>\n",
       "      <td>Jakob Salvati|Emily Watson|Cary-Hiroyuki Tagaw...</td>\n",
       "      <td>Alejandro Monteverde</td>\n",
       "      <td>Believe the impossible.</td>\n",
       "      <td>An eight-year-old boy is willing to do whateve...</td>\n",
       "      <td>106</td>\n",
       "      <td>Comedy|Drama|War</td>\n",
       "      <td>Metanoia Films</td>\n",
       "      <td>4/23/2015</td>\n",
       "      <td>7.1</td>\n",
       "      <td>2015</td>\n",
       "    </tr>\n",
       "    <tr>\n",
       "      <th>1854</th>\n",
       "      <td>tt0158622</td>\n",
       "      <td>83000000</td>\n",
       "      <td>59468275</td>\n",
       "      <td>The Flintstones in Viva Rock Vegas</td>\n",
       "      <td>Mark Addy|Stephen Baldwin|Kristen Johnston|Jan...</td>\n",
       "      <td>Brian Levant</td>\n",
       "      <td>Get ready to rock!</td>\n",
       "      <td>The Flintstones are at it again. The Flintston...</td>\n",
       "      <td>90</td>\n",
       "      <td>Science Fiction|Comedy|Family|Romance</td>\n",
       "      <td>Universal Pictures|Amblin Entertainment</td>\n",
       "      <td>4/28/2000</td>\n",
       "      <td>4.4</td>\n",
       "      <td>2000</td>\n",
       "    </tr>\n",
       "    <tr>\n",
       "      <th>1413</th>\n",
       "      <td>tt0388500</td>\n",
       "      <td>25000000</td>\n",
       "      <td>36351350</td>\n",
       "      <td>Beauty Shop</td>\n",
       "      <td>Queen Latifah|Alicia Silverstone|Andie MacDowe...</td>\n",
       "      <td>Bille Woodruff</td>\n",
       "      <td>A Cut Above</td>\n",
       "      <td>You thought you'd heard it all in the barbersh...</td>\n",
       "      <td>105</td>\n",
       "      <td>Comedy|Romance</td>\n",
       "      <td>Metro-Goldwyn-Mayer (MGM)</td>\n",
       "      <td>6/2/2005</td>\n",
       "      <td>5.1</td>\n",
       "      <td>2005</td>\n",
       "    </tr>\n",
       "    <tr>\n",
       "      <th>1789</th>\n",
       "      <td>tt0765120</td>\n",
       "      <td>10000000</td>\n",
       "      <td>21786738</td>\n",
       "      <td>My Blueberry Nights</td>\n",
       "      <td>Norah Jones|Jude Law|David Strathairn|Rachel W...</td>\n",
       "      <td>Wong Kar-wai</td>\n",
       "      <td>How do you say goodbye to someone you can't im...</td>\n",
       "      <td>Elizabeth (Jones) has just been through a part...</td>\n",
       "      <td>111</td>\n",
       "      <td>Drama|Romance</td>\n",
       "      <td>Block 2 Pictures|Jet Tone Production|StudioCan...</td>\n",
       "      <td>5/16/2007</td>\n",
       "      <td>6.2</td>\n",
       "      <td>2007</td>\n",
       "    </tr>\n",
       "    <tr>\n",
       "      <th>1444</th>\n",
       "      <td>tt0482571</td>\n",
       "      <td>40000000</td>\n",
       "      <td>109676311</td>\n",
       "      <td>The Prestige</td>\n",
       "      <td>Hugh Jackman|Christian Bale|Michael Caine|Scar...</td>\n",
       "      <td>Christopher Nolan</td>\n",
       "      <td>Are You Watching Closely?</td>\n",
       "      <td>A mysterious story of two magicians whose inte...</td>\n",
       "      <td>130</td>\n",
       "      <td>Drama|Mystery|Thriller</td>\n",
       "      <td>Touchstone Pictures|Syncopy</td>\n",
       "      <td>10/19/2006</td>\n",
       "      <td>7.8</td>\n",
       "      <td>2006</td>\n",
       "    </tr>\n",
       "    <tr>\n",
       "      <th>146</th>\n",
       "      <td>tt1528100</td>\n",
       "      <td>140000000</td>\n",
       "      <td>268031828</td>\n",
       "      <td>Exodus: Gods and Kings</td>\n",
       "      <td>Christian Bale|Joel Edgerton|John Turturro|Aar...</td>\n",
       "      <td>Ridley Scott</td>\n",
       "      <td>Once brothers, now enemies.</td>\n",
       "      <td>The defiant leader Moses rises up against the ...</td>\n",
       "      <td>153</td>\n",
       "      <td>Adventure|Drama|Action</td>\n",
       "      <td>Scott Free Productions|Chernin Entertainment|B...</td>\n",
       "      <td>12/3/2014</td>\n",
       "      <td>5.6</td>\n",
       "      <td>2014</td>\n",
       "    </tr>\n",
       "    <tr>\n",
       "      <th>1342</th>\n",
       "      <td>tt0329774</td>\n",
       "      <td>87000000</td>\n",
       "      <td>71073932</td>\n",
       "      <td>xXx: State of the Union</td>\n",
       "      <td>Ice Cube|Willem Dafoe|Samuel L. Jackson|Scott ...</td>\n",
       "      <td>Lee Tamahori</td>\n",
       "      <td>Prepare for the next level</td>\n",
       "      <td>Ice Cube stars as Darius Stone, a thrill-seeki...</td>\n",
       "      <td>101</td>\n",
       "      <td>Action|Crime|Adventure</td>\n",
       "      <td>Original Film|Columbia Pictures Corporation|Re...</td>\n",
       "      <td>4/27/2005</td>\n",
       "      <td>4.8</td>\n",
       "      <td>2005</td>\n",
       "    </tr>\n",
       "    <tr>\n",
       "      <th>1887</th>\n",
       "      <td>tt0162983</td>\n",
       "      <td>40000000</td>\n",
       "      <td>36037909</td>\n",
       "      <td>Hanging Up</td>\n",
       "      <td>Meg Ryan|Diane Keaton|Lisa Kudrow|Walter Matth...</td>\n",
       "      <td>Diane Keaton</td>\n",
       "      <td>Every family has a few hang-ups.</td>\n",
       "      <td>A trio of sisters bond over their ambivalence ...</td>\n",
       "      <td>94</td>\n",
       "      <td>Comedy|Drama</td>\n",
       "      <td>Laurence Mark Productions|Columbia Pictures Co...</td>\n",
       "      <td>2/16/2000</td>\n",
       "      <td>5.2</td>\n",
       "      <td>2000</td>\n",
       "    </tr>\n",
       "    <tr>\n",
       "      <th>892</th>\n",
       "      <td>tt0259446</td>\n",
       "      <td>5000000</td>\n",
       "      <td>368744044</td>\n",
       "      <td>My Big Fat Greek Wedding</td>\n",
       "      <td>Nia Vardalos|John Corbett|Lainie Kazan|Michael...</td>\n",
       "      <td>Joel Zwick</td>\n",
       "      <td>Love is here to stay... so is her family.</td>\n",
       "      <td>A young Greek woman falls in love with a non-G...</td>\n",
       "      <td>95</td>\n",
       "      <td>Comedy|Drama|Romance</td>\n",
       "      <td>MPH Entertainment|Playtone Productions|Gold Ci...</td>\n",
       "      <td>2/22/2002</td>\n",
       "      <td>6.1</td>\n",
       "      <td>2002</td>\n",
       "    </tr>\n",
       "    <tr>\n",
       "      <th>1571</th>\n",
       "      <td>tt0377092</td>\n",
       "      <td>17000000</td>\n",
       "      <td>129042871</td>\n",
       "      <td>Mean Girls</td>\n",
       "      <td>Lindsay Lohan|Rachel McAdams|Tim Meadows|Ana G...</td>\n",
       "      <td>Mark Waters</td>\n",
       "      <td>Welcome to girl world.</td>\n",
       "      <td>Cady Heron is a hit with The Plastics, the A-l...</td>\n",
       "      <td>97</td>\n",
       "      <td>Comedy</td>\n",
       "      <td>Paramount Pictures</td>\n",
       "      <td>4/30/2004</td>\n",
       "      <td>6.8</td>\n",
       "      <td>2004</td>\n",
       "    </tr>\n",
       "    <tr>\n",
       "      <th>1137</th>\n",
       "      <td>tt0264395</td>\n",
       "      <td>50000000</td>\n",
       "      <td>42792561</td>\n",
       "      <td>Basic</td>\n",
       "      <td>John Travolta|Connie Nielsen|Samuel L. Jackson...</td>\n",
       "      <td>John McTiernan</td>\n",
       "      <td>Deception is their most deadly weapon.</td>\n",
       "      <td>A DEA agent investigates the disappearance of ...</td>\n",
       "      <td>98</td>\n",
       "      <td>Action|Drama|Mystery|Thriller|Crime</td>\n",
       "      <td>Intermedia Films|Krane Entertainment</td>\n",
       "      <td>4/18/2003</td>\n",
       "      <td>6.0</td>\n",
       "      <td>2003</td>\n",
       "    </tr>\n",
       "    <tr>\n",
       "      <th>1155</th>\n",
       "      <td>tt0305669</td>\n",
       "      <td>20000000</td>\n",
       "      <td>132675402</td>\n",
       "      <td>Bringing Down The House</td>\n",
       "      <td>Steve Martin|Queen Latifah|Eugene Levy|Joan Pl...</td>\n",
       "      <td>Adam Shankman</td>\n",
       "      <td>Everything he needed to know about life, she l...</td>\n",
       "      <td>Straight-laced lawyer, Peter Sanderson (Steve ...</td>\n",
       "      <td>105</td>\n",
       "      <td>Comedy</td>\n",
       "      <td>Hyde Park Films|Touchstone Pictures</td>\n",
       "      <td>3/7/2003</td>\n",
       "      <td>5.3</td>\n",
       "      <td>2003</td>\n",
       "    </tr>\n",
       "    <tr>\n",
       "      <th>175</th>\n",
       "      <td>tt1355630</td>\n",
       "      <td>11000000</td>\n",
       "      <td>78874843</td>\n",
       "      <td>If I Stay</td>\n",
       "      <td>ChloÃ« Grace Moretz|Jamie Blackley|Liana Liber...</td>\n",
       "      <td>R.J. Cutler</td>\n",
       "      <td>Live for Love.</td>\n",
       "      <td>Based on Gayle Forman's novel of the same name...</td>\n",
       "      <td>106</td>\n",
       "      <td>Drama</td>\n",
       "      <td>New Line Cinema|Metro-Goldwyn-Mayer (MGM)</td>\n",
       "      <td>8/21/2014</td>\n",
       "      <td>7.2</td>\n",
       "      <td>2014</td>\n",
       "    </tr>\n",
       "    <tr>\n",
       "      <th>1706</th>\n",
       "      <td>tt0463854</td>\n",
       "      <td>15000000</td>\n",
       "      <td>64238440</td>\n",
       "      <td>28 Weeks Later</td>\n",
       "      <td>Imogen Poots|Robert Carlyle|Rose Byrne|Jeremy ...</td>\n",
       "      <td>Juan Carlos Fresnadillo</td>\n",
       "      <td>When days turn to weeks... the horror returns.</td>\n",
       "      <td>In this chilling sequel to 28 Days Later, the ...</td>\n",
       "      <td>100</td>\n",
       "      <td>Horror|Thriller|Science Fiction</td>\n",
       "      <td>DNA Films|Figment Films|Sociedad General de Ci...</td>\n",
       "      <td>4/26/2007</td>\n",
       "      <td>6.3</td>\n",
       "      <td>2007</td>\n",
       "    </tr>\n",
       "    <tr>\n",
       "      <th>333</th>\n",
       "      <td>tt1174732</td>\n",
       "      <td>7500000</td>\n",
       "      <td>26096852</td>\n",
       "      <td>An Education</td>\n",
       "      <td>Carey Mulligan|Olivia Williams|Peter Sarsgaard...</td>\n",
       "      <td>Lone Scherfig</td>\n",
       "      <td>Innocence of the Young.</td>\n",
       "      <td>A coming-of-age story about a teenage girl in ...</td>\n",
       "      <td>100</td>\n",
       "      <td>Drama|Romance</td>\n",
       "      <td>BBC Films</td>\n",
       "      <td>10/29/2009</td>\n",
       "      <td>6.8</td>\n",
       "      <td>2009</td>\n",
       "    </tr>\n",
       "    <tr>\n",
       "      <th>1439</th>\n",
       "      <td>tt0438097</td>\n",
       "      <td>80000000</td>\n",
       "      <td>660940780</td>\n",
       "      <td>Ice Age: The Meltdown</td>\n",
       "      <td>Ray Romano|John Leguizamo|Denis Leary|Queen La...</td>\n",
       "      <td>Carlos Saldanha</td>\n",
       "      <td>The Ice age is melting away.</td>\n",
       "      <td>Diego, Manny and Sid return in this sequel to ...</td>\n",
       "      <td>91</td>\n",
       "      <td>Animation|Family|Comedy|Adventure</td>\n",
       "      <td>Blue Sky Studios|Twentieth Century Fox Animation</td>\n",
       "      <td>3/23/2006</td>\n",
       "      <td>6.4</td>\n",
       "      <td>2006</td>\n",
       "    </tr>\n",
       "    <tr>\n",
       "      <th>1088</th>\n",
       "      <td>tt0315327</td>\n",
       "      <td>80000000</td>\n",
       "      <td>484572835</td>\n",
       "      <td>Bruce Almighty</td>\n",
       "      <td>Jim Carrey|Jennifer Aniston|Philip Baker Hall|...</td>\n",
       "      <td>Tom Shadyac</td>\n",
       "      <td>In Bruce we trust</td>\n",
       "      <td>Bruce Nolan toils as a \"human interest\" televi...</td>\n",
       "      <td>101</td>\n",
       "      <td>Fantasy|Comedy</td>\n",
       "      <td>Universal Pictures|Spyglass Entertainment|Shad...</td>\n",
       "      <td>5/23/2003</td>\n",
       "      <td>6.3</td>\n",
       "      <td>2003</td>\n",
       "    </tr>\n",
       "    <tr>\n",
       "      <th>159</th>\n",
       "      <td>tt2180411</td>\n",
       "      <td>50000000</td>\n",
       "      <td>212902372</td>\n",
       "      <td>Into the Woods</td>\n",
       "      <td>Meryl Streep|Emily Blunt|James Corden|Anna Ken...</td>\n",
       "      <td>Rob Marshall</td>\n",
       "      <td>Be careful what you wish for...</td>\n",
       "      <td>In a woods filled with magic and fairy tale ch...</td>\n",
       "      <td>125</td>\n",
       "      <td>Fantasy|Comedy|Music</td>\n",
       "      <td>Walt Disney Pictures|Marc Platt Productions|Lu...</td>\n",
       "      <td>12/25/2014</td>\n",
       "      <td>5.6</td>\n",
       "      <td>2014</td>\n",
       "    </tr>\n",
       "  </tbody>\n",
       "</table>\n",
       "</div>"
      ],
      "text/plain": [
       "        imdb_id     budget    revenue  \\\n",
       "252   tt0472033   30000000   48428063   \n",
       "868   tt0145487  139000000  821708551   \n",
       "94    tt2473510   10000000   78099553   \n",
       "1685  tt0398808   60000000  137587063   \n",
       "805   tt1772240    5000000   25562924   \n",
       "756   tt1222817   80000000  169852759   \n",
       "1310  tt2234155   58000000   44000000   \n",
       "110   tt1810683   20000000    6420319   \n",
       "1854  tt0158622   83000000   59468275   \n",
       "1413  tt0388500   25000000   36351350   \n",
       "1789  tt0765120   10000000   21786738   \n",
       "1444  tt0482571   40000000  109676311   \n",
       "146   tt1528100  140000000  268031828   \n",
       "1342  tt0329774   87000000   71073932   \n",
       "1887  tt0162983   40000000   36037909   \n",
       "892   tt0259446    5000000  368744044   \n",
       "1571  tt0377092   17000000  129042871   \n",
       "1137  tt0264395   50000000   42792561   \n",
       "1155  tt0305669   20000000  132675402   \n",
       "175   tt1355630   11000000   78874843   \n",
       "1706  tt0463854   15000000   64238440   \n",
       "333   tt1174732    7500000   26096852   \n",
       "1439  tt0438097   80000000  660940780   \n",
       "1088  tt0315327   80000000  484572835   \n",
       "159   tt2180411   50000000  212902372   \n",
       "\n",
       "                                original_title  \\\n",
       "252                                          9   \n",
       "868                                 Spider-Man   \n",
       "94    Paranormal Activity: The Ghost Dimension   \n",
       "1685                      Bridge to Terabithia   \n",
       "805                                  Apollo 18   \n",
       "756                                  Zookeeper   \n",
       "1310                            The Internship   \n",
       "110                                 Little Boy   \n",
       "1854        The Flintstones in Viva Rock Vegas   \n",
       "1413                               Beauty Shop   \n",
       "1789                       My Blueberry Nights   \n",
       "1444                              The Prestige   \n",
       "146                     Exodus: Gods and Kings   \n",
       "1342                   xXx: State of the Union   \n",
       "1887                                Hanging Up   \n",
       "892                   My Big Fat Greek Wedding   \n",
       "1571                                Mean Girls   \n",
       "1137                                     Basic   \n",
       "1155                   Bringing Down The House   \n",
       "175                                  If I Stay   \n",
       "1706                            28 Weeks Later   \n",
       "333                               An Education   \n",
       "1439                     Ice Age: The Meltdown   \n",
       "1088                            Bruce Almighty   \n",
       "159                             Into the Woods   \n",
       "\n",
       "                                                   cast  \\\n",
       "252   Elijah Wood|John C. Reilly|Jennifer Connelly|C...   \n",
       "868   Tobey Maguire|Willem Dafoe|Kirsten Dunst|James...   \n",
       "94    Chris J. Murray|Brit Shaw|Ivy George|Lauren Fr...   \n",
       "1685  Josh Hutcherson|AnnaSophia Robb|Zooey Deschane...   \n",
       "805   Ryan Robbins|Warren Christie|Lloyd Owen|Andrew...   \n",
       "756   Kevin James|Rosario Dawson|Sylvester Stallone|...   \n",
       "1310  Owen Wilson|Vince Vaughn|Tiya Sircar|Rose Byrn...   \n",
       "110   Jakob Salvati|Emily Watson|Cary-Hiroyuki Tagaw...   \n",
       "1854  Mark Addy|Stephen Baldwin|Kristen Johnston|Jan...   \n",
       "1413  Queen Latifah|Alicia Silverstone|Andie MacDowe...   \n",
       "1789  Norah Jones|Jude Law|David Strathairn|Rachel W...   \n",
       "1444  Hugh Jackman|Christian Bale|Michael Caine|Scar...   \n",
       "146   Christian Bale|Joel Edgerton|John Turturro|Aar...   \n",
       "1342  Ice Cube|Willem Dafoe|Samuel L. Jackson|Scott ...   \n",
       "1887  Meg Ryan|Diane Keaton|Lisa Kudrow|Walter Matth...   \n",
       "892   Nia Vardalos|John Corbett|Lainie Kazan|Michael...   \n",
       "1571  Lindsay Lohan|Rachel McAdams|Tim Meadows|Ana G...   \n",
       "1137  John Travolta|Connie Nielsen|Samuel L. Jackson...   \n",
       "1155  Steve Martin|Queen Latifah|Eugene Levy|Joan Pl...   \n",
       "175   ChloÃ« Grace Moretz|Jamie Blackley|Liana Liber...   \n",
       "1706  Imogen Poots|Robert Carlyle|Rose Byrne|Jeremy ...   \n",
       "333   Carey Mulligan|Olivia Williams|Peter Sarsgaard...   \n",
       "1439  Ray Romano|John Leguizamo|Denis Leary|Queen La...   \n",
       "1088  Jim Carrey|Jennifer Aniston|Philip Baker Hall|...   \n",
       "159   Meryl Streep|Emily Blunt|James Corden|Anna Ken...   \n",
       "\n",
       "                     director  \\\n",
       "252               Shane Acker   \n",
       "868                 Sam Raimi   \n",
       "94            Gregory Plotkin   \n",
       "1685            GÃ¡bor CsupÃ³   \n",
       "805    Gonzalo LÃ³pez-Gallego   \n",
       "756              Frank Coraci   \n",
       "1310               Shawn Levy   \n",
       "110      Alejandro Monteverde   \n",
       "1854             Brian Levant   \n",
       "1413           Bille Woodruff   \n",
       "1789             Wong Kar-wai   \n",
       "1444        Christopher Nolan   \n",
       "146              Ridley Scott   \n",
       "1342             Lee Tamahori   \n",
       "1887             Diane Keaton   \n",
       "892                Joel Zwick   \n",
       "1571              Mark Waters   \n",
       "1137           John McTiernan   \n",
       "1155            Adam Shankman   \n",
       "175               R.J. Cutler   \n",
       "1706  Juan Carlos Fresnadillo   \n",
       "333             Lone Scherfig   \n",
       "1439          Carlos Saldanha   \n",
       "1088              Tom Shadyac   \n",
       "159              Rob Marshall   \n",
       "\n",
       "                                                tagline  \\\n",
       "252           When our world ended their mission began.   \n",
       "868        With great power comes great responsibility.   \n",
       "94        You can't save them. All you can do is watch.   \n",
       "1685     Close your eyes, but keep your mind wide open.   \n",
       "805   There's a reason we've never gone back to the ...   \n",
       "756                              Welcome to his jungle.   \n",
       "1310               Hiring them was a brilliant mistake.   \n",
       "110                             Believe the impossible.   \n",
       "1854                                 Get ready to rock!   \n",
       "1413                                        A Cut Above   \n",
       "1789  How do you say goodbye to someone you can't im...   \n",
       "1444                          Are You Watching Closely?   \n",
       "146                         Once brothers, now enemies.   \n",
       "1342                         Prepare for the next level   \n",
       "1887                   Every family has a few hang-ups.   \n",
       "892           Love is here to stay... so is her family.   \n",
       "1571                             Welcome to girl world.   \n",
       "1137             Deception is their most deadly weapon.   \n",
       "1155  Everything he needed to know about life, she l...   \n",
       "175                                      Live for Love.   \n",
       "1706     When days turn to weeks... the horror returns.   \n",
       "333                             Innocence of the Young.   \n",
       "1439                       The Ice age is melting away.   \n",
       "1088                                  In Bruce we trust   \n",
       "159                     Be careful what you wish for...   \n",
       "\n",
       "                                               overview  runtime  \\\n",
       "252   When 9 first comes to life, he finds himself i...       79   \n",
       "868   After being bitten by a genetically altered sp...      121   \n",
       "94    Using a special camera that can see spirits, a...       88   \n",
       "1685  Jesse Aarons trained all summer to become the ...       96   \n",
       "805   Officially, Apollo 17 was the last manned miss...       86   \n",
       "756   A comedy about a zookeeper who might be great ...      102   \n",
       "1310  Two recently laid-off men in their 40s try to ...      119   \n",
       "110   An eight-year-old boy is willing to do whateve...      106   \n",
       "1854  The Flintstones are at it again. The Flintston...       90   \n",
       "1413  You thought you'd heard it all in the barbersh...      105   \n",
       "1789  Elizabeth (Jones) has just been through a part...      111   \n",
       "1444  A mysterious story of two magicians whose inte...      130   \n",
       "146   The defiant leader Moses rises up against the ...      153   \n",
       "1342  Ice Cube stars as Darius Stone, a thrill-seeki...      101   \n",
       "1887  A trio of sisters bond over their ambivalence ...       94   \n",
       "892   A young Greek woman falls in love with a non-G...       95   \n",
       "1571  Cady Heron is a hit with The Plastics, the A-l...       97   \n",
       "1137  A DEA agent investigates the disappearance of ...       98   \n",
       "1155  Straight-laced lawyer, Peter Sanderson (Steve ...      105   \n",
       "175   Based on Gayle Forman's novel of the same name...      106   \n",
       "1706  In this chilling sequel to 28 Days Later, the ...      100   \n",
       "333   A coming-of-age story about a teenage girl in ...      100   \n",
       "1439  Diego, Manny and Sid return in this sequel to ...       91   \n",
       "1088  Bruce Nolan toils as a \"human interest\" televi...      101   \n",
       "159   In a woods filled with magic and fairy tale ch...      125   \n",
       "\n",
       "                                                 genres  \\\n",
       "252   Action|Adventure|Animation|Science Fiction|Thr...   \n",
       "868                                      Fantasy|Action   \n",
       "94                                      Horror|Thriller   \n",
       "1685                             Adventure|Drama|Family   \n",
       "805                     Horror|Thriller|Science Fiction   \n",
       "756                               Comedy|Romance|Family   \n",
       "1310                                             Comedy   \n",
       "110                                    Comedy|Drama|War   \n",
       "1854              Science Fiction|Comedy|Family|Romance   \n",
       "1413                                     Comedy|Romance   \n",
       "1789                                      Drama|Romance   \n",
       "1444                             Drama|Mystery|Thriller   \n",
       "146                              Adventure|Drama|Action   \n",
       "1342                             Action|Crime|Adventure   \n",
       "1887                                       Comedy|Drama   \n",
       "892                                Comedy|Drama|Romance   \n",
       "1571                                             Comedy   \n",
       "1137                Action|Drama|Mystery|Thriller|Crime   \n",
       "1155                                             Comedy   \n",
       "175                                               Drama   \n",
       "1706                    Horror|Thriller|Science Fiction   \n",
       "333                                       Drama|Romance   \n",
       "1439                  Animation|Family|Comedy|Adventure   \n",
       "1088                                     Fantasy|Comedy   \n",
       "159                                Fantasy|Comedy|Music   \n",
       "\n",
       "                                   production_companies release_date  \\\n",
       "252   Focus Films|Starz Animation|Relativity Media|T...    8/19/2009   \n",
       "868                Columbia Pictures|Marvel Enterprises     5/1/2002   \n",
       "94             Paramount Pictures|Blumhouse Productions   10/21/2015   \n",
       "1685  Walden Media|Hal Lieberman Company|Lauren Levi...    2/16/2007   \n",
       "805   Bazelevs Production|Dimension Films|Bekmambeto...    7/20/2011   \n",
       "756   Columbia Pictures|Happy Madison Productions|So...     7/6/2011   \n",
       "1310  Twentieth Century Fox Film Corporation|Regency...     6/7/2013   \n",
       "110                                      Metanoia Films    4/23/2015   \n",
       "1854            Universal Pictures|Amblin Entertainment    4/28/2000   \n",
       "1413                          Metro-Goldwyn-Mayer (MGM)     6/2/2005   \n",
       "1789  Block 2 Pictures|Jet Tone Production|StudioCan...    5/16/2007   \n",
       "1444                        Touchstone Pictures|Syncopy   10/19/2006   \n",
       "146   Scott Free Productions|Chernin Entertainment|B...    12/3/2014   \n",
       "1342  Original Film|Columbia Pictures Corporation|Re...    4/27/2005   \n",
       "1887  Laurence Mark Productions|Columbia Pictures Co...    2/16/2000   \n",
       "892   MPH Entertainment|Playtone Productions|Gold Ci...    2/22/2002   \n",
       "1571                                 Paramount Pictures    4/30/2004   \n",
       "1137               Intermedia Films|Krane Entertainment    4/18/2003   \n",
       "1155                Hyde Park Films|Touchstone Pictures     3/7/2003   \n",
       "175           New Line Cinema|Metro-Goldwyn-Mayer (MGM)    8/21/2014   \n",
       "1706  DNA Films|Figment Films|Sociedad General de Ci...    4/26/2007   \n",
       "333                                           BBC Films   10/29/2009   \n",
       "1439   Blue Sky Studios|Twentieth Century Fox Animation    3/23/2006   \n",
       "1088  Universal Pictures|Spyglass Entertainment|Shad...    5/23/2003   \n",
       "159   Walt Disney Pictures|Marc Platt Productions|Lu...   12/25/2014   \n",
       "\n",
       "      vote_average  release_year  \n",
       "252            6.5          2009  \n",
       "868            6.6          2002  \n",
       "94             5.0          2015  \n",
       "1685           6.9          2007  \n",
       "805            4.9          2011  \n",
       "756            5.4          2011  \n",
       "1310           6.1          2013  \n",
       "110            7.1          2015  \n",
       "1854           4.4          2000  \n",
       "1413           5.1          2005  \n",
       "1789           6.2          2007  \n",
       "1444           7.8          2006  \n",
       "146            5.6          2014  \n",
       "1342           4.8          2005  \n",
       "1887           5.2          2000  \n",
       "892            6.1          2002  \n",
       "1571           6.8          2004  \n",
       "1137           6.0          2003  \n",
       "1155           5.3          2003  \n",
       "175            7.2          2014  \n",
       "1706           6.3          2007  \n",
       "333            6.8          2009  \n",
       "1439           6.4          2006  \n",
       "1088           6.3          2003  \n",
       "159            5.6          2014  "
      ]
     },
     "execution_count": 2,
     "metadata": {},
     "output_type": "execute_result"
    }
   ],
   "source": [
    "data = pd.read_csv('movie_bd_v5.csv')\n",
    "data.sample(25)"
   ]
  },
  {
   "cell_type": "code",
   "execution_count": 314,
   "metadata": {
    "colab": {},
    "colab_type": "code",
    "id": "CoYUnagMVp-C"
   },
   "outputs": [
    {
     "data": {
      "text/html": [
       "<div>\n",
       "<style scoped>\n",
       "    .dataframe tbody tr th:only-of-type {\n",
       "        vertical-align: middle;\n",
       "    }\n",
       "\n",
       "    .dataframe tbody tr th {\n",
       "        vertical-align: top;\n",
       "    }\n",
       "\n",
       "    .dataframe thead th {\n",
       "        text-align: right;\n",
       "    }\n",
       "</style>\n",
       "<table border=\"1\" class=\"dataframe\">\n",
       "  <thead>\n",
       "    <tr style=\"text-align: right;\">\n",
       "      <th></th>\n",
       "      <th>imdb_id</th>\n",
       "      <th>original_title</th>\n",
       "      <th>cast</th>\n",
       "      <th>director</th>\n",
       "      <th>tagline</th>\n",
       "      <th>overview</th>\n",
       "      <th>genres</th>\n",
       "      <th>production_companies</th>\n",
       "    </tr>\n",
       "  </thead>\n",
       "  <tbody>\n",
       "    <tr>\n",
       "      <th>count</th>\n",
       "      <td>1889</td>\n",
       "      <td>1889</td>\n",
       "      <td>1889</td>\n",
       "      <td>1889</td>\n",
       "      <td>1889</td>\n",
       "      <td>1889</td>\n",
       "      <td>1889</td>\n",
       "      <td>1889</td>\n",
       "    </tr>\n",
       "    <tr>\n",
       "      <th>unique</th>\n",
       "      <td>1889</td>\n",
       "      <td>1887</td>\n",
       "      <td>1878</td>\n",
       "      <td>957</td>\n",
       "      <td>1880</td>\n",
       "      <td>1889</td>\n",
       "      <td>652</td>\n",
       "      <td>1624</td>\n",
       "    </tr>\n",
       "    <tr>\n",
       "      <th>top</th>\n",
       "      <td>tt2103254</td>\n",
       "      <td>Fantastic Four</td>\n",
       "      <td>Elijah Wood|Ian McKellen|Viggo Mortensen|Liv T...</td>\n",
       "      <td>Steven Soderbergh</td>\n",
       "      <td>Misery loves family.</td>\n",
       "      <td>A drunken playboy stands to lose a wealthy inh...</td>\n",
       "      <td>Comedy</td>\n",
       "      <td>New Line Cinema</td>\n",
       "    </tr>\n",
       "    <tr>\n",
       "      <th>freq</th>\n",
       "      <td>1</td>\n",
       "      <td>2</td>\n",
       "      <td>3</td>\n",
       "      <td>13</td>\n",
       "      <td>2</td>\n",
       "      <td>1</td>\n",
       "      <td>141</td>\n",
       "      <td>21</td>\n",
       "    </tr>\n",
       "  </tbody>\n",
       "</table>\n",
       "</div>"
      ],
      "text/plain": [
       "          imdb_id  original_title  \\\n",
       "count        1889            1889   \n",
       "unique       1889            1887   \n",
       "top     tt2103254  Fantastic Four   \n",
       "freq            1               2   \n",
       "\n",
       "                                                     cast           director  \\\n",
       "count                                                1889               1889   \n",
       "unique                                               1878                957   \n",
       "top     Elijah Wood|Ian McKellen|Viggo Mortensen|Liv T...  Steven Soderbergh   \n",
       "freq                                                    3                 13   \n",
       "\n",
       "                     tagline  \\\n",
       "count                   1889   \n",
       "unique                  1880   \n",
       "top     Misery loves family.   \n",
       "freq                       2   \n",
       "\n",
       "                                                 overview  genres  \\\n",
       "count                                                1889    1889   \n",
       "unique                                               1889     652   \n",
       "top     A drunken playboy stands to lose a wealthy inh...  Comedy   \n",
       "freq                                                    1     141   \n",
       "\n",
       "       production_companies  \n",
       "count                  1889  \n",
       "unique                 1624  \n",
       "top         New Line Cinema  \n",
       "freq                     21  "
      ]
     },
     "execution_count": 314,
     "metadata": {},
     "output_type": "execute_result"
    }
   ],
   "source": [
    "data.describe(include='object')"
   ]
  },
  {
   "cell_type": "code",
   "execution_count": 20,
   "metadata": {},
   "outputs": [
    {
     "name": "stdout",
     "output_type": "stream",
     "text": [
      "<class 'pandas.core.frame.DataFrame'>\n",
      "RangeIndex: 1889 entries, 0 to 1888\n",
      "Data columns (total 15 columns):\n",
      " #   Column                Non-Null Count  Dtype  \n",
      "---  ------                --------------  -----  \n",
      " 0   imdb_id               1889 non-null   object \n",
      " 1   budget                1889 non-null   int64  \n",
      " 2   revenue               1889 non-null   int64  \n",
      " 3   original_title        1889 non-null   object \n",
      " 4   cast                  1889 non-null   object \n",
      " 5   director              1889 non-null   object \n",
      " 6   tagline               1889 non-null   object \n",
      " 7   overview              1889 non-null   object \n",
      " 8   runtime               1889 non-null   int64  \n",
      " 9   genres                1889 non-null   object \n",
      " 10  production_companies  1889 non-null   object \n",
      " 11  release_date          1889 non-null   object \n",
      " 12  vote_average          1889 non-null   float64\n",
      " 13  release_year          1889 non-null   int64  \n",
      " 14  profit                1889 non-null   int64  \n",
      "dtypes: float64(1), int64(5), object(9)\n",
      "memory usage: 221.5+ KB\n"
     ]
    }
   ],
   "source": [
    "data.info()"
   ]
  },
  {
   "cell_type": "code",
   "execution_count": 5,
   "metadata": {},
   "outputs": [
    {
     "data": {
      "text/plain": [
       "Index(['imdb_id', 'budget', 'revenue', 'original_title', 'cast', 'director',\n",
       "       'tagline', 'overview', 'runtime', 'genres', 'production_companies',\n",
       "       'release_date', 'vote_average', 'release_year'],\n",
       "      dtype='object')"
      ]
     },
     "execution_count": 5,
     "metadata": {},
     "output_type": "execute_result"
    }
   ],
   "source": [
    "data.columns"
   ]
  },
  {
   "cell_type": "markdown",
   "metadata": {
    "colab_type": "text",
    "id": "DTIt7ezGVp-G"
   },
   "source": [
    "# Предобработка"
   ]
  },
  {
   "cell_type": "code",
   "execution_count": 168,
   "metadata": {
    "colab": {},
    "colab_type": "code",
    "id": "jNb40DwKVp-H"
   },
   "outputs": [],
   "source": [
    "answers = {} # создадим словарь для ответов\n",
    "\n",
    "# тут другие ваши предобработки колонок например:\n",
    "\n",
    "#the time given in the dataset is in string format.\n",
    "#So we need to change this in datetime format\n",
    "# ..."
   ]
  },
  {
   "cell_type": "markdown",
   "metadata": {
    "colab_type": "text",
    "id": "YxZaH-nPVp-L"
   },
   "source": [
    "# 1. У какого фильма из списка самый большой бюджет?"
   ]
  },
  {
   "cell_type": "markdown",
   "metadata": {
    "colab_type": "text",
    "id": "Nd-G5gX6Vp-M"
   },
   "source": [
    "Использовать варианты ответов в коде решения запрещено.    \n",
    "Вы думаете и в жизни у вас будут варианты ответов?)"
   ]
  },
  {
   "cell_type": "code",
   "execution_count": 171,
   "metadata": {
    "colab": {},
    "colab_type": "code",
    "id": "uVnXAY5RVp-O"
   },
   "outputs": [],
   "source": [
    "# в словарь вставляем номер вопроса и ваш ответ на него\n",
    "# Пример: \n",
    "answers['1'] = '2. Spider-Man 3 (tt0413300)'\n",
    "# запишите свой вариант ответа\n",
    "answers['1'] = 'Pirates of the Caribbean: On Stranger Tides'\n",
    "# если ответили верно, можете добавить комментарий со значком \"+\""
   ]
  },
  {
   "cell_type": "code",
   "execution_count": 7,
   "metadata": {
    "colab": {},
    "colab_type": "code",
    "id": "dZwb3m28Vp-S"
   },
   "outputs": [
    {
     "data": {
      "text/plain": [
       "723    Pirates of the Caribbean: On Stranger Tides\n",
       "Name: original_title, dtype: object"
      ]
     },
     "execution_count": 7,
     "metadata": {},
     "output_type": "execute_result"
    }
   ],
   "source": [
    "# тут пишем ваш код для решения данного вопроса:\n",
    "data.original_title[data.budget == data.budget.max()]"
   ]
  },
  {
   "cell_type": "markdown",
   "metadata": {
    "colab_type": "text",
    "id": "K7L3nbRXVp-X"
   },
   "source": [
    "ВАРИАНТ 2"
   ]
  },
  {
   "cell_type": "code",
   "execution_count": 0,
   "metadata": {
    "colab": {},
    "colab_type": "code",
    "id": "OGaoQI7rVp-X"
   },
   "outputs": [],
   "source": [
    "# можно добавлять разные варианты решения"
   ]
  },
  {
   "cell_type": "markdown",
   "metadata": {
    "colab_type": "text",
    "id": "FNRbbI3vVp-c"
   },
   "source": [
    "# 2. Какой из фильмов самый длительный (в минутах)?"
   ]
  },
  {
   "cell_type": "code",
   "execution_count": 172,
   "metadata": {
    "colab": {},
    "colab_type": "code",
    "id": "vHAoEXNTVp-d"
   },
   "outputs": [],
   "source": [
    "# думаю логику работы с этим словарем вы уже поняли, \n",
    "# по этому не буду больше его дублировать\n",
    "answers['2'] = 'Gods and Generals'"
   ]
  },
  {
   "cell_type": "code",
   "execution_count": 8,
   "metadata": {
    "colab": {},
    "colab_type": "code",
    "id": "ot-VX2XrVp-g"
   },
   "outputs": [
    {
     "data": {
      "text/plain": [
       "1157    Gods and Generals\n",
       "Name: original_title, dtype: object"
      ]
     },
     "execution_count": 8,
     "metadata": {},
     "output_type": "execute_result"
    }
   ],
   "source": [
    "data.original_title[data.runtime == data.runtime.max()]"
   ]
  },
  {
   "cell_type": "markdown",
   "metadata": {
    "colab_type": "text",
    "id": "bapLlpW8Vp-k"
   },
   "source": [
    "# 3. Какой из фильмов самый короткий (в минутах)?\n",
    "\n",
    "\n",
    "\n"
   ]
  },
  {
   "cell_type": "code",
   "execution_count": 179,
   "metadata": {
    "colab": {},
    "colab_type": "code",
    "id": "YBxaSHuAVp-l"
   },
   "outputs": [
    {
     "data": {
      "text/plain": [
       "768    Winnie the Pooh\n",
       "Name: original_title, dtype: object"
      ]
     },
     "execution_count": 179,
     "metadata": {},
     "output_type": "execute_result"
    }
   ],
   "source": [
    "data.original_title[data.runtime == data.runtime.min()]\n"
   ]
  },
  {
   "cell_type": "code",
   "execution_count": 178,
   "metadata": {},
   "outputs": [],
   "source": [
    "answers['3'] = 'Winnie the Pooh'"
   ]
  },
  {
   "cell_type": "markdown",
   "metadata": {
    "colab_type": "text",
    "id": "TfQbxbfNVp-p"
   },
   "source": [
    "# 4. Какова средняя длительность фильмов?\n"
   ]
  },
  {
   "cell_type": "code",
   "execution_count": 180,
   "metadata": {
    "colab": {},
    "colab_type": "code",
    "id": "5K6dKZYVVp-q"
   },
   "outputs": [
    {
     "data": {
      "text/plain": [
       "110"
      ]
     },
     "execution_count": 180,
     "metadata": {},
     "output_type": "execute_result"
    }
   ],
   "source": [
    "round(data.runtime.mean())"
   ]
  },
  {
   "cell_type": "code",
   "execution_count": 181,
   "metadata": {},
   "outputs": [],
   "source": [
    "answers['4'] = '110'"
   ]
  },
  {
   "cell_type": "markdown",
   "metadata": {
    "colab_type": "text",
    "id": "r5TvbnT_Vp-u"
   },
   "source": [
    "# 5. Каково медианное значение длительности фильмов? "
   ]
  },
  {
   "cell_type": "code",
   "execution_count": 175,
   "metadata": {
    "colab": {},
    "colab_type": "code",
    "id": "iBROplKnVp-v"
   },
   "outputs": [
    {
     "data": {
      "text/plain": [
       "107.0"
      ]
     },
     "execution_count": 175,
     "metadata": {},
     "output_type": "execute_result"
    }
   ],
   "source": [
    "data.runtime.median()"
   ]
  },
  {
   "cell_type": "code",
   "execution_count": 182,
   "metadata": {},
   "outputs": [],
   "source": [
    "answers['5'] = '107'"
   ]
  },
  {
   "cell_type": "markdown",
   "metadata": {
    "colab_type": "text",
    "id": "39P-deDSVp-y"
   },
   "source": [
    "# 6. Какой самый прибыльный фильм?\n",
    "#### Внимание! Здесь и далее под «прибылью» или «убытками» понимается разность между сборами и бюджетом фильма. (прибыль = сборы - бюджет) в нашем датасете это будет (profit = revenue - budget) "
   ]
  },
  {
   "cell_type": "code",
   "execution_count": 5,
   "metadata": {
    "colab": {},
    "colab_type": "code",
    "id": "UYZh4T9WVp-y"
   },
   "outputs": [
    {
     "data": {
      "text/plain": [
       "239    Avatar\n",
       "Name: original_title, dtype: object"
      ]
     },
     "execution_count": 5,
     "metadata": {},
     "output_type": "execute_result"
    }
   ],
   "source": [
    "# лучше код получения столбца profit вынести в Предобработку что в начале\n",
    "data['profit'] = data.revenue - data.budget\n",
    "data.original_title[data.profit == data.profit.max()]"
   ]
  },
  {
   "cell_type": "code",
   "execution_count": 183,
   "metadata": {},
   "outputs": [],
   "source": [
    "answers['6'] = 'Avatar'"
   ]
  },
  {
   "cell_type": "markdown",
   "metadata": {
    "colab_type": "text",
    "id": "M99JmIX4Vp-2"
   },
   "source": [
    "# 7. Какой фильм самый убыточный? "
   ]
  },
  {
   "cell_type": "code",
   "execution_count": 31,
   "metadata": {},
   "outputs": [
    {
     "data": {
      "text/plain": [
       "1245    The Lone Ranger\n",
       "Name: original_title, dtype: object"
      ]
     },
     "execution_count": 31,
     "metadata": {},
     "output_type": "execute_result"
    }
   ],
   "source": [
    "data.original_title[data.profit == data.profit.min()]"
   ]
  },
  {
   "cell_type": "code",
   "execution_count": 197,
   "metadata": {},
   "outputs": [],
   "source": [
    "answers['7'] = 'The Lone Ranger'"
   ]
  },
  {
   "cell_type": "markdown",
   "metadata": {
    "colab_type": "text",
    "id": "wEOM5ERVVp-6"
   },
   "source": [
    "# 8. У скольких фильмов из датасета объем сборов оказался выше бюджета?"
   ]
  },
  {
   "cell_type": "code",
   "execution_count": 179,
   "metadata": {
    "colab": {},
    "colab_type": "code",
    "id": "y00_7HD6Vp-7"
   },
   "outputs": [
    {
     "data": {
      "text/plain": [
       "1478"
      ]
     },
     "execution_count": 179,
     "metadata": {},
     "output_type": "execute_result"
    }
   ],
   "source": [
    "data.imdb_id[data.profit > 0].count()\n"
   ]
  },
  {
   "cell_type": "code",
   "execution_count": 198,
   "metadata": {},
   "outputs": [],
   "source": [
    "answers['8'] = '1478'"
   ]
  },
  {
   "cell_type": "markdown",
   "metadata": {
    "colab_type": "text",
    "id": "xhpspA9KVp_A"
   },
   "source": [
    "# 9. Какой фильм оказался самым кассовым в 2008 году?"
   ]
  },
  {
   "cell_type": "code",
   "execution_count": 180,
   "metadata": {
    "colab": {},
    "colab_type": "code",
    "id": "MoUyQr9RVp_B"
   },
   "outputs": [
    {
     "data": {
      "text/plain": [
       "599    The Dark Knight\n",
       "Name: original_title, dtype: object"
      ]
     },
     "execution_count": 180,
     "metadata": {},
     "output_type": "execute_result"
    }
   ],
   "source": [
    "data.original_title[data.profit == data.profit[data.release_year == 2008].max()]\n"
   ]
  },
  {
   "cell_type": "code",
   "execution_count": 187,
   "metadata": {},
   "outputs": [],
   "source": [
    "answers['9'] = 'The Dark Knight'"
   ]
  },
  {
   "cell_type": "markdown",
   "metadata": {
    "colab_type": "text",
    "id": "Zi4hDKidVp_F"
   },
   "source": [
    "# 10. Самый убыточный фильм за период с 2012 по 2014 г. (включительно)?\n"
   ]
  },
  {
   "cell_type": "code",
   "execution_count": 181,
   "metadata": {
    "colab": {},
    "colab_type": "code",
    "id": "XqyRmufJVp_F"
   },
   "outputs": [
    {
     "data": {
      "text/plain": [
       "1245    The Lone Ranger\n",
       "Name: original_title, dtype: object"
      ]
     },
     "execution_count": 181,
     "metadata": {},
     "output_type": "execute_result"
    }
   ],
   "source": [
    "data.original_title[data.profit == data.profit[(data.release_year <= 2014) & (data.release_year >= 2012)].min()]"
   ]
  },
  {
   "cell_type": "code",
   "execution_count": 188,
   "metadata": {},
   "outputs": [],
   "source": [
    "answers['10'] = 'The Lone Ranger'"
   ]
  },
  {
   "cell_type": "markdown",
   "metadata": {
    "colab_type": "text",
    "id": "EA7Sa9dkVp_I"
   },
   "source": [
    "# 11. Какого жанра фильмов больше всего?"
   ]
  },
  {
   "cell_type": "code",
   "execution_count": 195,
   "metadata": {
    "colab": {},
    "colab_type": "code",
    "id": "zsJAwJ8QVp_J"
   },
   "outputs": [
    {
     "data": {
      "text/plain": [
       "'Drama'"
      ]
     },
     "execution_count": 195,
     "metadata": {},
     "output_type": "execute_result"
    }
   ],
   "source": [
    "# эту задачу тоже можно решать разными подходами, попробуй реализовать разные варианты\n",
    "# если будешь добавлять функцию - выноси ее в предобработку что в начале\n",
    "genres_list = data.genres.str.cat(sep='|').split('|')\n",
    "Counter(genres_list).most_common(1)[0][0]"
   ]
  },
  {
   "cell_type": "markdown",
   "metadata": {
    "colab_type": "text",
    "id": "Ax6g2C8SVp_M"
   },
   "source": [
    "ВАРИАНТ 2"
   ]
  },
  {
   "cell_type": "code",
   "execution_count": 10,
   "metadata": {},
   "outputs": [
    {
     "data": {
      "text/plain": [
       "'Drama'"
      ]
     },
     "execution_count": 10,
     "metadata": {},
     "output_type": "execute_result"
    }
   ],
   "source": [
    "genres_list = pd.Series(data.genres.str.cat(sep='|').split('|'))\n",
    "genres_list.describe()['top']"
   ]
  },
  {
   "cell_type": "markdown",
   "metadata": {},
   "source": [
    "ВАРИАНТ 3"
   ]
  },
  {
   "cell_type": "code",
   "execution_count": 7,
   "metadata": {},
   "outputs": [
    {
     "data": {
      "text/plain": [
       "'Drama'"
      ]
     },
     "execution_count": 7,
     "metadata": {},
     "output_type": "execute_result"
    }
   ],
   "source": [
    "genres = data.genres.apply(lambda x: x.split('|'))\n",
    "loop = {}\n",
    "for i in genres:\n",
    "    for g in i:\n",
    "        if g in loop:\n",
    "            loop[g] +=1\n",
    "        else: loop[g] = 1\n",
    "sorted(loop, key=loop.get, reverse=True)[0]"
   ]
  },
  {
   "cell_type": "code",
   "execution_count": null,
   "metadata": {},
   "outputs": [],
   "source": [
    "answers['11'] = 'Drama'"
   ]
  },
  {
   "cell_type": "markdown",
   "metadata": {},
   "source": [
    "ВАРИАНТ 4"
   ]
  },
  {
   "cell_type": "code",
   "execution_count": 3,
   "metadata": {},
   "outputs": [
    {
     "data": {
      "text/plain": [
       "'Drama'"
      ]
     },
     "execution_count": 3,
     "metadata": {},
     "output_type": "execute_result"
    }
   ],
   "source": [
    "all_genres = data.genres.str.get_dummies('|').sum()\n",
    "all_genres.sort_values(ascending=False).index[0]"
   ]
  },
  {
   "cell_type": "markdown",
   "metadata": {
    "colab_type": "text",
    "id": "T9_bPWpkVp_Q"
   },
   "source": [
    "# 12. Фильмы какого жанра чаще всего становятся прибыльными? "
   ]
  },
  {
   "cell_type": "code",
   "execution_count": 269,
   "metadata": {
    "colab": {},
    "colab_type": "code",
    "id": "Tmt8MaK1Vp_R"
   },
   "outputs": [
    {
     "data": {
      "text/plain": [
       "'Drama'"
      ]
     },
     "execution_count": 269,
     "metadata": {},
     "output_type": "execute_result"
    }
   ],
   "source": [
    "profit_data = data[data.profit > 0]\n",
    "genres_list = profit_data.genres.str.cat(sep='|').split('|')\n",
    "Counter(genres_list).most_common(1)[0][0]"
   ]
  },
  {
   "cell_type": "code",
   "execution_count": 8,
   "metadata": {},
   "outputs": [
    {
     "data": {
      "text/plain": [
       "'Drama'"
      ]
     },
     "execution_count": 8,
     "metadata": {},
     "output_type": "execute_result"
    }
   ],
   "source": [
    "profit_data = data[data.profit > 0]\n",
    "genres_list = pd.Series(profit_data.genres.str.cat(sep='|').split('|'))\n",
    "genres_list.describe()['top']"
   ]
  },
  {
   "cell_type": "code",
   "execution_count": 216,
   "metadata": {},
   "outputs": [],
   "source": [
    "answers['12'] = 'Drama'"
   ]
  },
  {
   "cell_type": "markdown",
   "metadata": {
    "colab_type": "text",
    "id": "0F23bgsDVp_U"
   },
   "source": [
    "# 13. У какого режиссера самые большие суммарные кассовые сбооры?"
   ]
  },
  {
   "cell_type": "code",
   "execution_count": 184,
   "metadata": {
    "colab": {},
    "colab_type": "code",
    "id": "K6Z3J8ygVp_X"
   },
   "outputs": [
    {
     "data": {
      "text/plain": [
       "director\n",
       "Peter Jackson    5202593685\n",
       "Name: profit, dtype: int64"
      ]
     },
     "execution_count": 184,
     "metadata": {},
     "output_type": "execute_result"
    }
   ],
   "source": [
    "data.groupby('director')['profit'].sum().sort_values(ascending=False)[:1]"
   ]
  },
  {
   "cell_type": "code",
   "execution_count": 194,
   "metadata": {},
   "outputs": [],
   "source": [
    "answers['13'] = 'Peter Jackson'"
   ]
  },
  {
   "cell_type": "markdown",
   "metadata": {
    "colab_type": "text",
    "id": "PsYC9FgRVp_a"
   },
   "source": [
    "# 14. Какой режисер снял больше всего фильмов в стиле Action?"
   ]
  },
  {
   "cell_type": "code",
   "execution_count": 194,
   "metadata": {},
   "outputs": [
    {
     "data": {
      "text/plain": [
       "'Robert Rodriguez'"
      ]
     },
     "execution_count": 194,
     "metadata": {},
     "output_type": "execute_result"
    }
   ],
   "source": [
    "director_list = data.director[data.genres.str.contains('Action')].str.cat(sep='|').split('|')\n",
    "Counter(director_list).most_common(1)[0][0]"
   ]
  },
  {
   "cell_type": "code",
   "execution_count": 188,
   "metadata": {},
   "outputs": [
    {
     "data": {
      "text/plain": [
       "[('Robert Rodriguez', 9)]"
      ]
     },
     "execution_count": 188,
     "metadata": {},
     "output_type": "execute_result"
    }
   ],
   "source": [
    "Counter(director_list).most_common(1)"
   ]
  },
  {
   "cell_type": "code",
   "execution_count": 217,
   "metadata": {},
   "outputs": [],
   "source": [
    "answers['14'] = 'Robert Rodriguez'"
   ]
  },
  {
   "cell_type": "markdown",
   "metadata": {
    "colab_type": "text",
    "id": "PQ0KciD7Vp_f"
   },
   "source": [
    "# 15. Фильмы с каким актером принесли самые высокие кассовые сборы в 2012 году? "
   ]
  },
  {
   "cell_type": "code",
   "execution_count": 242,
   "metadata": {},
   "outputs": [
    {
     "data": {
      "text/plain": [
       "'Chris Hemsworth'"
      ]
     },
     "execution_count": 242,
     "metadata": {},
     "output_type": "execute_result"
    }
   ],
   "source": [
    "data[data.release_year == 2012]\n",
    "data_2012 = data[data.release_year == 2012]\n",
    "cast_list = data_2012.cast.str.cat(sep = '|').split('|')\n",
    "cast_revenue_dict = {x:data_2012.revenue[data_2012.cast.str.contains(x)].sum() for x in cast_list}\n",
    "sorted(cast_revenue_dict, key=cast_revenue_dict.get, reverse=True)[0]"
   ]
  },
  {
   "cell_type": "code",
   "execution_count": 200,
   "metadata": {},
   "outputs": [],
   "source": [
    "answers['15'] = 'Chris Hemsworth'"
   ]
  },
  {
   "cell_type": "markdown",
   "metadata": {
    "colab_type": "text",
    "id": "mWHyyL7QVp_j"
   },
   "source": [
    "# 16. Какой актер снялся в большем количестве высокобюджетных фильмов?"
   ]
  },
  {
   "cell_type": "code",
   "execution_count": 262,
   "metadata": {},
   "outputs": [
    {
     "data": {
      "text/plain": [
       "'Matt Damon'"
      ]
     },
     "execution_count": 262,
     "metadata": {},
     "output_type": "execute_result"
    }
   ],
   "source": [
    "budget_data = data[data.budget > data.budget.mean()]\n",
    "cast_list = budget_data.cast.str.cat(sep = '|').split('|')\n",
    "hb_actors = pd.Series({x:budget_data.imdb_id[budget_data.cast.str.contains(x)].count() for x in cast_list})\n",
    "hb_actors.sort_values(ascending=False).index[0]"
   ]
  },
  {
   "cell_type": "code",
   "execution_count": 201,
   "metadata": {},
   "outputs": [],
   "source": [
    "answers['16'] = 'Matt Damon'"
   ]
  },
  {
   "cell_type": "markdown",
   "metadata": {
    "colab_type": "text",
    "id": "NIh6AaW5Vp_n"
   },
   "source": [
    "# 17. В фильмах какого жанра больше всего снимался Nicolas Cage? "
   ]
  },
  {
   "cell_type": "code",
   "execution_count": 266,
   "metadata": {
    "colab": {},
    "colab_type": "code",
    "id": "H74SJDIBVp_n"
   },
   "outputs": [
    {
     "data": {
      "text/plain": [
       "'Action'"
      ]
     },
     "execution_count": 266,
     "metadata": {},
     "output_type": "execute_result"
    }
   ],
   "source": [
    "nicolas_data = data[data.cast.str.contains('Nicolas Cage')]\n",
    "nicolas_genres = nicolas_data.genres.str.cat(sep='|').split('|')\n",
    "Counter(nicolas_genres).most_common(1)[0][0]"
   ]
  },
  {
   "cell_type": "code",
   "execution_count": 202,
   "metadata": {},
   "outputs": [],
   "source": [
    "answers['17'] = 'Action'"
   ]
  },
  {
   "cell_type": "markdown",
   "metadata": {
    "colab_type": "text",
    "id": "RqOmPRfWVp_q"
   },
   "source": [
    "# 18. Самый убыточный фильм от Paramount Pictures"
   ]
  },
  {
   "cell_type": "code",
   "execution_count": 276,
   "metadata": {
    "colab": {},
    "colab_type": "code",
    "id": "9E_B0Y96Vp_r"
   },
   "outputs": [
    {
     "data": {
      "text/plain": [
       "925    K-19: The Widowmaker\n",
       "Name: original_title, dtype: object"
      ]
     },
     "execution_count": 276,
     "metadata": {},
     "output_type": "execute_result"
    }
   ],
   "source": [
    "data2 = data[(data.production_companies.str.contains('Paramount Pictures')) & (data.profit < 0)]\n",
    "data2.original_title[data2.profit == data2.profit.min()]\n"
   ]
  },
  {
   "cell_type": "code",
   "execution_count": 203,
   "metadata": {},
   "outputs": [],
   "source": [
    "answers['18'] = 'K-19: The Widowmaker'"
   ]
  },
  {
   "cell_type": "markdown",
   "metadata": {
    "colab_type": "text",
    "id": "vS8Ur6ddVp_u"
   },
   "source": [
    "# 19. Какой год стал самым успешным по суммарным кассовым сборам?"
   ]
  },
  {
   "cell_type": "code",
   "execution_count": 280,
   "metadata": {
    "colab": {},
    "colab_type": "code",
    "id": "Dnbt4GdIVp_v"
   },
   "outputs": [
    {
     "data": {
      "text/plain": [
       "2015"
      ]
     },
     "execution_count": 280,
     "metadata": {},
     "output_type": "execute_result"
    }
   ],
   "source": [
    "data.groupby('release_year')['revenue'].sum().sort_values(ascending=False).index[0]"
   ]
  },
  {
   "cell_type": "code",
   "execution_count": 204,
   "metadata": {},
   "outputs": [],
   "source": [
    "answers['19'] = '2015'"
   ]
  },
  {
   "cell_type": "markdown",
   "metadata": {
    "colab_type": "text",
    "id": "JAzJh4QAVp_z"
   },
   "source": [
    "# 20. Какой самый прибыльный год для студии Warner Bros?"
   ]
  },
  {
   "cell_type": "code",
   "execution_count": 282,
   "metadata": {
    "colab": {},
    "colab_type": "code",
    "id": "wgVu02DEVp_0"
   },
   "outputs": [
    {
     "data": {
      "text/plain": [
       "2014"
      ]
     },
     "execution_count": 282,
     "metadata": {},
     "output_type": "execute_result"
    }
   ],
   "source": [
    "data_WB = data[data.production_companies.str.contains('Warner Bros')]\n",
    "data_WB.groupby('release_year')['revenue'].sum().sort_values(ascending=False).index[0]"
   ]
  },
  {
   "cell_type": "code",
   "execution_count": 205,
   "metadata": {},
   "outputs": [],
   "source": [
    "answers['20'] = '2014'"
   ]
  },
  {
   "cell_type": "markdown",
   "metadata": {
    "colab_type": "text",
    "id": "8Im1S2HRVp_4"
   },
   "source": [
    "# 21. В каком месяце за все годы суммарно вышло больше всего фильмов?"
   ]
  },
  {
   "cell_type": "code",
   "execution_count": 81,
   "metadata": {},
   "outputs": [
    {
     "data": {
      "text/plain": [
       "'9'"
      ]
     },
     "execution_count": 81,
     "metadata": {},
     "output_type": "execute_result"
    }
   ],
   "source": [
    "data['release_date'] = pd.to_datetime(data['release_date'])\n",
    "data['month'] = data['release_date'].dt.month.astype('str')\n",
    "data.describe(include='object')['month']['top']"
   ]
  },
  {
   "cell_type": "code",
   "execution_count": 206,
   "metadata": {},
   "outputs": [],
   "source": [
    "answers['20'] = '2014'"
   ]
  },
  {
   "cell_type": "markdown",
   "metadata": {
    "colab_type": "text",
    "id": "uAJsZ_NeVp_7"
   },
   "source": [
    "# 22. Сколько суммарно вышло фильмов летом? (за июнь, июль, август)"
   ]
  },
  {
   "cell_type": "code",
   "execution_count": 82,
   "metadata": {
    "colab": {},
    "colab_type": "code",
    "id": "Aa-hEREoVp_8"
   },
   "outputs": [
    {
     "data": {
      "text/plain": [
       "530"
      ]
     },
     "execution_count": 82,
     "metadata": {},
     "output_type": "execute_result"
    }
   ],
   "source": [
    "data['release_date'] = pd.to_datetime(data['release_date'])\n",
    "data['month'] = data['release_date'].dt.month\n",
    "data.month[(data.month == 7)|(data.month == 8)|(data.month == 9)].count()"
   ]
  },
  {
   "cell_type": "code",
   "execution_count": 207,
   "metadata": {},
   "outputs": [],
   "source": [
    "answers['21'] = '530'"
   ]
  },
  {
   "cell_type": "code",
   "execution_count": 83,
   "metadata": {},
   "outputs": [
    {
     "data": {
      "text/plain": [
       "450"
      ]
     },
     "execution_count": 83,
     "metadata": {},
     "output_type": "execute_result"
    }
   ],
   "source": [
    "data['release_date'] = pd.to_datetime(data['release_date'])\n",
    "data['month'] = data['release_date'].dt.month.astype('str')\n",
    "data.month[(data.month == '6')|(data.month == '7')|(data.month == '8')].count()"
   ]
  },
  {
   "cell_type": "code",
   "execution_count": 208,
   "metadata": {},
   "outputs": [],
   "source": [
    "answers['22'] = '450'"
   ]
  },
  {
   "cell_type": "markdown",
   "metadata": {
    "colab_type": "text",
    "id": "G94ppOY1VqAA"
   },
   "source": [
    "# 23. Для какого режиссера зима – самое продуктивное время года? "
   ]
  },
  {
   "cell_type": "code",
   "execution_count": 158,
   "metadata": {
    "colab": {},
    "colab_type": "code",
    "id": "RhNTsamuVqAB"
   },
   "outputs": [
    {
     "data": {
      "text/plain": [
       "'Peter Jackson'"
      ]
     },
     "execution_count": 158,
     "metadata": {},
     "output_type": "execute_result"
    }
   ],
   "source": [
    "winter_data = data[(data.month == '1')|(data.month == '2')|(data.month == '12')]\n",
    "winter_dir = winter_data.director.str.cat(sep='|').split('|')\n",
    "winter_dir\n",
    "Counter(winter_dir).most_common(1)[0][0]"
   ]
  },
  {
   "cell_type": "code",
   "execution_count": 209,
   "metadata": {},
   "outputs": [],
   "source": [
    "answers['23'] = 'Peter Jackson'"
   ]
  },
  {
   "cell_type": "markdown",
   "metadata": {
    "colab_type": "text",
    "id": "RBo0JVjVVqAF"
   },
   "source": [
    "# 24. Какая студия дает самые длинные названия своим фильмам по количеству символов?"
   ]
  },
  {
   "cell_type": "code",
   "execution_count": 113,
   "metadata": {},
   "outputs": [
    {
     "data": {
      "text/plain": [
       "'Four By Two Productions'"
      ]
     },
     "execution_count": 113,
     "metadata": {},
     "output_type": "execute_result"
    }
   ],
   "source": [
    "data['len_name'] = data.original_title.apply(lambda x: len(x))\n",
    "companies_list = data.production_companies.str.cat(sep=\"|\").split(\"|\")\n",
    "companies_dict = {x:list(data.len_name[data.production_companies.str.contains(x)]) for x in companies_list}\n",
    "companies_dict_2 = {}\n",
    "for companies in companies_dict:\n",
    "    if len(companies_dict[companies]) != 0:\n",
    "        companies_dict_2[companies] = companies_dict[companies]\n",
    "final_dict = {x:sum(companies_dict_2[x])/len(companies_dict_2[x]) for x in companies_dict_2}\n",
    "sorted(final_dict, key=final_dict.get, reverse=True)[0]"
   ]
  },
  {
   "cell_type": "code",
   "execution_count": 210,
   "metadata": {},
   "outputs": [],
   "source": [
    "answers['24'] = 'Four By Two Productions'"
   ]
  },
  {
   "cell_type": "markdown",
   "metadata": {
    "colab_type": "text",
    "id": "9G0hbvR7VqAK"
   },
   "source": [
    "# 25. Описание фильмов какой студии в среднем самые длинные по количеству слов?"
   ]
  },
  {
   "cell_type": "code",
   "execution_count": 114,
   "metadata": {
    "colab": {},
    "colab_type": "code",
    "id": "Ge2GsLNxVqAK"
   },
   "outputs": [
    {
     "data": {
      "text/plain": [
       "'Midnight Picture Show'"
      ]
     },
     "execution_count": 114,
     "metadata": {},
     "output_type": "execute_result"
    }
   ],
   "source": [
    "data['words_overview'] = data.overview.apply(lambda x: len(x.split(\" \")))\n",
    "companies_list = data.production_companies.str.cat(sep=\"|\").split(\"|\")\n",
    "companies_dict = {x:list(data.words_overview[data.production_companies.str.contains(x)]) for x in companies_list}\n",
    "companies_dict_2 = {}\n",
    "for companies in companies_dict:\n",
    "    if len(companies_dict[companies]) != 0:\n",
    "        companies_dict_2[companies] = companies_dict[companies]\n",
    "final_dict = {x:sum(companies_dict_2[x])/len(companies_dict_2[x]) for x in companies_dict_2}\n",
    "sorted(final_dict, key=final_dict.get, reverse=True)[0]"
   ]
  },
  {
   "cell_type": "code",
   "execution_count": 211,
   "metadata": {},
   "outputs": [],
   "source": [
    "answers['25'] = 'Midnight Picture Show'"
   ]
  },
  {
   "cell_type": "markdown",
   "metadata": {
    "colab_type": "text",
    "id": "FJ1AFt90VqAP"
   },
   "source": [
    "# 26. Какие фильмы входят в 1 процент лучших по рейтингу? \n",
    "по vote_average"
   ]
  },
  {
   "cell_type": "code",
   "execution_count": 67,
   "metadata": {
    "colab": {},
    "colab_type": "code",
    "id": "8qmJVq4CVqAQ"
   },
   "outputs": [
    {
     "data": {
      "text/plain": [
       "9                                          Inside Out\n",
       "34                                               Room\n",
       "118                                      Interstellar\n",
       "119                           Guardians of the Galaxy\n",
       "125                                The Imitation Game\n",
       "128                                         Gone Girl\n",
       "138                          The Grand Budapest Hotel\n",
       "370                                         Inception\n",
       "599                                   The Dark Knight\n",
       "872                                       The Pianist\n",
       "1081    The Lord of the Rings: The Return of the King\n",
       "1183                          The Wolf of Wall Street\n",
       "1191                                 12 Years a Slave\n",
       "1800                                          Memento\n",
       "Name: original_title, dtype: object"
      ]
     },
     "execution_count": 67,
     "metadata": {},
     "output_type": "execute_result"
    }
   ],
   "source": [
    "data.original_title[data.vote_average > data.vote_average.quantile(q=0.99)]"
   ]
  },
  {
   "cell_type": "code",
   "execution_count": 212,
   "metadata": {},
   "outputs": [],
   "source": [
    "answers['26'] = 'Inside Out, The Dark Knight, 12 Years a Slave'"
   ]
  },
  {
   "cell_type": "markdown",
   "metadata": {
    "colab_type": "text",
    "id": "MdXsUXbCVqAV"
   },
   "source": [
    "# 27. Какие актеры чаще всего снимаются в одном фильме вместе?\n"
   ]
  },
  {
   "cell_type": "code",
   "execution_count": 219,
   "metadata": {},
   "outputs": [
    {
     "data": {
      "text/plain": [
       "{'Johnny Depp|Helena Bonham Carter': 6,\n",
       " 'Ben Stiller|Owen Wilson': 6,\n",
       " 'Vin Diesel|Paul Walker': 5,\n",
       " 'Adam Sandler|Kevin James': 5,\n",
       " 'Daniel Radcliffe|Rupert Grint': 8}"
      ]
     },
     "execution_count": 219,
     "metadata": {},
     "output_type": "execute_result"
    }
   ],
   "source": [
    "actors_duet = {'Johnny Depp|Helena Bonham Carter':0, 'Ben Stiller|Owen Wilson':0, 'Vin Diesel|Paul Walker':0, \n",
    "               'Adam Sandler|Kevin James':0, 'Daniel Radcliffe|Rupert Grint':0}\n",
    "for actors in actors_duet.keys():\n",
    "    actors_duet[actors] = data.original_title[(data.cast.str.contains(actors.split('|')[0]))&(data.cast.str.contains(actors.split('|')[1]))].count()\n",
    "sorted(actors_duet, key=actors_duet.get, reverse=True)[0] \n",
    "actors_duet\n",
    "\n",
    "\n"
   ]
  },
  {
   "cell_type": "markdown",
   "metadata": {
    "colab_type": "text",
    "id": "4ymnxEVoVqAW"
   },
   "source": [
    "ВАРИАНТ 2"
   ]
  },
  {
   "cell_type": "code",
   "execution_count": null,
   "metadata": {},
   "outputs": [],
   "source": [
    "actors = list(set(data.cast.str.cat(sep='|').split('|')))\n",
    "actors_column = pd.DataFrame({'actor':actors, 'movies_count':[data.original_title[data.cast.str.contains(x)].count() for x in actors]})\n",
    "actors_column_2 = actors_column[actors_column.movies_count > round(actors_column.movies_count.mean())]\n",
    "top_actors = list(actors_column_2.actor)\n",
    "pairs_actors = list(it.combinations(top_actors, 2))\n",
    "pairs_actors_dict = {}\n",
    "for i in pairs_actors:\n",
    "    pairs_actors_dict[i] = 0\n",
    "for actors in pairs_actors:\n",
    "    pairs_actors_dict[actors] = data.original_title[(data.cast.str.contains(actors[0])) & (data.cast.str.contains(actors[1]))].count()\n",
    "sorted(pairs_actors_dict, key=pairs_actors_dict.get, reverse=True) "
   ]
  },
  {
   "cell_type": "code",
   "execution_count": 213,
   "metadata": {},
   "outputs": [],
   "source": [
    "answers['27'] = 'Daniel Radcliffe|Rupert Grinte'"
   ]
  },
  {
   "cell_type": "markdown",
   "metadata": {
    "colab_type": "text",
    "id": "U0nONFnGVqAX"
   },
   "source": [
    "# Submission"
   ]
  },
  {
   "cell_type": "code",
   "execution_count": 214,
   "metadata": {
    "colab": {},
    "colab_type": "code",
    "id": "IfcaRO9-VqAX",
    "outputId": "0f132912-32bb-4196-c98c-abfbc4ad5a5f"
   },
   "outputs": [
    {
     "data": {
      "text/plain": [
       "{'27': 'Daniel Radcliffe|Rupert Grinte',\n",
       " '1': 'Pirates of the Caribbean: On Stranger Tides',\n",
       " '2': 'Gods and Generals',\n",
       " '3': 'Winnie the Pooh',\n",
       " '4': '110',\n",
       " '5': '107',\n",
       " '6': 'Avatar',\n",
       " '7': 'The Lone Ranger',\n",
       " '9': 'The Dark Knight',\n",
       " '10': 'The Lone Ranger',\n",
       " '11': 'Drama',\n",
       " '13': 'Peter Jackson',\n",
       " '15': 'Chris Hemsworth',\n",
       " '8': '1478',\n",
       " '16': 'Matt Damon',\n",
       " '17': 'Action',\n",
       " '18': 'K-19: The Widowmaker',\n",
       " '19': '2015',\n",
       " '20': '2014',\n",
       " '21': '530',\n",
       " '22': '450',\n",
       " '23': 'Peter Jackson',\n",
       " '24': 'Four By Two Productions',\n",
       " '25': 'Midnight Picture Show',\n",
       " '26': 'Inside Out, The Dark Knight, 12 Years a Slave'}"
      ]
     },
     "execution_count": 214,
     "metadata": {},
     "output_type": "execute_result"
    }
   ],
   "source": [
    "# в конце можно посмотреть свои ответы к каждому вопросу\n",
    "answers"
   ]
  },
  {
   "cell_type": "code",
   "execution_count": 218,
   "metadata": {
    "colab": {},
    "colab_type": "code",
    "id": "SiRmHPl8VqAd"
   },
   "outputs": [
    {
     "data": {
      "text/plain": [
       "27"
      ]
     },
     "execution_count": 218,
     "metadata": {},
     "output_type": "execute_result"
    }
   ],
   "source": [
    "# и убедиться что ни чего не пропустил)\n",
    "len(answers)"
   ]
  },
  {
   "cell_type": "code",
   "execution_count": 0,
   "metadata": {
    "colab": {},
    "colab_type": "code",
    "id": "uCfuTkRbVqAg"
   },
   "outputs": [],
   "source": []
  },
  {
   "cell_type": "code",
   "execution_count": 0,
   "metadata": {
    "colab": {},
    "colab_type": "code",
    "id": "Vwx3NrkSVqAl"
   },
   "outputs": [],
   "source": []
  }
 ],
 "metadata": {
  "colab": {
   "name": "Copy of [SF-DST] Movies IMBD v4.1 TEMPLATE.ipynb",
   "provenance": []
  },
  "kernelspec": {
   "display_name": "Python 3",
   "language": "python",
   "name": "python3"
  },
  "language_info": {
   "codemirror_mode": {
    "name": "ipython",
    "version": 3
   },
   "file_extension": ".py",
   "mimetype": "text/x-python",
   "name": "python",
   "nbconvert_exporter": "python",
   "pygments_lexer": "ipython3",
   "version": "3.8.3"
  },
  "varInspector": {
   "cols": {
    "lenName": 16,
    "lenType": 16,
    "lenVar": 40
   },
   "kernels_config": {
    "python": {
     "delete_cmd_postfix": "",
     "delete_cmd_prefix": "del ",
     "library": "var_list.py",
     "varRefreshCmd": "print(var_dic_list())"
    },
    "r": {
     "delete_cmd_postfix": ") ",
     "delete_cmd_prefix": "rm(",
     "library": "var_list.r",
     "varRefreshCmd": "cat(var_dic_list()) "
    }
   },
   "types_to_exclude": [
    "module",
    "function",
    "builtin_function_or_method",
    "instance",
    "_Feature"
   ],
   "window_display": false
  }
 },
 "nbformat": 4,
 "nbformat_minor": 1
}
